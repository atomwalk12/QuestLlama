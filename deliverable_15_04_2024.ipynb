{
 "cells": [
  {
   "cell_type": "markdown",
   "metadata": {},
   "source": [
    "# Progress Review"
   ]
  },
  {
   "cell_type": "code",
   "execution_count": null,
   "metadata": {},
   "outputs": [],
   "source": [
    "# Download necessary files\n",
    "# pip install langchain pacmap d2l sentence-transformers\n",
    "# gdown 1qrLC-KxrlhO4iYSUITyPAK5KOpfVS7bq # the model\n",
    "# unzip deliverable.zip"
   ]
  },
  {
   "cell_type": "markdown",
   "metadata": {},
   "source": [
    "## Architecture\n",
    "Below is shown a diagram that describes how the application is organised. There are two stages involved:\n",
    "- the first process creates a vector database that is used for retrieving useful information relevant to a given query;\n",
    "- the second process uses this information and appends it to prompt used by the LLM to answer to given tasks.\n",
    "\n",
    "\n",
    "<img src=\"seq_diagram.png\" alt=\"drawing\" width=\"960\"/>"
   ]
  },
  {
   "cell_type": "markdown",
   "metadata": {},
   "source": [
    "## Necessary imports"
   ]
  },
  {
   "cell_type": "code",
   "execution_count": 22,
   "metadata": {},
   "outputs": [],
   "source": [
    "from langchain.vectorstores import FAISS\n",
    "from langchain_community.embeddings import HuggingFaceEmbeddings\n",
    "from langchain_community.vectorstores.utils import DistanceStrategy\n",
    "import pacmap\n",
    "import numpy as np\n",
    "import plotly.express as px\n",
    "import pandas as pd\n",
    "import pickle\n",
    "from transformers import AutoTokenizer\n",
    "import matplotlib.pyplot as plt \n",
    "import re\n",
    "import os\n",
    "import json\n",
    "import glob\n",
    "import random\n",
    "# Set pandas to display full text in columns\n",
    "pd.set_option('display.max_colwidth', 120)"
   ]
  },
  {
   "cell_type": "markdown",
   "metadata": {},
   "source": [
    "## Load previously generated data\n",
    "- the tokenizer defined below was designed to be used for the manipulation of documents containing code. [Click here]((flax-sentence-embeddings/st-codesearch-distilroberta-base)) for more details."
   ]
  },
  {
   "cell_type": "code",
   "execution_count": 46,
   "metadata": {},
   "outputs": [],
   "source": [
    "EMBEDDING_MODEL_NAME = \"flax-sentence-embeddings/st-codesearch-distilroberta-base\"\n",
    "\n",
    "embedding_model = HuggingFaceEmbeddings(\n",
    "    model_name=EMBEDDING_MODEL_NAME,\n",
    "    multi_process=True,\n",
    "    model_kwargs={\"device\": \"cpu\"},\n",
    "    encode_kwargs={\"normalize_embeddings\": True},  # set True for cosine similarity\n",
    ")\n",
    "\n",
    "KNOWLEDGE_VECTOR_DATABASE = FAISS.load_local(\n",
    "    \"deliverable/faiss_db\", # faiss_db\n",
    "    embedding_model,\n",
    "    distance_strategy=DistanceStrategy.COSINE,\n",
    "    allow_dangerous_deserialization=True\n",
    ")\n",
    "\n",
    "with open('deliverable/documents.pkl', 'rb') as f:\n",
    "    docs_processed = pickle.load(f)\n",
    "\n",
    "tokenizer = AutoTokenizer.from_pretrained(EMBEDDING_MODEL_NAME)"
   ]
  },
  {
   "cell_type": "markdown",
   "metadata": {},
   "source": [
    "## Utility functions"
   ]
  },
  {
   "cell_type": "code",
   "execution_count": 47,
   "metadata": {},
   "outputs": [],
   "source": [
    "# Utility functions\n",
    "def visualise_query_distrib(user_query):\n",
    "    query_vector = embedding_model.embed_query(user_query)\n",
    "\n",
    "    embedding_projector = pacmap.PaCMAP(n_components=2, n_neighbors=None, MN_ratio=0.5, FP_ratio=2.0, random_state=1)\n",
    "\n",
    "    embeddings_2d = [\n",
    "        list(KNOWLEDGE_VECTOR_DATABASE.index.reconstruct_n(idx, 1)[0]) for idx in range(len(docs_processed))\n",
    "    ] + [query_vector]\n",
    "\n",
    "    # fit the data (The index of transformed data corresponds to the index of the original data)\n",
    "    documents_projected = embedding_projector.fit_transform(np.array(embeddings_2d), init=\"pca\")\n",
    "\n",
    "    df = pd.DataFrame.from_dict(\n",
    "        [\n",
    "            {\n",
    "                \"x\": documents_projected[i, 0],\n",
    "                \"y\": documents_projected[i, 1],\n",
    "                \"source\": docs_processed[i].metadata[\"source\"].split(\"/\")[1],\n",
    "                \"extract\": docs_processed[i].page_content[:100] + \"...\",\n",
    "                \"symbol\": \"circle\",\n",
    "                \"size_col\": 4,\n",
    "            }\n",
    "            for i in range(len(docs_processed))\n",
    "        ]\n",
    "        + [\n",
    "            {\n",
    "                \"x\": documents_projected[-1, 0],\n",
    "                \"y\": documents_projected[-1, 1],\n",
    "                \"source\": \"User query\",\n",
    "                \"extract\": user_query,\n",
    "                \"size_col\": 100,\n",
    "                \"symbol\": \"star\",\n",
    "            }\n",
    "        ]\n",
    "    )\n",
    "\n",
    "   # visualize the embedding\n",
    "    fig = px.scatter(\n",
    "        df,\n",
    "        x=\"x\",\n",
    "        y=\"y\",\n",
    "        color=\"source\",\n",
    "        hover_data=\"extract\",\n",
    "        size=\"size_col\",\n",
    "        symbol=\"symbol\",\n",
    "        color_discrete_map={\"User query\": \"black\"},\n",
    "        width=1000,\n",
    "        height=700,\n",
    "    )\n",
    "    fig.update_traces(\n",
    "        marker=dict(opacity=1, line=dict(width=0, color=\"DarkSlateGrey\")),\n",
    "        selector=dict(mode=\"markers\"),\n",
    "    )\n",
    "    fig.update_layout(\n",
    "        legend_title_text=\"<b>Chunk source</b>\",\n",
    "        title=\"<b>2D Projection of Chunk Embeddings via PaCMAP</b>\",\n",
    "    )\n",
    "    fig.show()\n",
    "\n",
    "\n",
    "def print_test_settings(experiment):\n",
    "    settings = experiment['test_settings'][0]\n",
    "    parts = re.findall(r\":([^:_]*)(?:_|$)\", settings)\n",
    "    \n",
    "    print(f\"Number of samples in the experiment: {len(experiment)}\")\n",
    "    print(\"Below is the test configuration:\")\n",
    "    print(f\"Chunk size: {parts[0]}\")\n",
    "    print(f\"Embedding used: {parts[1]}\")\n",
    "    print(f\"Rerank used: {parts[2]}\")\n",
    "    print(f\"Number of final documents added to the context: {parts[3]}\")\n",
    "    print(f\"Number of retrieved documents: {parts[4]}\")\n",
    "    print(f\"Evaluated model: {parts[5]}\")\n",
    "    print(f\"Evaluator model: {parts[6][:-5]}\")\n",
    "\n"
   ]
  },
  {
   "cell_type": "markdown",
   "metadata": {},
   "source": [
    "# Visualization\n",
    "## The distribution of tokens in the dataset\n",
    "\n",
    "The chunk size defined below is the maximum chunk size supported by this tokenizer."
   ]
  },
  {
   "cell_type": "code",
   "execution_count": 48,
   "metadata": {},
   "outputs": [
    {
     "name": "stdout",
     "output_type": "stream",
     "text": [
      "Using encoder defined at flax-sentence-embeddings/st-codesearch-distilroberta-base.\n",
      "Chunk size: 128.\n"
     ]
    },
    {
     "data": {
      "image/png": "[encoded data removed]",
      "text/plain": [
       "<Figure size 640x480 with 1 Axes>"
      ]
     },
     "metadata": {},
     "output_type": "display_data"
    }
   ],
   "source": [
    "CHUNK_SIZE = 128\n",
    "\n",
    "print(f\"Using encoder defined at {EMBEDDING_MODEL_NAME}.\")\n",
    "print(f\"Chunk size: {CHUNK_SIZE}.\")\n",
    "lengths = [\n",
    "    len(tokenizer.encode(doc.page_content)) for doc in docs_processed\n",
    "]\n",
    "\n",
    "fig = pd.Series(lengths).hist()\n",
    "plt.title(\n",
    "    \"Distribution of document lengths in the knowledge base (in count of tokens)\"\n",
    ")\n",
    "plt.show()"
   ]
  },
  {
   "cell_type": "markdown",
   "metadata": {},
   "source": [
    "## Projection of the Chunk Embeddings via PaCMAP"
   ]
  },
  {
   "cell_type": "code",
   "execution_count": 49,
   "metadata": {},
   "outputs": [
    {
     "name": "stderr",
     "output_type": "stream",
     "text": [
      "huggingface/tokenizers: The current process just got forked, after parallelism has already been used. Disabling parallelism to avoid deadlocks...\n",
      "To disable this warning, you can either:\n",
      "\t- Avoid using `tokenizers` before the fork if possible\n",
      "\t- Explicitly set the environment variable TOKENIZERS_PARALLELISM=(true | false)\n",
      "/home/atomwalk12/anaconda3/envs/questllama/lib/python3.9/site-packages/pacmap/pacmap.py:828: UserWarning:\n",
      "\n",
      "Warning: random state is set to 1\n",
      "\n"
     ]
    },
    {
     "data": {
      "application/vnd.plotly.v1+json": {
       "config": {
        "plotlyServerURL": "https://plot.ly"
       },
       "data": [
        {
         "customdata": [
          [
           "async function equipIronSword(bot) {\n  // Find the iron sword in the bot's inventory\n  const ironSwo..."
          ],
          [
           "// Equip the iron sword in the main hand\n  if (ironSword) {\n    await bot.equip(ironSword, \"hand\");\n..."
          ],
          [
           "async function mineThreeDiamondOres(bot) {\n  // Check if the bot has an iron pickaxe or a diamond pi..."
          ],
          [
           "// Equip the iron pickaxe or diamond pickaxe\n  if (ironPickaxe) {\n    await bot.equip(ironPickaxe, \"..."
          ],
          [
           "// Explore the underground area around level 12\n  const diamondOres = await exploreUntil(bot, new Ve..."
          ],
          [
           "maxY: 14,\n      count: 3\n    });\n    return diamond_ores.length >= 3 ? diamond_ores : null;\n  });..."
          ],
          [
           "// Mine the diamond ores when found\n  if (diamondOres) {\n    await mineBlock(bot, \"diamond_ore\", 3);..."
          ],
          [
           "async function craftIronSwordWithChest(bot) {\n  // Check if there are enough iron ingots and sticks ..."
          ],
          [
           "// If not, get the required items from the chest\n  if (!ironIngots || ironIngots.count < 2 || !stick..."
          ],
          [
           "\"stick\": 1\n    });\n    ironIngots = bot.inventory.findInventoryItem(mcData.itemsByName[\"iron_ingot\"]..."
          ],
          [
           "// Check if there is a crafting table nearby or in the inventory\n  let craftingTable = bot.inventory..."
          ],
          [
           "maxDistance: 32\n    });\n    if (!craftingTable) {\n      // Craft a crafting table using oak planks\n ..."
          ],
          [
           "// Place the crafting table near the player if it's not already placed\n  const tablePosition = bot.e..."
          ],
          [
           "// Craft an iron sword using the crafting table, 2 iron ingots, and 1 stick\n  await craftItem(bot, \"..."
          ],
          [
           "async function mineWoodLog(bot) {\n  const logNames = [\"oak_log\", \"birch_log\", \"spruce_log\", \"jungle_..."
          ],
          [
           "});\n  if (!logBlock) {\n    bot.chat(\"No wood log found nearby. Exploring...\");\n    await exploreUnti..."
          ],
          [
           "});\n      return foundLog;\n    });\n  }\n  bot.chat(\"Wood log found. Mining...\");\n  await mineBlock(bo..."
          ],
          [
           "async function killThreeChickens(bot) {\n  for (let i = 0; i < 3; i++) {\n    // Explore until finding..."
          ],
          [
           "return entity.name === \"chicken\" && entity.position.distanceTo(bot.entity.position) < 32;\n      });\n..."
          ],
          [
           "bot.chat(`Killed chicken ${i + 1}/3.`);\n    } else {\n      bot.chat(\"Could not find enough chickens...."
          ],
          [
           "async function craftWoodenShovel(bot) {\n  // Check if there is a crafting table in the inventory\n  c..."
          ],
          [
           "// Place the crafting table near the player\n  const tablePosition = bot.entity.position.offset(1, 0,..."
          ],
          [
           "// Check if there are enough oak planks in the inventory\n  const oakPlanks = bot.inventory.findInven..."
          ],
          [
           "// Check if there are enough sticks in the inventory\n  const sticks = bot.inventory.findInventoryIte..."
          ],
          [
           "// Craft a wooden shovel using oak planks and sticks\n  await craftItem(bot, \"wooden_shovel\", 1);\n  b..."
          ],
          [
           "async function craftFurnace(bot) {\n  // Check if there are enough cobblestones in the inventory\n  co..."
          ],
          [
           "// Place the crafting table near the player\n  const tablePosition = bot.entity.position.offset(1, 0,..."
          ],
          [
           "async function equipIronChestplate(bot) {\n  // Find the iron chestplate in the bot's inventory\n  con..."
          ],
          [
           "// Equip the iron chestplate in the \"torso\" slot\n  if (ironChestplate) {\n    await bot.equip(ironChe..."
          ],
          [
           "async function placeChest(bot) {\n  const chest = bot.inventory.findInventoryItem(mcData.itemsByName[..."
          ],
          [
           "} else {\n    bot.chat(\"No chest found in inventory.\");\n  }\n}..."
          ],
          [
           "async function craftCraftingTable(bot) {\n  // Check if there is a crafting table in the inventory\n  ..."
          ],
          [
           "// Check if there are enough oak planks in the inventory\n  const oakPlanks = bot.inventory.findInven..."
          ],
          [
           "await mineBlock(bot, \"oak_log\", 1);\n    bot.chat(\"Crafting oak planks...\");\n    await craftItem(bot,..."
          ],
          [
           "// Craft a crafting table using oak planks\n  bot.chat(\"Crafting crafting table...\");\n  await craftIt..."
          ],
          [
           "async function cookThreeRawChicken(bot) {\n  // Check if there is a furnace in the inventory or nearb..."
          ],
          [
           "// Place the furnace near the player if it's not already placed\n  const furnacePosition = bot.entity..."
          ],
          [
           "// Smelt 3 raw chicken using coal as fuel\n  await smeltItem(bot, \"chicken\", \"coal\", 3);\n  bot.chat(\"..."
          ],
          [
           "async function eatCookedPorkchop(bot) {\n  // Check if the bot has at least 1 cooked porkchop in its ..."
          ],
          [
           "// Consume the cooked porkchop\n    await bot.consume();\n    bot.chat(\"Ate 1 cooked porkchop.\");\n  } ..."
          ],
          [
           "async function craftIronHelmet(bot) {\n  // Check if there are enough iron ingots in the inventory\n  ..."
          ],
          [
           "await getItemFromChest(bot, chestPosition, {\n      \"iron_ingot\": 5 - (ironIngots ? ironIngots.count ..."
          ],
          [
           "// Craft an iron helmet using the crafting table and 5 iron ingots\n  await craftItem(bot, \"iron_helm..."
          ],
          [
           "async function craftIronLeggingsWithSmelting(bot) {\n  // Check if there are enough iron ingots in th..."
          ],
          [
           "await getItemFromChest(bot, chestPosition, {\n      \"iron_ingot\": 7 - (ironIngots ? ironIngots.count ..."
          ],
          [
           "const rawIron = bot.inventory.findInventoryItem(mcData.itemsByName[\"raw_iron\"].id);..."
          ],
          [
           "// Check if there is a furnace nearby or in the inventory\n    let furnace = bot.inventory.findInvent..."
          ],
          [
           "maxDistance: 32\n      });\n      if (!furnace) {\n        // Craft a furnace using cobblestone\n       ..."
          ],
          [
           "furnace = bot.inventory.findInventoryItem(mcData.itemsByName[\"furnace\"].id);\n      }\n    }..."
          ],
          [
           "// Place the furnace near the player if it's not already placed\n    const furnacePosition = bot.enti..."
          ],
          [
           "// Smelt the raw iron using the furnace and coal as fuel\n    if (rawIron) {\n      await smeltItem(bo..."
          ],
          [
           "// Craft iron leggings using the crafting table and 7 iron ingots\n  await craftItem(bot, \"iron_leggi..."
          ],
          [
           "async function craftLightningRod(bot) {\n  // Check if there are enough copper ingots and sticks in t..."
          ],
          [
           "// If not, get the required items from the chest\n  if (!copperIngots || copperIngots.count < 3 || !s..."
          ],
          [
           "\"stick\": 2 - (sticks ? sticks.count : 0)\n    });\n    copperIngots = bot.inventory.findInventoryItem(..."
          ],
          [
           "// Craft a lightning rod using the crafting table, 3 copper ingots, and 2 sticks\n  await craftItem(b..."
          ],
          [
           "async function mineFiveIronOres(bot) {\n  // Equip the stone pickaxe\n  const stonePickaxe = bot.inven..."
          ],
          [
           "// Explore until finding an iron ore block\n  const ironOre = await exploreUntil(bot, new Vec3(0, -1,..."
          ],
          [
           "// Mine 5 iron ore blocks\n  await mineBlock(bot, \"iron_ore\", 5);\n  bot.chat(\"5 iron ores mined.\");\n}..."
          ],
          [
           "async function mineFiveLapisOres(bot) {\n  // Check if the bot has a stone pickaxe, iron pickaxe, or ..."
          ],
          [
           "const diamondPickaxe = bot.inventory.findInventoryItem(mcData.itemsByName[\"diamond_pickaxe\"].id);..."
          ],
          [
           "// Equip the best pickaxe available\n  if (diamondPickaxe) {\n    await bot.equip(diamondPickaxe, \"han..."
          ],
          [
           "} else {\n    bot.chat(\"I don't have a stone, iron, or diamond pickaxe to mine lapis ores.\");\n    ret..."
          ],
          [
           "// Explore the underground area to find lapis ores\n  const lapisOres = await exploreUntil(bot, new V..."
          ],
          [
           "count: 5\n    });\n    return lapis_ores.length >= 5 ? lapis_ores : null;\n  });..."
          ],
          [
           "// Mine 5 lapis ores using the equipped pickaxe\n  if (lapisOres) {\n    await mineBlock(bot, \"lapis_o..."
          ],
          [
           "async function smeltFiveRawCopper(bot) {\n  // Check if there is a furnace in the inventory\n  const f..."
          ],
          [
           "// Place the furnace near the player\n  const furnacePosition = bot.entity.position.offset(1, 0, 0);\n..."
          ],
          [
           "async function craftDiamondPickaxe(bot) {\n  // Check if there is a crafting table in the inventory o..."
          ],
          [
           "// Craft a diamond pickaxe using the crafting table, 3 diamonds, and 2 sticks\n  await craftItem(bot,..."
          ],
          [
           "async function craftStonePickaxe(bot) {\n  // Check if there is a crafting table nearby\n  const craft..."
          ],
          [
           "const tablePosition = bot.entity.position.offset(1, 0, 0);\n    await placeItem(bot, \"crafting_table\"..."
          ],
          [
           "// Check if there are enough sticks in the inventory\n  const sticks = bot.inventory.findInventoryIte..."
          ],
          [
           "// Check if there are enough cobblestone in the inventory\n  const cobblestone = bot.inventory.findIn..."
          ],
          [
           "// Craft a stone pickaxe using cobblestone and sticks\n  await craftItem(bot, \"stone_pickaxe\", 1);\n  ..."
          ],
          [
           "async function craftWoodenPickaxe(bot) {\n  // Check if there is a crafting table in the inventory\n  ..."
          ],
          [
           "// Check if there are enough oak planks in the inventory\n  const oakPlanks = bot.inventory.findInven..."
          ],
          [
           "// Craft a wooden pickaxe using oak planks and sticks\n  await craftItem(bot, \"wooden_pickaxe\", 1);\n ..."
          ],
          [
           "async function mineFiveDeepslateRedstoneOres(bot) {\n  // Equip the diamond pickaxe\n  const diamondPi..."
          ],
          [
           "// Explore the underground area to find deepslate_redstone_ore\n  const deepslateRedstoneOres = await..."
          ],
          [
           "maxDistance: 32,\n      count: 5\n    });\n    return deepslate_redstone_ores.length >= 5 ? deepslate_r..."
          ],
          [
           "// Mine 5 deepslate_redstone_ore using the equipped diamond_pickaxe\n  if (deepslateRedstoneOres) {\n ..."
          ],
          [
           "async function craftBed(bot) {\n  // Check if there is a crafting table in the inventory or nearby\n  ..."
          ],
          [
           "maxDistance: 32\n    });\n    if (!craftingTable) {\n      // Mine oak logs and craft oak planks\n      ..."
          ],
          [
           "await craftItem(bot, \"crafting_table\", 1);\n    }\n  }..."
          ],
          [
           "// Find a suitable position to place the crafting table if it's not already placed\n  const tablePosi..."
          ],
          [
           "// Find a different position to place the crafting table\n      const newPosition = bot.entity.positi..."
          ],
          [
           "// Check if there are enough wool blocks in the inventory\n  let wool = bot.inventory.findInventoryIt..."
          ],
          [
           "const sheep = await exploreUntil(bot, new Vec3(1, 0, 1), 60, () => {\n      const sheep = bot.nearest..."
          ],
          [
           "});\n    await bot.pathfinder.goto(new GoalGetToBlock(sheep.position.x, sheep.position.y, sheep.posit..."
          ],
          [
           "wool = bot.inventory.findInventoryItem(mcData.itemsByName[\"white_wool\"].id);\n  }..."
          ],
          [
           "// Check if there are enough wooden planks in the inventory\n  let oakPlanks = bot.inventory.findInve..."
          ],
          [
           "// Craft a bed using the wool blocks and wooden planks\n  bot.chat(\"Crafting a bed...\");\n  await craf..."
          ],
          [
           "async function obtainThreeBirchLogs(bot) {\n  const chestPosition = new Vec3(-17, 1, 17);\n  const sta..."
          ],
          [
           "// Check if the bot is already near the chest\n  if (bot.entity.position.distanceTo(chestPosition) > ..."
          ],
          [
           "matching: mcData.blocksByName[\"chest\"].id,\n        maxDistance: 32\n      });\n      return chest;\n   ..."
          ],
          [
           "// Take 3 birch logs from the chest\n  await getItemFromChest(bot, chestPosition, {\n    \"birch_log\": ..."
          ],
          [
           "async function obtainTenWoodLogs(bot) {\n  const logNames = [\"oak_log\", \"birch_log\", \"spruce_log\", \"j..."
          ],
          [
           "// Check if there are already 10 wood logs in the inventory\n  for (const logName of logNames) {\n    ..."
          ],
          [
           "}\n  if (totalLogs >= 10) {\n    bot.chat(\"Already have 10 wood logs in inventory.\");\n    return;\n  }\n..."
          ],
          [
           "// Equip the wooden axe if available in the inventory\n  const woodenAxe = bot.inventory.findInventor..."
          ],
          [
           "// Use exploreUntil to find a wood log if not found nearby\n    const logBlock = bot.findBlock({\n    ..."
          ],
          [
           "const foundLog = bot.findBlock({\n          matching: block => logNames.includes(block.name),\n       ..."
          ],
          [
           "// Mine the required number of wood logs using mineBlock\n    await mineBlock(bot, logBlock.name, 1);..."
          ],
          [
           "async function collectAlliumWithShears(bot) {\n  // Find an allium flower nearby\n  const allium = bot..."
          ],
          [
           "// Go near the allium flower\n  await bot.pathfinder.goto(new GoalGetToBlock(allium.position.x, alliu..."
          ],
          [
           "// Use the shears on the allium flower to collect it\n  await bot.useOn(allium);\n  bot.chat(\"Collecte..."
          ],
          [
           "async function craftIronPickaxeWithSmelting(bot) {\n  // Check if there are enough iron ingots in the..."
          ],
          [
           "// Check if there is a furnace in the inventory or nearby\n  let furnace = bot.inventory.findInventor..."
          ],
          [
           "maxDistance: 32\n    });\n    if (!furnace) {\n      // Craft a furnace using cobblestone\n      await m..."
          ],
          [
           "furnace = bot.inventory.findInventoryItem(mcData.itemsByName[\"furnace\"].id);\n    }\n  }..."
          ],
          [
           "// Smelt the iron ore using the furnace and coal as fuel\n  await smeltItem(bot, \"raw_iron\", \"coal\", ..."
          ],
          [
           "// Check if there are enough sticks in the inventory\n  let sticks = bot.inventory.findInventoryItem(..."
          ],
          [
           "// Check if there is a crafting table in the inventory or nearby\n  let craftingTable = bot.inventory..."
          ],
          [
           "// Craft an iron pickaxe using the crafting table, 3 iron ingots, and 2 sticks\n  await craftItem(bot..."
          ],
          [
           "async function equipIronLeggings(bot) {\n  // Find the iron leggings in the bot's inventory\n  const i..."
          ],
          [
           "// Equip the iron leggings in the \"legs\" slot\n  if (ironLeggings) {\n    await bot.equip(ironLeggings..."
          ],
          [
           "async function findCookAndEatChicken(bot) {\n  // Check if the bot has at least 1 cooked chicken in i..."
          ],
          [
           "} else {\n    // Check if there is raw chicken in the inventory or in the nearby chest\n    let rawChi..."
          ],
          [
           "\"chicken\": 1\n      });\n      rawChicken = bot.inventory.findInventoryItem(mcData.itemsByName[\"chicke..."
          ],
          [
           "// If there is still no raw chicken, explore the area to find and kill a chicken\n    if (!rawChicken..."
          ],
          [
           "// Cook the raw chicken into cooked chicken using a furnace\n    if (rawChicken) {\n      await smeltI..."
          ],
          [
           "// Eat the cooked chicken if available\n    if (cookedChicken) {\n      await eatCookedChicken(bot);\n ..."
          ],
          [
           "async function mineOneDiamondOre(bot) {\n  // Equip the iron pickaxe\n  const ironPickaxe = bot.invent..."
          ],
          [
           "// Explore the underground area around level 12\n  const diamondOre = await exploreUntil(bot, new Vec..."
          ],
          [
           "// Mine the diamond ore when found\n  if (diamondOre) {\n    await mineBlock(bot, \"diamond_ore\", 1);\n ..."
          ],
          [
           "async function mineThreeDiamondOres(bot) {\n  // Equip the iron pickaxe\n  const ironPickaxe = bot.inv..."
          ],
          [
           "async function obtainOakLogs(bot) {\n  const oakLogName = \"oak_log\";\n  const oakLogItem = bot.invento..."
          ],
          [
           "}\n  const logsNeeded = oakLogItem ? 3 - oakLogItem.count : 3;\n  bot.chat(`Mining ${logsNeeded} oak l..."
          ],
          [
           "async function mineFiveRedstoneOres(bot) {\n  // Check if the bot has an iron pickaxe or a diamond pi..."
          ],
          [
           "// Equip the iron pickaxe or diamond pickaxe\n  if (ironPickaxe) {\n    await bot.equip(ironPickaxe, \"..."
          ],
          [
           "// Explore the underground area around level 16 or below\n  const redstoneOres = await exploreUntil(b..."
          ],
          [
           "minY: 0,\n      maxY: 16,\n      count: 5\n    });\n    return redstone_ores.length >= 5 ? redstone_ores..."
          ],
          [
           "// Mine the redstone ores when found\n  if (redstoneOres) {\n    await mineBlock(bot, \"redstone_ore\", ..."
          ],
          [
           "async function mineOneDeepslateDiamondOre(bot) {\n  // Equip the diamond pickaxe\n  const diamondPicka..."
          ],
          [
           "// Explore the underground area around level 12\n  const deepslateDiamondOre = await exploreUntil(bot..."
          ],
          [
           "minY: 5,\n      maxY: 12\n    });\n    return deepslate_diamond_ore;\n  });..."
          ],
          [
           "// Mine the deepslate diamond ore when found\n  if (deepslateDiamondOre) {\n    await mineBlock(bot, \"..."
          ],
          [
           "async function killOneCreeper(bot) {\n  // Equip the iron sword\n  const ironSword = bot.inventory.fin..."
          ],
          [
           "// Explore until finding a creeper\n  const creeper = await exploreUntil(bot, new Vec3(1, 0, 1), 60, ..."
          ],
          [
           "});\n    return creeper;\n  });\n  if (creeper) {\n    // Attack the creeper while maintaining a safe di..."
          ],
          [
           "} else {\n    bot.chat(\"Could not find a creeper.\");\n  }\n}..."
          ],
          [
           "async function craftStoneSword(bot) {\n  // Check if there is a crafting table nearby\n  const craftin..."
          ],
          [
           "// Check if there are enough cobblestones in the inventory\n  const cobblestone = bot.inventory.findI..."
          ],
          [
           "// Check if there are enough sticks in the inventory\n  const sticks = bot.inventory.findInventoryIte..."
          ],
          [
           "async function openChestAtPosition(bot) {\n  const chestPosition = new Vec3(-20, -16, 35);\n  await mo..."
          ],
          [
           "async function killOneSkeletonWithBow(bot) {\n  // Check if the bot has a bow and arrows in the inven..."
          ],
          [
           "// Explore until finding a skeleton\n  const skeleton = await exploreUntil(bot, new Vec3(1, 0, 1), 60..."
          ],
          [
           "});\n  if (skeleton) {\n    if (bow && arrows && arrows.count > 0) {\n      // Equip the bow and attack..."
          ],
          [
           "bot.chat(\"Attacked skeleton with bow and arrow.\");\n    } else {\n      // Equip the stone sword and a..."
          ],
          [
           "await killMob(bot, \"skeleton\", 300);\n      bot.chat(\"Killed 1 skeleton.\");\n    }\n  } else {\n    bot...."
          ],
          [
           "async function checkWoodenShovel(bot) {\n  const woodenShovel = bot.inventory.findInventoryItem(mcDat..."
          ],
          [
           "}\n}..."
          ],
          [
           "async function equipIronHelmetAndBoots(bot) {\n  // Find the iron helmet in the bot's inventory\n  con..."
          ],
          [
           "// Equip the iron helmet in the \"head\" slot\n  if (ironHelmet) {\n    await bot.equip(ironHelmet, \"hea..."
          ],
          [
           "// Equip the iron boots in the \"feet\" slot\n  if (ironBoots) {\n    await bot.equip(ironBoots, \"feet\")..."
          ],
          [
           "async function craftShield(bot) {\n  // Check if there are enough oak planks and iron ingots in the i..."
          ],
          [
           "// If not, get the required items from the chest\n  if (!oakPlanks || oakPlanks.count < 6 || !ironIng..."
          ],
          [
           "\"iron_ingot\": 1 - (ironIngots ? ironIngots.count : 0)\n    });\n    oakPlanks = bot.inventory.findInve..."
          ],
          [
           "// Craft a shield using the crafting table, 6 oak planks, and 1 iron ingot\n  await craftItem(bot, \"s..."
          ],
          [
           "async function craftSpyglass(bot) {\n  // Check if there is a crafting table nearby or in the invento..."
          ],
          [
           "// Craft a spyglass using the crafting table, 2 copper ingots, and 1 amethyst shard\n  await craftIte..."
          ],
          [
           "async function mineTenCobblestone(bot) {\n  // Equip the wooden pickaxe\n  const woodenPickaxe = bot.i..."
          ],
          [
           "async function findSuitablePosition(bot, startPosition) {\n  const offsets = [new Vec3(1, 0, 0), new ..."
          ],
          [
           "if (block.name === \"grass_block\" || block.name === \"dirt\") {\n      return position;\n    }\n  }\n  retu..."
          ],
          [
           "async function craftIronBootsWithSuitablePosition(bot) {\n  // Check if there are enough iron ingots ..."
          ],
          [
           "await getItemFromChest(bot, chestPosition, {\n      \"iron_ingot\": 4 - (ironIngots ? ironIngots.count ..."
          ],
          [
           "// Find a suitable position to place the crafting table\n  const startPosition = bot.entity.position...."
          ],
          [
           "// Craft iron boots using the crafting table and 4 iron ingots\n  await craftItem(bot, \"iron_boots\", ..."
          ],
          [
           "async function smeltEightRawIron(bot) {\n  // Check if there is a furnace in the inventory or nearby\n..."
          ],
          [
           "// Smelt 8 raw iron using coal as fuel\n  await smeltItem(bot, \"raw_iron\", \"coal\", 8);\n  bot.chat(\"8 ..."
          ],
          [
           "async function smeltFiveRawIron(bot) {\n  // Check if there is a furnace in the inventory\n  const fur..."
          ],
          [
           "// Place the furnace near the player\n  const furnacePosition = bot.entity.position.offset(1, 0, 0);\n..."
          ],
          [
           "async function mineFiveCopperOres(bot) {\n  // Equip the stone pickaxe\n  const stonePickaxe = bot.inv..."
          ],
          [
           "async function cookSevenRawPorkchops(bot) {\n  // Check if there is a furnace in the inventory or nea..."
          ],
          [
           "// Check if there are 7 raw porkchops in the inventory\n  let rawPorkchops = bot.inventory.findInvent..."
          ],
          [
           "const pigsToKill = 7 - (rawPorkchops ? rawPorkchops.count : 0);\n    for (let i = 0; i < pigsToKill; ..."
          ],
          [
           "}..."
          ],
          [
           "// Smelt 7 raw porkchops using coal as fuel\n  await smeltItem(bot, \"porkchop\", \"coal\", 7);\n  bot.cha..."
          ],
          [
           "async function craftIronBoots(bot) {\n  // Check if there are enough iron ingots in the inventory\n  l..."
          ],
          [
           "async function obtainAmethystShard(bot) {\n  // Equip the iron pickaxe\n  const ironPickaxe = bot.inve..."
          ],
          [
           "// Explore the underground area to find an amethyst geode\n  const amethystGeode = await exploreUntil..."
          ],
          [
           "// Mine the amethyst geode to obtain 1 amethyst shard\n  if (amethystGeode) {\n    await mineBlock(bot..."
          ],
          [
           "async function craftIronHelmetWithSuitablePosition(bot) {\n  // Check if there is a crafting table in..."
          ],
          [
           "matching: mcData.blocksByName[\"crafting_table\"].id,\n      maxDistance: 32\n    });\n    if (!craftingT..."
          ],
          [
           "async function craftIronChestplate(bot) {\n  // Check if there is a crafting table in the inventory o..."
          ],
          [
           "// Check if there are enough iron ingots in the inventory\n  let ironIngots = bot.inventory.findInven..."
          ],
          [
           "await mineBlock(bot, \"iron_ore\", 8 - (ironIngots ? ironIngots.count : 0));\n    await smeltItem(bot, ..."
          ],
          [
           "// Craft an iron chestplate using the crafting table and 8 iron ingots\n  await craftItem(bot, \"iron_..."
          ],
          [
           "async function obtainWhiteWoolWithShears(bot) {\n  // Equip the shears\n  const shears = bot.inventory..."
          ],
          [
           "// Find the nearest white sheep\n  const whiteSheep = bot.nearestEntity(entity => {\n    return entity..."
          ],
          [
           "// Use the shears on the white sheep to obtain white wool\n  if (whiteSheep) {\n    await bot.useOn(wh..."
          ],
          [
           "async function obtainWhiteWoolWithShears(bot) {\n  // Equip the shears\n  const shears = bot.inventory..."
          ],
          [
           "// Use the shears on the sheep to obtain white wool\n  if (sheep) {\n    await bot.useOn(sheep);\n    b..."
          ],
          [
           "async function eatCookedChicken(bot) {\n  // Check if the bot has at least 1 cooked chicken in its in..."
          ],
          [
           "// Consume the cooked chicken\n    await bot.consume();\n    bot.chat(\"Ate 1 cooked chicken.\");\n  } el..."
          ],
          [
           "async function mineFiveCoalOres(bot) {\n  // Equip the wooden pickaxe\n  const woodenPickaxe = bot.inv..."
          ],
          [
           "async function sleepInWhiteBed(bot) {\n  // Find a suitable position to place the bed\n  const startPo..."
          ],
          [
           "// Place the white bed at the suitable position\n  if (bedPosition) {\n    await placeItem(bot, \"white..."
          ],
          [
           "async function craftWoodenAxe(bot) {\n  // Check if there is a crafting table in the inventory\n  cons..."
          ],
          [
           "// Craft a wooden axe using oak planks and sticks\n  await craftItem(bot, \"wooden_axe\", 1);\n  bot.cha..."
          ],
          [
           "async function equipIronSword(bot) {\n  // Find the iron sword in the inventory\n  let ironSword = bot..."
          ],
          [
           "// If the iron sword is not found in the inventory, check the chest\n  if (!ironSword) {\n    const ch..."
          ],
          [
           "// Equip the iron sword\n  if (ironSword) {\n    await bot.equip(ironSword, \"hand\");\n    bot.chat(\"Equ..."
          ],
          [
           "async function equipIronArmor(bot) {\n  // Find the iron_leggings, iron_boots, and iron_helmet in the..."
          ],
          [
           "const ironHelmet = bot.inventory.findInventoryItem(mcData.itemsByName.iron_helmet.id);..."
          ],
          [
           "// Equip the iron_leggings, iron_boots, and iron_helmet in the appropriate slots (legs, feet, and he..."
          ],
          [
           "} else {\n    bot.chat(\"Iron leggings not found in inventory.\");\n  }\n  if (ironBoots) {\n    await bot..."
          ],
          [
           "}\n  if (ironHelmet) {\n    await bot.equip(ironHelmet, \"head\");\n    bot.chat(\"Equipped iron helmet.\")..."
          ],
          [
           "async function craftWoodenSword(bot) {\n  // Check if there are enough oak planks in the inventory\n  ..."
          ],
          [
           "// If not, craft oak planks from oak logs\n  if (oakPlanksCount < 2) {\n    const oakLogsCount = bot.i..."
          ],
          [
           "await craftItem(bot, \"oak_planks\", planksToCraft);\n      bot.chat(\"Crafted oak planks.\");\n    } else..."
          ],
          [
           "// Check if there are enough sticks in the inventory\n  const sticksCount = bot.inventory.count(mcDat..."
          ],
          [
           "// Place the crafting table near the bot\n  const craftingTablePosition = bot.entity.position.offset(..."
          ],
          [
           "async function findSuitablePosition(bot) {\n  const offsets = [\n    new Vec3(1, 0, 0),\n    new Vec3(-..."
          ],
          [
           "for (const offset of offsets) {\n    const position = bot.entity.position.offset(offset.x, offset.y, ..."
          ],
          [
           "async function smeltFiveRawIron(bot) {\n  // Check if there is coal in the inventory\n  const coalCoun..."
          ],
          [
           "bot.chat(\"Collected coal.\");\n  }\n  // Check if there is a furnace in the inventory\n  const furnaceIt..."
          ],
          [
           "// If not, craft a furnace using the available cobblestone\n  if (!furnaceItem) {\n    await craftFurn..."
          ],
          [
           "// Place the furnace at the suitable position\n  await placeItem(bot, \"furnace\", furnacePosition);\n\n ..."
          ],
          [
           "async function mineWoodLog(bot) {\n  const woodLogNames = [\"oak_log\", \"birch_log\", \"spruce_log\", \"jun..."
          ],
          [
           "// Find a wood log block\n  const woodLogBlock = await exploreUntil(bot, new Vec3(1, 0, 1), 60, () =>..."
          ],
          [
           "// Mine the wood log block\n  await mineBlock(bot, woodLogBlock.name, 1);\n  bot.chat(\"Wood log mined...."
          ],
          [
           "async function craftWhiteBed(bot) {\n  // Check if there are enough oak planks in the inventory\n  con..."
          ],
          [
           "// If not, craft oak planks from oak logs\n  if (oakPlanksCount < 3) {\n    const oakLogsCount = bot.i..."
          ],
          [
           "// Check if there are enough white wool in the inventory\n  const whiteWoolCount = bot.inventory.coun..."
          ],
          [
           "// Place the crafting table near the bot\n  const craftingTablePosition = bot.entity.position.offset(..."
          ],
          [
           "async function craftShieldImproved(bot) {\n  // Check if there are enough oak planks in the inventory..."
          ],
          [
           "// If not, check if there are enough oak logs in the inventory\n  if (oakPlanksCount < 6) {\n    let o..."
          ],
          [
           "// If not, explore to find and mine oak logs\n    if (oakLogsCount < planksToCraft) {\n      await exp..."
          ],
          [
           "maxDistance: 32\n        });\n        return oak_log;\n      });\n      await mineBlock(bot, \"oak_log\", ..."
          ],
          [
           "// Craft oak planks from oak logs\n    await craftItem(bot, \"oak_planks\", planksToCraft);\n    bot.cha..."
          ],
          [
           "// If not, explore to find and mine iron ores\n  if (ironIngotsCount < 1) {\n    await exploreUntil(bo..."
          ],
          [
           "maxDistance: 32\n      });\n      return iron_ore;\n    });\n    await mineBlock(bot, \"iron_ore\", 1);\n  ..."
          ],
          [
           "// Smelt iron ores into iron ingots\n    await smeltItem(bot, \"iron_ore\", \"coal\", 1);\n    bot.chat(\"S..."
          ],
          [
           "// Craft a shield using the crafting table\n  await craftItem(bot, \"shield\", 1);\n  bot.chat(\"Crafted ..."
          ],
          [
           "async function craftFurnace(bot) {\n  // Check if there are enough cobblestones in the inventory\n  co..."
          ],
          [
           "// Place the crafting table near the bot\n  const craftingTablePosition = bot.entity.position.offset(..."
          ],
          [
           "async function craftBucket(bot) {\n  // Check if there are enough iron ingots in the inventory\n  cons..."
          ],
          [
           "// If not enough iron ingots, mine iron ores and smelt them into iron ingots\n  if (ironIngotsCount <..."
          ],
          [
           "// Place the crafting table near the bot\n  const craftingTablePosition = bot.entity.position.offset(..."
          ],
          [
           "async function smeltRawCopper(bot) {\n  // Check if there is a furnace in the inventory\n  const furna..."
          ],
          [
           "// Find a suitable position to place the furnace\n  const furnacePosition = await findSuitablePositio..."
          ],
          [
           "// Smelt 19 raw copper using the available coal as fuel\n  await smeltItem(bot, \"raw_copper\", \"coal\",..."
          ],
          [
           "async function craftCopperBlock(bot) {\n  // Check if there are enough copper ingots in the inventory..."
          ],
          [
           "// If not enough copper ingots, mine copper ores and smelt them into copper ingots\n  if (copperIngot..."
          ],
          [
           "// Place the crafting table near the bot\n  const craftingTablePosition = bot.entity.position.offset(..."
          ],
          [
           "async function equipIronChestplate(bot) {\n  // Find the iron chestplate in the inventory\n  const iro..."
          ],
          [
           "// Equip the iron chestplate\n  if (ironChestplate) {\n    await bot.equip(ironChestplate, \"torso\");\n ..."
          ],
          [
           "async function killOneSpider(bot) {\n  // Equip the iron sword\n  const ironSword = bot.inventory.find..."
          ],
          [
           "// Find the nearest spider\n  const spider = await exploreUntil(bot, new Vec3(1, 0, 1), 60, () => {\n ..."
          ],
          [
           "});\n  if (!spider) {\n    bot.chat(\"Could not find a spider.\");\n    return;\n  }..."
          ],
          [
           "// Kill the spider using the iron sword\n  await killMob(bot, \"spider\", 300);\n  bot.chat(\"Killed a sp..."
          ],
          [
           "async function craftCraftingTable(bot) {\n  // Check if there are enough oak planks in the inventory\n..."
          ],
          [
           "// If not, craft oak planks from oak logs\n  if (oakPlanksCount < 4) {\n    const oakLogsCount = bot.i..."
          ],
          [
           "// Craft a crafting table using oak planks\n  await craftItem(bot, \"crafting_table\", 1);\n  bot.chat(\"..."
          ],
          [
           "async function craftIronShovel(bot) {\n  // Check if there are enough iron ingots and sticks in the i..."
          ],
          [
           "// If not enough iron ingots or sticks, collect the required items\n  if (ironIngotsCount < 1) {\n    ..."
          ],
          [
           "}\n  if (sticksCount < 2) {\n    await craftItem(bot, \"stick\", 1);\n    bot.chat(\"Crafted sticks.\");\n  ..."
          ],
          [
           "// Find a suitable position to place the crafting table\n  const suitablePosition = bot.entity.positi..."
          ],
          [
           "// Craft an iron shovel using the crafting table\n  await craftItem(bot, \"iron_shovel\", 1);\n  bot.cha..."
          ],
          [
           "async function craftIronHelmet(bot) {\n  // Place the crafting table near the bot\n  const craftingTab..."
          ],
          [
           "async function findSuitablePosition(bot) {\n  const offsets = [new Vec3(1, 0, 0), new Vec3(-1, 0, 0),..."
          ],
          [
           "if (block.name === \"air\") {\n      return position;\n    }\n  }\n  return null;\n}..."
          ],
          [
           "async function craftLightningRod(bot) {\n  // Find a suitable position to place the crafting table\n  ..."
          ],
          [
           "// If not enough copper ingots, mine copper ores and smelt them into copper ingots\n  if (copperIngot..."
          ],
          [
           "// Craft a lightning rod using the crafting table\n  await craftItem(bot, \"lightning_rod\", 1);\n  bot...."
          ],
          [
           "async function obtainOneMoreAcaciaLog(bot) {\n  // Check the initial inventory for acacia logs\n  cons..."
          ],
          [
           "// If the number of acacia logs is less than 5, find and mine one more acacia log\n  if (initialAcaci..."
          ],
          [
           "maxDistance: 32\n      });\n    });\n    if (!acaciaLog) {\n      bot.chat(\"Could not find an acacia log..."
          ],
          [
           "bot.chat(\"1 more acacia log obtained.\");\n  }..."
          ],
          [
           "// Check the final number of acacia logs in the inventory\n  const finalAcaciaLogs = bot.inventory.co..."
          ],
          [
           "async function mineFiveIronOres(bot) {\n  // Equip the stone pickaxe\n  const stonePickaxe = bot.inven..."
          ],
          [
           "// Find 5 iron_ore blocks\n  const ironOres = await exploreUntil(bot, new Vec3(1, 0, 1), 60, () => {\n..."
          ],
          [
           "});\n    return ironOres.length >= 5 ? ironOres : null;\n  });\n  if (!ironOres) {\n    bot.chat(\"Could ..."
          ],
          [
           "// Mine the 5 iron_ore blocks\n  await mineBlock(bot, \"iron_ore\", 5);\n  bot.chat(\"5 iron ores mined.\"..."
          ],
          [
           "async function mineFiveCoalOres(bot) {\n  // Equip the stone pickaxe\n  const stonePickaxe = bot.inven..."
          ],
          [
           "// Find 5 coal_ore blocks\n  const coalOres = await exploreUntil(bot, new Vec3(1, 0, 1), 60, () => {\n..."
          ],
          [
           "});\n    return coalOres.length >= 5 ? coalOres : null;\n  });\n  if (!coalOres) {\n    bot.chat(\"Could ..."
          ],
          [
           "// Mine the 5 coal_ore blocks\n  await mineBlock(bot, \"coal_ore\", 5);\n  bot.chat(\"5 coal ores mined.\"..."
          ],
          [
           "async function cookPorkchops(bot) {\n  // Check if there is a furnace in the inventory\n  const furnac..."
          ],
          [
           "// Place the furnace near the bot\n  const furnacePosition = bot.entity.position.offset(1, 0, 0);\n  a..."
          ],
          [
           "async function craftStonePickaxe(bot) {\n  // Check if there are enough cobblestone and sticks in the..."
          ],
          [
           "// If not enough cobblestone or sticks, collect the required items\n  if (cobblestoneCount < 3) {\n   ..."
          ],
          [
           "// Place the crafting table near the bot\n  const craftingTablePosition = bot.entity.position.offset(..."
          ],
          [
           "async function craftWoodenPickaxe(bot) {\n  // check if crafting table is in the inventory\n  const cr..."
          ],
          [
           "// Check if there are enough oak planks in the inventory\n  const oakPlanksCount = bot.inventory.coun..."
          ],
          [
           "// If not, craft oak planks from oak logs\n  if (oakPlanksCount < 6) {\n    const oakLogsCount = bot.i..."
          ],
          [
           "await mineBlock(bot, \"oak_log\", planksToCraft - oakLogsCount);\n    }\n    await craftItem(bot, \"oak_p..."
          ],
          [
           "// Check if there are enough sticks in the inventory\n  const sticksCount = bot.inventory.count(mcDat..."
          ],
          [
           "// Place the crafting table near the bot\n  const craftingTablePosition = bot.entity.position.offset(..."
          ],
          [
           "async function mineFiveCopperOres(bot) {\n  // Check if the bot already has 5 or more copper ores in ..."
          ],
          [
           "bot.chat(\"Task already completed. There are already \" + totalCopperOres + \" copper ores in the inven..."
          ],
          [
           "async function craftStoneShovel(bot) {\n  // Check if there are enough cobblestone and sticks in the ..."
          ],
          [
           "// If not enough cobblestone, mine cobblestone\n  if (cobblestoneCount < 1) {\n    await mineBlock(bot..."
          ],
          [
           "// Place the crafting table near the bot\n  const craftingTablePosition = bot.entity.position.offset(..."
          ],
          [
           "async function killOnePig(bot) {\n  // Equip the wooden sword\n  const woodenSword = bot.inventory.fin..."
          ],
          [
           "// Find the nearest pig\n  const pig = await exploreUntil(bot, new Vec3(1, 0, 1), 60, () => {\n    con..."
          ],
          [
           "});\n  if (!pig) {\n    bot.chat(\"Could not find a pig.\");\n    return;\n  }..."
          ],
          [
           "// Kill the pig using the wooden sword\n  await killMob(bot, \"pig\", 300);\n  bot.chat(\"Killed a pig.\")..."
          ],
          [
           "async function mineFiveLapisLazuliOres(bot) {\n  // Equip the iron pickaxe\n  const ironPickaxe = bot...."
          ],
          [
           "// Find 5 lapis_lazuli_ore blocks\n  const lapisOres = await exploreUntil(bot, new Vec3(1, -1, 1), 60..."
          ],
          [
           "count: 5\n    });\n    return lapisOres.length >= 5 ? lapisOres : null;\n  });\n  if (!lapisOres) {\n    ..."
          ],
          [
           "// Mine the 5 lapis_lazuli_ore blocks\n  await mineBlock(bot, \"lapis_ore\", 5);\n  bot.chat(\"5 lapis la..."
          ],
          [
           "async function craftChest(bot) {\n  // Check if there are enough oak planks in the inventory\n  const ..."
          ],
          [
           "// If not, craft oak planks from oak logs\n  if (oakPlanksCount < 8) {\n    const oakLogsCount = bot.i..."
          ],
          [
           "// Place the crafting table near the bot\n  const craftingTablePosition = bot.entity.position.offset(..."
          ],
          [
           "async function killOneEnderman(bot) {\n  // Equip the iron sword\n  const ironSword = bot.inventory.fi..."
          ],
          [
           "// Find the nearest enderman\n  const enderman = await exploreUntil(bot, new Vec3(1, 0, 1), 60, () =>..."
          ],
          [
           "return enderman;\n  });\n  if (!enderman) {\n    bot.chat(\"Could not find an enderman.\");\n    return;\n ..."
          ],
          [
           "// Kill the enderman using the iron sword\n  await killMob(bot, \"enderman\", 300);\n  bot.chat(\"Killed ..."
          ],
          [
           "async function killTwoPigs(bot) {\n  // Equip the wooden sword\n  const woodenSword = bot.inventory.fi..."
          ],
          [
           "// Find and kill the second pig\n  await killMob(bot, \"pig\", 300);\n  bot.chat(\"Killed the second pig...."
          ],
          [
           "// Collect the dropped items from the killed pigs\n  const pigDrops = [\"raw_porkchop\"];\n  for (const ..."
          ],
          [
           "});\n    if (droppedItem) {\n      await bot.pathfinder.goto(new GoalBlock(droppedItem.position.x, dro..."
          ],
          [
           "async function collectBamboo(bot) {\n  // Equip the iron sword\n  const ironSword = bot.inventory.find..."
          ],
          [
           "// Find bamboo plants using the exploreUntil function\n  const bambooPlants = await exploreUntil(bot,..."
          ],
          [
           "});\n    return bambooPlants.length >= 10 ? bambooPlants : null;\n  });\n  if (!bambooPlants) {\n    bot..."
          ],
          [
           "// Break 10 bamboo plants using the iron sword\n  for (const bambooPlant of bambooPlants) {\n    const..."
          ],
          [
           "// Collect the dropped bamboo items\n  for (const bambooPlant of bambooPlants) {\n    await bot.pathfi..."
          ],
          [
           "async function eatTwoCookedMutton(bot) {\n  // Check if there are 2 cooked mutton in the inventory\n  ..."
          ],
          [
           "// Equip the cooked mutton in the bot's hand\n  await bot.equip(cookedMutton, \"hand\");\n\n  // Consume ..."
          ],
          [
           "async function fillBucketWithWater(bot) {\n  // Find a water block nearby\n  const waterBlock = await ..."
          ],
          [
           "});\n    return water;\n  });\n  if (!waterBlock) {\n    bot.chat(\"Could not find water.\");\n    return;\n..."
          ],
          [
           "const adjacentBlock = waterBlock.position.offset(0, 1, 0);\n  // Go to the water block\n  await bot.pa..."
          ],
          [
           "// Look at the water block\n  await bot.lookAt(waterBlock.position);\n\n  // Activate the bucket to col..."
          ],
          [
           "async function smeltCactusIntoGreenDye(bot) {\n  // Check if there is a furnace in the inventory\n  co..."
          ],
          [
           "// Smelt 5 cactus using the available coal as fuel\n  await smeltItem(bot, \"cactus\", \"coal\", 5);\n  bo..."
          ],
          [
           "async function eatCookedPorkchop(bot) {\n  // Equip the cooked porkchop in the bot's hand\n  const coo..."
          ],
          [
           "// Send a chat message to indicate the task is completed\n  bot.chat(\"Ate 1 cooked porkchop.\");\n}..."
          ],
          [
           "async function craftScaffolding(bot) {\n  // Check if we have a crafting table in the inventory\n  con..."
          ],
          [
           "// Place the crafting table near the bot\n  const craftingTablePosition = bot.entity.position.offset(..."
          ],
          [
           "async function craftIronHelmet(bot) {\n  // Check if there are enough iron ingots in the inventory\n  ..."
          ],
          [
           "// If not enough iron ingots, mine iron ores and smelt them into iron ingots\n  if (ironIngotsCount <..."
          ],
          [
           "// Place the crafting table near the bot\n  const craftingTablePosition = bot.entity.position.offset(..."
          ],
          [
           "async function craftIronPickaxe(bot) {\n  // Check if there are enough iron ingots and sticks in the ..."
          ],
          [
           "// If not enough iron ingots or sticks, collect the required items\n  if (ironIngotsCount < 3) {\n    ..."
          ],
          [
           "bot.chat(\"Smelted iron ores into iron ingots.\");\n  }\n  if (sticksCount < 2) {\n    await craftItem(bo..."
          ],
          [
           "// Place the crafting table near the bot\n  const craftingTablePosition = bot.entity.position.offset(..."
          ],
          [
           "async function craftOakPlanksAndSticks(bot) {\n  // Check if there are enough oak planks in the inven..."
          ],
          [
           "// Check if there are enough sticks in the inventory\n  const sticksCount = bot.inventory.count(mcDat..."
          ],
          [
           "async function cookSevenMutton(bot) {\n  // Check if there is a furnace in the inventory\n  const furn..."
          ],
          [
           "// Smelt 7 raw mutton using the available coal as fuel\n  await smeltItem(bot, \"mutton\", \"coal\", 7);\n..."
          ],
          [
           "async function killFourSheep(bot) {\n  // Equip the wooden sword\n  const woodenSword = bot.inventory...."
          ],
          [
           "// Find and kill the first three sheep\n  for (let i = 1; i <= 3; i++) {\n    await killMob(bot, \"shee..."
          ],
          [
           "// Collect the dropped items from the killed sheep\n  const sheepDrops = [\"wool\", \"raw_mutton\"];\n  fo..."
          ],
          [
           "});\n    if (droppedItem) {\n      await bot.pathfinder.goto(new GoalBlock(droppedItem.position.x, dro..."
          ],
          [
           "async function craftShears(bot) {\n  // Place the crafting table near the bot\n  const craftingTablePo..."
          ],
          [
           "async function craftAcaciaPlanksAndSticks(bot) {\n  // Check if there are enough acacia logs in the i..."
          ],
          [
           "// If not, mine more acacia logs\n  if (acaciaLogsCount < 5) {\n    await mineBlock(bot, \"acacia_log\",..."
          ],
          [
           "// Check if there are enough acacia planks in the inventory to craft 10 sticks\n  const acaciaPlanksC..."
          ],
          [
           "// If not, mine more acacia logs and craft more acacia planks\n  if (acaciaPlanksCount < 5) {\n    awa..."
          ],
          [
           "// Craft 10 sticks from acacia planks\n  await craftItem(bot, \"stick\", 3);\n  bot.chat(\"Crafted 10 sti..."
          ],
          [
           "async function collectFiveCactusBlocks(bot) {\n  // Equip the iron pickaxe\n  const ironPickaxe = bot...."
          ],
          [
           "// Find 5 cactus blocks using the exploreUntil function\n  const cactusBlocks = await exploreUntil(bo..."
          ],
          [
           "count: 5\n    });\n    return cactusBlocks.length >= 5 ? cactusBlocks : null;\n  });\n  if (!cactusBlock..."
          ],
          [
           "// Mine the 5 cactus blocks using the mineBlock function\n  await mineBlock(bot, \"cactus\", 5);\n  bot...."
          ],
          [
           "async function craftIronLeggingsAndBoots(bot) {\n  // Check if there are enough iron ingots in the in..."
          ],
          [
           "// If not enough iron ingots, mine iron ores and smelt them into iron ingots\n  if (ironIngotsCount <..."
          ],
          [
           "// Place the crafting table near the bot\n  const craftingTablePosition = bot.entity.position.offset(..."
          ],
          [
           "// Craft iron boots using the crafting table\n  await craftItem(bot, \"iron_boots\", 1);\n  bot.chat(\"Cr..."
          ],
          [
           "async function mineThreeMoreOakLogs(bot) {\n  // Check the initial inventory for oak logs\n  const ini..."
          ],
          [
           "// Find 3 oak_log blocks\n  const oakLogs = await exploreUntil(bot, new Vec3(1, 0, 1), 60, () => {\n  ..."
          ],
          [
           "});\n    return oakLogs.length >= 3 ? oakLogs : null;\n  });\n  if (!oakLogs) {\n    bot.chat(\"Could not..."
          ],
          [
           "// Mine the oak_log blocks\n  await mineBlock(bot, \"oak_log\", 3);\n  bot.chat(\"3 oak logs mined.\");..."
          ],
          [
           "// Compare the final inventory with the initial inventory\n  const finalOakLogs = bot.inventory.count..."
          ],
          [
           "async function mineTenCobblestone(bot) {\n  // Check if the bot has a pickaxe in the inventory\n  cons..."
          ],
          [
           "// If not, craft a wooden pickaxe using the available resources in the inventory\n  if (!pickaxe) {\n ..."
          ],
          [
           "// Use the exploreUntil function to find cobblestone blocks\n  const cobblestoneBlocks = await explor..."
          ],
          [
           "count: 10\n    });\n    return cobblestoneBlocks.length >= 10 ? cobblestoneBlocks : null;\n  });\n  if (..."
          ],
          [
           "// Mine 10 cobblestone blocks using the mineBlock function\n  await mineBlock(bot, \"stone\", 10);\n  bo..."
          ],
          [
           "async function smeltFiveRawIron(bot) {\n  // Check if there is a furnace in the inventory\n  const fur..."
          ],
          [
           "// Place the furnace near the bot\n  const furnacePosition = bot.entity.position.offset(1, 0, 0);\n  a..."
          ],
          [
           "async function mineFiveCopperOres(bot) {\n  // Equip the stone pickaxe\n  const stonePickaxe = bot.inv..."
          ],
          [
           "// Find 5 copper_ore blocks\n  const copperOres = await exploreUntil(bot, new Vec3(1, 0, 1), 60, () =..."
          ],
          [
           "});\n    return copperOres.length >= 5 ? copperOres : null;\n  });\n  if (!copperOres) {\n    bot.chat(\"..."
          ],
          [
           "// Mine the 5 copper_ore blocks\n  await mineBlock(bot, \"copper_ore\", 5);\n  bot.chat(\"5 copper ores m..."
          ],
          [
           "async function craftIronSword(bot) {\n  // Check if there are enough iron ingots and sticks in the in..."
          ],
          [
           "// If not enough iron ingots or sticks, collect the required items\n  if (ironIngotsCount < 2) {\n    ..."
          ],
          [
           "bot.chat(\"Smelted iron ores into iron ingots.\");\n  }\n  if (sticksCount < 1) {\n    await craftItem(bo..."
          ],
          [
           "// Place the crafting table near the bot\n  const craftingTablePosition = bot.entity.position.offset(..."
          ],
          [
           "async function craftIronChestplate(bot) {\n  // Check if there are enough iron ingots in the inventor..."
          ],
          [
           "// If not enough iron ingots, mine iron ores and smelt them into iron ingots\n  if (ironIngotsCount <..."
          ],
          [
           "// Place the crafting table near the bot\n  const craftingTablePosition = bot.entity.position.offset(..."
          ],
          [
           "async function craftWoodenHoe(bot) {\n  // Check if there are enough oak planks in the inventory\n  co..."
          ],
          [
           "// Place the crafting table near the bot\n  const craftingTablePosition = bot.entity.position.offset(..."
          ],
          [
           "async function mineFiveCoalOres(bot) {\n  // Equip the wooden pickaxe\n  const woodenPickaxe = bot.inv..."
          ],
          [
           "async function craftIronAxe(bot) {\n  // Check if there are enough iron ingots and sticks in the inve..."
          ],
          [
           "// Place the crafting table near the bot\n  const craftingTablePosition = bot.entity.position.offset(..."
          ],
          [
           "async function killOneZombie(bot) {\n  // Equip the iron sword\n  const ironSword = bot.inventory.find..."
          ],
          [
           "// Find the nearest zombie\n  const zombie = await exploreUntil(bot, new Vec3(1, 0, 1), 60, () => {\n ..."
          ],
          [
           "});\n  if (!zombie) {\n    bot.chat(\"Could not find a zombie.\");\n    return;\n  }..."
          ],
          [
           "// Kill the zombie using the iron sword\n  await killMob(bot, \"zombie\", 300);\n  bot.chat(\"Killed a zo..."
          ],
          [
           "async function equipIronArmor(bot) {\n  // Equip the iron helmet from the inventory\n  const ironHelme..."
          ],
          [
           "// Equip the iron leggings from the inventory\n  const ironLeggings = bot.inventory.findInventoryItem..."
          ],
          [
           "// Equip the iron boots from the inventory\n  const ironBoots = bot.inventory.findInventoryItem(mcDat..."
          ],
          [
           "// Find a wood log block\n  const woodLog = await exploreUntil(bot, new Vec3(1, 0, 1), 60, () => {\n  ..."
          ],
          [
           "});\n      if (log) {\n        return log;\n      }\n    }\n    return null;\n  });\n  if (woodLog) {\n    /..."
          ],
          [
           "bot.chat(\"Wood log mined.\");\n  } else {\n    bot.chat(\"Could not find a wood log.\");\n  }\n}..."
          ],
          [
           "async function mineDeepslateDiamondOre(bot) {\n  // Step 1: Equip the diamond_pickaxe\n  const diamond..."
          ],
          [
           "// Step 2: Find a deepslate_diamond_ore block nearby or explore the area to find one\n  let deepslate..."
          ],
          [
           "deepslateDiamondOre = await exploreUntil(bot, new Vec3(1, -1, 1), 60, () => {\n      const deepslateD..."
          ],
          [
           "});\n      return deepslateDiamondOreBlock;\n    });\n  }..."
          ],
          [
           "// Step 3: Mine the deepslate_diamond_ore block using the diamond_pickaxe\n  if (deepslateDiamondOre)..."
          ],
          [
           "async function obtainSpruceLogs(bot) {\n  // Find 3 spruce_log blocks\n  const spruceLogs = await expl..."
          ],
          [
           "count: 3\n    });\n    return spruceLog ? spruceLog : null;\n  });\n  if (spruceLogs) {\n    // Mine the ..."
          ],
          [
           "} else {\n    bot.chat(\"Could not find enough spruce logs.\");\n  }\n}..."
          ],
          [
           "async function mineDeepslateLapisOre(bot) {\n  // Step 1: Equip the iron_pickaxe\n  const ironPickaxe ..."
          ],
          [
           "// Step 2: Find a deepslate_lapis_ore block nearby or explore the area to find one\n  let deepslateLa..."
          ],
          [
           "deepslateLapisOre = await exploreUntil(bot, new Vec3(1, -1, 1), 60, () => {\n      const deepslateLap..."
          ],
          [
           "});\n      return deepslateLapisOreBlock;\n    });\n  }..."
          ],
          [
           "// Step 3: Mine the deepslate_lapis_ore block using the iron_pickaxe\n  if (deepslateLapisOre) {\n    ..."
          ],
          [
           "async function killOneCow(bot) {\n  // Equip the iron_pickaxe from the inventory\n  const ironPickaxe ..."
          ],
          [
           "async function mineOneDiamondOre(bot) {\n  // Equip the iron_pickaxe\n  const ironPickaxe = bot.invent..."
          ],
          [
           "// Find a diamond_ore block nearby or explore the area to find one\n  let diamondOre = bot.findBlock(..."
          ],
          [
           "const diamondOreBlock = bot.findBlock({\n        matching: mcData.blocksByName.diamond_ore.id,\n      ..."
          ],
          [
           "// Mine the diamond_ore block using the iron_pickaxe\n  if (diamondOre) {\n    await mineBlock(bot, \"d..."
          ],
          [
           "async function equipIronChestplate(bot) {\n  // Check if the bot has an iron chestplate in its invent..."
          ],
          [
           "// Equip the iron chestplate if found\n  if (ironChestplate) {\n    await bot.equip(ironChestplate, \"t..."
          ],
          [
           "async function mineFiveCalciteBlocks(bot) {\n  // Step 1: Equip the iron_pickaxe\n  const ironPickaxe ..."
          ],
          [
           "// Step 2: Find a calcite block nearby or explore the area to find one\n  let calciteBlock = bot.find..."
          ],
          [
           "if (!calciteBlock) {\n    calciteBlock = await exploreUntil(bot, new Vec3(1, -1, 1), 60, () => {\n    ..."
          ],
          [
           "});\n      return calcite;\n    });\n  }..."
          ],
          [
           "// Step 3: Mine 5 calcite blocks using the iron_pickaxe\n  if (calciteBlock) {\n    await mineBlock(bo..."
          ],
          [
           "async function craftWoodenPlanks(bot) {\n  // Check if there is a crafting table in the inventory or ..."
          ],
          [
           "// If not, craft a crafting table using the spruce_log in the inventory\n  if (!craftingTable) {\n    ..."
          ],
          [
           "// Craft 4 wooden planks using the spruce_log in the inventory\n  await craftItem(bot, \"spruce_planks..."
          ],
          [
           "async function mineFivePointedDripstone(bot) {\n  // Step 1: Equip the iron_pickaxe\n  const ironPicka..."
          ],
          [
           "// Step 2: Find a pointed_dripstone block nearby or explore the area to find one\n  let pointedDripst..."
          ],
          [
           "pointedDripstone = await exploreUntil(bot, new Vec3(1, 0, 1), 60, () => {\n      const pointedDripsto..."
          ],
          [
           "});\n  }..."
          ],
          [
           "// Step 3: Mine 5 pointed_dripstone blocks using the iron_pickaxe\n  if (pointedDripstone) {\n    awai..."
          ],
          [
           "async function collectSugarCanes(bot) {\n  // Find 3 sugar cane blocks nearby\n  const sugarCaneBlocks..."
          ],
          [
           "// Mine the sugar cane blocks\n  if (sugarCaneBlocks.length >= 3) {\n    await mineBlock(bot, \"sugar_c..."
          ],
          [
           "async function mineOneIronOre(bot) {\n  // Equip the stone_pickaxe\n  const stonePickaxe = bot.invento..."
          ],
          [
           "// If not found, explore the area to find an iron_ore block\n  if (!ironOre) {\n    ironOre = await ex..."
          ],
          [
           "maxDistance: 32\n      });\n      return ironOreBlock;\n    });\n  }..."
          ],
          [
           "// Mine the iron_ore block using the stone_pickaxe\n  if (ironOre) {\n    await mineBlock(bot, \"iron_o..."
          ],
          [
           "async function eatCookedPorkchops(bot) {\n  for (let i = 0; i < 3; i++) {\n    // Equip the cooked por..."
          ],
          [
           "// Consume the cooked porkchop\n    await bot.consume();\n  }\n  bot.chat(\"3 cooked porkchops eaten.\");..."
          ],
          [
           "async function smeltFiveRawCopper(bot) {\n  // Check if there is a furnace in the inventory or nearby..."
          ],
          [
           "// If not, place the furnace from the inventory\n  if (!furnace) {\n    const furnaceItem = bot.invent..."
          ],
          [
           "await placeItem(bot, \"furnace\", furnacePosition);\n    } else {\n      bot.chat(\"No furnace found.\");\n..."
          ],
          [
           "// Smelt 5 raw copper using coal as fuel\n  await smeltItem(bot, \"raw_copper\", \"coal\", 5);\n  bot.chat..."
          ],
          [
           "async function craftDiamondPickaxe(bot) {\n  // Step 1: Equip the iron pickaxe from the inventory\n  c..."
          ],
          [
           "// Step 3: Craft 1 more stick using the spruce planks in the inventory if needed\n  const sticks = bo..."
          ],
          [
           "// Step 4: Check if there is a crafting table nearby or in the inventory, and place it if needed\n  c..."
          ],
          [
           "if (!craftingTable) {\n    await craftItem(bot, \"crafting_table\", 1);\n  }\n  const craftingTableBlock ..."
          ],
          [
           "if (!craftingTableBlock) {\n    const craftingTablePosition = bot.entity.position.offset(1, 0, 0);\n  ..."
          ],
          [
           "// Step 5: Craft a diamond pickaxe using 3 diamonds and 2 sticks\n  await craftItem(bot, \"diamond_pic..."
          ],
          [
           "async function cookPorkchops(bot) {\n  // Check if there is a crafting table in the inventory or near..."
          ],
          [
           "// If not, mine wood, craft a crafting table, and place it\n  if (!craftingTable) {\n    const craftin..."
          ],
          [
           "await craftItem(bot, \"crafting_table\", 1);\n    }\n    const craftingTablePosition = bot.entity.positi..."
          ],
          [
           "// Check if there is a furnace in the inventory or nearby\n  let furnace = bot.findBlock({\n    matchi..."
          ],
          [
           "// If not, mine cobblestone, craft a furnace, and place it\n  if (!furnace) {\n    const furnaceItem =..."
          ],
          [
           "await craftItem(bot, \"furnace\", 1);\n    }\n    const furnacePosition = bot.entity.position.offset(1, ..."
          ],
          [
           "// Check if there are enough raw porkchops in the inventory\n  const rawPorkchops = bot.inventory.fin..."
          ],
          [
           "// Check if there is enough fuel (coal or wood) in the inventory\n  const fuel = bot.inventory.findIn..."
          ],
          [
           "// Smelt the raw porkchops in the furnace using the fuel\n  await smeltItem(bot, \"porkchop\", fuel.nam..."
          ],
          [
           "async function craftStonePickaxe(bot) {\n  // Check if there is a crafting table in the inventory or ..."
          ],
          [
           "// If not, place the crafting table from the inventory\n  if (!craftingTable) {\n    const craftingTab..."
          ],
          [
           "await placeItem(bot, \"crafting_table\", craftingTablePosition);\n    } else {\n      bot.chat(\"No craft..."
          ],
          [
           "// Craft a stone pickaxe using 3 cobblestone and 2 sticks\n  await craftItem(bot, \"stone_pickaxe\", 1)..."
          ],
          [
           "async function craftWoodenPickaxe(bot) {\n  // Check if there is a crafting table in the inventory or..."
          ],
          [
           "// Convert the spruce logs into planks\n  await craftItem(bot, \"spruce_planks\", 3);\n\n  // Craft 4 sti..."
          ],
          [
           "async function mineFiveDeepslateIronOreWithDiamondPickaxe(bot) {\n  // Step 1: Equip the diamond_pick..."
          ],
          [
           "// Step 2: Find a deepslate_iron_ore block nearby or explore the area to find one\n  let deepslateIro..."
          ],
          [
           "deepslateIronOre = await exploreUntil(bot, new Vec3(1, -1, 1), 60, () => {\n      const deepslateIron..."
          ],
          [
           "});\n      return deepslateIronOreBlock;\n    });\n  }..."
          ],
          [
           "// Step 3: Mine 5 deepslate_iron_ore blocks using the diamond_pickaxe\n  if (deepslateIronOre) {\n    ..."
          ],
          [
           "async function killOnePig(bot) {\n  // Equip the iron_pickaxe from the inventory\n  const ironPickaxe ..."
          ],
          [
           "async function smeltTenRawIron(bot) {\n  // Check if there is a furnace in the inventory or nearby\n  ..."
          ],
          [
           "// Smelt 10 raw iron using coal as fuel\n  await smeltItem(bot, \"raw_iron\", \"coal\", 10);\n  bot.chat(\"..."
          ],
          [
           "async function craftIronHelmet(bot) {\n  // Check if there are enough iron ingots in the inventory\n  ..."
          ],
          [
           "// Smelt the iron ores to obtain the required iron ingots\n    await smeltItem(bot, \"raw_iron\", \"coal..."
          ],
          [
           "await placeItem(bot, \"crafting_table\", craftingTablePosition);\n      craftingTable = bot.blockAt(cra..."
          ],
          [
           "// Craft an iron helmet using 5 iron ingots\n  await craftItem(bot, \"iron_helmet\", 1);\n  bot.chat(\"Ir..."
          ],
          [
           "if (block.name === \"air\" || block.name === \"water\") {\n      const belowBlock = bot.blockAt(position...."
          ],
          [
           "}\n  return null;\n}..."
          ],
          [
           "async function craftPaper(bot) {\n  // Check if there are enough sugar canes in the inventory\n  const..."
          ],
          [
           "await exploreUntil(bot, new Vec3(1, 0, 1), 60, () => {\n      const sugarCane = bot.findBlock({\n     ..."
          ],
          [
           "// Mine the sugar canes\n    await mineBlock(bot, \"sugar_cane\", 3 - (sugarCanes ? sugarCanes.count : ..."
          ],
          [
           "// Check if there is a crafting table nearby or in the inventory\n  const craftingTable = bot.findBlo..."
          ],
          [
           "// If not, craft a crafting table using the oak_log in the inventory\n  if (!craftingTable) {\n    awa..."
          ],
          [
           "// Find a suitable position to place the crafting table if it's not already placed\n  const craftingT..."
          ],
          [
           "if (!craftingTableBlock) {\n    craftingTablePosition = await findSuitablePosition(bot);\n    if (!cra..."
          ],
          [
           "// Place the crafting table at the suitable position\n  await placeItem(bot, \"crafting_table\", crafti..."
          ],
          [
           "async function craftIronPickaxe(bot) {\n  // Check if there are enough iron ingots in the inventory\n ..."
          ],
          [
           "// Check if there is a furnace in the inventory or nearby\n    const furnace = bot.findBlock({\n      ..."
          ],
          [
           "// If not, place the furnace from the inventory\n    if (!furnace) {\n      const furnaceItem = bot.in..."
          ],
          [
           "await placeItem(bot, \"furnace\", furnacePosition);\n      } else {\n        bot.chat(\"No furnace found...."
          ],
          [
           "// Smelt the iron ores in the furnace to obtain the required iron ingots\n    await smeltItem(bot, \"r..."
          ],
          [
           "// Craft an iron pickaxe using 3 iron ingots and 2 sticks\n  await craftItem(bot, \"iron_pickaxe\", 1);..."
          ],
          [
           "async function smeltRawIron(bot) {\n  // Check if there is a furnace in the inventory or nearby\n  con..."
          ],
          [
           "// Smelt 2 raw iron using coal as fuel\n  await smeltItem(bot, \"raw_iron\", \"coal\", 2);\n  bot.chat(\"2 ..."
          ],
          [
           "async function killOneSkeleton(bot) {\n  // Equip the iron_pickaxe from the inventory\n  const ironPic..."
          ],
          [
           "async function smeltIronOre(bot) {\n  // Find a suitable location to place the furnace\n  const furnac..."
          ],
          [
           "// Smelt 1 raw_iron into 1 iron_ingot using 1 coal as fuel\n  await smeltItem(bot, \"raw_iron\", \"coal\"..."
          ],
          [
           "// Fix the moveToChest function if needed\nasync function moveToChest(bot, chestPosition) {\n  const c..."
          ],
          [
           "// Call the openChestAtPosition function again\n\n// Call the openChestAtPosition function again\nasync..."
          ],
          [
           "// Fix the moveToChest function if needed\nasync function moveToChest(bot, chestPosition) {\n  const c..."
          ],
          [
           "}\n  const goal = new GoalGetToBlock(chestPosition.x, chestPosition.y, chestPosition.z);\n  await bot...."
          ],
          [
           "// Call the openChestAtPosition function again\n\n// Call the openChestAtPosition function again\nasync..."
          ],
          [
           "async function mineTenCobblestone(bot) {\n  // Find a stone block\n  const stone = await exploreUntil(..."
          ],
          [
           "});\n    return stoneBlock;\n  });\n  if (stone) {\n    // Mine 10 cobblestone\n    await mineBlock(bot, ..."
          ],
          [
           "async function craftIronLeggings(bot) {\n  // Check if there are enough iron ingots in the inventory\n..."
          ],
          [
           "// Smelt the iron ores to obtain the required iron ingots\n    await smeltItem(bot, \"raw_iron\", \"coal..."
          ],
          [
           "// Craft iron leggings using 7 iron ingots\n  await craftItem(bot, \"iron_leggings\", 1);\n  bot.chat(\"I..."
          ],
          [
           "async function mineOneRedstoneOre(bot) {\n  // Step 1: Equip the iron pickaxe\n  const ironPickaxe = b..."
          ],
          [
           "// Step 2: Explore the area below layer 16 to find a redstone ore block\n  let redstoneOre = await ex..."
          ],
          [
           "maxDistance: 32\n    });\n    return redstoneOreBlock;\n  });..."
          ],
          [
           "// Step 3: Mine the redstone ore block using the iron pickaxe\n  if (redstoneOre) {\n    await mineBlo..."
          ],
          [
           "async function eatRottenFlesh(bot) {\n  // Equip the rotten flesh in the bot's hand\n  const rottenFle..."
          ],
          [
           "async function mineFiveCopperOres(bot) {\n  // Check if there are 5 copper ores nearby\n  const copper..."
          ],
          [
           "// If not, explore the area to find copper ores\n  if (copperOres.length < 5) {\n    await exploreUnti..."
          ],
          [
           "maxDistance: 32\n      });\n      return copperOre;\n    });\n  }..."
          ],
          [
           "// Mine 5 copper ores using the iron_pickaxe\n  await mineBlock(bot, \"copper_ore\", 5);\n  bot.chat(\"5 ..."
          ],
          [
           "async function craftIronBoots(bot) {\n  // Check if there are enough iron ingots in the inventory\n  c..."
          ],
          [
           "// Check if there is a furnace nearby or in the inventory\n    let furnace = bot.findBlock({\n      ma..."
          ],
          [
           "await placeItem(bot, \"furnace\", furnacePosition);\n        furnace = bot.blockAt(furnacePosition);\n  ..."
          ],
          [
           "// Smelt the iron ores in the furnace to obtain the required iron ingots\n    await smeltItem(bot, \"r..."
          ],
          [
           "// Craft iron boots using 4 iron ingots\n  await craftItem(bot, \"iron_boots\", 1);\n  bot.chat(\"Iron bo..."
          ],
          [
           "async function craftIronSword(bot) {\n  // Check if there is a crafting table in the inventory or nea..."
          ],
          [
           "// Craft an iron sword using 2 iron ingots and 1 stick\n  await craftItem(bot, \"iron_sword\", 1);\n  bo..."
          ],
          [
           "async function mineTenCoalOres(bot) {\n  // Check if there are 10 coal ores nearby\n  const coalOres =..."
          ],
          [
           "// If not, explore the area to find coal ores\n  if (coalOres.length < 10) {\n    await exploreUntil(b..."
          ],
          [
           "maxDistance: 32\n      });\n      return coalOre;\n    });\n  }..."
          ],
          [
           "// Mine 10 coal ores using the iron_pickaxe\n  await mineBlock(bot, \"coal_ore\", 10);\n  bot.chat(\"10 c..."
          ],
          [
           "async function mineOneLapisOreSafely(bot) {\n  // Check if the bot's hunger is less than the maximum ..."
          ],
          [
           "// If not, find and kill a pig to obtain food\n    if (!food) {\n      await killMob(bot, \"pig\", 300);..."
          ],
          [
           "// Equip the iron_pickaxe\n  const ironPickaxe = bot.inventory.findInventoryItem(mcData.itemsByName.i..."
          ],
          [
           "// Find a lapis_ore block nearby or explore the area to find one\n  let lapisOre = bot.findBlock({\n  ..."
          ],
          [
           "if (!lapisOre) {\n    lapisOre = await exploreUntil(bot, new Vec3(1, -1, 1), 60, () => {\n      const ..."
          ],
          [
           "});\n      return lapisOreBlock;\n    });\n  }..."
          ],
          [
           "// Mine the lapis_ore block using the iron_pickaxe\n  if (lapisOre) {\n    await mineBlock(bot, \"lapis..."
          ],
          [
           "async function craftIronChestplate(bot) {\n  // Check if there are enough iron ingots in the inventor..."
          ],
          [
           "// Smelt the iron ores in the furnace to obtain the required iron ingots\n    await smeltItem(bot, \"r..."
          ],
          [
           "// Craft an iron chestplate using 8 iron ingots\n  await craftItem(bot, \"iron_chestplate\", 1);\n  bot...."
          ],
          [
           "async function mineTenRedstoneOres(bot) {\n  // Step 1: Equip the iron pickaxe\n  const ironPickaxe = ..."
          ],
          [
           "// Step 2: Explore the area below layer 16 to find redstone ore blocks\n  let redstoneOres = await ex..."
          ],
          [
           "maxDistance: 32,\n      count: 10\n    });\n    return redstoneOreBlocks.length >= 10 ? redstoneOreBloc..."
          ],
          [
           "// Step 3: Mine 10 redstone ore blocks using the iron pickaxe\n  if (redstoneOres) {\n    await mineBl..."
          ],
          [
           "async function mineFiveCoalOres(bot) {\n  // Check if there are 5 coal ores nearby\n  const coalOres =..."
          ],
          [
           "// If not, explore the area to find coal ores\n  if (coalOres.length < 5) {\n    await exploreUntil(bo..."
          ],
          [
           "// Mine 5 coal ores using the stone_pickaxe\n  await mineBlock(bot, \"coal_ore\", 5);\n  bot.chat(\"5 coa..."
          ],
          [
           "async function mineDeepslateGoldOre(bot) {\n  // Step 1: Equip the iron_pickaxe\n  const ironPickaxe =..."
          ],
          [
           "// Step 2: Find a deepslate_gold_ore block nearby or explore the area to find one\n  let deepslateGol..."
          ],
          [
           "deepslateGoldOre = await exploreUntil(bot, new Vec3(1, -1, 1), 60, () => {\n      const deepslateGold..."
          ],
          [
           "});\n      return deepslateGoldOreBlock;\n    });\n  }..."
          ],
          [
           "// Step 3: Mine the deepslate_gold_ore block using the iron_pickaxe\n  if (deepslateGoldOre) {\n    aw..."
          ],
          [
           "});\n      return foundLog;\n    });\n  }\n  await mineBlock(bot, logBlock.name, 1);\n  bot.chat(\"Wood lo..."
          ],
          [
           "async function mineEmeraldOre(bot) {\n  // Equip the iron pickaxe\n  const ironPickaxe = bot.inventory..."
          ],
          [
           "// Explore until an emerald ore is found\n  const emeraldOre = await exploreUntil(bot, new Vec3(1, 0,..."
          ],
          [
           "});\n    return foundEmeraldOre;\n  });\n  if (emeraldOre) {\n    // Mine the emerald ore\n    await mine..."
          ],
          [
           "async function craftFurnace(bot) {\n  // Check if the bot has enough cobblestone to craft a furnace\n ..."
          ],
          [
           "// Place the crafting table if it's not already placed\n  const craftingTablePosition = bot.entity.po..."
          ],
          [
           "// Craft a furnace using the cobblestones\n  await craftItem(bot, \"furnace\", 1);\n  bot.chat(\"Furnace ..."
          ],
          [
           "async function craftShieldWithIron(bot) {\n  // Check if we have enough spruce planks\n  const spruceP..."
          ],
          [
           "// Craft spruce planks from spruce logs\n    await craftItem(bot, \"spruce_planks\", 3);\n    bot.chat(\"..."
          ],
          [
           "// Check if we have enough iron ingots\n  const ironIngotCount = bot.inventory.count(mcData.itemsByNa..."
          ],
          [
           "// Place a furnace if it's not already placed\n    const furnacePosition = bot.entity.position.offset..."
          ],
          [
           "// Smelt iron ore into iron ingot using a furnace\n    await smeltItem(bot, \"raw_iron\", \"coal\", 1);\n ..."
          ],
          [
           "// Craft the shield using the 6 spruce planks and 1 iron ingot\n  await craftItem(bot, \"shield\", 1);\n..."
          ],
          [
           "async function craftStoneAxeWithCraftingTable(bot) {\n  const cobblestoneCount = bot.inventory.count(..."
          ],
          [
           "const craftingTablePosition = bot.entity.position.offset(1, -1, 0);\n    const craftingTableBlock = b..."
          ],
          [
           "// Craft the stone axe using the cobblestones and sticks on the crafting table\n    await craftItem(b..."
          ],
          [
           "await craftItem(bot, \"stick\", 1);\n      bot.chat(\"Sticks crafted.\");\n    }\n    bot.chat(\"Not enough ..."
          ],
          [
           "// If the iron chestplate is found, equip it in the \"torso\" slot\n  if (ironChestplate) {\n    await b..."
          ],
          [
           "async function craftCraftingTable(bot) {\n  const spruceLogCount = bot.inventory.count(mcData.itemsBy..."
          ],
          [
           "// Craft a crafting table using the 4 spruce planks\n    await craftItem(bot, \"crafting_table\", 1);\n ..."
          ],
          [
           "async function mineFiveIronOres(bot) {\n  // Check if the bot has a stone pickaxe or better in its in..."
          ],
          [
           "// If not, craft a stone pickaxe using the cobblestone and sticks in the inventory\n  if (!stonePicka..."
          ],
          [
           "// Find 5 iron ore blocks nearby\n  const ironOres = bot.findBlocks({\n    matching: mcData.blocksByNa..."
          ],
          [
           "// If not enough iron ore blocks are found nearby, explore until 5 iron ore blocks are found\n  if (i..."
          ],
          [
           "matching: mcData.blocksByName.iron_ore.id,\n        maxDistance: 32,\n        count: 5\n      });\n     ..."
          ],
          [
           "// Mine the 5 iron ore blocks using the stone pickaxe or better\n  await mineBlock(bot, \"iron_ore\", 5..."
          ],
          [
           "async function mineFiveCoalOres(bot) {\n  // Check if there are 5 coal ores nearby\n  const coalOres =..."
          ],
          [
           "// If not, explore until 5 coal ores are found\n  if (coalOres.length < 5) {\n    bot.chat(\"Not enough..."
          ],
          [
           "matching: mcData.blocksByName.coal_ore.id,\n        maxDistance: 32,\n        count: 5\n      });\n     ..."
          ],
          [
           "// Mine the 5 coal ores using the iron_pickaxe\n  await mineBlock(bot, \"coal_ore\", 5);\n  bot.chat(\"5 ..."
          ],
          [
           "async function craftStonePickaxe(bot) {\n  const cobblestoneCount = bot.inventory.count(mcData.itemsB..."
          ],
          [
           "// Find the stone pickaxe recipe\n    const stonePickaxeRecipe = bot.recipesFor(mcData.itemsByName.st..."
          ],
          [
           "// Craft the stone pickaxe using the found recipe and the crafting table\n    await bot.craft(stonePi..."
          ],
          [
           "async function craftWoodenPickaxe(bot) {\n  const spruceLogCount = bot.inventory.count(mcData.itemsBy..."
          ],
          [
           "// Craft 4 sticks from 2 wooden planks\n    await craftItem(bot, \"stick\", 1);\n    bot.chat(\"Sticks cr..."
          ],
          [
           "// Check if there is a crafting table in the inventory\n    const craftingTableCount = bot.inventory...."
          ],
          [
           "// Find a suitable position to place the crafting table\n    const craftingTablePosition = bot.entity..."
          ],
          [
           "// Craft a wooden pickaxe using 3 wooden planks and 2 sticks\n    await craftItem(bot, \"wooden_pickax..."
          ],
          [
           "async function killTropicalFish(bot) {\n  // Equip the iron sword\n  const ironSword = bot.inventory.f..."
          ],
          [
           "// Find the nearest tropical fish\n  const tropicalFish = bot.nearestEntity(entity => {\n    return en..."
          ],
          [
           "// Kill the tropical fish using the iron sword\n  if (tropicalFish) {\n    await killMob(bot, \"tropica..."
          ],
          [
           "async function mineThreeCopperOres(bot) {\n  // Check if there are 3 copper ores nearby\n  const coppe..."
          ],
          [
           "// If not, explore until 3 copper ores are found\n  if (copperOres.length < 3) {\n    bot.chat(\"Not en..."
          ],
          [
           "matching: mcData.blocksByName.copper_ore.id,\n        maxDistance: 32,\n        count: 3\n      });\n   ..."
          ],
          [
           "// Mine the 3 copper ores using the stone_pickaxe or iron_pickaxe\n  await mineBlock(bot, \"copper_ore..."
          ],
          [
           "async function placeFurnace(bot) {\n  // Check if the bot has a furnace in its inventory\n  const furn..."
          ],
          [
           "// Place the furnace at the found position\n    await placeItem(bot, \"furnace\", furnacePosition);\n   ..."
          ],
          [
           "async function craftStoneShovel(bot) {\n  const cobblestoneCount = bot.inventory.count(mcData.itemsBy..."
          ],
          [
           "// Craft the stone shovel using the cobblestone and sticks on the crafting table\n    await craftItem..."
          ],
          [
           "async function craftStoneHoe(bot) {\n  const cobblestoneCount = bot.inventory.count(mcData.itemsByNam..."
          ],
          [
           "// Craft the stone hoe using the cobblestone and sticks on the crafting table\n    await craftItem(bo..."
          ],
          [
           "await craftItem(bot, \"stick\", 1);\n      bot.chat(\"Sticks crafted.\");\n    }\n    if (cobblestoneCount ..."
          ],
          [
           "}\n    // Retry crafting the stone hoe\n    await craftStoneHoe(bot);\n  }\n}..."
          ],
          [
           "async function mineIronOre(bot) {\n  // Check if the bot has enough cobblestone to craft a stone pick..."
          ],
          [
           "// Place the crafting table\n  const craftingTablePosition = bot.entity.position.offset(1, -1, 0);\n  ..."
          ],
          [
           "// Find and mine 1 iron ore using the stone pickaxe\n  const ironOreBlock = bot.findBlock({\n    match..."
          ],
          [
           "await exploreUntil(bot, new Vec3(1, 0, 1), 60, () => {\n      const foundIronOre = bot.findBlock({\n  ..."
          ],
          [
           "});\n  }\n  await mineBlock(bot, \"iron_ore\", 1);\n  bot.chat(\"Iron ore mined.\");\n}..."
          ],
          [
           "async function mineSpruceLogs(bot) {\n  const spruceLogName = \"spruce_log\";\n  const spruceLogCount = ..."
          ],
          [
           "if (!spruceLogBlock) {\n    bot.chat(\"No spruce log found nearby. Exploring...\");\n    await exploreUn..."
          ],
          [
           "});\n      return foundLog;\n    });\n  }\n  await mineBlock(bot, spruceLogName, spruceLogCount);\n  bot...."
          ],
          [
           "async function smeltTwelveRawCopper(bot) {\n  // Check if the bot has a furnace in its inventory\n  co..."
          ],
          [
           "// Find a suitable position to place the furnace\n  const furnacePosition = bot.entity.position.offse..."
          ],
          [
           "// Check if the bot has enough coal in its inventory to smelt 12 raw copper\n  const coalCount = bot...."
          ],
          [
           "// Smelt the 12 raw copper using the furnace and the available coal as fuel\n  await smeltItem(bot, \"..."
          ],
          [
           "async function equipShield(bot) {\n  // Check if the bot has a shield in its inventory\n  const shield..."
          ],
          [
           "// If the shield is found, equip it in the \"off-hand\" slot\n  if (shield) {\n    await bot.equip(shiel..."
          ],
          [
           "async function mineThreeCoalOres(bot) {\n  // Check if there are 3 coal ores nearby\n  const coalOres ..."
          ],
          [
           "// If not, explore until 3 coal ores are found\n  if (coalOres.length < 3) {\n    bot.chat(\"Not enough..."
          ],
          [
           "matching: mcData.blocksByName.coal_ore.id,\n        maxDistance: 32,\n        count: 3\n      });\n     ..."
          ],
          [
           "// Mine the 3 coal ores using the stone pickaxe\n  await mineBlock(bot, \"coal_ore\", 3);\n  bot.chat(\"3..."
          ],
          [
           "async function craftIronPickaxe(bot) {\n  const ironIngotCount = bot.inventory.count(mcData.itemsByNa..."
          ],
          [
           "if (stickCount < 2) {\n      if (sprucePlankCount < 2) {\n        // Craft spruce planks from spruce l..."
          ],
          [
           "// Craft sticks using spruce planks\n      await craftItem(bot, \"stick\", 1);\n      bot.chat(\"Sticks c..."
          ],
          [
           "// Place the crafting table if it's not already placed\n    const craftingTablePosition = bot.entity...."
          ],
          [
           "bot.chat(\"Crafting table placed.\");\n    }..."
          ],
          [
           "// Craft the iron pickaxe using the iron ingots and sticks\n    await craftItem(bot, \"iron_pickaxe\", ..."
          ],
          [
           "async function smeltRawIron(bot) {\n  // Find a suitable position to place the furnace\n  const furnac..."
          ],
          [
           "// Smelt the raw iron using the furnace and the mined coal as fuel\n  await smeltItem(bot, \"raw_iron\"..."
          ],
          [
           "async function craftStoneSword(bot) {\n  const cobblestoneCount = bot.inventory.count(mcData.itemsByN..."
          ],
          [
           "// Craft the stone sword using the cobblestone and stick\n    await craftItem(bot, \"stone_sword\", 1);..."
          ],
          [
           "bot.chat(\"Sticks crafted.\");\n    }\n    bot.chat(\"Not enough materials to craft a stone sword.\");\n  }..."
          ],
          [
           "async function smeltFiveIronOres(bot) {\n  // Check if the bot has a furnace in its inventory\n  const..."
          ],
          [
           "// Check if the bot has coal in its inventory\n  const coalCount = bot.inventory.count(mcData.itemsBy..."
          ],
          [
           "// Smelt the 5 raw iron ores into iron ingots using the furnace and coal as fuel\n  await smeltItem(b..."
          ],
          [
           "async function mineThreeEmeraldOres(bot) {\n  // Equip the iron pickaxe\n  const ironPickaxe = bot.inv..."
          ],
          [
           "// Explore and mine emerald ores until 3 are mined\n  while (emeraldOresMined < 3) {\n    const emeral..."
          ],
          [
           "maxDistance: 32\n      });\n      return foundEmeraldOre;\n    });\n    if (emeraldOre) {\n      // Mine ..."
          ],
          [
           "bot.chat(`Emerald ore mined. Total: ${emeraldOresMined}/3`);\n    } else {\n      bot.chat(\"Emerald or..."
          ],
          [
           "async function smeltFiveRawIron(bot) {\n  // Check if the bot has a furnace in its inventory\n  const ..."
          ],
          [
           "// Place the furnace at the found position\n  await placeItem(bot, \"furnace\", furnacePosition);\n  bot..."
          ],
          [
           "// Smelt the 5 raw iron using the furnace and the available coal as fuel\n  await smeltItem(bot, \"raw..."
          ],
          [
           "async function craftIronSword(bot) {\n  const ironIngotCount = bot.inventory.count(mcData.itemsByName..."
          ],
          [
           "// Craft the iron sword using the iron ingots and stick\n    await craftItem(bot, \"iron_sword\", 1);\n ..."
          ],
          [
           "async function craftIronChestplate(bot) {\n  const ironIngotCount = bot.inventory.count(mcData.itemsB..."
          ],
          [
           "const craftingTableBlock = bot.blockAt(craftingTablePosition);\n    if (!craftingTableBlock || crafti..."
          ],
          [
           "// Craft the iron chestplate using the iron ingots\n    await craftItem(bot, \"iron_chestplate\", 1);\n ..."
          ],
          [
           "async function mineGoldOreAndSmelt(bot) {\n  // Check if the bot has an iron pickaxe or better in its..."
          ],
          [
           "// If not, craft an iron pickaxe\n  if (!ironPickaxe && !diamondPickaxe) {\n    await craftItem(bot, \"..."
          ],
          [
           "// Explore in a random direction until a gold ore is found\n  const randomDirection = new Vec3(Math.r..."
          ],
          [
           "matching: mcData.blocksByName.gold_ore.id,\n      maxDistance: 32\n    });\n    return foundGoldOre;\n  ..."
          ],
          [
           "bot.chat(\"Gold ore mined.\");..."
          ],
          [
           "// Place the furnace if not already placed\n    const furnaceBlock = bot.findBlock({\n      matching: ..."
          ],
          [
           "const furnacePosition = bot.entity.position.offset(1, -1, 1);\n      await placeItem(bot, \"furnace\", ..."
          ],
          [
           "// Smelt the gold ore in the furnace to obtain a gold ingot\n    await smeltItem(bot, \"gold_ore\", \"co..."
          ],
          [
           "// Mine the 5 coal ores using the stone_pickaxe or iron_pickaxe\n  await mineBlock(bot, \"coal_ore\", 5..."
          ],
          [
           "async function craftWoodenSword(bot) {\n  // Check if there are enough oak planks in the inventory\n  ..."
          ],
          [
           "// Check if there are enough sticks in the inventory\n  const sticks = bot.inventory.count(mcData.ite..."
          ],
          [
           "// Place the crafting table near the player\n  const craftingTablePosition = bot.entity.position.offs..."
          ],
          [
           "async function craftClock(bot) {\n  // Check if there is a crafting table in the inventory\n  const cr..."
          ],
          [
           "// Place the crafting table near the player\n  const craftingTablePosition = bot.entity.position.offs..."
          ],
          [
           "async function mineWoodLog(bot) {\n  const logNames = [\"oak_log\", \"birch_log\", \"spruce_log\", \"jungle_..."
          ],
          [
           "// Find a wood log block\n  const logBlock = await exploreUntil(bot, new Vec3(1, 0, 1), 60, () => {\n ..."
          ],
          [
           "});\n      if (log) return log;\n    }\n    return null;\n  });\n  if (!logBlock) {\n    bot.chat(\"Could n..."
          ],
          [
           "// Mine the wood log block\n  await mineBlock(bot, logBlock.name, 1);\n  bot.chat(\"Wood log mined.\");\n..."
          ],
          [
           "async function plantOakSapling(bot) {\n  // Find a suitable location to plant the oak sapling\n  const..."
          ],
          [
           "// Go to the location\n  await bot.pathfinder.goto(new GoalBlock(targetBlock.position.x, targetBlock...."
          ],
          [
           "// Right-click on the ground to plant the oak sapling\n  await bot.activateBlock(targetBlock);\n\n  // ..."
          ],
          [
           "async function killThreeChickens(bot) {\n  // Equip a weapon (preferably a sword) to kill the chicken..."
          ],
          [
           "} else {\n    bot.chat(\"No sword found, using bare hands.\");\n  }..."
          ],
          [
           "// Explore the area to find 3 chickens\n  let chickens = [];\n  while (chickens.length < 3) {\n    awai..."
          ],
          [
           "return entity.name === \"chicken\" && entity.position.distanceTo(bot.entity.position) < 32;\n      });\n..."
          ],
          [
           "}\n      return null;\n    });\n  }..."
          ],
          [
           "// Kill each chicken one by one\n  for (const chicken of chickens) {\n    await killMob(bot, chicken.n..."
          ],
          [
           "async function craftFurnace(bot) {\n  // Check if there are enough cobblestones in the inventory\n  co..."
          ],
          [
           "// Place the crafting table near the player\n  const craftingTablePosition = bot.entity.position.offs..."
          ],
          [
           "async function openChestAndCheckContents(bot) {\n  const targetChestPosition = new Vec3(5, 61, 134);..."
          ],
          [
           "// Find the chest at the specified position\n  const chestPosition = await exploreUntil(bot, new Vec3..."
          ],
          [
           "// Check the contents of the chest\n  await checkItemInsideChest(bot, chestPosition);\n  bot.chat(\"Che..."
          ],
          [
           "async function killThreeCows(bot) {\n  // Explore the area to find 3 cows\n  let cows = [];\n  while (c..."
          ],
          [
           "return entity.name === \"cow\" && entity.position.distanceTo(bot.entity.position) < 32;\n      });\n    ..."
          ],
          [
           "// Equip a weapon (preferably a sword) to kill the cows\n  const sword = bot.inventory.findInventoryI..."
          ],
          [
           "// Kill each cow one by one\n  for (const cow of cows) {\n    await killMob(bot, cow.name, 300);\n  }\n\n..."
          ],
          [
           "async function craftCopperBlock(bot) {\n  // Check if there are enough copper ingots in the inventory..."
          ],
          [
           "// Place the crafting table near the player\n  const craftingTablePosition = bot.entity.position.offs..."
          ],
          [
           "async function cookRawMutton(bot) {\n  // Check if there is a furnace in the inventory\n  const furnac..."
          ],
          [
           "// Place the furnace near the player\n  const furnacePosition = bot.entity.position.offset(1, 0, 0);\n..."
          ],
          [
           "async function equipIronChestplate(bot) {\n  // Find the iron chestplate in the bot's inventory\n  con..."
          ],
          [
           "async function craftStoneHoe(bot) {\n  // Check if there are enough cobblestones in the inventory\n  c..."
          ],
          [
           "// Check if there are enough sticks in the inventory\n  const sticks = bot.inventory.count(mcData.ite..."
          ],
          [
           "// Place the crafting table near the player\n  const craftingTablePosition = bot.entity.position.offs..."
          ],
          [
           "async function equipIronLeggingsAndBoots(bot) {\n  // Find the iron leggings and iron boots in the bo..."
          ],
          [
           "// Check if the bot has iron leggings and iron boots\n  if (ironLeggings && ironBoots) {\n    // Equip..."
          ],
          [
           "// Send a chat message to indicate that the iron leggings and iron boots have been equipped\n    bot...."
          ],
          [
           "async function killThreeSheep(bot) {\n  // Equip a weapon (preferably a sword) to kill the sheep\n  co..."
          ],
          [
           "// Explore the area to find 3 sheep\n  let sheep = [];\n  while (sheep.length < 3) {\n    await explore..."
          ],
          [
           "return entity.name === \"sheep\" && entity.position.distanceTo(bot.entity.position) < 32;\n      });\n  ..."
          ],
          [
           "// Kill each sheep one by one\n  for (const singleSheep of sheep) {\n    await killMob(bot, singleShee..."
          ],
          [
           "async function cookThreeRawChicken(bot) {\n  // Find a suitable location to place the furnace\n  const..."
          ],
          [
           "async function eatCookedBeef(bot) {\n  // Equip a cooked beef in the bot's hand\n  const cookedBeef = ..."
          ],
          [
           "async function mineEightCobblestone(bot) {\n  // Equip the wooden pickaxe\n  const woodenPickaxe = bot..."
          ],
          [
           "// Find stone blocks\n  const stoneBlocks = await exploreUntil(bot, new Vec3(1, 0, 1), 60, () => {\n  ..."
          ],
          [
           "// Mine 8 cobblestone\n  await mineBlock(bot, \"stone\", 8);\n  bot.chat(\"8 cobblestone mined.\");\n}..."
          ],
          [
           "async function smeltFiveRawCopper(bot) {\n  // Find a suitable location to place the furnace\n  const ..."
          ],
          [
           "async function obtainBirchLogs(bot) {\n  // Check if there are enough birch logs in the inventory\n  c..."
          ],
          [
           "await mineBlock(bot, \"birch_log\", logsNeeded);\n    bot.chat(\"5 birch logs obtained.\");\n  } else {\n  ..."
          ],
          [
           "async function waitAndEatCookedMutton(bot) {\n  // Wait until the bot's hunger is less than 20\n  whil..."
          ],
          [
           "// Consume the cooked mutton\n  await bot.consume();\n  bot.chat(\"1 cooked mutton eaten.\");\n}..."
          ],
          [
           "async function craftStonePickaxe(bot) {\n  // Check if there are enough cobblestones in the inventory..."
          ],
          [
           "// Place the crafting table near the player\n  const craftingTablePosition = bot.entity.position.offs..."
          ],
          [
           "async function craftWoodenPickaxe(bot) {\n  // Check if there are enough oak logs in the inventory\n  ..."
          ],
          [
           "// Place the crafting table near the player\n  const craftingTablePosition = bot.entity.position.offs..."
          ],
          [
           "// Check if there are enough sticks in the inventory\n  const sticks = bot.inventory.count(mcData.ite..."
          ],
          [
           "// Craft a wooden pickaxe using oak planks and sticks with the crafting table\n  await craftItem(bot,..."
          ],
          [
           "async function mineFiveCopperOre(bot) {\n  // Equip the iron pickaxe\n  const ironPickaxe = bot.invent..."
          ],
          [
           "// Find 5 copper ore blocks\n  const copperOres = await exploreUntil(bot, new Vec3(1, 0, 1), 60, () =..."
          ],
          [
           "// Mine the 5 copper ore blocks\n  await mineBlock(bot, \"copper_ore\", 5);\n  bot.chat(\"5 copper ore mi..."
          ],
          [
           "async function craftStoneShovel(bot) {\n  // Check if there are enough cobblestones in the inventory\n..."
          ],
          [
           "// Place the crafting table near the player\n  const craftingTablePosition = bot.entity.position.offs..."
          ],
          [
           "async function findSuitablePosition(bot) {\n  const offsets = [new Vec3(1, 0, 0), new Vec3(-1, 0, 0),..."
          ],
          [
           "const blockBelow = bot.blockAt(position.offset(0, -1, 0));\n    if (blockBelow && blockBelow.name !==..."
          ],
          [
           "async function craftBirchBoat(bot) {\n  // Check if there are enough birch logs in the inventory\n  co..."
          ],
          [
           "// Craft birch planks using birch logs\n  await craftItem(bot, \"birch_planks\", 5);\n\n  // Check if the..."
          ],
          [
           "// Find a suitable position to place the crafting table\n  const craftingTablePosition = await findSu..."
          ],
          [
           "// Craft a birch boat using birch planks and the crafting table\n  await craftItem(bot, \"birch_boat\",..."
          ],
          [
           "async function craftChest(bot) {\n  // Check if there are enough oak planks in the inventory\n  const ..."
          ],
          [
           "// Craft oak planks using oak logs\n    await craftItem(bot, \"oak_planks\", 8 - oakPlanks);\n  }..."
          ],
          [
           "// Place the crafting table near the player\n  const craftingTablePosition = bot.entity.position.offs..."
          ],
          [
           "async function craftDiamondSword(bot) {\n  // Check if there are enough diamonds in the inventory\n  c..."
          ],
          [
           "// Place the crafting table near the player\n  const craftingTablePosition = bot.entity.position.offs..."
          ],
          [
           "async function craftStoneAxe(bot) {\n  // Check if there are enough cobblestones in the inventory\n  c..."
          ],
          [
           "// Place the crafting table near the player\n  const craftingTablePosition = bot.entity.position.offs..."
          ],
          [
           "async function equipShield(bot) {\n  // Find the shield in the bot's inventory\n  const shield = bot.i..."
          ],
          [
           "async function eatCookedMuttonIfHungry(bot) {\n  // Check if the bot's hunger is less than 20\n  if (b..."
          ],
          [
           "// Consume the cooked mutton\n    await bot.consume();\n    bot.chat(\"1 cooked mutton eaten.\");\n  } el..."
          ],
          [
           "async function mineFiveCoalOre(bot) {\n  // Equip the iron pickaxe\n  const ironPickaxe = bot.inventor..."
          ],
          [
           "// Find 5 coal ore blocks\n  const coalOres = await exploreUntil(bot, new Vec3(1, 0, 1), 60, () => {\n..."
          ],
          [
           "// Mine the 5 coal ore blocks\n  await mineBlock(bot, \"coal_ore\", 5);\n  bot.chat(\"5 coal ore mined.\")..."
          ],
          [
           "async function killChickenWithIncreasedTime(bot) {\n  // Explore the area to find a chicken with an i..."
          ],
          [
           "});\n    return chicken;\n  });\n  if (!chicken) {\n    bot.chat(\"No chicken found.\");\n    return;\n  }..."
          ],
          [
           "// Equip a weapon (preferably a sword) to kill the chicken\n  const sword = bot.inventory.findInvento..."
          ],
          [
           "// Kill the chicken\n  await killMob(bot, \"chicken\", 300);\n\n  // Report the completion of the task\n  ..."
          ],
          [
           "async function mineDeepslateOres(bot) {\n  // Equip the iron pickaxe\n  const ironPickaxe = bot.invent..."
          ],
          [
           "// Find and mine 1 deepslate_gold_ore\n  await mineBlock(bot, \"deepslate_gold_ore\", 1);\n  bot.chat(\"1..."
          ],
          [
           "async function smeltFiveRawGold(bot) {\n  // Check if there is a furnace in the inventory\n  const fur..."
          ],
          [
           "// Place the furnace near the player\n  const furnacePosition = bot.entity.position.offset(1, 0, 0);\n..."
          ],
          [
           "async function craftIronHelmet(bot) {\n  // Check if there are enough iron ingots in the inventory\n  ..."
          ],
          [
           "// Place a furnace near the player\n    const furnacePosition = bot.entity.position.offset(1, 0, 0);\n..."
          ],
          [
           "// Place the crafting table near the player\n  const craftingTablePosition = bot.entity.position.offs..."
          ],
          [
           "async function mineTenCobbledDeepslateBelowY0(bot) {\n  // Equip the iron pickaxe\n  const ironPickaxe..."
          ],
          [
           "// Find cobbled_deepslate blocks below Y=0\n  const cobbledDeepslateBlocks = await exploreUntil(bot, ..."
          ],
          [
           "position: pos => pos.y < 0\n    });\n    return cobbledDeepslate;\n  });..."
          ],
          [
           "// Mine 10 cobbled_deepslate blocks\n  await mineBlock(bot, \"cobbled_deepslate\", 10);\n  bot.chat(\"10 ..."
          ],
          [
           "async function craftIronPickaxe(bot) {\n  // Check if there are enough iron ingots in the inventory\n ..."
          ],
          [
           "// Place the crafting table near the player\n  const craftingTablePosition = bot.entity.position.offs..."
          ],
          [
           "async function smeltRawIron(bot) {\n  // Find a suitable location to place the furnace\n  const furnac..."
          ],
          [
           "async function craftTenCobblestoneWalls(bot) {\n  // Check if there are enough cobblestones in the in..."
          ],
          [
           "// Place the crafting table near the player\n  const craftingTablePosition = bot.entity.position.offs..."
          ],
          [
           "// Craft 6 more cobblestone walls using the crafting table\n  await craftItem(bot, \"cobblestone_wall\"..."
          ],
          [
           "async function cookRawBeef(bot) {\n  // Check if there is a furnace in the inventory\n  const furnace ..."
          ],
          [
           "// Place the furnace near the player\n  const furnacePosition = bot.entity.position.offset(1, 0, 0);\n..."
          ],
          [
           "async function craftStoneSword(bot) {\n  // Check if there are enough cobblestones in the inventory\n ..."
          ],
          [
           "// Place the crafting table near the player\n  const craftingTablePosition = bot.entity.position.offs..."
          ],
          [
           "async function mineFourCoalOre(bot) {\n  // Equip the stone pickaxe\n  const stonePickaxe = bot.invent..."
          ],
          [
           "async function craftShield(bot) {\n  // Check if there are enough oak planks in the inventory\n  const..."
          ],
          [
           "// Check if there are enough iron ingots in the inventory\n  const ironIngots = bot.inventory.count(m..."
          ],
          [
           "// Place the crafting table near the player\n  const craftingTablePosition = bot.entity.position.offs..."
          ],
          [
           "async function craftBoneMeal(bot) {\n  // Check if there are enough bones in the inventory\n  const bo..."
          ],
          [
           "// Place the crafting table near the player\n  const craftingTablePosition = bot.entity.position.offs..."
          ],
          [
           "async function eatCookedMutton(bot) {\n  // Equip a cooked mutton in the bot's hand\n  const cookedMut..."
          ],
          [
           "async function craftIronLeggingsAndBoots(bot) {\n  // Check if there are enough iron ingots in the in..."
          ],
          [
           "// Check if there are enough coal in the inventory\n    const coalCount = bot.inventory.count(mcData...."
          ],
          [
           "// Place a furnace near the player\n    const furnacePosition = bot.entity.position.offset(1, 0, 0);\n..."
          ],
          [
           "// Check if there is a crafting table in the inventory\n  const craftingTable = bot.inventory.findInv..."
          ],
          [
           "// Place the crafting table near the player\n  const craftingTablePosition = bot.entity.position.offs..."
          ],
          [
           "// Craft iron boots using the crafting table\n  await craftItem(bot, \"iron_boots\", 1);\n  bot.chat(\"Ir..."
          ],
          [
           "async function mineThreeMoreOakLogs(bot) {\n  for (let i = 0; i < 3; i++) {\n    const oakLogBlock = a..."
          ],
          [
           "maxDistance: 32\n      });\n      return oakLog;\n    });\n    if (!oakLogBlock) {\n      bot.chat(\"Could..."
          ],
          [
           "}\n  bot.chat(\"3 more oak logs mined.\");\n}..."
          ],
          [
           "async function cookChicken(bot) {\n  // Check if there is a furnace in the inventory\n  const furnace ..."
          ],
          [
           "// Place the furnace near the player\n  const furnacePosition = bot.entity.position.offset(1, 0, 0);\n..."
          ],
          [
           "async function equipIronHelmet(bot) {\n  // Find the iron helmet in the bot's inventory\n  const ironH..."
          ],
          [
           "async function craftIronSword(bot) {\n  // Check if there are enough iron ingots in the inventory\n  c..."
          ],
          [
           "// Place the crafting table near the player\n  const craftingTablePosition = bot.entity.position.offs..."
          ],
          [
           "async function craftIronChestplate(bot) {\n  // Check if there are enough iron ingots in the inventor..."
          ],
          [
           "// Place a furnace near the player\n    const furnacePosition = bot.entity.position.offset(1, 0, 0);\n..."
          ],
          [
           "// Try to place the crafting table near the player at different positions until it is successfully p..."
          ],
          [
           "try {\n      craftingTablePosition = bot.entity.position.offset(offset.x, offset.y, offset.z);\n      ..."
          ],
          [
           "}\n  }\n  if (!craftingTablePosition) {\n    bot.chat(\"Failed to place crafting table. Please try again..."
          ],
          [
           "// Craft an iron chestplate using iron ingots and the crafting table\n  await craftItem(bot, \"iron_ch..."
          ],
          [
           "async function smeltThreeRawCopper(bot) {\n  // Find a suitable location to place the furnace\n  const..."
          ],
          [
           "async function smeltCopperOre(bot) {\n  // Check if there is a furnace in the inventory\n  const furna..."
          ],
          [
           "// Place the furnace near the player\n  const furnacePosition = bot.entity.position.offset(1, 0, 0);\n..."
          ],
          [
           "// Find a copper ore block\n  const copperOre = await exploreUntil(bot, new Vec3(1, 0, 1), 60, () => ..."
          ],
          [
           "// Smelt the raw copper using coal as fuel in the furnace\n  await smeltItem(bot, \"raw_copper\", \"coal..."
          ],
          [
           "async function craftStoneTools(bot) {\n  // Check if there are enough cobblestones in the inventory\n ..."
          ],
          [
           "// Check if there are enough sticks in the inventory\n  const sticks = bot.inventory.count(mcData.ite..."
          ],
          [
           "// Place the crafting table near the player\n  const craftingTablePosition = bot.entity.position.offs..."
          ],
          [
           "// Craft a stone sword, a stone axe, and a stone shovel using the crafting table\n  await craftItem(b..."
          ],
          [
           "async function mineThreeIronOre(bot) {\n  // Equip the stone pickaxe\n  const stonePickaxe = bot.inven..."
          ],
          [
           "async function equipIronArmor(bot) {\n  const ironHelmet = bot.inventory.findInventoryItem(mcData.ite..."
          ],
          [
           "const ironBoots = bot.inventory.findInventoryItem(mcData.itemsByName.iron_boots.id);\n  if (ironHelme..."
          ],
          [
           "}\n  if (ironChestplate) {\n    await bot.equip(ironChestplate, \"torso\");\n    bot.chat(\"Iron chestplat..."
          ],
          [
           "if (ironLeggings) {\n    await bot.equip(ironLeggings, \"legs\");\n    bot.chat(\"Iron leggings equipped...."
          ],
          [
           "bot.chat(\"Iron boots equipped.\");\n  } else {\n    bot.chat(\"Iron boots not found in inventory.\");\n  }..."
          ],
          [
           "async function craftFurnace(bot) {\n  const requiredCobblestones = 8;\n  const cobblestoneCount = bot...."
          ],
          [
           "}\n  const craftingTable = bot.findBlock({\n    matching: mcData.blocksByName.crafting_table.id,\n    m..."
          ],
          [
           "bot.chat(\"Crafting_table placed.\");\n  }\n  await craftItem(bot, \"furnace\", 1);\n  bot.chat(\"Furnace cr..."
          ],
          [
           "async function craftBucket(bot) {\n  const requiredIronIngots = 3;\n  const ironIngotsCount = bot.inve..."
          ],
          [
           "bot.chat(\"Crafting_table placed.\");\n  }\n  await craftItem(bot, \"bucket\", 1);\n  bot.chat(\"Bucket craf..."
          ],
          [
           "async function smeltRawCopper(bot) {\n  const furnaceInInventory = bot.inventory.findInventoryItem(mc..."
          ],
          [
           "}\n  let furnacePosition = bot.entity.position.offset(1, 0, 0);\n  const blockAtFurnacePosition = bot...."
          ],
          [
           "bot.chat(\"Furnace placed.\");\n  const requiredCoal = 7;\n  const coalCount = bot.inventory.count(mcDat..."
          ],
          [
           "}\n  await smeltItem(bot, \"raw_copper\", \"coal\", 7);\n  bot.chat(\"7 raw copper smelted.\");\n}..."
          ],
          [
           "async function smeltSixRawIron(bot) {\n  const furnaceInInventory = bot.inventory.findInventoryItem(m..."
          ],
          [
           "bot.chat(\"Furnace placed.\");\n  const requiredCoal = 6;\n  const coalCount = bot.inventory.count(mcDat..."
          ],
          [
           "}\n  await smeltItem(bot, \"raw_iron\", \"coal\", 6);\n  bot.chat(\"6 raw iron smelted.\");\n}..."
          ],
          [
           "async function craftWoodenPlanks(bot) {\n  const logNames = [\"oak_log\", \"birch_log\", \"spruce_log\", \"j..."
          ],
          [
           "const plankNames = [\"oak_planks\", \"birch_planks\", \"spruce_planks\", \"jungle_planks\", \"acacia_planks\",..."
          ],
          [
           "if (!logInInventory) {\n    bot.chat(\"No wooden log in inventory. Mining a wooden log...\");\n    await..."
          ],
          [
           "await craftItem(bot, plankName, 1);\n  bot.chat(`4 ${plankName} crafted.`);\n}..."
          ],
          [
           "async function mineFiveIronOres(bot) {\n  const stonePickaxe = bot.inventory.findInventoryItem(mcData..."
          ],
          [
           "bot.chat(\"No stone or iron pickaxe found. Mining cobblestone and crafting a stone pickaxe...\");\n    ..."
          ],
          [
           "bot.chat(\"Stone pickaxe crafted.\");\n  }\n  const pickaxeToUse = ironPickaxe || stonePickaxe;\n  await ..."
          ],
          [
           "matching: mcData.blocksByName.iron_ore.id,\n      maxDistance: 32\n    });\n    return foundIronOre;\n  ..."
          ],
          [
           "async function exploreCaveAndGatherResources(bot) {\n  // Equip torches\n  const torches = bot.invento..."
          ],
          [
           "// Find a cave entrance and start exploring\n  const caveEntrance = await exploreUntil(bot, new Vec3(..."
          ],
          [
           "},\n      maxDistance: 32\n    });\n    return caveBlock;\n  });\n  if (!caveEntrance) {\n    bot.chat(\"No..."
          ],
          [
           "// Explore the cave and gather resources\n  await exploreUntil(bot, new Vec3(1, 0, 1), 300, () => {\n ..."
          ],
          [
           "},\n      maxDistance: 32\n    });\n    if (caveBlock) {\n      bot.placeBlock(caveBlock, new Vec3(0, 1,..."
          ],
          [
           "return entity.type === \"mob\" && entity.position.distanceTo(bot.entity.position) < 32;\n    });\n    if..."
          ],
          [
           "for (const ore of ores) {\n      const oreBlock = bot.findBlock({\n        matching: mcData.blocksByNa..."
          ],
          [
           "}\n    }\n    return null; // Continue exploring until the time limit is reached\n  });..."
          ],
          [
           "bot.chat(\"Finished exploring the cave and gathering resources.\");\n}..."
          ],
          [
           "async function mineFiveCoalOres(bot) {\n  const stonePickaxe = bot.inventory.findInventoryItem(mcData..."
          ],
          [
           "}\n  await bot.equip(mcData.itemsByName.stone_pickaxe.id, \"hand\");\n  await mineBlock(bot, \"coal_ore\",..."
          ],
          [
           "async function catchFiveFishSafely(bot) {\n  // Check if the bot has a fishing rod in its inventory\n ..."
          ],
          [
           "// Find a nearby water block\n  let waterBlock;\n  while (!waterBlock) {\n    waterBlock = await explor..."
          ],
          [
           "maxDistance: 32\n      });\n      return foundWaterBlock;\n    });\n    if (!waterBlock) {\n      bot.cha..."
          ],
          [
           "// Move to a block adjacent to the water block\n  const adjacentBlock = waterBlock.position.offset(0,..."
          ],
          [
           "// Fish in the water 5 times\n  for (let i = 0; i < 5; i++) {\n    try {\n      await bot.fish();\n     ..."
          ],
          [
           "bot.chat(\"Fishing was cancelled. Trying again...\");\n        i--; // Retry the same iteration\n      }..."
          ],
          [
           "async function craftStonePickaxe(bot) {\n  const requiredCobblestones = 3;\n  const requiredSticks = 2..."
          ],
          [
           "bot.chat(\"Not enough cobblestones. Mining more...\");\n    await mineBlock(bot, \"stone\", requiredCobbl..."
          ],
          [
           "await craftItem(bot, \"stick\", requiredSticks - sticksCount);\n    bot.chat(\"Sticks crafted.\");\n  }\n  ..."
          ],
          [
           "if (!craftingTable) {\n    const craftingTablePosition = bot.entity.position.offset(1, 0, 0);\n    awa..."
          ],
          [
           "async function craftWoodenPickaxe(bot) {\n  const requiredPlanks = 3;\n  const requiredSticks = 2;\n  c..."
          ],
          [
           "bot.chat(\"Not enough spruce_planks. Crafting more...\");\n    await craftItem(bot, \"spruce_planks\", re..."
          ],
          [
           "await craftItem(bot, \"stick\", requiredSticks - sticksCount);\n    bot.chat(\"Sticks crafted.\");\n  }\n  ..."
          ],
          [
           "await craftItem(bot, \"wooden_pickaxe\", 1);\n  bot.chat(\"Wooden pickaxe crafted.\");\n}..."
          ],
          [
           "async function craftSixteenTorches(bot) {\n  const requiredSticks = 4;\n  const sticksCount = bot.inve..."
          ],
          [
           "bot.chat(\"Crafting_table placed.\");\n  }\n  await craftItem(bot, \"torch\", 2);\n  bot.chat(\"16 torches c..."
          ],
          [
           "async function exploreCave(bot) {\n  const torches = bot.inventory.findInventoryItem(mcData.itemsByNa..."
          ],
          [
           "const caveEntrance = await exploreUntil(bot, new Vec3(1, 0, 1), 60, () => {\n    const caveBlock = bo..."
          ],
          [
           "maxDistance: 32\n    });\n    return caveBlock;\n  });\n  if (!caveEntrance) {\n    bot.chat(\"No cave ent..."
          ],
          [
           "await exploreUntil(bot, new Vec3(1, 0, 1), 300, () => {\n    const caveBlock = bot.findBlock({\n      ..."
          ],
          [
           "});\n    if (caveBlock) {\n      bot.placeBlock(caveBlock, new Vec3(0, 1, 0));\n    }\n    const mob = b..."
          ],
          [
           "});\n    if (mob) {\n      killMob(bot, mob.name, 300);\n    }\n    return null; // Continue exploring u..."
          ],
          [
           "bot.chat(\"Finished exploring the cave.\");\n}..."
          ],
          [
           "async function craftEightTorches(bot) {\n  const craftingTable = bot.findBlock({\n    matching: mcData..."
          ],
          [
           "await placeItem(bot, \"crafting_table\", craftingTablePosition);\n    bot.chat(\"Crafting_table placed.\"..."
          ],
          [
           "async function catchThreeFish(bot) {\n  // Check if the bot has a fishing rod in its inventory\n  let ..."
          ],
          [
           "// Fish in the water 3 times\n  for (let i = 0; i < 3; i++) {\n    try {\n      await bot.fish();\n     ..."
          ],
          [
           "async function craftEightSticks(bot) {\n  const requiredPlanks = 2;\n  const planksCount = bot.invento..."
          ],
          [
           "await craftItem(bot, \"spruce_planks\", 1);\n    bot.chat(\"Spruce_planks crafted.\");\n  }\n  const crafti..."
          ],
          [
           "if (!craftingTable) {\n    const craftingTablePosition = bot.entity.position.offset(1, 0, 0);\n    awa..."
          ],
          [
           "async function craftStoneShovel(bot) {\n  const requiredCobblestones = 1;\n  const requiredSticks = 2;..."
          ],
          [
           "await craftItem(bot, \"stick\", requiredSticks - sticksCount);\n    bot.chat(\"Sticks crafted.\");\n  }\n  ..."
          ],
          [
           "if (!craftingTable) {\n    const craftingTablePosition = bot.entity.position.offset(1, 0, 0);\n    awa..."
          ],
          [
           "async function craftStoneHoe(bot) {\n  const requiredCobblestones = 2;\n  const requiredSticks = 2;\n  ..."
          ],
          [
           "if (!craftingTable) {\n    const craftingTablePosition = bot.entity.position.offset(1, 0, 0);\n    awa..."
          ],
          [
           "async function craftIronPickaxeWithMaterials(bot) {\n  const requiredIronIngots = 3;\n  const required..."
          ],
          [
           "bot.chat(\"Not enough iron ingots. Mining iron ores...\");\n    await mineBlock(bot, \"iron_ore\", requir..."
          ],
          [
           "bot.chat(\"Iron ingots smelted.\");\n  }\n  if (sticksCount < requiredSticks) {\n    bot.chat(\"Not enough..."
          ],
          [
           "matching: mcData.blocksByName.crafting_table.id,\n    maxDistance: 32\n  });\n  if (!craftingTable) {\n ..."
          ],
          [
           "}\n  await craftItem(bot, \"iron_pickaxe\", 1);\n  bot.chat(\"Iron pickaxe crafted.\");\n}..."
          ],
          [
           "async function craftShieldWithFurnace(bot) {\n  const requiredIronIngots = 1;\n  const requiredSpruceP..."
          ],
          [
           "if (ironIngotsCount < requiredIronIngots) {\n    bot.chat(\"Not enough iron ingots. Smelting iron ingo..."
          ],
          [
           "const furnacePosition = bot.entity.position.offset(1, 0, 0);\n      await placeItem(bot, \"furnace\", f..."
          ],
          [
           "bot.chat(\"Iron ingots smelted.\");\n  }\n  if (sprucePlanksCount < requiredSprucePlanks) {\n    bot.chat..."
          ],
          [
           "bot.chat(\"Crafting_table placed.\");\n  }\n  await craftItem(bot, \"shield\", 1);\n  bot.chat(\"Shield craf..."
          ],
          [
           "async function checkStonePickaxe(bot) {\n  const stonePickaxe = bot.inventory.findInventoryItem(mcDat..."
          ],
          [
           "async function craftFishingRod(bot) {\n  // Check if we have enough strings\n  const requiredStrings =..."
          ],
          [
           "while (bot.inventory.count(mcData.itemsByName.string.id) < requiredStrings) {\n      bot.chat(\"Findin..."
          ],
          [
           "return entity.name === \"spider\" && entity.position.distanceTo(bot.entity.position) < 32;\n        });..."
          ],
          [
           "await killMob(bot, \"spider\", 300);\n        bot.chat(\"Spider killed.\");\n      } else {\n        bot.ch..."
          ],
          [
           "// Place a crafting table if not already placed\n  const craftingTable = bot.findBlock({\n    matching..."
          ],
          [
           "// Craft a fishing rod using the 3 sticks and 2 strings\n  await craftItem(bot, \"fishing_rod\", 1);\n  ..."
          ],
          [
           "async function smeltTwentyFiveIronIngots(bot) {\n  const furnaceInInventory = bot.inventory.findInven..."
          ],
          [
           "bot.chat(\"Furnace placed.\");\n  const requiredCoal = 25;\n  const coalCount = bot.inventory.count(mcDa..."
          ],
          [
           "}\n  await smeltItem(bot, \"raw_iron\", \"coal\", 25);\n  bot.chat(\"25 raw iron smelted.\");\n}..."
          ],
          [
           "async function craftChest(bot) {\n  const requiredPlanks = 8;\n  const planksCount = bot.inventory.cou..."
          ],
          [
           "if (!craftingTable) {\n    const craftingTablePosition = bot.entity.position.offset(1, 0, 0);\n    awa..."
          ],
          [
           "bot.chat(\"Chest crafted.\");\n}..."
          ],
          [
           "async function mineLapisOre(bot) {\n  const pickaxeTypes = [mcData.itemsByName.stone_pickaxe.id, mcDa..."
          ],
          [
           "if (!pickaxe) {\n    bot.chat(\"No suitable pickaxe found. Mining cobblestone and crafting a stone pic..."
          ],
          [
           "await craftItem(bot, \"stone_pickaxe\", 1);\n    pickaxe = bot.inventory.findInventoryItem(mcData.items..."
          ],
          [
           "const lapisOreBlock = await exploreUntil(bot, new Vec3(0, -1, 0), 60, () => {\n    const foundLapisOr..."
          ],
          [
           "});\n  if (!lapisOreBlock) {\n    bot.chat(\"No lapis ore found nearby. Exploring...\");\n  }\n  await min..."
          ],
          [
           "async function collectWaterWithBucket(bot) {\n  const waterBlock = bot.findBlock({\n    matching: mcDa..."
          ],
          [
           "await exploreUntil(bot, new Vec3(1, 0, 1), 60, () => {\n      const foundWaterBlock = bot.findBlock({..."
          ],
          [
           "});\n  }\n  const bucket = bot.inventory.findInventoryItem(mcData.itemsByName.bucket.id);\n  await bot...."
          ],
          [
           "async function craftTorches(bot) {\n  const requiredCoal = 2;\n  const requiredSticks = 2;\n  const coa..."
          ],
          [
           "await mineBlock(bot, \"coal_ore\", requiredCoal - coalCount);\n    bot.chat(\"Coal mined.\");\n  }\n  if (s..."
          ],
          [
           "bot.chat(\"Crafting_table placed.\");\n  }\n  await craftItem(bot, \"torch\", 1);\n  bot.chat(\"8 torches cr..."
          ],
          [
           "async function craftStoneAxe(bot) {\n  const requiredCobblestones = 3;\n  const requiredSticks = 2;\n  ..."
          ],
          [
           "if (!craftingTable) {\n    const craftingTablePosition = bot.entity.position.offset(1, 0, 0);\n    awa..."
          ],
          [
           "async function craftTwentySprucePlanks(bot) {\n  const requiredLogs = 5;\n  const spruceLogCount = bot..."
          ],
          [
           "await mineBlock(bot, \"spruce_log\", logsToMine);\n    bot.chat(\"Spruce logs chopped down.\");\n  }\n  bot..."
          ],
          [
           "async function smeltOneRawIron(bot) {\n  const furnaceInInventory = bot.inventory.findInventoryItem(m..."
          ],
          [
           "bot.chat(\"Furnace placed.\");\n  await smeltItem(bot, \"raw_iron\", \"coal\", 1);\n  bot.chat(\"1 raw iron s..."
          ],
          [
           "async function mineCoalOre(bot) {\n  const stonePickaxe = bot.inventory.findInventoryItem(mcData.item..."
          ],
          [
           "const coalOreBlock = bot.findBlock({\n    matching: mcData.blocksByName.coal_ore.id,\n    maxDistance:..."
          ],
          [
           "const foundCoalOre = bot.findBlock({\n        matching: mcData.blocksByName.coal_ore.id,\n        maxD..."
          ],
          [
           "bot.chat(\"Coal ore mined.\");\n}..."
          ],
          [
           "async function fishInNearbyWaterSafely(bot) {\n  // Check if the bot has a fishing rod in its invento..."
          ],
          [
           "// Find a nearby water block\n  const waterBlock = await exploreUntil(bot, new Vec3(1, 0, 1), 60, () ..."
          ],
          [
           "// Check for hostile mobs nearby and kill them if necessary\n  const hostileMobs = [\"zombie\", \"skelet..."
          ],
          [
           "});\n    if (mob) {\n      await killMob(bot, mobName, 300);\n    }\n  }..."
          ],
          [
           "// Fish in the water\n  try {\n    await bot.fish();\n    bot.chat(\"Fished in the nearby water.\");\n  } ..."
          ],
          [
           "async function craftIronHelmet(bot) {\n  const requiredIronIngots = 5;\n  const ironIngotsCount = bot...."
          ],
          [
           "}\n  let craftingTable = bot.findBlock({\n    matching: mcData.blocksByName.crafting_table.id,\n    max..."
          ],
          [
           "bot.chat(\"Crafting_table placed.\");\n    // Update the craftingTable variable after placing it\n    cr..."
          ],
          [
           "async function craftIronPickaxe(bot) {\n  const requiredIronIngots = 3;\n  const requiredSticks = 2;\n ..."
          ],
          [
           "bot.chat(\"Not enough iron ingots or sticks to craft an iron pickaxe.\");\n    return;\n  }\n  const craf..."
          ],
          [
           "if (!craftingTable) {\n    const craftingTablePosition = bot.entity.position.offset(1, 0, 0);\n    awa..."
          ],
          [
           "async function smeltRawIron(bot) {\n  const furnaceInInventory = bot.inventory.findInventoryItem(mcDa..."
          ],
          [
           "const blockAtFurnacePosition = bot.blockAt(furnacePosition);\n  if (blockAtFurnacePosition.name === \"..."
          ],
          [
           "const requiredCoal = 3;\n  const coalCount = bot.inventory.count(mcData.itemsByName.coal.id);\n  if (c..."
          ],
          [
           "}\n  await smeltItem(bot, \"raw_iron\", \"coal\", 3);\n  bot.chat(\"3 raw iron smelted.\");\n}..."
          ],
          [
           "async function chopDownSpruceLogs(bot) {\n  const spruceLogCount = bot.inventory.count(mcData.itemsBy..."
          ],
          [
           "bot.chat(\"Chopped down 5 spruce logs.\");\n  } else {\n    bot.chat(\"Already have 5 spruce logs in inve..."
          ],
          [
           "async function eatCookedMutton(bot) {\n  const cookedMutton = bot.inventory.findInventoryItem(mcData...."
          ],
          [
           "async function craftSticks(bot) {\n  const requiredPlanks = 2;\n  const planksCount = bot.inventory.co..."
          ],
          [
           "await craftItem(bot, \"spruce_planks\", 1);\n    bot.chat(\"Spruce_planks crafted.\");\n  }\n  const crafti..."
          ],
          [
           "await craftItem(bot, \"stick\", 1);\n  bot.chat(\"4 sticks crafted.\");\n}..."
          ],
          [
           "async function craftStoneSword(bot) {\n  const requiredCobblestones = 2;\n  const requiredSticks = 1;\n..."
          ],
          [
           "bot.chat(\"Not enough cobblestones. Mining more...\");\n    await mineBlock(bot, \"stone\", requiredCobbl..."
          ],
          [
           "bot.chat(\"Sticks crafted.\");\n  }\n  const craftingTable = bot.findBlock({\n    matching: mcData.blocks..."
          ],
          [
           "await placeItem(bot, \"crafting_table\", craftingTablePosition);\n    bot.chat(\"Crafting_table placed.\"..."
          ],
          [
           "async function mineThreeIronOres(bot) {\n  const stonePickaxe = bot.inventory.findInventoryItem(mcDat..."
          ],
          [
           "const craftingTablePosition = bot.entity.position.offset(1, 0, 0);\n    await placeItem(bot, \"craftin..."
          ],
          [
           "const ironOreBlock = await exploreUntil(bot, new Vec3(0, -1, 0), 60, () => {\n    const foundIronOre ..."
          ],
          [
           "});\n  if (!ironOreBlock) {\n    bot.chat(\"No iron ore found nearby. Exploring...\");\n  }\n  await mineB..."
          ],
          [
           "async function craftIronLeggingsAndBoots(bot) {\n  const requiredIronIngots = 11; // 7 for leggings, ..."
          ],
          [
           "await mineBlock(bot, \"iron_ore\", requiredIronIngots - ironIngotsCount);\n    bot.chat(\"Iron ores mine..."
          ],
          [
           "}\n  await craftItem(bot, \"iron_leggings\", 1);\n  bot.chat(\"Iron leggings crafted.\");\n  await craftIte..."
          ],
          [
           "async function craftSpyglass(bot) {\n  const requiredCopperIngots = 2;\n  const requiredAmethystShards..."
          ],
          [
           "if (copperIngotsCount < requiredCopperIngots || amethystShardsCount < requiredAmethystShards) {\n    ..."
          ],
          [
           "maxDistance: 32\n  });\n  if (!craftingTable) {\n    const craftingTablePosition = bot.entity.position...."
          ],
          [
           "bot.chat(\"Spyglass crafted.\");\n}..."
          ],
          [
           "async function chopSpruceLogs(bot) {\n  const spruceLogCount = bot.inventory.count(mcData.itemsByName..."
          ],
          [
           "bot.chat(\"Chopped down 3 spruce logs.\");\n  } else {\n    bot.chat(\"Already have 3 spruce logs in inve..."
          ],
          [
           "async function cookMutton(bot) {\n  const rawMuttonCount = bot.inventory.count(mcData.itemsByName.mut..."
          ],
          [
           "}\n  const furnaceInInventory = bot.inventory.findInventoryItem(mcData.itemsByName.furnace.id);\n  if ..."
          ],
          [
           "const blockAtFurnacePosition = bot.blockAt(furnacePosition);\n  if (blockAtFurnacePosition.name === \"..."
          ],
          [
           "const requiredCoal = 5;\n  const coalCount = bot.inventory.count(mcData.itemsByName.coal.id);\n  if (c..."
          ],
          [
           "}\n  await smeltItem(bot, \"mutton\", \"coal\", 5);\n  bot.chat(\"5 mutton cooked.\");\n}..."
          ],
          [
           "async function mineCopperOreWithStonePickaxe(bot) {\n  const stonePickaxe = bot.inventory.findInvento..."
          ],
          [
           "const copperOreBlock = bot.findBlock({\n    matching: mcData.blocksByName.copper_ore.id,\n    maxDista..."
          ],
          [
           "const foundCopperOre = bot.findBlock({\n        matching: mcData.blocksByName.copper_ore.id,\n        ..."
          ],
          [
           "bot.chat(\"Copper ore mined.\");\n}..."
          ],
          [
           "async function mineFiveCopperOres(bot) {\n  const copperOreCount = bot.inventory.count(mcData.itemsBy..."
          ],
          [
           "}\n  await bot.equip(mcData.itemsByName.iron_pickaxe.id, \"hand\");\n  await mineBlock(bot, \"copper_ore\"..."
          ],
          [
           "async function craftIronSword(bot) {\n  const requiredIronIngots = 2;\n  const requiredSticks = 1;\n  c..."
          ],
          [
           "}\n  await craftItem(bot, \"iron_sword\", 1);\n  bot.chat(\"Iron sword crafted.\");\n}..."
          ],
          [
           "async function craftIronChestplate(bot) {\n  const requiredIronIngots = 8;\n  const ironIngotsCount = ..."
          ],
          [
           "}\n  await craftItem(bot, \"iron_chestplate\", 1);\n  bot.chat(\"Iron chestplate crafted.\");\n}..."
          ],
          [
           "async function craftWhiteBedWithExploration(bot) {\n  // Step 1: Explore the area to find and kill sh..."
          ],
          [
           "for (let i = 0; i < requiredWool - woolCount; i++) {\n      const sheep = await exploreUntil(bot, new..."
          ],
          [
           "});\n        return sheep;\n      });\n      if (sheep) {\n        await killMob(bot, \"sheep\");\n      } ..."
          ],
          [
           "return;\n      }\n    }\n    bot.chat(\"Wool collected.\");\n  }..."
          ],
          [
           "// Step 2: Craft 2 more spruce planks if needed\n  const requiredPlanks = 3;\n  const planksCount = bo..."
          ],
          [
           "await craftItem(bot, \"spruce_planks\", requiredPlanks - planksCount);\n    bot.chat(\"Spruce_planks cra..."
          ],
          [
           "// Step 3: Place a crafting table if not already placed\n  const craftingTable = bot.findBlock({\n    ..."
          ],
          [
           "await placeItem(bot, \"crafting_table\", craftingTablePosition);\n    bot.chat(\"Crafting_table placed.\"..."
          ],
          [
           "// Step 4: Craft a white bed using the 3 white wool blocks and 3 spruce planks\n  bot.chat(\"Crafting ..."
          ],
          [
           "async function craftWoodenHoe(bot) {\n  const requiredPlanks = 2;\n  const requiredSticks = 2;\n  const..."
          ],
          [
           "if (!craftingTable) {\n    const craftingTablePosition = bot.entity.position.offset(1, 0, 0);\n    awa..."
          ]
         ],
         "hovertemplate": "source=home<br>symbol=circle<br>x=%{x}<br>y=%{y}<br>size_col=%{marker.size}<br>extract=%{customdata[0]}<extra></extra>",
         "legendgroup": "home, circle",
         "marker": {
          "color": "#EF553B",
          "line": {
           "color": "DarkSlateGrey",
           "width": 0
          },
          "opacity": 1,
          "size": [
           4,
           4,
           4,
           4,
           4,
           4,
           4,
           4,
           4,
           4,
           4,
           4,
           4,
           4,
           4,
           4,
           4,
           4,
           4,
           4,
           4,
           4,
           4,
           4,
           4,
           4,
           4,
           4,
           4,
           4,
           4,
           4,
           4,
           4,
           4,
           4,
           4,
           4,
           4,
           4,
           4,
           4,
           4,
           4,
           4,
           4,
           4,
           4,
           4,
           4,
           4,
           4,
           4,
           4,
           4,
           4,
           4,
           4,
           4,
           4,
           4,
           4,
           4,
           4,
           4,
           4,
           4,
           4,
           4,
           4,
           4,
           4,
           4,
           4,
           4,
           4,
           4,
           4,
           4,
           4,
           4,
           4,
           4,
           4,
           4,
           4,
           4,
           4,
           4,
           4,
           4,
           4,
           4,
           4,
           4,
           4,
           4,
           4,
           4,
           4,
           4,
           4,
           4,
           4,
           4,
           4,
           4,
           4,
           4,
           4,
           4,
           4,
           4,
           4,
           4,
           4,
           4,
           4,
           4,
           4,
           4,
           4,
           4,
           4,
           4,
           4,
           4,
           4,
           4,
           4,
           4,
           4,
           4,
           4,
           4,
           4,
           4,
           4,
           4,
           4,
           4,
           4,
           4,
           4,
           4,
           4,
           4,
           4,
           4,
           4,
           4,
           4,
           4,
           4,
           4,
           4,
           4,
           4,
           4,
           4,
           4,
           4,
           4,
           4,
           4,
           4,
           4,
           4,
           4,
           4,
           4,
           4,
           4,
           4,
           4,
           4,
           4,
           4,
           4,
           4,
           4,
           4,
           4,
           4,
           4,
           4,
           4,
           4,
           4,
           4,
           4,
           4,
           4,
           4,
           4,
           4,
           4,
           4,
           4,
           4,
           4,
           4,
           4,
           4,
           4,
           4,
           4,
           4,
           4,
           4,
           4,
           4,
           4,
           4,
           4,
           4,
           4,
           4,
           4,
           4,
           4,
           4,
           4,
           4,
           4,
           4,
           4,
           4,
           4,
           4,
           4,
           4,
           4,
           4,
           4,
           4,
           4,
           4,
           4,
           4,
           4,
           4,
           4,
           4,
           4,
           4,
           4,
           4,
           4,
           4,
           4,
           4,
           4,
           4,
           4,
           4,
           4,
           4,
           4,
           4,
           4,
           4,
           4,
           4,
           4,
           4,
           4,
           4,
           4,
           4,
           4,
           4,
           4,
           4,
           4,
           4,
           4,
           4,
           4,
           4,
           4,
           4,
           4,
           4,
           4,
           4,
           4,
           4,
           4,
           4,
           4,
           4,
           4,
           4,
           4,
           4,
           4,
           4,
           4,
           4,
           4,
           4,
           4,
           4,
           4,
           4,
           4,
           4,
           4,
           4,
           4,
           4,
           4,
           4,
           4,
           4,
           4,
           4,
           4,
           4,
           4,
           4,
           4,
           4,
           4,
           4,
           4,
           4,
           4,
           4,
           4,
           4,
           4,
           4,
           4,
           4,
           4,
           4,
           4,
           4,
           4,
           4,
           4,
           4,
           4,
           4,
           4,
           4,
           4,
           4,
           4,
           4,
           4,
           4,
           4,
           4,
           4,
           4,
           4,
           4,
           4,
           4,
           4,
           4,
           4,
           4,
           4,
           4,
           4,
           4,
           4,
           4,
           4,
           4,
           4,
           4,
           4,
           4,
           4,
           4,
           4,
           4,
           4,
           4,
           4,
           4,
           4,
           4,
           4,
           4,
           4,
           4,
           4,
           4,
           4,
           4,
           4,
           4,
           4,
           4,
           4,
           4,
           4,
           4,
           4,
           4,
           4,
           4,
           4,
           4,
           4,
           4,
           4,
           4,
           4,
           4,
           4,
           4,
           4,
           4,
           4,
           4,
           4,
           4,
           4,
           4,
           4,
           4,
           4,
           4,
           4,
           4,
           4,
           4,
           4,
           4,
           4,
           4,
           4,
           4,
           4,
           4,
           4,
           4,
           4,
           4,
           4,
           4,
           4,
           4,
           4,
           4,
           4,
           4,
           4,
           4,
           4,
           4,
           4,
           4,
           4,
           4,
           4,
           4,
           4,
           4,
           4,
           4,
           4,
           4,
           4,
           4,
           4,
           4,
           4,
           4,
           4,
           4,
           4,
           4,
           4,
           4,
           4,
           4,
           4,
           4,
           4,
           4,
           4,
           4,
           4,
           4,
           4,
           4,
           4,
           4,
           4,
           4,
           4,
           4,
           4,
           4,
           4,
           4,
           4,
           4,
           4,
           4,
           4,
           4,
           4,
           4,
           4,
           4,
           4,
           4,
           4,
           4,
           4,
           4,
           4,
           4,
           4,
           4,
           4,
           4,
           4,
           4,
           4,
           4,
           4,
           4,
           4,
           4,
           4,
           4,
           4,
           4,
           4,
           4,
           4,
           4,
           4,
           4,
           4,
           4,
           4,
           4,
           4,
           4,
           4,
           4,
           4,
           4,
           4,
           4,
           4,
           4,
           4,
           4,
           4,
           4,
           4,
           4,
           4,
           4,
           4,
           4,
           4,
           4,
           4,
           4,
           4,
           4,
           4,
           4,
           4,
           4,
           4,
           4,
           4,
           4,
           4,
           4,
           4,
           4,
           4,
           4,
           4,
           4,
           4,
           4,
           4,
           4,
           4,
           4,
           4,
           4,
           4,
           4,
           4,
           4,
           4,
           4,
           4,
           4,
           4,
           4,
           4,
           4,
           4,
           4,
           4,
           4,
           4,
           4,
           4,
           4,
           4,
           4,
           4,
           4,
           4,
           4,
           4,
           4,
           4,
           4,
           4,
           4,
           4,
           4,
           4,
           4,
           4,
           4,
           4,
           4,
           4,
           4,
           4,
           4,
           4,
           4,
           4,
           4,
           4,
           4,
           4,
           4,
           4,
           4,
           4,
           4,
           4,
           4,
           4,
           4,
           4,
           4,
           4,
           4,
           4,
           4,
           4,
           4,
           4,
           4,
           4,
           4,
           4,
           4,
           4,
           4,
           4,
           4,
           4,
           4,
           4,
           4,
           4,
           4,
           4,
           4,
           4,
           4,
           4,
           4,
           4,
           4,
           4,
           4,
           4,
           4,
           4,
           4,
           4,
           4,
           4,
           4,
           4,
           4,
           4,
           4,
           4,
           4,
           4,
           4,
           4,
           4,
           4,
           4,
           4,
           4,
           4,
           4,
           4,
           4,
           4,
           4,
           4,
           4,
           4,
           4,
           4,
           4,
           4,
           4,
           4,
           4,
           4,
           4,
           4,
           4,
           4,
           4,
           4,
           4,
           4,
           4,
           4,
           4,
           4,
           4,
           4,
           4,
           4,
           4,
           4,
           4,
           4,
           4,
           4,
           4,
           4,
           4,
           4,
           4,
           4,
           4,
           4,
           4,
           4,
           4,
           4,
           4,
           4,
           4,
           4,
           4,
           4,
           4,
           4,
           4,
           4,
           4,
           4,
           4,
           4,
           4,
           4,
           4,
           4,
           4,
           4,
           4,
           4,
           4,
           4,
           4,
           4,
           4,
           4,
           4,
           4,
           4,
           4,
           4,
           4,
           4,
           4,
           4,
           4,
           4,
           4,
           4,
           4,
           4,
           4,
           4,
           4,
           4,
           4,
           4,
           4,
           4,
           4,
           4,
           4,
           4,
           4,
           4,
           4,
           4,
           4,
           4,
           4,
           4,
           4,
           4,
           4,
           4,
           4,
           4,
           4,
           4,
           4,
           4,
           4,
           4,
           4,
           4,
           4,
           4,
           4,
           4,
           4,
           4,
           4,
           4,
           4,
           4,
           4,
           4,
           4,
           4,
           4,
           4,
           4,
           4,
           4,
           4,
           4,
           4,
           4,
           4,
           4,
           4,
           4,
           4,
           4,
           4,
           4,
           4,
           4,
           4,
           4,
           4,
           4,
           4,
           4,
           4,
           4,
           4,
           4,
           4,
           4,
           4,
           4,
           4,
           4,
           4,
           4,
           4,
           4,
           4,
           4,
           4,
           4,
           4,
           4,
           4,
           4,
           4,
           4,
           4,
           4,
           4,
           4,
           4,
           4,
           4,
           4,
           4,
           4,
           4,
           4,
           4,
           4,
           4,
           4,
           4,
           4,
           4,
           4,
           4,
           4,
           4,
           4,
           4,
           4,
           4,
           4,
           4,
           4,
           4,
           4,
           4,
           4,
           4,
           4,
           4,
           4,
           4,
           4,
           4,
           4,
           4,
           4,
           4,
           4,
           4,
           4,
           4,
           4,
           4,
           4,
           4,
           4,
           4,
           4,
           4,
           4,
           4,
           4,
           4,
           4,
           4,
           4,
           4,
           4,
           4,
           4,
           4,
           4,
           4,
           4,
           4,
           4
          ],
          "sizemode": "area",
          "sizeref": 0.25,
          "symbol": "circle"
         },
         "mode": "markers",
         "name": "home, circle",
         "orientation": "v",
         "showlegend": true,
         "type": "scatter",
         "x": [
          -6.320932,
          9.181155,
          -7.14091,
          9.256577,
          13.437295,
          -12.879834,
          14.56027,
          -5.1307716,
          11.60148,
          -7.7524,
          14.551012,
          -9.528815,
          15.60032,
          11.081251,
          -13.857924,
          -13.936933,
          -13.748053,
          -16.722952,
          -16.034,
          -16.424377,
          -8.440544,
          15.759864,
          13.330821,
          3.63608,
          11.689625,
          -7.2942643,
          16.586388,
          -6.564855,
          8.941137,
          -8.331649,
          -8.424669,
          -8.10182,
          13.296504,
          -10.028383,
          13.131354,
          -5.4598556,
          26.065948,
          10.785544,
          -5.40589,
          12.010408,
          -5.5321603,
          -7.786032,
          10.678684,
          -5.330517,
          -7.691906,
          -7.88645,
          10.477065,
          -11.939643,
          -8.03767,
          26.097662,
          8.955108,
          10.549749,
          -7.282898,
          11.680079,
          -7.817912,
          12.137164,
          -7.439642,
          12.65016,
          16.193022,
          -7.538534,
          -7.5023665,
          9.438059,
          -10.146345,
          13.498835,
          -13.213478,
          14.404893,
          -4.9111967,
          26.203253,
          -7.9797473,
          11.204193,
          -8.0938835,
          -12.01779,
          3.6358318,
          10.666782,
          11.314343,
          -8.746918,
          13.33774,
          11.287225,
          -7.2596507,
          13.410609,
          -13.109354,
          14.550917,
          -7.8702445,
          -9.880169,
          -11.686241,
          15.482556,
          15.600517,
          11.959973,
          -15.723104,
          -15.572579,
          -8.0473995,
          13.367636,
          12.737911,
          -14.681168,
          11.817682,
          -13.277554,
          11.8934765,
          -14.1621275,
          12.652346,
          -14.160897,
          9.475464,
          14.573956,
          -14.12183,
          14.9024515,
          -11.419787,
          13.301221,
          13.151807,
          -4.708893,
          10.522963,
          -11.978117,
          -7.871129,
          8.940717,
          3.6359203,
          14.601167,
          10.876578,
          -6.44755,
          8.903121,
          -5.4443407,
          -8.082119,
          -7.7336383,
          12.452918,
          11.799639,
          12.157979,
          -7.0646453,
          13.572014,
          14.590555,
          -7.195609,
          -14.377821,
          -14.194682,
          -7.343082,
          9.289836,
          13.390213,
          -12.972187,
          14.522351,
          -7.1603184,
          13.320501,
          -13.127635,
          14.381356,
          -18.780626,
          13.751587,
          -16.814226,
          -16.155886,
          -8.043127,
          10.677463,
          3.6373618,
          -8.649307,
          -18.713684,
          13.66734,
          -9.954778,
          -9.537862,
          -17.242294,
          -7.765777,
          -14.395676,
          -6.642456,
          8.95933,
          8.93146,
          -7.57175,
          11.793114,
          -7.465547,
          12.141787,
          -7.7966795,
          12.367552,
          -8.979371,
          -14.989323,
          -14.603796,
          -6.3650393,
          -7.6654058,
          15.64739,
          10.587675,
          -4.553632,
          9.499593,
          -4.689905,
          26.135355,
          -9.6531515,
          -5.448717,
          12.046495,
          -16.773422,
          -14.481657,
          10.948322,
          -5.3504887,
          -7.7496696,
          13.481339,
          14.15983,
          -7.5659733,
          -10.750116,
          -7.4055586,
          9.164447,
          -10.909331,
          10.618374,
          -7.404021,
          13.367284,
          13.061818,
          -6.9727364,
          13.061327,
          -5.434012,
          12.162427,
          -9.418482,
          -15.179902,
          14.980576,
          -8.837795,
          11.479646,
          -6.325532,
          9.851914,
          9.20368,
          -6.499303,
          -7.714464,
          8.91095,
          -7.9441414,
          -7.422026,
          -8.641025,
          13.460237,
          -9.5814495,
          3.6359017,
          16.77785,
          -14.913321,
          -15.040826,
          -10.647568,
          -8.859192,
          25.916632,
          26.028114,
          -13.92211,
          14.675786,
          14.988116,
          -8.293775,
          13.424807,
          12.383654,
          16.127563,
          -8.139582,
          13.351516,
          14.731658,
          -14.029388,
          13.369083,
          12.711146,
          -11.678293,
          8.893357,
          12.107269,
          -7.25355,
          16.4098,
          -5.5230823,
          9.052057,
          16.05684,
          -4.880449,
          25.972164,
          10.24432,
          -9.878563,
          9.318048,
          15.951251,
          -6.6122723,
          8.989647,
          -18.761366,
          13.622733,
          -16.360811,
          13.310365,
          -8.551415,
          13.42274,
          13.239838,
          -5.515206,
          9.119055,
          -10.673807,
          15.480939,
          10.816737,
          -6.287175,
          -14.927354,
          -14.581271,
          -7.259669,
          9.448767,
          12.3958645,
          -14.428899,
          14.626549,
          -14.043071,
          -14.118461,
          12.805292,
          -7.462144,
          12.70256,
          -11.476374,
          16.096447,
          -7.8209753,
          12.901506,
          -11.471444,
          16.326155,
          -5.674011,
          26.061869,
          -8.042754,
          11.103889,
          16.919407,
          -8.579558,
          13.266348,
          13.485256,
          -9.908697,
          3.6364298,
          16.659103,
          -10.172091,
          -11.476022,
          -7.902628,
          10.948477,
          16.76645,
          -18.770266,
          13.775437,
          -16.672495,
          13.195481,
          -7.8151116,
          13.487606,
          -12.843766,
          14.24207,
          -8.621012,
          13.420323,
          16.341476,
          -18.764389,
          13.67181,
          -16.005678,
          13.319861,
          -18.631882,
          13.283947,
          12.903779,
          -15.792749,
          -5.749278,
          13.601479,
          -14.341149,
          13.296479,
          13.230612,
          -5.443915,
          12.465512,
          -13.949429,
          -14.56034,
          -14.968802,
          12.960883,
          -5.655903,
          10.618752,
          -5.432227,
          12.063975,
          -8.096098,
          16.225992,
          -5.266968,
          8.951877,
          16.526075,
          -4.8325143,
          9.036705,
          -10.4434805,
          16.710842,
          -8.563472,
          3.6367202,
          -5.8993244,
          10.863439,
          -18.8112,
          13.274291,
          13.102575,
          -15.898,
          -7.760471,
          -9.463351,
          12.730767,
          12.973417,
          12.865427,
          12.3921175,
          -8.210338,
          13.535673,
          -13.599111,
          14.853293,
          -5.3752813,
          8.994375,
          16.530027,
          10.654959,
          -14.19271,
          14.52698,
          -14.2767,
          14.780273,
          13.006597,
          -7.9482536,
          10.918366,
          13.613389,
          -13.064312,
          15.104156,
          -4.646661,
          26.092398,
          -7.8042984,
          12.720508,
          -11.143469,
          16.359413,
          -4.9985495,
          9.041554,
          -10.3274765,
          16.700317,
          -5.4370418,
          9.058718,
          16.486233,
          -8.628319,
          16.513247,
          -7.86797,
          -5.1279945,
          16.744823,
          -18.79959,
          13.590281,
          -16.72338,
          13.370294,
          -6.811213,
          8.941696,
          8.982302,
          14.697328,
          -13.95349,
          -13.512113,
          -7.231458,
          13.698783,
          -11.685868,
          -13.027128,
          14.655048,
          -14.290536,
          -14.315206,
          -14.331806,
          -7.61506,
          13.769428,
          -11.648883,
          -13.384719,
          14.425078,
          -18.540337,
          -7.278481,
          13.621391,
          -12.224047,
          14.413542,
          -6.590669,
          8.903924,
          -8.393328,
          13.657115,
          -13.671382,
          -14.24077,
          14.892302,
          -8.3087015,
          13.8575,
          12.760728,
          -7.5652514,
          13.625225,
          -13.405107,
          -14.369396,
          14.680559,
          -13.064012,
          14.902984,
          -8.517958,
          12.680131,
          -12.689406,
          15.236487,
          -5.50405,
          12.031013,
          -4.6896367,
          25.984028,
          -2.4238384,
          10.287273,
          -7.2151837,
          12.559968,
          14.536439,
          -11.172156,
          -11.832892,
          11.745256,
          -7.035755,
          14.253518,
          -12.066066,
          10.493593,
          10.659604,
          -2.3696353,
          12.060445,
          10.806704,
          11.41931,
          -8.1148,
          14.797129,
          -12.242067,
          11.388505,
          -8.3791065,
          12.663791,
          -7.114773,
          13.282669,
          -11.494562,
          -13.23941,
          14.665367,
          -18.438986,
          -4.497499,
          9.64713,
          -4.9435973,
          8.69511,
          -12.050059,
          10.7259035,
          -14.757178,
          -14.5692835,
          -7.0885873,
          -13.604697,
          14.964178,
          14.432657,
          13.782325,
          15.010709,
          -11.734369,
          16.083857,
          -4.8273535,
          10.558144,
          25.976345,
          -2.42847,
          8.812256,
          11.026057,
          -4.220002,
          9.598456,
          -18.628462,
          -3.883175,
          9.290244,
          11.838453,
          11.694945,
          11.745795,
          -14.921759,
          11.855402,
          -12.297896,
          -12.171742,
          -4.6589274,
          8.775517,
          10.667051,
          -7.490888,
          13.558478,
          -12.788257,
          14.685323,
          -5.619783,
          -10.147498,
          12.578383,
          -12.835739,
          16.35176,
          -4.7940845,
          10.544582,
          -2.4286442,
          8.643706,
          10.627057,
          -8.003853,
          10.896533,
          -10.009389,
          12.504654,
          -13.120193,
          16.308554,
          -5.956903,
          12.634071,
          9.180489,
          13.658917,
          -11.538782,
          -13.52542,
          14.223871,
          -4.9394603,
          8.85155,
          10.621713,
          -7.5339856,
          13.583223,
          -12.832804,
          14.586948,
          -10.138385,
          12.475603,
          16.366837,
          -7.4007564,
          13.754793,
          -11.655057,
          -13.203235,
          14.631315,
          -13.8835,
          -7.4650083,
          12.769587,
          -11.640285,
          -6.974551,
          15.712253,
          12.329761,
          -8.425178,
          12.835685,
          9.35936,
          26.033482,
          9.310708,
          12.064488,
          -7.98653,
          -11.812001,
          11.27768,
          -10.741854,
          9.01578,
          -8.974206,
          13.273489,
          -7.428316,
          11.197393,
          12.756653,
          12.593257,
          -11.707953,
          16.18948,
          -10.116263,
          12.593158,
          -12.102182,
          16.324379,
          -8.183022,
          10.845306,
          11.13015,
          -9.231578,
          12.250554,
          14.0449095,
          15.630703,
          11.774702,
          -18.897463,
          13.334278,
          13.195349,
          -10.056904,
          12.5861845,
          -12.371787,
          16.350918,
          -2.4785452,
          25.975716,
          -7.980998,
          11.445388,
          -8.011763,
          11.511177,
          -10.623806,
          -10.404943,
          -9.071734,
          16.789165,
          13.247137,
          -11.74449,
          -11.206396,
          -14.191279,
          -14.046245,
          -13.80555,
          -4.66505,
          26.018019,
          10.045527,
          10.180802,
          -7.0505085,
          9.042258,
          -10.050893,
          12.462164,
          -12.169388,
          16.340916,
          -4.7307634,
          -9.634893,
          12.324863,
          15.629084,
          -11.876133,
          10.8126545,
          -4.3361,
          9.588719,
          -8.051264,
          11.357985,
          -10.289572,
          -4.6494956,
          10.177395,
          9.3372555,
          -7.4169836,
          12.683013,
          -12.107531,
          -12.093857,
          -4.6001377,
          26.033123,
          9.685369,
          -5.1651225,
          10.787203,
          -5.602539,
          -11.830804,
          10.550928,
          -7.324883,
          10.81325,
          13.181841,
          -11.82614,
          -12.077632,
          10.532516,
          -2.4267545,
          9.550376,
          16.346445,
          -8.853176,
          3.6354225,
          16.810097,
          -8.214603,
          16.28564,
          -13.830098,
          14.67651,
          -13.954648,
          14.929025,
          -13.878226,
          13.587765,
          13.590118,
          -18.644297,
          -9.878145,
          13.504979,
          -15.951734,
          -14.456483,
          13.134441,
          -6.6663647,
          16.54345,
          -8.352985,
          11.764071,
          11.762802,
          -16.495071,
          -15.637179,
          9.367261,
          13.283159,
          -9.707464,
          15.933859,
          -5.5192413,
          26.146603,
          -6.61562,
          -7.5536184,
          3.6359036,
          16.776255,
          -6.5307975,
          8.938158,
          8.931433,
          -18.736212,
          13.513701,
          -15.873538,
          13.305925,
          -5.1577873,
          -5.3965096,
          -8.033948,
          13.378635,
          15.293466,
          -4.345673,
          -14.396924,
          -14.272397,
          -5.434557,
          12.332968,
          -7.7832317,
          16.791142,
          -8.837811,
          16.515703,
          3.636237,
          11.648011,
          -7.446722,
          12.65999,
          16.21813,
          -7.6418505,
          16.771032,
          -14.852147,
          -14.998717,
          -14.362077,
          13.098215,
          15.609167,
          12.718025,
          -8.672203,
          13.173162,
          16.575668,
          -6.8772235,
          16.79109,
          -7.663464,
          16.874916,
          -6.9211845,
          -5.411386,
          12.328875,
          -7.5257373,
          12.566925,
          16.265495,
          -16.346882,
          -16.428324,
          9.291068,
          13.180063,
          -8.543735,
          14.38261,
          -4.741295,
          26.141384,
          -4.9430275,
          26.123928,
          16.544283,
          -7.8938274,
          13.65218,
          -14.629302,
          14.953549,
          -4.9487004,
          16.747429,
          -4.2589755,
          -7.2240467,
          16.519548,
          12.536725,
          -5.4056997,
          26.141409,
          -7.825939,
          16.828184,
          -9.483568,
          -8.546408,
          9.769741,
          16.620611,
          -6.8246107,
          16.3985,
          -5.3741374,
          -4.8817554,
          10.243973,
          26.126501,
          14.301919,
          16.613562,
          10.6191435,
          -14.203361,
          -14.1440325,
          -13.886626,
          -5.5614057,
          26.13331,
          -6.535976,
          -5.2982616,
          16.756735,
          -4.8098598,
          26.149937,
          15.618139,
          -12.036892,
          -12.1135235,
          10.617665,
          -4.387414,
          -4.8091936,
          26.10033,
          12.741555,
          9.981943,
          -7.4983716,
          3.636058,
          15.924404,
          11.214444,
          -9.140507,
          -6.5250206,
          -7.408295,
          -7.3323307,
          -7.459807,
          -8.241574,
          -6.918819,
          -11.318423,
          -12.158809,
          -6.0803146,
          -12.065354,
          -4.6786275,
          -2.4556537,
          -10.85467,
          -11.293419,
          -4.6025205,
          -10.419843,
          -11.15423,
          -9.821468,
          -14.314347,
          -13.909594,
          -11.336713,
          -7.4840403,
          -10.48387,
          -10.349714,
          -11.60314,
          -7.271281,
          13.566523,
          -13.645619,
          13.161486,
          -14.31079,
          -15.872538,
          -11.598568,
          -14.075122,
          -12.718044,
          -7.897266,
          -10.237445,
          -6.9966702,
          13.466816,
          -14.140747,
          13.3101425,
          12.679341,
          -16.361782,
          -8.105107,
          -11.334929,
          -10.987909,
          -12.847592,
          -9.456065,
          -10.292113,
          -11.72901,
          -11.086277,
          -9.681958,
          -12.233056,
          -7.640231,
          -13.720989,
          -13.6943035,
          -13.650916,
          -14.933047,
          -16.655533,
          -12.823946,
          -8.8364525,
          -12.2091055,
          -7.259233,
          12.700819,
          -9.396616,
          -10.443141,
          -12.582485,
          -8.048376,
          -11.043157,
          -12.878606,
          -7.976995,
          -12.762562,
          -4.7432184,
          -11.166738,
          -10.636506,
          -11.374125,
          -11.31172,
          -7.3780403,
          -11.039837,
          -2.5195374,
          -10.172201,
          -11.937312,
          -8.151495,
          -7.0416546,
          -15.147322,
          -16.077465,
          -16.871906,
          15.44878,
          12.117182,
          -4.5807242,
          -10.434875,
          -11.253027,
          -9.179249,
          -12.733006,
          -9.690378,
          -7.704672,
          -10.375194,
          -10.73204,
          -11.547191,
          -11.444475,
          -13.586327,
          -13.735127,
          -8.164329,
          -8.282971,
          -10.555181,
          -12.190552,
          -7.97989,
          -12.76117,
          -9.583266,
          -9.894114,
          -4.5742626,
          -11.251898,
          -7.9240823,
          -11.552695,
          -11.675221,
          -11.842743,
          -7.2015553,
          13.672025,
          13.3554325,
          -16.72678,
          12.68977,
          -5.5408735,
          -11.428464,
          -12.356476,
          -4.928464,
          -10.682803,
          -12.874361,
          -4.494159,
          -2.428757,
          -10.502003,
          -11.216899,
          -14.372967,
          -14.258842,
          -5.469362,
          -9.433356,
          -12.242414,
          -10.726634,
          -8.081687,
          -10.946318,
          -11.162009,
          -12.267936,
          -9.134924,
          -12.746728,
          -11.57384,
          -11.2953615,
          -5.3546042,
          -10.987465,
          -11.063789,
          -7.5384912,
          -10.878962,
          -12.401647,
          -10.570497,
          -14.2381735,
          -14.300993,
          -5.497393,
          -2.5950742,
          -2.438949,
          -10.25019,
          -11.086283,
          -9.109563,
          -11.454421,
          -11.695089,
          -11.70063,
          -10.129951,
          -10.594532,
          -5.079434,
          -11.421178,
          -5.4742494,
          -11.320631,
          -7.1718707,
          -15.498525,
          -16.559412,
          -15.536846,
          12.852185,
          -10.404995,
          14.906208,
          -12.123337,
          12.691385,
          -9.295195,
          -12.68735
         ],
         "xaxis": "x",
         "y": [
          -0.14273739,
          -2.3517199,
          4.978646,
          -2.6068935,
          7.44274,
          4.584464,
          8.156191,
          -0.38899148,
          -1.1888118,
          0.6463579,
          -5.171052,
          -2.6196432,
          -6.338115,
          -5.257077,
          0.7796732,
          1.3435311,
          0.969872,
          4.0887146,
          3.9262068,
          3.8859699,
          -2.8243983,
          -6.5488815,
          -1.3531481,
          -18.045221,
          -3.8802376,
          -6.19032,
          -7.515283,
          0.53970885,
          -2.1609542,
          0.51816213,
          0.35629946,
          -2.7759852,
          -1.1530808,
          -1.8180283,
          -4.376019,
          -4.842862,
          -1.4914867,
          2.6156273,
          -3.9351366,
          2.547857,
          -0.049986195,
          0.64924884,
          -6.0529532,
          0.02032549,
          0.61041,
          0.98537844,
          0.5839064,
          2.905556,
          0.80073875,
          -1.492904,
          2.1677008,
          -6.2365155,
          -0.93964136,
          -1.0878724,
          -0.17158306,
          -4.635001,
          4.963376,
          8.290401,
          8.478679,
          4.842251,
          2.3538904,
          -2.6673305,
          1.0530418,
          6.950683,
          4.5373726,
          7.569973,
          -6.4362288,
          -1.5003779,
          -3.3298485,
          -3.931082,
          -3.8618014,
          -3.4528568,
          -18.045794,
          0.38025764,
          -3.8618238,
          -2.866383,
          -1.2745469,
          -4.029375,
          4.9729223,
          7.3987384,
          4.499175,
          8.166153,
          -2.9259086,
          -2.2424202,
          -1.7900122,
          -6.1917834,
          -6.3813596,
          1.5585355,
          3.8969443,
          3.4945753,
          0.53395295,
          -1.1211843,
          -4.084157,
          2.062381,
          -0.91659576,
          3.7434874,
          -1.0325356,
          0.7519215,
          0.20474832,
          0.601392,
          -2.487957,
          5.75056,
          1.293838,
          5.932829,
          2.7058213,
          4.31169,
          3.3847735,
          0.07023973,
          0.4848221,
          3.327627,
          0.71559024,
          2.166676,
          -18.04801,
          -5.164693,
          -4.981427,
          0.48394722,
          -2.1421201,
          -4.076902,
          0.48881927,
          0.30975226,
          2.4361012,
          2.3971615,
          2.7763045,
          5.1932397,
          7.4130034,
          8.119424,
          5.0743656,
          0.5804781,
          0.50086933,
          4.970227,
          -2.5699916,
          7.411395,
          4.517513,
          8.011912,
          4.988396,
          7.4695034,
          4.6300783,
          8.0280695,
          4.4744635,
          3.5437067,
          4.116923,
          4.0420027,
          -4.361829,
          0.23962967,
          -18.043598,
          0.47555932,
          4.449436,
          3.5775034,
          0.6483669,
          0.5534037,
          4.190811,
          -1.7603189,
          4.5215178,
          0.5743127,
          -2.1117995,
          -2.1121998,
          -1.3801905,
          -1.1473395,
          0.7505001,
          -4.7326555,
          -3.0176842,
          -4.560534,
          3.8720407,
          3.3800232,
          3.6707652,
          0.005536089,
          0.5031162,
          -6.407976,
          -6.1415124,
          -6.7254972,
          2.5964775,
          -6.7625546,
          -1.4956701,
          3.5405114,
          -4.641648,
          1.6911628,
          3.858137,
          4.4804735,
          2.6028714,
          -0.094967775,
          3.9673958,
          7.5698524,
          8.156021,
          -2.391317,
          -2.6018233,
          -2.7796743,
          1.2578235,
          2.875936,
          -6.1291866,
          -1.7571877,
          3.2511303,
          2.906301,
          -2.1090417,
          2.7989938,
          -3.9434502,
          2.6587198,
          3.83469,
          3.4026,
          -5.3929105,
          -2.788623,
          -3.573544,
          0.03942146,
          -1.9588221,
          -2.4511073,
          0.42745152,
          0.82872504,
          -2.1943185,
          0.6666878,
          0.5101855,
          -2.7473447,
          -1.3704681,
          -2.2775702,
          -18.046425,
          -7.7972403,
          3.3726618,
          3.5132666,
          2.749429,
          1.2024055,
          -1.4831393,
          -1.4892058,
          0.6431616,
          5.744841,
          6.0215716,
          -2.9480617,
          -1.412087,
          1.2744467,
          -7.0707927,
          -2.0768323,
          -1.1896399,
          5.44726,
          0.7014023,
          -1.4413022,
          8.210795,
          4.1000605,
          1.9203666,
          -4.809876,
          -6.1827087,
          -7.396556,
          -0.3121761,
          1.297993,
          -7.035507,
          -6.4405804,
          -1.4838843,
          2.5778964,
          2.212804,
          1.6141124,
          -6.8189726,
          0.5132258,
          -2.259595,
          4.4646983,
          3.3635077,
          4.1969137,
          2.4986124,
          -2.8608553,
          -1.3501412,
          -4.221063,
          -0.29483357,
          1.2579367,
          -1.3536371,
          -6.2010517,
          -5.741754,
          -0.8779782,
          3.3221688,
          3.6853402,
          -1.4469125,
          1.4546325,
          -4.603162,
          0.72406447,
          5.643061,
          1.3626369,
          0.8649959,
          -0.5924124,
          4.914823,
          8.201018,
          3.9276624,
          8.435233,
          4.6096754,
          7.770147,
          4.1104326,
          8.536658,
          -5.2241926,
          -1.4912397,
          -5.9173694,
          -0.6319888,
          -7.99662,
          -3.004975,
          -0.9731848,
          -1.3772061,
          -1.9924241,
          -18.047783,
          -7.7225246,
          2.9153106,
          2.063983,
          -6.083296,
          -0.13656883,
          -7.7685404,
          4.4640565,
          3.440312,
          4.007016,
          2.6601324,
          4.656894,
          6.7825274,
          4.185377,
          7.3426714,
          -2.7737753,
          -1.338387,
          -7.34662,
          4.464328,
          3.4079397,
          4.062641,
          2.712099,
          4.4236712,
          2.6267715,
          2.7107306,
          3.3282475,
          -0.110820785,
          5.6567254,
          3.5192242,
          3.7973242,
          3.8892488,
          -3.8574233,
          3.127902,
          2.7214508,
          3.0534525,
          3.056184,
          3.9467218,
          -6.1599293,
          2.6423764,
          -3.9938695,
          2.8947644,
          -2.7610054,
          -7.207129,
          -0.008943775,
          1.5185232,
          -7.514988,
          -0.36355007,
          1.2591048,
          -0.9923279,
          -7.761287,
          -2.726742,
          -18.045824,
          -5.4273863,
          2.6963935,
          4.4738855,
          2.9760647,
          3.3129401,
          3.2916477,
          -2.1027842,
          -2.29624,
          -0.9117085,
          -1.0707443,
          -2.4326477,
          -3.874558,
          4.0181828,
          6.4341497,
          3.3114057,
          6.5016346,
          -0.034458335,
          1.5428697,
          -7.527455,
          -6.046614,
          0.6120543,
          5.850895,
          0.5748313,
          5.722547,
          -0.54659694,
          3.803214,
          -3.686045,
          6.293058,
          3.2901416,
          6.4040036,
          -6.735366,
          -1.4929963,
          4.663618,
          8.020222,
          3.7152898,
          8.414425,
          -0.39817488,
          1.2184943,
          -0.93237096,
          -7.713195,
          -0.081100754,
          1.3984909,
          -7.4966235,
          -2.848085,
          -7.5196953,
          4.561329,
          -0.2643273,
          -7.7855153,
          4.469047,
          3.3056376,
          4.108103,
          2.7035792,
          0.33384037,
          -1.974272,
          -2.0988762,
          5.7824154,
          0.95975834,
          0.95425594,
          4.9384155,
          7.14701,
          4.918477,
          4.664081,
          8.096556,
          0.8786819,
          0.60699415,
          0.51922244,
          4.6594143,
          7.1586614,
          4.9408717,
          4.59953,
          7.859758,
          4.422775,
          5.0290146,
          7.5454226,
          4.6814623,
          8.054169,
          0.6136486,
          -2.108275,
          3.955971,
          6.444784,
          2.9334095,
          4.515403,
          7.64495,
          -2.8944247,
          -4.74498,
          -3.3373106,
          4.690207,
          6.5922008,
          2.9786417,
          4.7276425,
          7.8529615,
          2.6218688,
          6.1276755,
          4.4545145,
          8.248281,
          4.311032,
          8.295749,
          -4.0363135,
          2.8183818,
          -5.86146,
          -1.4857239,
          -8.659659,
          2.6152241,
          4.728328,
          -3.1853898,
          -5.1566677,
          -2.9101176,
          -3.41842,
          -3.956059,
          -3.5874138,
          -4.9712014,
          -3.094432,
          0.5741572,
          0.2111463,
          -8.7312155,
          1.9318708,
          0.8013098,
          2.5595055,
          -3.5007915,
          -5.543556,
          -3.176327,
          -3.7706063,
          -3.1408021,
          -3.3514822,
          5.131154,
          7.7455373,
          5.0978703,
          4.549404,
          8.048567,
          4.390504,
          -6.2629213,
          2.560741,
          -0.0086459955,
          1.9827433,
          -3.3164663,
          -5.9739065,
          3.454467,
          4.4274683,
          -2.6661668,
          2.8610098,
          6.157688,
          -5.0648026,
          -4.5692644,
          -5.655572,
          -3.3565774,
          -6.994966,
          -0.10300653,
          0.59649897,
          -1.4844003,
          -8.659071,
          2.0430546,
          -4.660876,
          -5.979294,
          2.6957443,
          4.446383,
          -6.989298,
          2.566059,
          -1.0312144,
          -1.0463321,
          -1.0601058,
          3.2567804,
          -1.0679861,
          2.696336,
          2.5350955,
          0.1207892,
          1.9762566,
          -5.942973,
          4.9403286,
          7.63607,
          4.3502817,
          8.051928,
          -3.8989387,
          3.679685,
          8.303899,
          4.207397,
          8.5310955,
          0.15995356,
          0.52856326,
          -8.659609,
          1.9725432,
          -6.018336,
          -3.0964024,
          -5.2587047,
          3.940401,
          8.255326,
          4.4519157,
          8.588894,
          -3.4329078,
          2.652091,
          -2.4418516,
          6.8881607,
          4.9999533,
          4.6856065,
          7.712396,
          -0.14530645,
          2.1889553,
          -6.1438155,
          4.834464,
          7.635147,
          4.323703,
          7.9704075,
          3.8480053,
          8.294313,
          8.550442,
          4.9348645,
          7.4971786,
          4.94355,
          4.688448,
          7.9548287,
          0.9542759,
          4.8979764,
          8.213664,
          2.8986466,
          -6.1623273,
          -6.4980435,
          -4.4082317,
          -1.9652681,
          -3.3092625,
          1.0373073,
          -1.4884928,
          2.4420798,
          -4.7340703,
          -5.518653,
          -3.3933406,
          -3.7670217,
          -0.94064087,
          -2.0836284,
          -2.5269558,
          -4.1391926,
          4.9585423,
          -3.8158317,
          8.163736,
          8.286182,
          4.3463454,
          8.516136,
          3.94774,
          7.980271,
          4.3103437,
          8.582971,
          -5.6775837,
          -1.7796267,
          -3.6844852,
          -2.5312128,
          -3.782122,
          -4.8168745,
          -6.401534,
          -3.6646466,
          4.4869113,
          3.2055578,
          2.8480473,
          3.6152267,
          8.088551,
          4.1753983,
          8.552715,
          -8.590085,
          -1.4854168,
          -5.9725614,
          -3.8354008,
          -5.977375,
          -3.7657309,
          -0.6656505,
          -0.21676035,
          3.9296603,
          -7.7879663,
          8.219604,
          4.815626,
          2.7006924,
          0.7365359,
          1.3784671,
          1.1204439,
          -6.5176177,
          -1.4881012,
          0.8979515,
          2.5667589,
          -0.8273327,
          -2.3061905,
          3.8259158,
          8.24418,
          4.437592,
          8.565159,
          -0.566223,
          -2.0850835,
          -3.834668,
          -6.396157,
          -2.1037755,
          -5.3607492,
          -6.4413805,
          2.5495257,
          -5.7610807,
          -3.8764415,
          -0.17653437,
          -6.787883,
          0.7859539,
          2.5063539,
          4.9708266,
          8.272552,
          4.400061,
          2.086353,
          -6.6984334,
          -1.4888554,
          2.6291075,
          -0.5237608,
          -5.4991293,
          -0.63715136,
          -3.3686666,
          -6.1907015,
          4.992753,
          -4.4185615,
          8.214226,
          4.6533237,
          1.8513618,
          0.45986757,
          -8.653878,
          2.2580874,
          8.552645,
          -2.656179,
          -18.047152,
          -7.7875257,
          -2.885514,
          -7.1071644,
          0.6052177,
          5.8133388,
          0.90360963,
          5.924763,
          2.2831473,
          4.676029,
          4.9543815,
          4.444416,
          0.33237368,
          3.3026526,
          3.9743783,
          4.499858,
          2.664184,
          -5.990336,
          -7.4577985,
          0.30761647,
          -1.0685111,
          -1.0629903,
          4.047336,
          3.8910334,
          -2.5413685,
          2.715089,
          2.5838776,
          -6.7101665,
          -4.8752546,
          -1.4976426,
          0.5785399,
          -6.145398,
          -18.047407,
          -7.732049,
          0.5013474,
          -1.9316006,
          -2.0640423,
          4.463166,
          3.2402434,
          3.952928,
          2.7729669,
          -4.798738,
          -4.0203037,
          4.2780614,
          6.671037,
          7.121963,
          -6.193301,
          0.6834036,
          0.5042982,
          -3.8881118,
          2.9788232,
          -6.104827,
          -7.766755,
          -2.7844832,
          -7.467568,
          -18.045736,
          -3.9512389,
          4.975785,
          8.140042,
          8.339738,
          -6.136814,
          -7.7220407,
          3.318091,
          3.464525,
          0.57511616,
          -3.3776286,
          -6.3801823,
          -4.340044,
          -2.6973426,
          -1.9225127,
          -7.5208044,
          4.015476,
          -7.7498,
          -6.0787106,
          -7.8448153,
          -0.20637263,
          -3.8631845,
          2.9091406,
          4.8849416,
          8.151233,
          8.445936,
          4.0340137,
          4.065246,
          -2.4808588,
          2.5398326,
          4.233614,
          7.8645406,
          -6.661891,
          -1.497375,
          0.012547669,
          -1.4957333,
          -7.48781,
          4.364873,
          6.881421,
          3.6728163,
          6.78688,
          -0.45626915,
          -7.716314,
          -6.4740796,
          -6.124106,
          -7.4247665,
          -4.192014,
          -5.394217,
          -1.4966323,
          -5.915514,
          -7.783484,
          3.7402623,
          -2.449364,
          0.42397895,
          -7.5368176,
          -3.2716272,
          -7.2891526,
          -3.9242172,
          0.02027725,
          0.6307363,
          -1.4964163,
          -4.975181,
          -7.516549,
          -6.1016765,
          0.67631906,
          0.8577697,
          0.70230055,
          -4.852015,
          -1.4963583,
          0.34042647,
          -0.3344871,
          -7.728409,
          -0.01644745,
          -1.4970294,
          -6.3504415,
          -3.3754551,
          -3.2912745,
          -6.21096,
          -6.158773,
          -6.5177126,
          -1.4943845,
          8.029909,
          2.501512,
          -6.143052,
          -18.048092,
          -6.749565,
          -3.8982692,
          3.8659277,
          0.46313733,
          0.6440568,
          0.66444993,
          0.5726691,
          0.6509575,
          -6.047261,
          -3.2298076,
          -2.1756725,
          -0.4341681,
          -2.0291765,
          -6.5698605,
          -8.619173,
          1.9469784,
          1.4982468,
          -6.753742,
          1.7047474,
          1.5770757,
          -2.0547931,
          0.8800272,
          0.57972825,
          -1.443965,
          4.9069786,
          0.15138112,
          1.3971211,
          4.249671,
          -1.6267385,
          6.1593375,
          2.5404394,
          6.736921,
          3.423875,
          4.081423,
          4.780983,
          4.48462,
          2.066306,
          4.4837227,
          2.551038,
          -1.4816784,
          6.190374,
          2.8780632,
          5.050192,
          3.246746,
          3.4261923,
          -5.8690276,
          1.6405276,
          -1.7487823,
          -3.0226288,
          -2.5255854,
          -1.5117904,
          -2.432579,
          -1.1214278,
          -1.6903611,
          -2.0482311,
          -1.6152359,
          2.848137,
          2.6010306,
          2.6482608,
          3.5860002,
          4.1793065,
          1.9264051,
          -2.4451694,
          -2.7836096,
          -1.7596363,
          3.1790211,
          -2.1246676,
          -2.491701,
          -3.0158572,
          -6.0905824,
          -2.2134738,
          -3.131016,
          -5.9954286,
          -3.0171282,
          -0.5333039,
          2.3372157,
          -1.5015227,
          -3.3779738,
          -1.0902977,
          -1.3410078,
          3.3696687,
          -8.551669,
          -1.5069054,
          -1.8549821,
          3.2022977,
          -1.3680671,
          4.1857724,
          4.0661974,
          4.120938,
          -6.1690927,
          -4.409946,
          -6.9022503,
          1.8245767,
          1.6552424,
          -2.3227348,
          -2.9930406,
          0.07087527,
          4.584405,
          0.44771814,
          -0.34269437,
          5.0199533,
          2.2417963,
          2.6549566,
          2.7912924,
          0.34639412,
          -1.4397504,
          -0.48203987,
          -1.9482213,
          -5.9762836,
          -3.0078788,
          -2.1780531,
          -1.6878333,
          -6.9016495,
          1.4642792,
          4.4721594,
          4.896623,
          4.561015,
          1.8145862,
          -1.5113814,
          5.9439588,
          2.866738,
          4.1322846,
          3.1103659,
          0.01549942,
          -3.2035646,
          -2.3303688,
          -0.39545992,
          -1.4316998,
          -3.0062494,
          -6.7311707,
          -8.64858,
          2.020967,
          1.5428371,
          0.30391988,
          0.39748755,
          -3.8662221,
          -2.0956717,
          -2.807775,
          -1.1631968,
          -5.905276,
          1.0139573,
          -2.8402157,
          -2.829364,
          3.8703003,
          -2.9614065,
          4.8544464,
          3.0438046,
          0.19504373,
          2.341589,
          -1.1238502,
          -1.461128,
          2.5752773,
          -3.046858,
          -0.40569615,
          0.49877295,
          0.3892711,
          -4.01515,
          -8.465994,
          -8.644311,
          2.3108923,
          1.4152154,
          3.6442015,
          4.727952,
          4.664449,
          1.8240738,
          3.3119102,
          2.6179953,
          -0.4334722,
          -1.1698297,
          0.059696857,
          -1.1218972,
          -2.4370441,
          3.9287035,
          4.045488,
          2.8760316,
          -2.9765646,
          -1.8229777,
          -5.5363374,
          -3.191091,
          -3.660795,
          -2.3579972,
          -3.0461376
         ],
         "yaxis": "y"
        },
        {
         "customdata": [
          [
           "How to kill 1 zombie?"
          ]
         ],
         "hovertemplate": "source=User query<br>symbol=star<br>x=%{x}<br>y=%{y}<br>size_col=%{marker.size}<br>extract=%{customdata[0]}<extra></extra>",
         "legendgroup": "User query, star",
         "marker": {
          "color": "black",
          "line": {
           "color": "DarkSlateGrey",
           "width": 0
          },
          "opacity": 1,
          "size": [
           100
          ],
          "sizemode": "area",
          "sizeref": 0.25,
          "symbol": "diamond"
         },
         "mode": "markers",
         "name": "User query, star",
         "orientation": "v",
         "showlegend": true,
         "type": "scatter",
         "x": [
          -16.869677
         ],
         "xaxis": "x",
         "y": [
          4.091346
         ],
         "yaxis": "y"
        }
       ],
       "layout": {
        "height": 700,
        "legend": {
         "itemsizing": "constant",
         "title": {
          "text": "<b>Chunk source</b>"
         },
         "tracegroupgap": 0
        },
        "margin": {
         "t": 60
        },
        "template": {
         "data": {
          "bar": [
           {
            "error_x": {
             "color": "#2a3f5f"
            },
            "error_y": {
             "color": "#2a3f5f"
            },
            "marker": {
             "line": {
              "color": "#E5ECF6",
              "width": 0.5
             },
             "pattern": {
              "fillmode": "overlay",
              "size": 10,
              "solidity": 0.2
             }
            },
            "type": "bar"
           }
          ],
          "barpolar": [
           {
            "marker": {
             "line": {
              "color": "#E5ECF6",
              "width": 0.5
             },
             "pattern": {
              "fillmode": "overlay",
              "size": 10,
              "solidity": 0.2
             }
            },
            "type": "barpolar"
           }
          ],
          "carpet": [
           {
            "aaxis": {
             "endlinecolor": "#2a3f5f",
             "gridcolor": "white",
             "linecolor": "white",
             "minorgridcolor": "white",
             "startlinecolor": "#2a3f5f"
            },
            "baxis": {
             "endlinecolor": "#2a3f5f",
             "gridcolor": "white",
             "linecolor": "white",
             "minorgridcolor": "white",
             "startlinecolor": "#2a3f5f"
            },
            "type": "carpet"
           }
          ],
          "choropleth": [
           {
            "colorbar": {
             "outlinewidth": 0,
             "ticks": ""
            },
            "type": "choropleth"
           }
          ],
          "contour": [
           {
            "colorbar": {
             "outlinewidth": 0,
             "ticks": ""
            },
            "colorscale": [
             [
              0,
              "#0d0887"
             ],
             [
              0.1111111111111111,
              "#46039f"
             ],
             [
              0.2222222222222222,
              "#7201a8"
             ],
             [
              0.3333333333333333,
              "#9c179e"
             ],
             [
              0.4444444444444444,
              "#bd3786"
             ],
             [
              0.5555555555555556,
              "#d8576b"
             ],
             [
              0.6666666666666666,
              "#ed7953"
             ],
             [
              0.7777777777777778,
              "#fb9f3a"
             ],
             [
              0.8888888888888888,
              "#fdca26"
             ],
             [
              1,
              "#f0f921"
             ]
            ],
            "type": "contour"
           }
          ],
          "contourcarpet": [
           {
            "colorbar": {
             "outlinewidth": 0,
             "ticks": ""
            },
            "type": "contourcarpet"
           }
          ],
          "heatmap": [
           {
            "colorbar": {
             "outlinewidth": 0,
             "ticks": ""
            },
            "colorscale": [
             [
              0,
              "#0d0887"
             ],
             [
              0.1111111111111111,
              "#46039f"
             ],
             [
              0.2222222222222222,
              "#7201a8"
             ],
             [
              0.3333333333333333,
              "#9c179e"
             ],
             [
              0.4444444444444444,
              "#bd3786"
             ],
             [
              0.5555555555555556,
              "#d8576b"
             ],
             [
              0.6666666666666666,
              "#ed7953"
             ],
             [
              0.7777777777777778,
              "#fb9f3a"
             ],
             [
              0.8888888888888888,
              "#fdca26"
             ],
             [
              1,
              "#f0f921"
             ]
            ],
            "type": "heatmap"
           }
          ],
          "heatmapgl": [
           {
            "colorbar": {
             "outlinewidth": 0,
             "ticks": ""
            },
            "colorscale": [
             [
              0,
              "#0d0887"
             ],
             [
              0.1111111111111111,
              "#46039f"
             ],
             [
              0.2222222222222222,
              "#7201a8"
             ],
             [
              0.3333333333333333,
              "#9c179e"
             ],
             [
              0.4444444444444444,
              "#bd3786"
             ],
             [
              0.5555555555555556,
              "#d8576b"
             ],
             [
              0.6666666666666666,
              "#ed7953"
             ],
             [
              0.7777777777777778,
              "#fb9f3a"
             ],
             [
              0.8888888888888888,
              "#fdca26"
             ],
             [
              1,
              "#f0f921"
             ]
            ],
            "type": "heatmapgl"
           }
          ],
          "histogram": [
           {
            "marker": {
             "pattern": {
              "fillmode": "overlay",
              "size": 10,
              "solidity": 0.2
             }
            },
            "type": "histogram"
           }
          ],
          "histogram2d": [
           {
            "colorbar": {
             "outlinewidth": 0,
             "ticks": ""
            },
            "colorscale": [
             [
              0,
              "#0d0887"
             ],
             [
              0.1111111111111111,
              "#46039f"
             ],
             [
              0.2222222222222222,
              "#7201a8"
             ],
             [
              0.3333333333333333,
              "#9c179e"
             ],
             [
              0.4444444444444444,
              "#bd3786"
             ],
             [
              0.5555555555555556,
              "#d8576b"
             ],
             [
              0.6666666666666666,
              "#ed7953"
             ],
             [
              0.7777777777777778,
              "#fb9f3a"
             ],
             [
              0.8888888888888888,
              "#fdca26"
             ],
             [
              1,
              "#f0f921"
             ]
            ],
            "type": "histogram2d"
           }
          ],
          "histogram2dcontour": [
           {
            "colorbar": {
             "outlinewidth": 0,
             "ticks": ""
            },
            "colorscale": [
             [
              0,
              "#0d0887"
             ],
             [
              0.1111111111111111,
              "#46039f"
             ],
             [
              0.2222222222222222,
              "#7201a8"
             ],
             [
              0.3333333333333333,
              "#9c179e"
             ],
             [
              0.4444444444444444,
              "#bd3786"
             ],
             [
              0.5555555555555556,
              "#d8576b"
             ],
             [
              0.6666666666666666,
              "#ed7953"
             ],
             [
              0.7777777777777778,
              "#fb9f3a"
             ],
             [
              0.8888888888888888,
              "#fdca26"
             ],
             [
              1,
              "#f0f921"
             ]
            ],
            "type": "histogram2dcontour"
           }
          ],
          "mesh3d": [
           {
            "colorbar": {
             "outlinewidth": 0,
             "ticks": ""
            },
            "type": "mesh3d"
           }
          ],
          "parcoords": [
           {
            "line": {
             "colorbar": {
              "outlinewidth": 0,
              "ticks": ""
             }
            },
            "type": "parcoords"
           }
          ],
          "pie": [
           {
            "automargin": true,
            "type": "pie"
           }
          ],
          "scatter": [
           {
            "fillpattern": {
             "fillmode": "overlay",
             "size": 10,
             "solidity": 0.2
            },
            "type": "scatter"
           }
          ],
          "scatter3d": [
           {
            "line": {
             "colorbar": {
              "outlinewidth": 0,
              "ticks": ""
             }
            },
            "marker": {
             "colorbar": {
              "outlinewidth": 0,
              "ticks": ""
             }
            },
            "type": "scatter3d"
           }
          ],
          "scattercarpet": [
           {
            "marker": {
             "colorbar": {
              "outlinewidth": 0,
              "ticks": ""
             }
            },
            "type": "scattercarpet"
           }
          ],
          "scattergeo": [
           {
            "marker": {
             "colorbar": {
              "outlinewidth": 0,
              "ticks": ""
             }
            },
            "type": "scattergeo"
           }
          ],
          "scattergl": [
           {
            "marker": {
             "colorbar": {
              "outlinewidth": 0,
              "ticks": ""
             }
            },
            "type": "scattergl"
           }
          ],
          "scattermapbox": [
           {
            "marker": {
             "colorbar": {
              "outlinewidth": 0,
              "ticks": ""
             }
            },
            "type": "scattermapbox"
           }
          ],
          "scatterpolar": [
           {
            "marker": {
             "colorbar": {
              "outlinewidth": 0,
              "ticks": ""
             }
            },
            "type": "scatterpolar"
           }
          ],
          "scatterpolargl": [
           {
            "marker": {
             "colorbar": {
              "outlinewidth": 0,
              "ticks": ""
             }
            },
            "type": "scatterpolargl"
           }
          ],
          "scatterternary": [
           {
            "marker": {
             "colorbar": {
              "outlinewidth": 0,
              "ticks": ""
             }
            },
            "type": "scatterternary"
           }
          ],
          "surface": [
           {
            "colorbar": {
             "outlinewidth": 0,
             "ticks": ""
            },
            "colorscale": [
             [
              0,
              "#0d0887"
             ],
             [
              0.1111111111111111,
              "#46039f"
             ],
             [
              0.2222222222222222,
              "#7201a8"
             ],
             [
              0.3333333333333333,
              "#9c179e"
             ],
             [
              0.4444444444444444,
              "#bd3786"
             ],
             [
              0.5555555555555556,
              "#d8576b"
             ],
             [
              0.6666666666666666,
              "#ed7953"
             ],
             [
              0.7777777777777778,
              "#fb9f3a"
             ],
             [
              0.8888888888888888,
              "#fdca26"
             ],
             [
              1,
              "#f0f921"
             ]
            ],
            "type": "surface"
           }
          ],
          "table": [
           {
            "cells": {
             "fill": {
              "color": "#EBF0F8"
             },
             "line": {
              "color": "white"
             }
            },
            "header": {
             "fill": {
              "color": "#C8D4E3"
             },
             "line": {
              "color": "white"
             }
            },
            "type": "table"
           }
          ]
         },
         "layout": {
          "annotationdefaults": {
           "arrowcolor": "#2a3f5f",
           "arrowhead": 0,
           "arrowwidth": 1
          },
          "autotypenumbers": "strict",
          "coloraxis": {
           "colorbar": {
            "outlinewidth": 0,
            "ticks": ""
           }
          },
          "colorscale": {
           "diverging": [
            [
             0,
             "#8e0152"
            ],
            [
             0.1,
             "#c51b7d"
            ],
            [
             0.2,
             "#de77ae"
            ],
            [
             0.3,
             "#f1b6da"
            ],
            [
             0.4,
             "#fde0ef"
            ],
            [
             0.5,
             "#f7f7f7"
            ],
            [
             0.6,
             "#e6f5d0"
            ],
            [
             0.7,
             "#b8e186"
            ],
            [
             0.8,
             "#7fbc41"
            ],
            [
             0.9,
             "#4d9221"
            ],
            [
             1,
             "#276419"
            ]
           ],
           "sequential": [
            [
             0,
             "#0d0887"
            ],
            [
             0.1111111111111111,
             "#46039f"
            ],
            [
             0.2222222222222222,
             "#7201a8"
            ],
            [
             0.3333333333333333,
             "#9c179e"
            ],
            [
             0.4444444444444444,
             "#bd3786"
            ],
            [
             0.5555555555555556,
             "#d8576b"
            ],
            [
             0.6666666666666666,
             "#ed7953"
            ],
            [
             0.7777777777777778,
             "#fb9f3a"
            ],
            [
             0.8888888888888888,
             "#fdca26"
            ],
            [
             1,
             "#f0f921"
            ]
           ],
           "sequentialminus": [
            [
             0,
             "#0d0887"
            ],
            [
             0.1111111111111111,
             "#46039f"
            ],
            [
             0.2222222222222222,
             "#7201a8"
            ],
            [
             0.3333333333333333,
             "#9c179e"
            ],
            [
             0.4444444444444444,
             "#bd3786"
            ],
            [
             0.5555555555555556,
             "#d8576b"
            ],
            [
             0.6666666666666666,
             "#ed7953"
            ],
            [
             0.7777777777777778,
             "#fb9f3a"
            ],
            [
             0.8888888888888888,
             "#fdca26"
            ],
            [
             1,
             "#f0f921"
            ]
           ]
          },
          "colorway": [
           "#636efa",
           "#EF553B",
           "#00cc96",
           "#ab63fa",
           "#FFA15A",
           "#19d3f3",
           "#FF6692",
           "#B6E880",
           "#FF97FF",
           "#FECB52"
          ],
          "font": {
           "color": "#2a3f5f"
          },
          "geo": {
           "bgcolor": "white",
           "lakecolor": "white",
           "landcolor": "#E5ECF6",
           "showlakes": true,
           "showland": true,
           "subunitcolor": "white"
          },
          "hoverlabel": {
           "align": "left"
          },
          "hovermode": "closest",
          "mapbox": {
           "style": "light"
          },
          "paper_bgcolor": "white",
          "plot_bgcolor": "#E5ECF6",
          "polar": {
           "angularaxis": {
            "gridcolor": "white",
            "linecolor": "white",
            "ticks": ""
           },
           "bgcolor": "#E5ECF6",
           "radialaxis": {
            "gridcolor": "white",
            "linecolor": "white",
            "ticks": ""
           }
          },
          "scene": {
           "xaxis": {
            "backgroundcolor": "#E5ECF6",
            "gridcolor": "white",
            "gridwidth": 2,
            "linecolor": "white",
            "showbackground": true,
            "ticks": "",
            "zerolinecolor": "white"
           },
           "yaxis": {
            "backgroundcolor": "#E5ECF6",
            "gridcolor": "white",
            "gridwidth": 2,
            "linecolor": "white",
            "showbackground": true,
            "ticks": "",
            "zerolinecolor": "white"
           },
           "zaxis": {
            "backgroundcolor": "#E5ECF6",
            "gridcolor": "white",
            "gridwidth": 2,
            "linecolor": "white",
            "showbackground": true,
            "ticks": "",
            "zerolinecolor": "white"
           }
          },
          "shapedefaults": {
           "line": {
            "color": "#2a3f5f"
           }
          },
          "ternary": {
           "aaxis": {
            "gridcolor": "white",
            "linecolor": "white",
            "ticks": ""
           },
           "baxis": {
            "gridcolor": "white",
            "linecolor": "white",
            "ticks": ""
           },
           "bgcolor": "#E5ECF6",
           "caxis": {
            "gridcolor": "white",
            "linecolor": "white",
            "ticks": ""
           }
          },
          "title": {
           "x": 0.05
          },
          "xaxis": {
           "automargin": true,
           "gridcolor": "white",
           "linecolor": "white",
           "ticks": "",
           "title": {
            "standoff": 15
           },
           "zerolinecolor": "white",
           "zerolinewidth": 2
          },
          "yaxis": {
           "automargin": true,
           "gridcolor": "white",
           "linecolor": "white",
           "ticks": "",
           "title": {
            "standoff": 15
           },
           "zerolinecolor": "white",
           "zerolinewidth": 2
          }
         }
        },
        "title": {
         "text": "<b>2D Projection of Chunk Embeddings via PaCMAP</b>"
        },
        "width": 1000,
        "xaxis": {
         "anchor": "y",
         "domain": [
          0,
          1
         ],
         "title": {
          "text": "x"
         }
        },
        "yaxis": {
         "anchor": "x",
         "domain": [
          0,
          1
         ],
         "title": {
          "text": "y"
         }
        }
       }
      }
     },
     "metadata": {},
     "output_type": "display_data"
    }
   ],
   "source": [
    "user_query = \"How to kill 1 zombie?\"\n",
    "\n",
    "visualise_query_distrib(user_query)"
   ]
  },
  {
   "cell_type": "code",
   "execution_count": 51,
   "metadata": {},
   "outputs": [
    {
     "name": "stdout",
     "output_type": "stream",
     "text": [
      "\n",
      "Starting retrieval for user_query='How to kill 1 zombie?'...\n"
     ]
    },
    {
     "name": "stderr",
     "output_type": "stream",
     "text": [
      "huggingface/tokenizers: The current process just got forked, after parallelism has already been used. Disabling parallelism to avoid deadlocks...\n",
      "To disable this warning, you can either:\n",
      "\t- Avoid using `tokenizers` before the fork if possible\n",
      "\t- Explicitly set the environment variable TOKENIZERS_PARALLELISM=(true | false)\n"
     ]
    },
    {
     "name": "stdout",
     "output_type": "stream",
     "text": [
      "\n",
      "==================================Top document==================================\n",
      "await killMob(bot, \"skeleton\", 300);\n",
      "      bot.chat(\"Killed 1 skeleton.\");\n",
      "    }\n",
      "  } else {\n",
      "    bot.chat(\"Could not find a skeleton.\");\n",
      "  }\n",
      "}\n",
      "==================================Metadata==================================\n",
      "{'source': '/home/atomwalk12/repos/QuestLlama/questllama/skill_library/trial6/skill/code/killOneSkeletonWithBow.js', 'start_index': 1067}\n"
     ]
    }
   ],
   "source": [
    "print(f\"\\nStarting retrieval for {user_query=}...\")\n",
    "retrieved_docs = KNOWLEDGE_VECTOR_DATABASE.similarity_search(query=user_query, k=5)\n",
    "print(\"\\n==================================Top document==================================\")\n",
    "print(retrieved_docs[0].page_content)\n",
    "print(\"==================================Metadata==================================\")\n",
    "print(retrieved_docs[0].metadata)"
   ]
  },
  {
   "cell_type": "markdown",
   "metadata": {},
   "source": [
    "# Experiments\n",
    "Below are the parameters used to carry out the experiments. They are ordered by their importance and there are shown some modifications which I would also like to carry out.\n",
    "- Use another evaluator: WizardLM, WizardCoder, Llama 3."
   ]
  },
  {
   "cell_type": "code",
   "execution_count": 218,
   "metadata": {},
   "outputs": [
    {
     "name": "stdout",
     "output_type": "stream",
     "text": [
      "\n",
      "================= Experiment 0 =================\n",
      "Number of samples in the experiment: 100\n",
      "Below is the test configuration:\n",
      "Chunk size: 128\n",
      "Embedding used: flax-sentence-embeddings~st-codesearch-distilroberta-base\n",
      "Rerank used: True\n",
      "Number of final documents added to the context: 3\n",
      "Number of retrieved documents: 30\n",
      "Evaluated model: deepseek-coder~33b-instruct-q5~K~M\n",
      "Evaluator model: gattipg~prometheus~13b-v1.0-Q\n",
      "\n",
      "================= Experiment 1 =================\n",
      "Number of samples in the experiment: 48\n",
      "Below is the test configuration:\n",
      "Chunk size: 128\n",
      "Embedding used: flax-sentence-embeddings~st-codesearch-distilroberta-base\n",
      "Rerank used: False\n",
      "Number of final documents added to the context: 3\n",
      "Number of retrieved documents: 30\n",
      "Evaluated model: deepseek-coder~33b-instruct-q5~K~M\n",
      "Evaluator model: gattipg~prometheus~13b-v1.0-Q\n"
     ]
    }
   ],
   "source": [
    "experiments = {}\n",
    "for file in glob.glob(\"./output/*.json\"):\n",
    "    if os.path.isfile(file):\n",
    "        with open(file, \"r\") as f:\n",
    "            experiment_data = json.load(f)\n",
    "        df = pd.DataFrame(experiment_data)\n",
    "      \n",
    "        key = f\"rerank={'rerank:True' in file}\"\n",
    "        experiments[key] = df\n",
    "\n",
    "for i, experiment in enumerate(experiments.values()):\n",
    "    print(f\"\\n================= Experiment {i} =================\")\n",
    "    print_test_settings(experiment)\n"
   ]
  },
  {
   "cell_type": "code",
   "execution_count": 219,
   "metadata": {},
   "outputs": [
    {
     "name": "stdout",
     "output_type": "stream",
     "text": [
      "Data generated for each experiment:\n",
      "<class 'pandas.core.frame.DataFrame'>\n",
      "RangeIndex: 100 entries, 0 to 99\n",
      "Data columns (total 9 columns):\n",
      " #   Column                                            Non-Null Count  Dtype \n",
      "---  ------                                            --------------  ----- \n",
      " 0   question                                          100 non-null    object\n",
      " 1   true_answer                                       100 non-null    object\n",
      " 2   source_doc                                        100 non-null    object\n",
      " 3   generated_answer                                  100 non-null    object\n",
      " 4   retrieved_docs                                    100 non-null    object\n",
      " 5   description                                       100 non-null    object\n",
      " 6   test_settings                                     100 non-null    object\n",
      " 7   eval_score_gattipg/prometheus:13b-v1.0-Q5_K_M     100 non-null    object\n",
      " 8   eval_feedback_gattipg/prometheus:13b-v1.0-Q5_K_M  100 non-null    object\n",
      "dtypes: object(9)\n",
      "memory usage: 7.2+ KB\n"
     ]
    }
   ],
   "source": [
    "print(\"Data generated for each experiment:\")\n",
    "experiments['rerank=True'].info()"
   ]
  },
  {
   "cell_type": "code",
   "execution_count": 226,
   "metadata": {},
   "outputs": [
    {
     "name": "stdout",
     "output_type": "stream",
     "text": [
      "\n",
      "================= Task index: 14 =================\n",
      "Question: How to kill three chickens in Minecraft?\n",
      "\n",
      "================= Generated evaluation =================\n",
      "Explain: The provided code snippets are not complete and do not fulfill the task of killing three chickens in Minecraft. They only provide examples for exploring until finding a chicken but do not actually kill it. Also, they do not handle inventory management or error checking which is crucial for completing tasks in Minecraft.\n",
      "\n",
      "Plan: \n",
      "1) First, we need to equip a weapon (preferably a sword) to kill the chickens. We can check if the bot has a stone_sword or wooden_sword in its inventory and equip it. If not, we should stop the function as there is no way to proceed.\n",
      "2) After equipping the weapon, we need to find three chickens. We can use the `exploreUntil` function for this purpose. The direction of exploration should be randomized every time to avoid getting stuck in a loop.\n",
      "3) Once we have found a chicken, we can attack it using the `bot.attack` method. This will cause the bot to start killing the chicken until it is dead or the timeout is reached.\n",
      "4) After killing a chicken, we should check if there are still chickens left to kill. If not, we can stop the function. Otherwise, we continue with the next chicken.\n",
      "5) We need to handle errors and edge cases such as when the bot does not have a weapon or when it cannot find a chicken within the timeout period.\n",
      "6) Finally, we should chat about the progress of killing chickens using `bot.chat`.\n",
      "\n",
      "Code:\n",
      "```javascript\n",
      "async function killThreeChickens(bot) {\n",
      "  // Equip a weapon (preferably a sword) to kill the chickens\n",
      "  const sword = bot.inventory.findInventoryItem(mcData.itemsByName[\"stone_sword\"].id) || bot.inventory.findInventoryItem(mcData.itemsByName[\"wooden_sword\"].id);\n",
      "  if (sword) {\n",
      "    await bot.equip(sword, \"hand\");\n",
      "  } else {\n",
      "    bot.chat(\"I don't have a weapon to kill the chickens.\");\n",
      "    return;\n",
      "  }\n",
      "  \n",
      "  for (let i = 0; i < 3; i++) {\n",
      "    // Explore until finding a chicken\n",
      "    const chicken = await exploreUntil(bot, new Vec3(1, 0, 1), 60, () => {\n",
      "      return bot.nearestEntity(entity => entity.name === \"chicken\");\n",
      "    });\n",
      "    \n",
      "    if (chicken) {\n",
      "      // Attack the chicken until it is dead or timeout is reached\n",
      "      await bot.pvp.attack(chicken);\n",
      "      \n",
      "      // Check if there are still chickens left to kill\n",
      "      const remainingChickens = bot.nearestEntity((entity) => entity.name === \"chicken\");\n",
      "      if (!remainingChickens) {\n",
      "        bot.chat(\"All chickens have been killed.\");\n",
      "        return;\n",
      "      }\n",
      "    } else {\n",
      "      bot.chat(`Could not find chicken ${i + 1}/3.`);\n",
      "      break;\n",
      "    }\n",
      "    \n",
      "    bot.chat(`Killed chicken ${i + 1}/3.`);\n",
      "  }\n",
      "  \n",
      "  bot.chat(\"Could not find enough chickens.\");\n",
      "}\n",
      "```\n",
      "\n",
      "\n",
      "================= Ideal solution =================\n",
      "async function killThreeChickens(bot) {\n",
      "  for (let i = 0; i < 3; i++) {\n",
      "    // Explore until finding a chicken\n",
      "    const chicken = await exploreUntil(bot, new Vec3(1, 0, 1), 60, () => {\n",
      "      const chicken = bot.nearestEntity(entity => {\n",
      "        return entity.name === \"chicken\" && entity.position.distanceTo(bot.entity.position) < 32;\n",
      "      });\n",
      "      return chicken;\n",
      "    });\n",
      "    if (chicken) {\n",
      "      // Kill the chicken\n",
      "      await killMob(bot, \"chicken\", 300);\n",
      "      bot.chat(`Killed chicken ${i + 1}/3.`);\n",
      "    } else {\n",
      "      bot.chat(\"Could not find enough chickens.\");\n",
      "      break;\n",
      "    }\n",
      "  }\n",
      "}\n",
      "\n",
      "================= Generated evaluation =================\n",
      "The response provided does not meet the requirements of the task as it doesn't provide a solution to kill three chickens in Minecraft. Instead, it explains why the given code snippets are incomplete and do not fulfill the task. The proposed plan is also incorrect as it doesn't include any actual killing of chickens. It only talks about exploring until finding a chicken and attacking it but does not provide any method to kill the chicken. Furthermore, the response fails to use any predefined helper functions like `killMob` which was available in the reference answer. So the overall score is 1 as the response is completely incorrect, inaccurate, and/or not factual based on the reference answer.\n",
      "\n",
      "Evaluation score: 1\n"
     ]
    }
   ],
   "source": [
    "rerank = False # can be true or false to retrieve the corresponding experiment\n",
    "\n",
    "# Choose a random problem from the experiment defined above\n",
    "experiment = experiments[f'rerank={rerank}']\n",
    "\n",
    "# Select a random index\n",
    "idx = random.randint(0, len(experiment) - 1)\n",
    "\n",
    "print(f\"\\n================= Task index: {idx} =================\")\n",
    "print(f\"Question: {experiment['question'][idx]}\")\n",
    "\n",
    "print(\"\\n================= Generated evaluation =================\")\n",
    "print(experiment['generated_answer'][idx])\n",
    "\n",
    "print(\"\\n================= Ideal solution =================\")\n",
    "print(experiment['true_answer'][idx])\n",
    "\n",
    "print(\"\\n================= Generated evaluation =================\")\n",
    "print(experiment['eval_feedback_gattipg/prometheus:13b-v1.0-Q5_K_M'][idx])\n",
    "\n",
    "print(f\"\\nEvaluation score: {experiment['eval_score_gattipg/prometheus:13b-v1.0-Q5_K_M'][idx]}\")"
   ]
  },
  {
   "cell_type": "markdown",
   "metadata": {},
   "source": [
    "## Distribution of the votes"
   ]
  },
  {
   "cell_type": "code",
   "execution_count": 199,
   "metadata": {},
   "outputs": [
    {
     "data": {
      "image/png": "[encoded data removed]",
      "text/plain": [
       "<Figure size 640x480 with 1 Axes>"
      ]
     },
     "metadata": {},
     "output_type": "display_data"
    },
    {
     "name": "stdout",
     "output_type": "stream",
     "text": [
      "Total number of samples in the experiment 100\n"
     ]
    }
   ],
   "source": [
    "rerank = True # can be true or false to retrieve the corresponding experiment\n",
    "experiment = experiments[f'rerank={rerank}']\n",
    "\n",
    "scores =  [int(score) for score in experiment['eval_score_gattipg/prometheus:13b-v1.0-Q5_K_M']]\n",
    "\n",
    "# Calculate the minimum and maximum scores, expanded by 0.5 on each side for proper binning\n",
    "min_score = min(scores) - 0.5\n",
    "max_score = max(scores) + 0.5\n",
    "\n",
    "# Generate bin edges from min to max with each bin size of 1\n",
    "bins = np.arange(min_score, max_score + 1, 1)\n",
    "\n",
    "# Plotting the histogrm\n",
    "plt.hist(scores, bins=bins, rwidth=0.7)\n",
    "plt.xticks(np.arange(min(scores), max(scores) + 1))\n",
    "\n",
    "# Display the plot\n",
    "plt.show()\n",
    "print(f\"Total number of samples in the experiment {len(experiment)}\")"
   ]
  },
  {
   "cell_type": "code",
   "execution_count": 194,
   "metadata": {},
   "outputs": [
    {
     "data": {
      "application/vnd.plotly.v1+json": {
       "config": {
        "plotlyServerURL": "https://plot.ly"
       },
       "data": [
        {
         "alignmentgroup": "True",
         "hovertemplate": "index=%{x}<br>Accuracy=%{y}<br>color=%{marker.color}<extra></extra>",
         "legendgroup": "",
         "marker": {
          "color": [
           22.395833333333336,
           25
          ],
          "coloraxis": "coloraxis",
          "pattern": {
           "shape": ""
          }
         },
         "name": "",
         "offsetgroup": "",
         "orientation": "v",
         "showlegend": false,
         "textposition": "outside",
         "texttemplate": "%{y:.1f}",
         "type": "bar",
         "x": [
          "rerank=False",
          "rerank=True"
         ],
         "xaxis": "x",
         "y": [
          22.395833333333336,
          25
         ],
         "yaxis": "y"
        }
       ],
       "layout": {
        "barmode": "group",
        "coloraxis": {
         "colorbar": {
          "title": {
           "text": "color"
          }
         },
         "colorscale": [
          [
           0,
           "rgb(0,0,255)"
          ],
          [
           1,
           "rgb(255,0,0)"
          ]
         ],
         "showscale": false
        },
        "font": {
         "size": 15
        },
        "height": 600,
        "legend": {
         "tracegroupgap": 0
        },
        "margin": {
         "t": 60
        },
        "template": {
         "data": {
          "bar": [
           {
            "error_x": {
             "color": "#2a3f5f"
            },
            "error_y": {
             "color": "#2a3f5f"
            },
            "marker": {
             "line": {
              "color": "#E5ECF6",
              "width": 0.5
             },
             "pattern": {
              "fillmode": "overlay",
              "size": 10,
              "solidity": 0.2
             }
            },
            "type": "bar"
           }
          ],
          "barpolar": [
           {
            "marker": {
             "line": {
              "color": "#E5ECF6",
              "width": 0.5
             },
             "pattern": {
              "fillmode": "overlay",
              "size": 10,
              "solidity": 0.2
             }
            },
            "type": "barpolar"
           }
          ],
          "carpet": [
           {
            "aaxis": {
             "endlinecolor": "#2a3f5f",
             "gridcolor": "white",
             "linecolor": "white",
             "minorgridcolor": "white",
             "startlinecolor": "#2a3f5f"
            },
            "baxis": {
             "endlinecolor": "#2a3f5f",
             "gridcolor": "white",
             "linecolor": "white",
             "minorgridcolor": "white",
             "startlinecolor": "#2a3f5f"
            },
            "type": "carpet"
           }
          ],
          "choropleth": [
           {
            "colorbar": {
             "outlinewidth": 0,
             "ticks": ""
            },
            "type": "choropleth"
           }
          ],
          "contour": [
           {
            "colorbar": {
             "outlinewidth": 0,
             "ticks": ""
            },
            "colorscale": [
             [
              0,
              "#0d0887"
             ],
             [
              0.1111111111111111,
              "#46039f"
             ],
             [
              0.2222222222222222,
              "#7201a8"
             ],
             [
              0.3333333333333333,
              "#9c179e"
             ],
             [
              0.4444444444444444,
              "#bd3786"
             ],
             [
              0.5555555555555556,
              "#d8576b"
             ],
             [
              0.6666666666666666,
              "#ed7953"
             ],
             [
              0.7777777777777778,
              "#fb9f3a"
             ],
             [
              0.8888888888888888,
              "#fdca26"
             ],
             [
              1,
              "#f0f921"
             ]
            ],
            "type": "contour"
           }
          ],
          "contourcarpet": [
           {
            "colorbar": {
             "outlinewidth": 0,
             "ticks": ""
            },
            "type": "contourcarpet"
           }
          ],
          "heatmap": [
           {
            "colorbar": {
             "outlinewidth": 0,
             "ticks": ""
            },
            "colorscale": [
             [
              0,
              "#0d0887"
             ],
             [
              0.1111111111111111,
              "#46039f"
             ],
             [
              0.2222222222222222,
              "#7201a8"
             ],
             [
              0.3333333333333333,
              "#9c179e"
             ],
             [
              0.4444444444444444,
              "#bd3786"
             ],
             [
              0.5555555555555556,
              "#d8576b"
             ],
             [
              0.6666666666666666,
              "#ed7953"
             ],
             [
              0.7777777777777778,
              "#fb9f3a"
             ],
             [
              0.8888888888888888,
              "#fdca26"
             ],
             [
              1,
              "#f0f921"
             ]
            ],
            "type": "heatmap"
           }
          ],
          "heatmapgl": [
           {
            "colorbar": {
             "outlinewidth": 0,
             "ticks": ""
            },
            "colorscale": [
             [
              0,
              "#0d0887"
             ],
             [
              0.1111111111111111,
              "#46039f"
             ],
             [
              0.2222222222222222,
              "#7201a8"
             ],
             [
              0.3333333333333333,
              "#9c179e"
             ],
             [
              0.4444444444444444,
              "#bd3786"
             ],
             [
              0.5555555555555556,
              "#d8576b"
             ],
             [
              0.6666666666666666,
              "#ed7953"
             ],
             [
              0.7777777777777778,
              "#fb9f3a"
             ],
             [
              0.8888888888888888,
              "#fdca26"
             ],
             [
              1,
              "#f0f921"
             ]
            ],
            "type": "heatmapgl"
           }
          ],
          "histogram": [
           {
            "marker": {
             "pattern": {
              "fillmode": "overlay",
              "size": 10,
              "solidity": 0.2
             }
            },
            "type": "histogram"
           }
          ],
          "histogram2d": [
           {
            "colorbar": {
             "outlinewidth": 0,
             "ticks": ""
            },
            "colorscale": [
             [
              0,
              "#0d0887"
             ],
             [
              0.1111111111111111,
              "#46039f"
             ],
             [
              0.2222222222222222,
              "#7201a8"
             ],
             [
              0.3333333333333333,
              "#9c179e"
             ],
             [
              0.4444444444444444,
              "#bd3786"
             ],
             [
              0.5555555555555556,
              "#d8576b"
             ],
             [
              0.6666666666666666,
              "#ed7953"
             ],
             [
              0.7777777777777778,
              "#fb9f3a"
             ],
             [
              0.8888888888888888,
              "#fdca26"
             ],
             [
              1,
              "#f0f921"
             ]
            ],
            "type": "histogram2d"
           }
          ],
          "histogram2dcontour": [
           {
            "colorbar": {
             "outlinewidth": 0,
             "ticks": ""
            },
            "colorscale": [
             [
              0,
              "#0d0887"
             ],
             [
              0.1111111111111111,
              "#46039f"
             ],
             [
              0.2222222222222222,
              "#7201a8"
             ],
             [
              0.3333333333333333,
              "#9c179e"
             ],
             [
              0.4444444444444444,
              "#bd3786"
             ],
             [
              0.5555555555555556,
              "#d8576b"
             ],
             [
              0.6666666666666666,
              "#ed7953"
             ],
             [
              0.7777777777777778,
              "#fb9f3a"
             ],
             [
              0.8888888888888888,
              "#fdca26"
             ],
             [
              1,
              "#f0f921"
             ]
            ],
            "type": "histogram2dcontour"
           }
          ],
          "mesh3d": [
           {
            "colorbar": {
             "outlinewidth": 0,
             "ticks": ""
            },
            "type": "mesh3d"
           }
          ],
          "parcoords": [
           {
            "line": {
             "colorbar": {
              "outlinewidth": 0,
              "ticks": ""
             }
            },
            "type": "parcoords"
           }
          ],
          "pie": [
           {
            "automargin": true,
            "type": "pie"
           }
          ],
          "scatter": [
           {
            "fillpattern": {
             "fillmode": "overlay",
             "size": 10,
             "solidity": 0.2
            },
            "type": "scatter"
           }
          ],
          "scatter3d": [
           {
            "line": {
             "colorbar": {
              "outlinewidth": 0,
              "ticks": ""
             }
            },
            "marker": {
             "colorbar": {
              "outlinewidth": 0,
              "ticks": ""
             }
            },
            "type": "scatter3d"
           }
          ],
          "scattercarpet": [
           {
            "marker": {
             "colorbar": {
              "outlinewidth": 0,
              "ticks": ""
             }
            },
            "type": "scattercarpet"
           }
          ],
          "scattergeo": [
           {
            "marker": {
             "colorbar": {
              "outlinewidth": 0,
              "ticks": ""
             }
            },
            "type": "scattergeo"
           }
          ],
          "scattergl": [
           {
            "marker": {
             "colorbar": {
              "outlinewidth": 0,
              "ticks": ""
             }
            },
            "type": "scattergl"
           }
          ],
          "scattermapbox": [
           {
            "marker": {
             "colorbar": {
              "outlinewidth": 0,
              "ticks": ""
             }
            },
            "type": "scattermapbox"
           }
          ],
          "scatterpolar": [
           {
            "marker": {
             "colorbar": {
              "outlinewidth": 0,
              "ticks": ""
             }
            },
            "type": "scatterpolar"
           }
          ],
          "scatterpolargl": [
           {
            "marker": {
             "colorbar": {
              "outlinewidth": 0,
              "ticks": ""
             }
            },
            "type": "scatterpolargl"
           }
          ],
          "scatterternary": [
           {
            "marker": {
             "colorbar": {
              "outlinewidth": 0,
              "ticks": ""
             }
            },
            "type": "scatterternary"
           }
          ],
          "surface": [
           {
            "colorbar": {
             "outlinewidth": 0,
             "ticks": ""
            },
            "colorscale": [
             [
              0,
              "#0d0887"
             ],
             [
              0.1111111111111111,
              "#46039f"
             ],
             [
              0.2222222222222222,
              "#7201a8"
             ],
             [
              0.3333333333333333,
              "#9c179e"
             ],
             [
              0.4444444444444444,
              "#bd3786"
             ],
             [
              0.5555555555555556,
              "#d8576b"
             ],
             [
              0.6666666666666666,
              "#ed7953"
             ],
             [
              0.7777777777777778,
              "#fb9f3a"
             ],
             [
              0.8888888888888888,
              "#fdca26"
             ],
             [
              1,
              "#f0f921"
             ]
            ],
            "type": "surface"
           }
          ],
          "table": [
           {
            "cells": {
             "fill": {
              "color": "#EBF0F8"
             },
             "line": {
              "color": "white"
             }
            },
            "header": {
             "fill": {
              "color": "#C8D4E3"
             },
             "line": {
              "color": "white"
             }
            },
            "type": "table"
           }
          ]
         },
         "layout": {
          "annotationdefaults": {
           "arrowcolor": "#2a3f5f",
           "arrowhead": 0,
           "arrowwidth": 1
          },
          "autotypenumbers": "strict",
          "coloraxis": {
           "colorbar": {
            "outlinewidth": 0,
            "ticks": ""
           }
          },
          "colorscale": {
           "diverging": [
            [
             0,
             "#8e0152"
            ],
            [
             0.1,
             "#c51b7d"
            ],
            [
             0.2,
             "#de77ae"
            ],
            [
             0.3,
             "#f1b6da"
            ],
            [
             0.4,
             "#fde0ef"
            ],
            [
             0.5,
             "#f7f7f7"
            ],
            [
             0.6,
             "#e6f5d0"
            ],
            [
             0.7,
             "#b8e186"
            ],
            [
             0.8,
             "#7fbc41"
            ],
            [
             0.9,
             "#4d9221"
            ],
            [
             1,
             "#276419"
            ]
           ],
           "sequential": [
            [
             0,
             "#0d0887"
            ],
            [
             0.1111111111111111,
             "#46039f"
            ],
            [
             0.2222222222222222,
             "#7201a8"
            ],
            [
             0.3333333333333333,
             "#9c179e"
            ],
            [
             0.4444444444444444,
             "#bd3786"
            ],
            [
             0.5555555555555556,
             "#d8576b"
            ],
            [
             0.6666666666666666,
             "#ed7953"
            ],
            [
             0.7777777777777778,
             "#fb9f3a"
            ],
            [
             0.8888888888888888,
             "#fdca26"
            ],
            [
             1,
             "#f0f921"
            ]
           ],
           "sequentialminus": [
            [
             0,
             "#0d0887"
            ],
            [
             0.1111111111111111,
             "#46039f"
            ],
            [
             0.2222222222222222,
             "#7201a8"
            ],
            [
             0.3333333333333333,
             "#9c179e"
            ],
            [
             0.4444444444444444,
             "#bd3786"
            ],
            [
             0.5555555555555556,
             "#d8576b"
            ],
            [
             0.6666666666666666,
             "#ed7953"
            ],
            [
             0.7777777777777778,
             "#fb9f3a"
            ],
            [
             0.8888888888888888,
             "#fdca26"
            ],
            [
             1,
             "#f0f921"
            ]
           ]
          },
          "colorway": [
           "#636efa",
           "#EF553B",
           "#00cc96",
           "#ab63fa",
           "#FFA15A",
           "#19d3f3",
           "#FF6692",
           "#B6E880",
           "#FF97FF",
           "#FECB52"
          ],
          "font": {
           "color": "#2a3f5f"
          },
          "geo": {
           "bgcolor": "white",
           "lakecolor": "white",
           "landcolor": "#E5ECF6",
           "showlakes": true,
           "showland": true,
           "subunitcolor": "white"
          },
          "hoverlabel": {
           "align": "left"
          },
          "hovermode": "closest",
          "mapbox": {
           "style": "light"
          },
          "paper_bgcolor": "white",
          "plot_bgcolor": "#E5ECF6",
          "polar": {
           "angularaxis": {
            "gridcolor": "white",
            "linecolor": "white",
            "ticks": ""
           },
           "bgcolor": "#E5ECF6",
           "radialaxis": {
            "gridcolor": "white",
            "linecolor": "white",
            "ticks": ""
           }
          },
          "scene": {
           "xaxis": {
            "backgroundcolor": "#E5ECF6",
            "gridcolor": "white",
            "gridwidth": 2,
            "linecolor": "white",
            "showbackground": true,
            "ticks": "",
            "zerolinecolor": "white"
           },
           "yaxis": {
            "backgroundcolor": "#E5ECF6",
            "gridcolor": "white",
            "gridwidth": 2,
            "linecolor": "white",
            "showbackground": true,
            "ticks": "",
            "zerolinecolor": "white"
           },
           "zaxis": {
            "backgroundcolor": "#E5ECF6",
            "gridcolor": "white",
            "gridwidth": 2,
            "linecolor": "white",
            "showbackground": true,
            "ticks": "",
            "zerolinecolor": "white"
           }
          },
          "shapedefaults": {
           "line": {
            "color": "#2a3f5f"
           }
          },
          "ternary": {
           "aaxis": {
            "gridcolor": "white",
            "linecolor": "white",
            "ticks": ""
           },
           "baxis": {
            "gridcolor": "white",
            "linecolor": "white",
            "ticks": ""
           },
           "bgcolor": "#E5ECF6",
           "caxis": {
            "gridcolor": "white",
            "linecolor": "white",
            "ticks": ""
           }
          },
          "title": {
           "x": 0.05
          },
          "xaxis": {
           "automargin": true,
           "gridcolor": "white",
           "linecolor": "white",
           "ticks": "",
           "title": {
            "standoff": 15
           },
           "zerolinecolor": "white",
           "zerolinewidth": 2
          },
          "yaxis": {
           "automargin": true,
           "gridcolor": "white",
           "linecolor": "white",
           "ticks": "",
           "title": {
            "standoff": 15
           },
           "zerolinecolor": "white",
           "zerolinewidth": 2
          }
         }
        },
        "title": {
         "text": "<b>Accuracy of different RAG configurations</b>"
        },
        "width": 1000,
        "xaxis": {
         "anchor": "y",
         "domain": [
          0,
          1
         ],
         "title": {
          "text": "RAG settings"
         }
        },
        "yaxis": {
         "anchor": "x",
         "domain": [
          0,
          1
         ],
         "range": [
          0,
          100
         ],
         "ticksuffix": "%",
         "title": {
          "text": "Accuracy"
         }
        }
       }
      }
     },
     "metadata": {},
     "output_type": "display_data"
    }
   ],
   "source": [
    "evaluator_name = \"gattipg/prometheus:13b-v1.0-Q5_K_M\"\n",
    "\n",
    "# Concatenate all DataFrames stored in the dictionary\n",
    "result = pd.concat(experiments.values(), keys=experiments.keys())\n",
    "\n",
    "score_col_name = f\"eval_score_{evaluator_name}\"\n",
    "result[score_col_name] = result[score_col_name].apply(lambda x: int(x) if isinstance(x, str) else 1)\n",
    "result[score_col_name] = (result[score_col_name] - 1) / 4\n",
    "\n",
    "# Group by the outer index, which corresponds to the keys used in experiments dictionary\n",
    "average_scores = result.groupby(level=0)[score_col_name].mean()\n",
    "\n",
    "average_scores.sort_values()\n",
    "scaled_values = pd.Series(average_scores * 100)\n",
    "scaled_values\n",
    "\n",
    "# Display the bar chart\n",
    "fig = px.bar(\n",
    "    scaled_values,\n",
    "    color=scaled_values,\n",
    "    labels={\n",
    "        \"value\": \"Accuracy\",\n",
    "        \"settings\": \"Configuration\",\n",
    "    },\n",
    "    color_continuous_scale=\"bluered\",\n",
    ")\n",
    "fig.update_layout(\n",
    "    width=1000,\n",
    "    height=600,\n",
    "    barmode=\"group\",\n",
    "    yaxis_range=[0, 100],\n",
    "    title=\"<b>Accuracy of different RAG configurations</b>\",\n",
    "    xaxis_title=\"RAG settings\",\n",
    "    font=dict(size=15),\n",
    ")\n",
    "fig.layout.yaxis.ticksuffix = \"%\"\n",
    "fig.update_coloraxes(showscale=False)\n",
    "fig.update_traces(texttemplate=\"%{y:.1f}\", textposition=\"outside\")\n",
    "fig.show()\n"
   ]
  }
 ],
 "metadata": {
  "kernelspec": {
   "display_name": "questllama",
   "language": "python",
   "name": "python3"
  },
  "language_info": {
   "codemirror_mode": {
    "name": "ipython",
    "version": 3
   },
   "file_extension": ".py",
   "mimetype": "text/x-python",
   "name": "python",
   "nbconvert_exporter": "python",
   "pygments_lexer": "ipython3",
   "version": "3.9.19"
  }
 },
 "nbformat": 4,
 "nbformat_minor": 2
}
