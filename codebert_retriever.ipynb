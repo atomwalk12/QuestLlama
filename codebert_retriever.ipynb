{
 "cells": [
  {
   "cell_type": "code",
   "execution_count": 17,
   "metadata": {},
   "outputs": [],
   "source": [
    "from langchain_text_splitters import (\n",
    "    RecursiveCharacterTextSplitter,\n",
    ")\n",
    "from langchain.docstore.document import Document as LangchainDocument\n",
    "from typing import Optional, List\n",
    "\n",
    "import questllama.core.utils.file_utils as U\n",
    "import questllama.core.utils.log_utils as L\n",
    "from transformers import AutoTokenizer\n",
    "from sentence_transformers import SentenceTransformer\n",
    "import pandas as pd\n",
    "import matplotlib.pyplot as plt\n",
    "from langchain_community.embeddings import HuggingFaceEmbeddings\n",
    "from langchain.vectorstores import FAISS\n",
    "from langchain_community.vectorstores.utils import DistanceStrategy"
   ]
  },
  {
   "cell_type": "markdown",
   "metadata": {},
   "source": [
    "# Utility functions"
   ]
  },
  {
   "cell_type": "code",
   "execution_count": 18,
   "metadata": {},
   "outputs": [],
   "source": [
    "def read_knowledge_database():\n",
    "    action_files = U.read_skill_library(\"skill_library\", full_path=True)\n",
    "    return [\n",
    "        LangchainDocument(page_content=doc[1], metadata={\"source\": doc[0]})\n",
    "        for doc in action_files\n",
    "    ]\n"
   ]
  },
  {
   "cell_type": "markdown",
   "metadata": {},
   "source": [
    "# Read the skill library"
   ]
  },
  {
   "cell_type": "code",
   "execution_count": 19,
   "metadata": {},
   "outputs": [
    {
     "name": "stdout",
     "output_type": "stream",
     "text": [
      "Read 311 files\n",
      "============= Example 0 ========================\n",
      "source: /home/atomwalk12/repos/QuestLlama/questllama/skill_library/trial6/skill/code/equipIronSword.js\n",
      "content:async function equipIronSword(bot) {\n",
      "  // Find the iron sword in the bot's inventory\n",
      "  const ironSword = bot.inventory.findInventoryItem(mcData.itemsByName[\"iron_sword\"].id);\n",
      "\n",
      "  // Equip the iron sword in the main hand\n",
      "  if (ironSword) {\n",
      "    await bot.equip(ironSword, \"hand\");\n",
      "    bot.chat(\"Iron sword equipped.\");\n",
      "  } else {\n",
      "    bot.chat(\"No iron sword found in inventory.\");\n",
      "  }\n",
      "}\n"
     ]
    }
   ],
   "source": [
    "RAW_KNOWLEDGE_BASE = read_knowledge_database()\n",
    "i = 0\n",
    "print(f\"Read {len(RAW_KNOWLEDGE_BASE)} files\")\n",
    "print(f\"============= Example {i} ========================\")\n",
    "print(f\"source: {RAW_KNOWLEDGE_BASE[0].metadata['source']}\")\n",
    "print(f\"content:{RAW_KNOWLEDGE_BASE[0].page_content}\")"
   ]
  },
  {
   "cell_type": "markdown",
   "metadata": {},
   "source": [
    "# Encode the knowledge database.\n"
   ]
  },
  {
   "cell_type": "code",
   "execution_count": 20,
   "metadata": {},
   "outputs": [],
   "source": [
    "JAVASCRIPT_SEPARATORS = [\n",
    "    \"\\nfunction \",\n",
    "    \"\\nconst \",\n",
    "    \"\\nlet \",\n",
    "    \"\\nvar \",\n",
    "    \"\\nclass \",\n",
    "    \"\\nif \",\n",
    "    \"\\nfor \",\n",
    "    \"\\nwhile \",\n",
    "    \"\\nswitch \",\n",
    "    \"\\ncase \",\n",
    "    \"\\ndefault \",\n",
    "    \"\\n\\n\",\n",
    "    \"\\n\",\n",
    "    \" \",\n",
    "    \"\",\n",
    "]\n",
    "def split_documents(\n",
    "    chunk_size: int,\n",
    "    knowledge_base: List[LangchainDocument],\n",
    "    tokenizer_name: Optional[str],\n",
    ") -> List[LangchainDocument]:\n",
    "    \"\"\"\n",
    "    Split documents into chunks of maximum size `chunk_size` tokens and return a list of documents.\n",
    "    \"\"\"\n",
    "    tokenizer = AutoTokenizer.from_pretrained(tokenizer_name)\n",
    "\n",
    "    # FIXME: Is it necessary to pass the separators here? Try without them.\n",
    "    text_splitter = RecursiveCharacterTextSplitter.from_huggingface_tokenizer(\n",
    "        tokenizer,\n",
    "        chunk_size=chunk_size,\n",
    "        chunk_overlap=int(chunk_size / 10),\n",
    "        add_start_index=True,\n",
    "        strip_whitespace=True,\n",
    "        separators=JAVASCRIPT_SEPARATORS,\n",
    "    )\n",
    "\n",
    "    docs_processed = []\n",
    "    for doc in knowledge_base:\n",
    "        docs_processed += text_splitter.split_documents([doc])\n",
    "\n",
    "    # Remove duplicates\n",
    "    unique_texts = {}\n",
    "    docs_processed_unique = []\n",
    "    for doc in docs_processed:\n",
    "        if doc.page_content not in unique_texts:\n",
    "            unique_texts[doc.page_content] = True\n",
    "            docs_processed_unique.append(doc)\n",
    "\n",
    "    return docs_processed_unique, tokenizer\n"
   ]
  },
  {
   "cell_type": "markdown",
   "metadata": {},
   "source": [
    "## Visualize a bar chart"
   ]
  },
  {
   "cell_type": "code",
   "execution_count": 21,
   "metadata": {},
   "outputs": [
    {
     "name": "stdout",
     "output_type": "stream",
     "text": [
      "Using encoder defined at flax-sentence-embeddings/st-codesearch-distilroberta-base.\n",
      "Model's maximum sequence length: 128\n",
      "Chunk size: 128.\n"
     ]
    },
    {
     "ename": "KeyboardInterrupt",
     "evalue": "",
     "output_type": "error",
     "traceback": [
      "\u001b[0;31m---------------------------------------------------------------------------\u001b[0m",
      "\u001b[0;31mKeyboardInterrupt\u001b[0m                         Traceback (most recent call last)",
      "Cell \u001b[0;32mIn[21], line 8\u001b[0m\n\u001b[1;32m      5\u001b[0m \u001b[38;5;28mprint\u001b[39m(\u001b[38;5;124mf\u001b[39m\u001b[38;5;124m\"\u001b[39m\u001b[38;5;124mModel\u001b[39m\u001b[38;5;124m'\u001b[39m\u001b[38;5;124ms maximum sequence length: \u001b[39m\u001b[38;5;132;01m{\u001b[39;00mSentenceTransformer(EMBEDDING_MODEL_NAME)\u001b[38;5;241m.\u001b[39mmax_seq_length\u001b[38;5;132;01m}\u001b[39;00m\u001b[38;5;124m\"\u001b[39m)\n\u001b[1;32m      6\u001b[0m \u001b[38;5;28mprint\u001b[39m(\u001b[38;5;124mf\u001b[39m\u001b[38;5;124m\"\u001b[39m\u001b[38;5;124mChunk size: \u001b[39m\u001b[38;5;132;01m{\u001b[39;00mCHUNK_SIZE\u001b[38;5;132;01m}\u001b[39;00m\u001b[38;5;124m.\u001b[39m\u001b[38;5;124m\"\u001b[39m)\n\u001b[0;32m----> 8\u001b[0m docs_processed, tokenizer \u001b[38;5;241m=\u001b[39m \u001b[43msplit_documents\u001b[49m\u001b[43m(\u001b[49m\u001b[43mCHUNK_SIZE\u001b[49m\u001b[43m,\u001b[49m\u001b[43m \u001b[49m\u001b[43mRAW_KNOWLEDGE_BASE\u001b[49m\u001b[43m,\u001b[49m\u001b[43m \u001b[49m\u001b[43mEMBEDDING_MODEL_NAME\u001b[49m\u001b[43m)\u001b[49m\n\u001b[1;32m     10\u001b[0m lengths \u001b[38;5;241m=\u001b[39m [\n\u001b[1;32m     11\u001b[0m     \u001b[38;5;28mlen\u001b[39m(tokenizer\u001b[38;5;241m.\u001b[39mencode(doc\u001b[38;5;241m.\u001b[39mpage_content)) \u001b[38;5;28;01mfor\u001b[39;00m doc \u001b[38;5;129;01min\u001b[39;00m docs_processed\n\u001b[1;32m     12\u001b[0m ]\n\u001b[1;32m     14\u001b[0m fig \u001b[38;5;241m=\u001b[39m pd\u001b[38;5;241m.\u001b[39mSeries(lengths)\u001b[38;5;241m.\u001b[39mhist()\n",
      "Cell \u001b[0;32mIn[20], line 40\u001b[0m, in \u001b[0;36msplit_documents\u001b[0;34m(chunk_size, knowledge_base, tokenizer_name)\u001b[0m\n\u001b[1;32m     38\u001b[0m docs_processed \u001b[38;5;241m=\u001b[39m []\n\u001b[1;32m     39\u001b[0m \u001b[38;5;28;01mfor\u001b[39;00m doc \u001b[38;5;129;01min\u001b[39;00m knowledge_base:\n\u001b[0;32m---> 40\u001b[0m     docs_processed \u001b[38;5;241m+\u001b[39m\u001b[38;5;241m=\u001b[39m \u001b[43mtext_splitter\u001b[49m\u001b[38;5;241;43m.\u001b[39;49m\u001b[43msplit_documents\u001b[49m\u001b[43m(\u001b[49m\u001b[43m[\u001b[49m\u001b[43mdoc\u001b[49m\u001b[43m]\u001b[49m\u001b[43m)\u001b[49m\n\u001b[1;32m     42\u001b[0m \u001b[38;5;66;03m# Remove duplicates\u001b[39;00m\n\u001b[1;32m     43\u001b[0m unique_texts \u001b[38;5;241m=\u001b[39m {}\n",
      "File \u001b[0;32m~/anaconda3/envs/questllama/lib/python3.9/site-packages/langchain_text_splitters/base.py:94\u001b[0m, in \u001b[0;36mTextSplitter.split_documents\u001b[0;34m(self, documents)\u001b[0m\n\u001b[1;32m     92\u001b[0m     texts\u001b[38;5;241m.\u001b[39mappend(doc\u001b[38;5;241m.\u001b[39mpage_content)\n\u001b[1;32m     93\u001b[0m     metadatas\u001b[38;5;241m.\u001b[39mappend(doc\u001b[38;5;241m.\u001b[39mmetadata)\n\u001b[0;32m---> 94\u001b[0m \u001b[38;5;28;01mreturn\u001b[39;00m \u001b[38;5;28;43mself\u001b[39;49m\u001b[38;5;241;43m.\u001b[39;49m\u001b[43mcreate_documents\u001b[49m\u001b[43m(\u001b[49m\u001b[43mtexts\u001b[49m\u001b[43m,\u001b[49m\u001b[43m \u001b[49m\u001b[43mmetadatas\u001b[49m\u001b[38;5;241;43m=\u001b[39;49m\u001b[43mmetadatas\u001b[49m\u001b[43m)\u001b[49m\n",
      "File \u001b[0;32m~/anaconda3/envs/questllama/lib/python3.9/site-packages/langchain_text_splitters/base.py:77\u001b[0m, in \u001b[0;36mTextSplitter.create_documents\u001b[0;34m(self, texts, metadatas)\u001b[0m\n\u001b[1;32m     75\u001b[0m index \u001b[38;5;241m=\u001b[39m \u001b[38;5;241m0\u001b[39m\n\u001b[1;32m     76\u001b[0m previous_chunk_len \u001b[38;5;241m=\u001b[39m \u001b[38;5;241m0\u001b[39m\n\u001b[0;32m---> 77\u001b[0m \u001b[38;5;28;01mfor\u001b[39;00m chunk \u001b[38;5;129;01min\u001b[39;00m \u001b[38;5;28;43mself\u001b[39;49m\u001b[38;5;241;43m.\u001b[39;49m\u001b[43msplit_text\u001b[49m\u001b[43m(\u001b[49m\u001b[43mtext\u001b[49m\u001b[43m)\u001b[49m:\n\u001b[1;32m     78\u001b[0m     metadata \u001b[38;5;241m=\u001b[39m copy\u001b[38;5;241m.\u001b[39mdeepcopy(_metadatas[i])\n\u001b[1;32m     79\u001b[0m     \u001b[38;5;28;01mif\u001b[39;00m \u001b[38;5;28mself\u001b[39m\u001b[38;5;241m.\u001b[39m_add_start_index:\n",
      "File \u001b[0;32m~/anaconda3/envs/questllama/lib/python3.9/site-packages/langchain_text_splitters/character.py:110\u001b[0m, in \u001b[0;36mRecursiveCharacterTextSplitter.split_text\u001b[0;34m(self, text)\u001b[0m\n\u001b[1;32m    109\u001b[0m \u001b[38;5;28;01mdef\u001b[39;00m \u001b[38;5;21msplit_text\u001b[39m(\u001b[38;5;28mself\u001b[39m, text: \u001b[38;5;28mstr\u001b[39m) \u001b[38;5;241m-\u001b[39m\u001b[38;5;241m>\u001b[39m List[\u001b[38;5;28mstr\u001b[39m]:\n\u001b[0;32m--> 110\u001b[0m     \u001b[38;5;28;01mreturn\u001b[39;00m \u001b[38;5;28;43mself\u001b[39;49m\u001b[38;5;241;43m.\u001b[39;49m\u001b[43m_split_text\u001b[49m\u001b[43m(\u001b[49m\u001b[43mtext\u001b[49m\u001b[43m,\u001b[49m\u001b[43m \u001b[49m\u001b[38;5;28;43mself\u001b[39;49m\u001b[38;5;241;43m.\u001b[39;49m\u001b[43m_separators\u001b[49m\u001b[43m)\u001b[49m\n",
      "File \u001b[0;32m~/anaconda3/envs/questllama/lib/python3.9/site-packages/langchain_text_splitters/character.py:102\u001b[0m, in \u001b[0;36mRecursiveCharacterTextSplitter._split_text\u001b[0;34m(self, text, separators)\u001b[0m\n\u001b[1;32m    100\u001b[0m             final_chunks\u001b[38;5;241m.\u001b[39mappend(s)\n\u001b[1;32m    101\u001b[0m         \u001b[38;5;28;01melse\u001b[39;00m:\n\u001b[0;32m--> 102\u001b[0m             other_info \u001b[38;5;241m=\u001b[39m \u001b[38;5;28;43mself\u001b[39;49m\u001b[38;5;241;43m.\u001b[39;49m\u001b[43m_split_text\u001b[49m\u001b[43m(\u001b[49m\u001b[43ms\u001b[49m\u001b[43m,\u001b[49m\u001b[43m \u001b[49m\u001b[43mnew_separators\u001b[49m\u001b[43m)\u001b[49m\n\u001b[1;32m    103\u001b[0m             final_chunks\u001b[38;5;241m.\u001b[39mextend(other_info)\n\u001b[1;32m    104\u001b[0m \u001b[38;5;28;01mif\u001b[39;00m _good_splits:\n",
      "File \u001b[0;32m~/anaconda3/envs/questllama/lib/python3.9/site-packages/langchain_text_splitters/character.py:92\u001b[0m, in \u001b[0;36mRecursiveCharacterTextSplitter._split_text\u001b[0;34m(self, text, separators)\u001b[0m\n\u001b[1;32m     90\u001b[0m _separator \u001b[38;5;241m=\u001b[39m \u001b[38;5;124m\"\u001b[39m\u001b[38;5;124m\"\u001b[39m \u001b[38;5;28;01mif\u001b[39;00m \u001b[38;5;28mself\u001b[39m\u001b[38;5;241m.\u001b[39m_keep_separator \u001b[38;5;28;01melse\u001b[39;00m separator\n\u001b[1;32m     91\u001b[0m \u001b[38;5;28;01mfor\u001b[39;00m s \u001b[38;5;129;01min\u001b[39;00m splits:\n\u001b[0;32m---> 92\u001b[0m     \u001b[38;5;28;01mif\u001b[39;00m \u001b[38;5;28;43mself\u001b[39;49m\u001b[38;5;241;43m.\u001b[39;49m\u001b[43m_length_function\u001b[49m\u001b[43m(\u001b[49m\u001b[43ms\u001b[49m\u001b[43m)\u001b[49m \u001b[38;5;241m<\u001b[39m \u001b[38;5;28mself\u001b[39m\u001b[38;5;241m.\u001b[39m_chunk_size:\n\u001b[1;32m     93\u001b[0m         _good_splits\u001b[38;5;241m.\u001b[39mappend(s)\n\u001b[1;32m     94\u001b[0m     \u001b[38;5;28;01melse\u001b[39;00m:\n",
      "File \u001b[0;32m~/anaconda3/envs/questllama/lib/python3.9/site-packages/langchain_text_splitters/base.py:159\u001b[0m, in \u001b[0;36mTextSplitter.from_huggingface_tokenizer.<locals>._huggingface_tokenizer_length\u001b[0;34m(text)\u001b[0m\n\u001b[1;32m    158\u001b[0m \u001b[38;5;28;01mdef\u001b[39;00m \u001b[38;5;21m_huggingface_tokenizer_length\u001b[39m(text: \u001b[38;5;28mstr\u001b[39m) \u001b[38;5;241m-\u001b[39m\u001b[38;5;241m>\u001b[39m \u001b[38;5;28mint\u001b[39m:\n\u001b[0;32m--> 159\u001b[0m     \u001b[38;5;28;01mreturn\u001b[39;00m \u001b[38;5;28mlen\u001b[39m(\u001b[43mtokenizer\u001b[49m\u001b[38;5;241;43m.\u001b[39;49m\u001b[43mencode\u001b[49m\u001b[43m(\u001b[49m\u001b[43mtext\u001b[49m\u001b[43m)\u001b[49m)\n",
      "File \u001b[0;32m~/anaconda3/envs/questllama/lib/python3.9/site-packages/transformers/tokenization_utils_base.py:2574\u001b[0m, in \u001b[0;36mPreTrainedTokenizerBase.encode\u001b[0;34m(self, text, text_pair, add_special_tokens, padding, truncation, max_length, stride, return_tensors, **kwargs)\u001b[0m\n\u001b[1;32m   2537\u001b[0m \u001b[38;5;129m@add_end_docstrings\u001b[39m(\n\u001b[1;32m   2538\u001b[0m     ENCODE_KWARGS_DOCSTRING,\n\u001b[1;32m   2539\u001b[0m \u001b[38;5;250m    \u001b[39m\u001b[38;5;124;03m\"\"\"\u001b[39;00m\n\u001b[0;32m   (...)\u001b[0m\n\u001b[1;32m   2557\u001b[0m     \u001b[38;5;241m*\u001b[39m\u001b[38;5;241m*\u001b[39mkwargs,\n\u001b[1;32m   2558\u001b[0m ) \u001b[38;5;241m-\u001b[39m\u001b[38;5;241m>\u001b[39m List[\u001b[38;5;28mint\u001b[39m]:\n\u001b[1;32m   2559\u001b[0m \u001b[38;5;250m    \u001b[39m\u001b[38;5;124;03m\"\"\"\u001b[39;00m\n\u001b[1;32m   2560\u001b[0m \u001b[38;5;124;03m    Converts a string to a sequence of ids (integer), using the tokenizer and vocabulary.\u001b[39;00m\n\u001b[1;32m   2561\u001b[0m \n\u001b[0;32m   (...)\u001b[0m\n\u001b[1;32m   2572\u001b[0m \u001b[38;5;124;03m            method).\u001b[39;00m\n\u001b[1;32m   2573\u001b[0m \u001b[38;5;124;03m    \"\"\"\u001b[39;00m\n\u001b[0;32m-> 2574\u001b[0m     encoded_inputs \u001b[38;5;241m=\u001b[39m \u001b[38;5;28;43mself\u001b[39;49m\u001b[38;5;241;43m.\u001b[39;49m\u001b[43mencode_plus\u001b[49m\u001b[43m(\u001b[49m\n\u001b[1;32m   2575\u001b[0m \u001b[43m        \u001b[49m\u001b[43mtext\u001b[49m\u001b[43m,\u001b[49m\n\u001b[1;32m   2576\u001b[0m \u001b[43m        \u001b[49m\u001b[43mtext_pair\u001b[49m\u001b[38;5;241;43m=\u001b[39;49m\u001b[43mtext_pair\u001b[49m\u001b[43m,\u001b[49m\n\u001b[1;32m   2577\u001b[0m \u001b[43m        \u001b[49m\u001b[43madd_special_tokens\u001b[49m\u001b[38;5;241;43m=\u001b[39;49m\u001b[43madd_special_tokens\u001b[49m\u001b[43m,\u001b[49m\n\u001b[1;32m   2578\u001b[0m \u001b[43m        \u001b[49m\u001b[43mpadding\u001b[49m\u001b[38;5;241;43m=\u001b[39;49m\u001b[43mpadding\u001b[49m\u001b[43m,\u001b[49m\n\u001b[1;32m   2579\u001b[0m \u001b[43m        \u001b[49m\u001b[43mtruncation\u001b[49m\u001b[38;5;241;43m=\u001b[39;49m\u001b[43mtruncation\u001b[49m\u001b[43m,\u001b[49m\n\u001b[1;32m   2580\u001b[0m \u001b[43m        \u001b[49m\u001b[43mmax_length\u001b[49m\u001b[38;5;241;43m=\u001b[39;49m\u001b[43mmax_length\u001b[49m\u001b[43m,\u001b[49m\n\u001b[1;32m   2581\u001b[0m \u001b[43m        \u001b[49m\u001b[43mstride\u001b[49m\u001b[38;5;241;43m=\u001b[39;49m\u001b[43mstride\u001b[49m\u001b[43m,\u001b[49m\n\u001b[1;32m   2582\u001b[0m \u001b[43m        \u001b[49m\u001b[43mreturn_tensors\u001b[49m\u001b[38;5;241;43m=\u001b[39;49m\u001b[43mreturn_tensors\u001b[49m\u001b[43m,\u001b[49m\n\u001b[1;32m   2583\u001b[0m \u001b[43m        \u001b[49m\u001b[38;5;241;43m*\u001b[39;49m\u001b[38;5;241;43m*\u001b[39;49m\u001b[43mkwargs\u001b[49m\u001b[43m,\u001b[49m\n\u001b[1;32m   2584\u001b[0m \u001b[43m    \u001b[49m\u001b[43m)\u001b[49m\n\u001b[1;32m   2586\u001b[0m     \u001b[38;5;28;01mreturn\u001b[39;00m encoded_inputs[\u001b[38;5;124m\"\u001b[39m\u001b[38;5;124minput_ids\u001b[39m\u001b[38;5;124m\"\u001b[39m]\n",
      "File \u001b[0;32m~/anaconda3/envs/questllama/lib/python3.9/site-packages/transformers/tokenization_utils_base.py:2982\u001b[0m, in \u001b[0;36mPreTrainedTokenizerBase.encode_plus\u001b[0;34m(self, text, text_pair, add_special_tokens, padding, truncation, max_length, stride, is_split_into_words, pad_to_multiple_of, return_tensors, return_token_type_ids, return_attention_mask, return_overflowing_tokens, return_special_tokens_mask, return_offsets_mapping, return_length, verbose, **kwargs)\u001b[0m\n\u001b[1;32m   2972\u001b[0m \u001b[38;5;66;03m# Backward compatibility for 'truncation_strategy', 'pad_to_max_length'\u001b[39;00m\n\u001b[1;32m   2973\u001b[0m padding_strategy, truncation_strategy, max_length, kwargs \u001b[38;5;241m=\u001b[39m \u001b[38;5;28mself\u001b[39m\u001b[38;5;241m.\u001b[39m_get_padding_truncation_strategies(\n\u001b[1;32m   2974\u001b[0m     padding\u001b[38;5;241m=\u001b[39mpadding,\n\u001b[1;32m   2975\u001b[0m     truncation\u001b[38;5;241m=\u001b[39mtruncation,\n\u001b[0;32m   (...)\u001b[0m\n\u001b[1;32m   2979\u001b[0m     \u001b[38;5;241m*\u001b[39m\u001b[38;5;241m*\u001b[39mkwargs,\n\u001b[1;32m   2980\u001b[0m )\n\u001b[0;32m-> 2982\u001b[0m \u001b[38;5;28;01mreturn\u001b[39;00m \u001b[38;5;28;43mself\u001b[39;49m\u001b[38;5;241;43m.\u001b[39;49m\u001b[43m_encode_plus\u001b[49m\u001b[43m(\u001b[49m\n\u001b[1;32m   2983\u001b[0m \u001b[43m    \u001b[49m\u001b[43mtext\u001b[49m\u001b[38;5;241;43m=\u001b[39;49m\u001b[43mtext\u001b[49m\u001b[43m,\u001b[49m\n\u001b[1;32m   2984\u001b[0m \u001b[43m    \u001b[49m\u001b[43mtext_pair\u001b[49m\u001b[38;5;241;43m=\u001b[39;49m\u001b[43mtext_pair\u001b[49m\u001b[43m,\u001b[49m\n\u001b[1;32m   2985\u001b[0m \u001b[43m    \u001b[49m\u001b[43madd_special_tokens\u001b[49m\u001b[38;5;241;43m=\u001b[39;49m\u001b[43madd_special_tokens\u001b[49m\u001b[43m,\u001b[49m\n\u001b[1;32m   2986\u001b[0m \u001b[43m    \u001b[49m\u001b[43mpadding_strategy\u001b[49m\u001b[38;5;241;43m=\u001b[39;49m\u001b[43mpadding_strategy\u001b[49m\u001b[43m,\u001b[49m\n\u001b[1;32m   2987\u001b[0m \u001b[43m    \u001b[49m\u001b[43mtruncation_strategy\u001b[49m\u001b[38;5;241;43m=\u001b[39;49m\u001b[43mtruncation_strategy\u001b[49m\u001b[43m,\u001b[49m\n\u001b[1;32m   2988\u001b[0m \u001b[43m    \u001b[49m\u001b[43mmax_length\u001b[49m\u001b[38;5;241;43m=\u001b[39;49m\u001b[43mmax_length\u001b[49m\u001b[43m,\u001b[49m\n\u001b[1;32m   2989\u001b[0m \u001b[43m    \u001b[49m\u001b[43mstride\u001b[49m\u001b[38;5;241;43m=\u001b[39;49m\u001b[43mstride\u001b[49m\u001b[43m,\u001b[49m\n\u001b[1;32m   2990\u001b[0m \u001b[43m    \u001b[49m\u001b[43mis_split_into_words\u001b[49m\u001b[38;5;241;43m=\u001b[39;49m\u001b[43mis_split_into_words\u001b[49m\u001b[43m,\u001b[49m\n\u001b[1;32m   2991\u001b[0m \u001b[43m    \u001b[49m\u001b[43mpad_to_multiple_of\u001b[49m\u001b[38;5;241;43m=\u001b[39;49m\u001b[43mpad_to_multiple_of\u001b[49m\u001b[43m,\u001b[49m\n\u001b[1;32m   2992\u001b[0m \u001b[43m    \u001b[49m\u001b[43mreturn_tensors\u001b[49m\u001b[38;5;241;43m=\u001b[39;49m\u001b[43mreturn_tensors\u001b[49m\u001b[43m,\u001b[49m\n\u001b[1;32m   2993\u001b[0m \u001b[43m    \u001b[49m\u001b[43mreturn_token_type_ids\u001b[49m\u001b[38;5;241;43m=\u001b[39;49m\u001b[43mreturn_token_type_ids\u001b[49m\u001b[43m,\u001b[49m\n\u001b[1;32m   2994\u001b[0m \u001b[43m    \u001b[49m\u001b[43mreturn_attention_mask\u001b[49m\u001b[38;5;241;43m=\u001b[39;49m\u001b[43mreturn_attention_mask\u001b[49m\u001b[43m,\u001b[49m\n\u001b[1;32m   2995\u001b[0m \u001b[43m    \u001b[49m\u001b[43mreturn_overflowing_tokens\u001b[49m\u001b[38;5;241;43m=\u001b[39;49m\u001b[43mreturn_overflowing_tokens\u001b[49m\u001b[43m,\u001b[49m\n\u001b[1;32m   2996\u001b[0m \u001b[43m    \u001b[49m\u001b[43mreturn_special_tokens_mask\u001b[49m\u001b[38;5;241;43m=\u001b[39;49m\u001b[43mreturn_special_tokens_mask\u001b[49m\u001b[43m,\u001b[49m\n\u001b[1;32m   2997\u001b[0m \u001b[43m    \u001b[49m\u001b[43mreturn_offsets_mapping\u001b[49m\u001b[38;5;241;43m=\u001b[39;49m\u001b[43mreturn_offsets_mapping\u001b[49m\u001b[43m,\u001b[49m\n\u001b[1;32m   2998\u001b[0m \u001b[43m    \u001b[49m\u001b[43mreturn_length\u001b[49m\u001b[38;5;241;43m=\u001b[39;49m\u001b[43mreturn_length\u001b[49m\u001b[43m,\u001b[49m\n\u001b[1;32m   2999\u001b[0m \u001b[43m    \u001b[49m\u001b[43mverbose\u001b[49m\u001b[38;5;241;43m=\u001b[39;49m\u001b[43mverbose\u001b[49m\u001b[43m,\u001b[49m\n\u001b[1;32m   3000\u001b[0m \u001b[43m    \u001b[49m\u001b[38;5;241;43m*\u001b[39;49m\u001b[38;5;241;43m*\u001b[39;49m\u001b[43mkwargs\u001b[49m\u001b[43m,\u001b[49m\n\u001b[1;32m   3001\u001b[0m \u001b[43m\u001b[49m\u001b[43m)\u001b[49m\n",
      "File \u001b[0;32m~/anaconda3/envs/questllama/lib/python3.9/site-packages/transformers/models/roberta/tokenization_roberta_fast.py:280\u001b[0m, in \u001b[0;36mRobertaTokenizerFast._encode_plus\u001b[0;34m(self, *args, **kwargs)\u001b[0m\n\u001b[1;32m    273\u001b[0m is_split_into_words \u001b[38;5;241m=\u001b[39m kwargs\u001b[38;5;241m.\u001b[39mget(\u001b[38;5;124m\"\u001b[39m\u001b[38;5;124mis_split_into_words\u001b[39m\u001b[38;5;124m\"\u001b[39m, \u001b[38;5;28;01mFalse\u001b[39;00m)\n\u001b[1;32m    275\u001b[0m \u001b[38;5;28;01massert\u001b[39;00m \u001b[38;5;28mself\u001b[39m\u001b[38;5;241m.\u001b[39madd_prefix_space \u001b[38;5;129;01mor\u001b[39;00m \u001b[38;5;129;01mnot\u001b[39;00m is_split_into_words, (\n\u001b[1;32m    276\u001b[0m     \u001b[38;5;124mf\u001b[39m\u001b[38;5;124m\"\u001b[39m\u001b[38;5;124mYou need to instantiate \u001b[39m\u001b[38;5;132;01m{\u001b[39;00m\u001b[38;5;28mself\u001b[39m\u001b[38;5;241m.\u001b[39m\u001b[38;5;18m__class__\u001b[39m\u001b[38;5;241m.\u001b[39m\u001b[38;5;18m__name__\u001b[39m\u001b[38;5;132;01m}\u001b[39;00m\u001b[38;5;124m with add_prefix_space=True \u001b[39m\u001b[38;5;124m\"\u001b[39m\n\u001b[1;32m    277\u001b[0m     \u001b[38;5;124m\"\u001b[39m\u001b[38;5;124mto use it with pretokenized inputs.\u001b[39m\u001b[38;5;124m\"\u001b[39m\n\u001b[1;32m    278\u001b[0m )\n\u001b[0;32m--> 280\u001b[0m \u001b[38;5;28;01mreturn\u001b[39;00m \u001b[38;5;28;43msuper\u001b[39;49m\u001b[43m(\u001b[49m\u001b[43m)\u001b[49m\u001b[38;5;241;43m.\u001b[39;49m\u001b[43m_encode_plus\u001b[49m\u001b[43m(\u001b[49m\u001b[38;5;241;43m*\u001b[39;49m\u001b[43margs\u001b[49m\u001b[43m,\u001b[49m\u001b[43m \u001b[49m\u001b[38;5;241;43m*\u001b[39;49m\u001b[38;5;241;43m*\u001b[39;49m\u001b[43mkwargs\u001b[49m\u001b[43m)\u001b[49m\n",
      "File \u001b[0;32m~/anaconda3/envs/questllama/lib/python3.9/site-packages/transformers/tokenization_utils_fast.py:576\u001b[0m, in \u001b[0;36mPreTrainedTokenizerFast._encode_plus\u001b[0;34m(self, text, text_pair, add_special_tokens, padding_strategy, truncation_strategy, max_length, stride, is_split_into_words, pad_to_multiple_of, return_tensors, return_token_type_ids, return_attention_mask, return_overflowing_tokens, return_special_tokens_mask, return_offsets_mapping, return_length, verbose, **kwargs)\u001b[0m\n\u001b[1;32m    554\u001b[0m \u001b[38;5;28;01mdef\u001b[39;00m \u001b[38;5;21m_encode_plus\u001b[39m(\n\u001b[1;32m    555\u001b[0m     \u001b[38;5;28mself\u001b[39m,\n\u001b[1;32m    556\u001b[0m     text: Union[TextInput, PreTokenizedInput],\n\u001b[0;32m   (...)\u001b[0m\n\u001b[1;32m    573\u001b[0m     \u001b[38;5;241m*\u001b[39m\u001b[38;5;241m*\u001b[39mkwargs,\n\u001b[1;32m    574\u001b[0m ) \u001b[38;5;241m-\u001b[39m\u001b[38;5;241m>\u001b[39m BatchEncoding:\n\u001b[1;32m    575\u001b[0m     batched_input \u001b[38;5;241m=\u001b[39m [(text, text_pair)] \u001b[38;5;28;01mif\u001b[39;00m text_pair \u001b[38;5;28;01melse\u001b[39;00m [text]\n\u001b[0;32m--> 576\u001b[0m     batched_output \u001b[38;5;241m=\u001b[39m \u001b[38;5;28;43mself\u001b[39;49m\u001b[38;5;241;43m.\u001b[39;49m\u001b[43m_batch_encode_plus\u001b[49m\u001b[43m(\u001b[49m\n\u001b[1;32m    577\u001b[0m \u001b[43m        \u001b[49m\u001b[43mbatched_input\u001b[49m\u001b[43m,\u001b[49m\n\u001b[1;32m    578\u001b[0m \u001b[43m        \u001b[49m\u001b[43mis_split_into_words\u001b[49m\u001b[38;5;241;43m=\u001b[39;49m\u001b[43mis_split_into_words\u001b[49m\u001b[43m,\u001b[49m\n\u001b[1;32m    579\u001b[0m \u001b[43m        \u001b[49m\u001b[43madd_special_tokens\u001b[49m\u001b[38;5;241;43m=\u001b[39;49m\u001b[43madd_special_tokens\u001b[49m\u001b[43m,\u001b[49m\n\u001b[1;32m    580\u001b[0m \u001b[43m        \u001b[49m\u001b[43mpadding_strategy\u001b[49m\u001b[38;5;241;43m=\u001b[39;49m\u001b[43mpadding_strategy\u001b[49m\u001b[43m,\u001b[49m\n\u001b[1;32m    581\u001b[0m \u001b[43m        \u001b[49m\u001b[43mtruncation_strategy\u001b[49m\u001b[38;5;241;43m=\u001b[39;49m\u001b[43mtruncation_strategy\u001b[49m\u001b[43m,\u001b[49m\n\u001b[1;32m    582\u001b[0m \u001b[43m        \u001b[49m\u001b[43mmax_length\u001b[49m\u001b[38;5;241;43m=\u001b[39;49m\u001b[43mmax_length\u001b[49m\u001b[43m,\u001b[49m\n\u001b[1;32m    583\u001b[0m \u001b[43m        \u001b[49m\u001b[43mstride\u001b[49m\u001b[38;5;241;43m=\u001b[39;49m\u001b[43mstride\u001b[49m\u001b[43m,\u001b[49m\n\u001b[1;32m    584\u001b[0m \u001b[43m        \u001b[49m\u001b[43mpad_to_multiple_of\u001b[49m\u001b[38;5;241;43m=\u001b[39;49m\u001b[43mpad_to_multiple_of\u001b[49m\u001b[43m,\u001b[49m\n\u001b[1;32m    585\u001b[0m \u001b[43m        \u001b[49m\u001b[43mreturn_tensors\u001b[49m\u001b[38;5;241;43m=\u001b[39;49m\u001b[43mreturn_tensors\u001b[49m\u001b[43m,\u001b[49m\n\u001b[1;32m    586\u001b[0m \u001b[43m        \u001b[49m\u001b[43mreturn_token_type_ids\u001b[49m\u001b[38;5;241;43m=\u001b[39;49m\u001b[43mreturn_token_type_ids\u001b[49m\u001b[43m,\u001b[49m\n\u001b[1;32m    587\u001b[0m \u001b[43m        \u001b[49m\u001b[43mreturn_attention_mask\u001b[49m\u001b[38;5;241;43m=\u001b[39;49m\u001b[43mreturn_attention_mask\u001b[49m\u001b[43m,\u001b[49m\n\u001b[1;32m    588\u001b[0m \u001b[43m        \u001b[49m\u001b[43mreturn_overflowing_tokens\u001b[49m\u001b[38;5;241;43m=\u001b[39;49m\u001b[43mreturn_overflowing_tokens\u001b[49m\u001b[43m,\u001b[49m\n\u001b[1;32m    589\u001b[0m \u001b[43m        \u001b[49m\u001b[43mreturn_special_tokens_mask\u001b[49m\u001b[38;5;241;43m=\u001b[39;49m\u001b[43mreturn_special_tokens_mask\u001b[49m\u001b[43m,\u001b[49m\n\u001b[1;32m    590\u001b[0m \u001b[43m        \u001b[49m\u001b[43mreturn_offsets_mapping\u001b[49m\u001b[38;5;241;43m=\u001b[39;49m\u001b[43mreturn_offsets_mapping\u001b[49m\u001b[43m,\u001b[49m\n\u001b[1;32m    591\u001b[0m \u001b[43m        \u001b[49m\u001b[43mreturn_length\u001b[49m\u001b[38;5;241;43m=\u001b[39;49m\u001b[43mreturn_length\u001b[49m\u001b[43m,\u001b[49m\n\u001b[1;32m    592\u001b[0m \u001b[43m        \u001b[49m\u001b[43mverbose\u001b[49m\u001b[38;5;241;43m=\u001b[39;49m\u001b[43mverbose\u001b[49m\u001b[43m,\u001b[49m\n\u001b[1;32m    593\u001b[0m \u001b[43m        \u001b[49m\u001b[38;5;241;43m*\u001b[39;49m\u001b[38;5;241;43m*\u001b[39;49m\u001b[43mkwargs\u001b[49m\u001b[43m,\u001b[49m\n\u001b[1;32m    594\u001b[0m \u001b[43m    \u001b[49m\u001b[43m)\u001b[49m\n\u001b[1;32m    596\u001b[0m     \u001b[38;5;66;03m# Return tensor is None, then we can remove the leading batch axis\u001b[39;00m\n\u001b[1;32m    597\u001b[0m     \u001b[38;5;66;03m# Overflowing tokens are returned as a batch of output so we keep them in this case\u001b[39;00m\n\u001b[1;32m    598\u001b[0m     \u001b[38;5;28;01mif\u001b[39;00m return_tensors \u001b[38;5;129;01mis\u001b[39;00m \u001b[38;5;28;01mNone\u001b[39;00m \u001b[38;5;129;01mand\u001b[39;00m \u001b[38;5;129;01mnot\u001b[39;00m return_overflowing_tokens:\n",
      "File \u001b[0;32m~/anaconda3/envs/questllama/lib/python3.9/site-packages/transformers/models/roberta/tokenization_roberta_fast.py:270\u001b[0m, in \u001b[0;36mRobertaTokenizerFast._batch_encode_plus\u001b[0;34m(self, *args, **kwargs)\u001b[0m\n\u001b[1;32m    264\u001b[0m is_split_into_words \u001b[38;5;241m=\u001b[39m kwargs\u001b[38;5;241m.\u001b[39mget(\u001b[38;5;124m\"\u001b[39m\u001b[38;5;124mis_split_into_words\u001b[39m\u001b[38;5;124m\"\u001b[39m, \u001b[38;5;28;01mFalse\u001b[39;00m)\n\u001b[1;32m    265\u001b[0m \u001b[38;5;28;01massert\u001b[39;00m \u001b[38;5;28mself\u001b[39m\u001b[38;5;241m.\u001b[39madd_prefix_space \u001b[38;5;129;01mor\u001b[39;00m \u001b[38;5;129;01mnot\u001b[39;00m is_split_into_words, (\n\u001b[1;32m    266\u001b[0m     \u001b[38;5;124mf\u001b[39m\u001b[38;5;124m\"\u001b[39m\u001b[38;5;124mYou need to instantiate \u001b[39m\u001b[38;5;132;01m{\u001b[39;00m\u001b[38;5;28mself\u001b[39m\u001b[38;5;241m.\u001b[39m\u001b[38;5;18m__class__\u001b[39m\u001b[38;5;241m.\u001b[39m\u001b[38;5;18m__name__\u001b[39m\u001b[38;5;132;01m}\u001b[39;00m\u001b[38;5;124m with add_prefix_space=True \u001b[39m\u001b[38;5;124m\"\u001b[39m\n\u001b[1;32m    267\u001b[0m     \u001b[38;5;124m\"\u001b[39m\u001b[38;5;124mto use it with pretokenized inputs.\u001b[39m\u001b[38;5;124m\"\u001b[39m\n\u001b[1;32m    268\u001b[0m )\n\u001b[0;32m--> 270\u001b[0m \u001b[38;5;28;01mreturn\u001b[39;00m \u001b[38;5;28;43msuper\u001b[39;49m\u001b[43m(\u001b[49m\u001b[43m)\u001b[49m\u001b[38;5;241;43m.\u001b[39;49m\u001b[43m_batch_encode_plus\u001b[49m\u001b[43m(\u001b[49m\u001b[38;5;241;43m*\u001b[39;49m\u001b[43margs\u001b[49m\u001b[43m,\u001b[49m\u001b[43m \u001b[49m\u001b[38;5;241;43m*\u001b[39;49m\u001b[38;5;241;43m*\u001b[39;49m\u001b[43mkwargs\u001b[49m\u001b[43m)\u001b[49m\n",
      "File \u001b[0;32m~/anaconda3/envs/questllama/lib/python3.9/site-packages/transformers/tokenization_utils_fast.py:516\u001b[0m, in \u001b[0;36mPreTrainedTokenizerFast._batch_encode_plus\u001b[0;34m(self, batch_text_or_text_pairs, add_special_tokens, padding_strategy, truncation_strategy, max_length, stride, is_split_into_words, pad_to_multiple_of, return_tensors, return_token_type_ids, return_attention_mask, return_overflowing_tokens, return_special_tokens_mask, return_offsets_mapping, return_length, verbose)\u001b[0m\n\u001b[1;32m    504\u001b[0m encodings \u001b[38;5;241m=\u001b[39m \u001b[38;5;28mself\u001b[39m\u001b[38;5;241m.\u001b[39m_tokenizer\u001b[38;5;241m.\u001b[39mencode_batch(\n\u001b[1;32m    505\u001b[0m     batch_text_or_text_pairs,\n\u001b[1;32m    506\u001b[0m     add_special_tokens\u001b[38;5;241m=\u001b[39madd_special_tokens,\n\u001b[1;32m    507\u001b[0m     is_pretokenized\u001b[38;5;241m=\u001b[39mis_split_into_words,\n\u001b[1;32m    508\u001b[0m )\n\u001b[1;32m    510\u001b[0m \u001b[38;5;66;03m# Convert encoding to dict\u001b[39;00m\n\u001b[1;32m    511\u001b[0m \u001b[38;5;66;03m# `Tokens` has type: Tuple[\u001b[39;00m\n\u001b[1;32m    512\u001b[0m \u001b[38;5;66;03m#                       List[Dict[str, List[List[int]]]] or List[Dict[str, 2D-Tensor]],\u001b[39;00m\n\u001b[1;32m    513\u001b[0m \u001b[38;5;66;03m#                       List[EncodingFast]\u001b[39;00m\n\u001b[1;32m    514\u001b[0m \u001b[38;5;66;03m#                    ]\u001b[39;00m\n\u001b[1;32m    515\u001b[0m \u001b[38;5;66;03m# with nested dimensions corresponding to batch, overflows, sequence length\u001b[39;00m\n\u001b[0;32m--> 516\u001b[0m tokens_and_encodings \u001b[38;5;241m=\u001b[39m [\n\u001b[1;32m    517\u001b[0m     \u001b[38;5;28mself\u001b[39m\u001b[38;5;241m.\u001b[39m_convert_encoding(\n\u001b[1;32m    518\u001b[0m         encoding\u001b[38;5;241m=\u001b[39mencoding,\n\u001b[1;32m    519\u001b[0m         return_token_type_ids\u001b[38;5;241m=\u001b[39mreturn_token_type_ids,\n\u001b[1;32m    520\u001b[0m         return_attention_mask\u001b[38;5;241m=\u001b[39mreturn_attention_mask,\n\u001b[1;32m    521\u001b[0m         return_overflowing_tokens\u001b[38;5;241m=\u001b[39mreturn_overflowing_tokens,\n\u001b[1;32m    522\u001b[0m         return_special_tokens_mask\u001b[38;5;241m=\u001b[39mreturn_special_tokens_mask,\n\u001b[1;32m    523\u001b[0m         return_offsets_mapping\u001b[38;5;241m=\u001b[39mreturn_offsets_mapping,\n\u001b[1;32m    524\u001b[0m         return_length\u001b[38;5;241m=\u001b[39mreturn_length,\n\u001b[1;32m    525\u001b[0m         verbose\u001b[38;5;241m=\u001b[39mverbose,\n\u001b[1;32m    526\u001b[0m     )\n\u001b[1;32m    527\u001b[0m     \u001b[38;5;28;01mfor\u001b[39;00m encoding \u001b[38;5;129;01min\u001b[39;00m encodings\n\u001b[1;32m    528\u001b[0m ]\n\u001b[1;32m    530\u001b[0m \u001b[38;5;66;03m# Convert the output to have dict[list] from list[dict] and remove the additional overflows dimension\u001b[39;00m\n\u001b[1;32m    531\u001b[0m \u001b[38;5;66;03m# From (variable) shape (batch, overflows, sequence length) to ~ (batch * overflows, sequence length)\u001b[39;00m\n\u001b[1;32m    532\u001b[0m \u001b[38;5;66;03m# (we say ~ because the number of overflow varies with the example in the batch)\u001b[39;00m\n\u001b[1;32m    533\u001b[0m \u001b[38;5;66;03m#\u001b[39;00m\n\u001b[1;32m    534\u001b[0m \u001b[38;5;66;03m# To match each overflowing sample with the original sample in the batch\u001b[39;00m\n\u001b[1;32m    535\u001b[0m \u001b[38;5;66;03m# we add an overflow_to_sample_mapping array (see below)\u001b[39;00m\n\u001b[1;32m    536\u001b[0m sanitized_tokens \u001b[38;5;241m=\u001b[39m {}\n",
      "File \u001b[0;32m~/anaconda3/envs/questllama/lib/python3.9/site-packages/transformers/tokenization_utils_fast.py:517\u001b[0m, in \u001b[0;36m<listcomp>\u001b[0;34m(.0)\u001b[0m\n\u001b[1;32m    504\u001b[0m encodings \u001b[38;5;241m=\u001b[39m \u001b[38;5;28mself\u001b[39m\u001b[38;5;241m.\u001b[39m_tokenizer\u001b[38;5;241m.\u001b[39mencode_batch(\n\u001b[1;32m    505\u001b[0m     batch_text_or_text_pairs,\n\u001b[1;32m    506\u001b[0m     add_special_tokens\u001b[38;5;241m=\u001b[39madd_special_tokens,\n\u001b[1;32m    507\u001b[0m     is_pretokenized\u001b[38;5;241m=\u001b[39mis_split_into_words,\n\u001b[1;32m    508\u001b[0m )\n\u001b[1;32m    510\u001b[0m \u001b[38;5;66;03m# Convert encoding to dict\u001b[39;00m\n\u001b[1;32m    511\u001b[0m \u001b[38;5;66;03m# `Tokens` has type: Tuple[\u001b[39;00m\n\u001b[1;32m    512\u001b[0m \u001b[38;5;66;03m#                       List[Dict[str, List[List[int]]]] or List[Dict[str, 2D-Tensor]],\u001b[39;00m\n\u001b[1;32m    513\u001b[0m \u001b[38;5;66;03m#                       List[EncodingFast]\u001b[39;00m\n\u001b[1;32m    514\u001b[0m \u001b[38;5;66;03m#                    ]\u001b[39;00m\n\u001b[1;32m    515\u001b[0m \u001b[38;5;66;03m# with nested dimensions corresponding to batch, overflows, sequence length\u001b[39;00m\n\u001b[1;32m    516\u001b[0m tokens_and_encodings \u001b[38;5;241m=\u001b[39m [\n\u001b[0;32m--> 517\u001b[0m     \u001b[38;5;28;43mself\u001b[39;49m\u001b[38;5;241;43m.\u001b[39;49m\u001b[43m_convert_encoding\u001b[49m\u001b[43m(\u001b[49m\n\u001b[1;32m    518\u001b[0m \u001b[43m        \u001b[49m\u001b[43mencoding\u001b[49m\u001b[38;5;241;43m=\u001b[39;49m\u001b[43mencoding\u001b[49m\u001b[43m,\u001b[49m\n\u001b[1;32m    519\u001b[0m \u001b[43m        \u001b[49m\u001b[43mreturn_token_type_ids\u001b[49m\u001b[38;5;241;43m=\u001b[39;49m\u001b[43mreturn_token_type_ids\u001b[49m\u001b[43m,\u001b[49m\n\u001b[1;32m    520\u001b[0m \u001b[43m        \u001b[49m\u001b[43mreturn_attention_mask\u001b[49m\u001b[38;5;241;43m=\u001b[39;49m\u001b[43mreturn_attention_mask\u001b[49m\u001b[43m,\u001b[49m\n\u001b[1;32m    521\u001b[0m \u001b[43m        \u001b[49m\u001b[43mreturn_overflowing_tokens\u001b[49m\u001b[38;5;241;43m=\u001b[39;49m\u001b[43mreturn_overflowing_tokens\u001b[49m\u001b[43m,\u001b[49m\n\u001b[1;32m    522\u001b[0m \u001b[43m        \u001b[49m\u001b[43mreturn_special_tokens_mask\u001b[49m\u001b[38;5;241;43m=\u001b[39;49m\u001b[43mreturn_special_tokens_mask\u001b[49m\u001b[43m,\u001b[49m\n\u001b[1;32m    523\u001b[0m \u001b[43m        \u001b[49m\u001b[43mreturn_offsets_mapping\u001b[49m\u001b[38;5;241;43m=\u001b[39;49m\u001b[43mreturn_offsets_mapping\u001b[49m\u001b[43m,\u001b[49m\n\u001b[1;32m    524\u001b[0m \u001b[43m        \u001b[49m\u001b[43mreturn_length\u001b[49m\u001b[38;5;241;43m=\u001b[39;49m\u001b[43mreturn_length\u001b[49m\u001b[43m,\u001b[49m\n\u001b[1;32m    525\u001b[0m \u001b[43m        \u001b[49m\u001b[43mverbose\u001b[49m\u001b[38;5;241;43m=\u001b[39;49m\u001b[43mverbose\u001b[49m\u001b[43m,\u001b[49m\n\u001b[1;32m    526\u001b[0m \u001b[43m    \u001b[49m\u001b[43m)\u001b[49m\n\u001b[1;32m    527\u001b[0m     \u001b[38;5;28;01mfor\u001b[39;00m encoding \u001b[38;5;129;01min\u001b[39;00m encodings\n\u001b[1;32m    528\u001b[0m ]\n\u001b[1;32m    530\u001b[0m \u001b[38;5;66;03m# Convert the output to have dict[list] from list[dict] and remove the additional overflows dimension\u001b[39;00m\n\u001b[1;32m    531\u001b[0m \u001b[38;5;66;03m# From (variable) shape (batch, overflows, sequence length) to ~ (batch * overflows, sequence length)\u001b[39;00m\n\u001b[1;32m    532\u001b[0m \u001b[38;5;66;03m# (we say ~ because the number of overflow varies with the example in the batch)\u001b[39;00m\n\u001b[1;32m    533\u001b[0m \u001b[38;5;66;03m#\u001b[39;00m\n\u001b[1;32m    534\u001b[0m \u001b[38;5;66;03m# To match each overflowing sample with the original sample in the batch\u001b[39;00m\n\u001b[1;32m    535\u001b[0m \u001b[38;5;66;03m# we add an overflow_to_sample_mapping array (see below)\u001b[39;00m\n\u001b[1;32m    536\u001b[0m sanitized_tokens \u001b[38;5;241m=\u001b[39m {}\n",
      "File \u001b[0;32m~/anaconda3/envs/questllama/lib/python3.9/site-packages/transformers/tokenization_utils_fast.py:297\u001b[0m, in \u001b[0;36mPreTrainedTokenizerFast._convert_encoding\u001b[0;34m(self, encoding, return_token_type_ids, return_attention_mask, return_overflowing_tokens, return_special_tokens_mask, return_offsets_mapping, return_length, verbose)\u001b[0m\n\u001b[1;32m    294\u001b[0m \u001b[38;5;28;01melse\u001b[39;00m:\n\u001b[1;32m    295\u001b[0m     encodings \u001b[38;5;241m=\u001b[39m [encoding]\n\u001b[0;32m--> 297\u001b[0m encoding_dict \u001b[38;5;241m=\u001b[39m \u001b[43mdefaultdict\u001b[49m\u001b[43m(\u001b[49m\u001b[38;5;28;43mlist\u001b[39;49m\u001b[43m)\u001b[49m\n\u001b[1;32m    298\u001b[0m \u001b[38;5;28;01mfor\u001b[39;00m e \u001b[38;5;129;01min\u001b[39;00m encodings:\n\u001b[1;32m    299\u001b[0m     encoding_dict[\u001b[38;5;124m\"\u001b[39m\u001b[38;5;124minput_ids\u001b[39m\u001b[38;5;124m\"\u001b[39m]\u001b[38;5;241m.\u001b[39mappend(e\u001b[38;5;241m.\u001b[39mids)\n",
      "\u001b[0;31mKeyboardInterrupt\u001b[0m: "
     ]
    }
   ],
   "source": [
    "EMBEDDING_MODEL_NAME=\"flax-sentence-embeddings/st-codesearch-distilroberta-base\"\n",
    "CHUNK_SIZE = 128\n",
    "\n",
    "print(f\"Using encoder defined at {EMBEDDING_MODEL_NAME}.\")\n",
    "print(f\"Model's maximum sequence length: {SentenceTransformer(EMBEDDING_MODEL_NAME).max_seq_length}\")\n",
    "print(f\"Chunk size: {CHUNK_SIZE}.\")\n",
    "\n",
    "docs_processed, tokenizer = split_documents(CHUNK_SIZE, RAW_KNOWLEDGE_BASE, EMBEDDING_MODEL_NAME)\n",
    "\n",
    "lengths = [\n",
    "    len(tokenizer.encode(doc.page_content)) for doc in docs_processed\n",
    "]\n",
    "\n",
    "fig = pd.Series(lengths).hist()\n",
    "plt.title(\n",
    "    \"Distribution of document lengths in the knowledge base (in count of tokens)\"\n",
    ")\n",
    "plt.show()"
   ]
  },
  {
   "cell_type": "markdown",
   "metadata": {},
   "source": [
    "# Building and loading the vector database"
   ]
  },
  {
   "cell_type": "code",
   "execution_count": null,
   "metadata": {},
   "outputs": [],
   "source": [
    "embedding_model = HuggingFaceEmbeddings(\n",
    "    model_name=EMBEDDING_MODEL_NAME,\n",
    "    multi_process=True,\n",
    "    model_kwargs={\"device\": \"cuda\"},\n",
    "    encode_kwargs={\"normalize_embeddings\": True},  # set True for cosine similarity\n",
    ")\n",
    "\n",
    "KNOWLEDGE_VECTOR_DATABASE = FAISS.from_documents(\n",
    "    docs_processed, embedding_model, distance_strategy=DistanceStrategy.COSINE\n",
    ")"
   ]
  },
  {
   "cell_type": "markdown",
   "metadata": {},
   "source": [
    "## Visualize the knowledge database"
   ]
  },
  {
   "cell_type": "code",
   "execution_count": null,
   "metadata": {},
   "outputs": [],
   "source": [
    "# embed a user query in the same space\n",
    "user_query = \"// craft a furnace.\"\n",
    "query_vector = embedding_model.embed_query(user_query)\n"
   ]
  },
  {
   "cell_type": "code",
   "execution_count": null,
   "metadata": {},
   "outputs": [
    {
     "name": "stderr",
     "output_type": "stream",
     "text": [
      "/home/atomwalk12/anaconda3/envs/questllama/lib/python3.9/site-packages/pacmap/pacmap.py:828: UserWarning: Warning: random state is set to 1\n",
      "  warnings.warn(f'Warning: random state is set to {_RANDOM_STATE}')\n"
     ]
    }
   ],
   "source": [
    "import pacmap\n",
    "import numpy as np\n",
    "import plotly.express as px\n",
    "\n",
    "embedding_projector = pacmap.PaCMAP(n_components=2, n_neighbors=None, MN_ratio=0.5, FP_ratio=2.0, random_state=1)\n",
    "\n",
    "embeddings_2d = [\n",
    "    list(KNOWLEDGE_VECTOR_DATABASE.index.reconstruct_n(idx, 1)[0]) for idx in range(len(docs_processed))\n",
    "] + [query_vector]\n",
    "\n",
    "# fit the data (The index of transformed data corresponds to the index of the original data)\n",
    "documents_projected = embedding_projector.fit_transform(np.array(embeddings_2d), init=\"pca\")"
   ]
  },
  {
   "cell_type": "code",
   "execution_count": null,
   "metadata": {},
   "outputs": [
    {
     "data": {
      "application/vnd.plotly.v1+json": {
       "config": {
        "plotlyServerURL": "https://plot.ly"
       },
       "data": [
        {
         "customdata": [
          [
           "async function equipIronSword(bot) {\n  // Find the iron sword in the bot's inventory\n  const ironSwo..."
          ],
          [
           "// Equip the iron sword in the main hand\n  if (ironSword) {\n    await bot.equip(ironSword, \"hand\");\n..."
          ],
          [
           "async function mineThreeDiamondOres(bot) {\n  // Check if the bot has an iron pickaxe or a diamond pi..."
          ],
          [
           "// Equip the iron pickaxe or diamond pickaxe\n  if (ironPickaxe) {\n    await bot.equip(ironPickaxe, \"..."
          ],
          [
           "// Explore the underground area around level 12\n  const diamondOres = await exploreUntil(bot, new Ve..."
          ],
          [
           "maxY: 14,\n      count: 3\n    });\n    return diamond_ores.length >= 3 ? diamond_ores : null;\n  });..."
          ],
          [
           "// Mine the diamond ores when found\n  if (diamondOres) {\n    await mineBlock(bot, \"diamond_ore\", 3);..."
          ],
          [
           "async function craftIronSwordWithChest(bot) {\n  // Check if there are enough iron ingots and sticks ..."
          ],
          [
           "// If not, get the required items from the chest\n  if (!ironIngots || ironIngots.count < 2 || !stick..."
          ],
          [
           "\"stick\": 1\n    });\n    ironIngots = bot.inventory.findInventoryItem(mcData.itemsByName[\"iron_ingot\"]..."
          ],
          [
           "// Check if there is a crafting table nearby or in the inventory\n  let craftingTable = bot.inventory..."
          ],
          [
           "maxDistance: 32\n    });\n    if (!craftingTable) {\n      // Craft a crafting table using oak planks\n ..."
          ],
          [
           "// Place the crafting table near the player if it's not already placed\n  const tablePosition = bot.e..."
          ],
          [
           "// Craft an iron sword using the crafting table, 2 iron ingots, and 1 stick\n  await craftItem(bot, \"..."
          ],
          [
           "async function mineWoodLog(bot) {\n  const logNames = [\"oak_log\", \"birch_log\", \"spruce_log\", \"jungle_..."
          ],
          [
           "});\n  if (!logBlock) {\n    bot.chat(\"No wood log found nearby. Exploring...\");\n    await exploreUnti..."
          ],
          [
           "});\n      return foundLog;\n    });\n  }\n  bot.chat(\"Wood log found. Mining...\");\n  await mineBlock(bo..."
          ],
          [
           "async function killThreeChickens(bot) {\n  for (let i = 0; i < 3; i++) {\n    // Explore until finding..."
          ],
          [
           "return entity.name === \"chicken\" && entity.position.distanceTo(bot.entity.position) < 32;\n      });\n..."
          ],
          [
           "bot.chat(`Killed chicken ${i + 1}/3.`);\n    } else {\n      bot.chat(\"Could not find enough chickens...."
          ],
          [
           "async function craftWoodenShovel(bot) {\n  // Check if there is a crafting table in the inventory\n  c..."
          ],
          [
           "// Place the crafting table near the player\n  const tablePosition = bot.entity.position.offset(1, 0,..."
          ],
          [
           "// Check if there are enough oak planks in the inventory\n  const oakPlanks = bot.inventory.findInven..."
          ],
          [
           "// Check if there are enough sticks in the inventory\n  const sticks = bot.inventory.findInventoryIte..."
          ],
          [
           "// Craft a wooden shovel using oak planks and sticks\n  await craftItem(bot, \"wooden_shovel\", 1);\n  b..."
          ],
          [
           "async function craftFurnace(bot) {\n  // Check if there are enough cobblestones in the inventory\n  co..."
          ],
          [
           "// Place the crafting table near the player\n  const tablePosition = bot.entity.position.offset(1, 0,..."
          ],
          [
           "async function equipIronChestplate(bot) {\n  // Find the iron chestplate in the bot's inventory\n  con..."
          ],
          [
           "// Equip the iron chestplate in the \"torso\" slot\n  if (ironChestplate) {\n    await bot.equip(ironChe..."
          ],
          [
           "async function placeChest(bot) {\n  const chest = bot.inventory.findInventoryItem(mcData.itemsByName[..."
          ],
          [
           "} else {\n    bot.chat(\"No chest found in inventory.\");\n  }\n}..."
          ],
          [
           "async function craftCraftingTable(bot) {\n  // Check if there is a crafting table in the inventory\n  ..."
          ],
          [
           "// Check if there are enough oak planks in the inventory\n  const oakPlanks = bot.inventory.findInven..."
          ],
          [
           "await mineBlock(bot, \"oak_log\", 1);\n    bot.chat(\"Crafting oak planks...\");\n    await craftItem(bot,..."
          ],
          [
           "// Craft a crafting table using oak planks\n  bot.chat(\"Crafting crafting table...\");\n  await craftIt..."
          ],
          [
           "async function cookThreeRawChicken(bot) {\n  // Check if there is a furnace in the inventory or nearb..."
          ],
          [
           "// Place the furnace near the player if it's not already placed\n  const furnacePosition = bot.entity..."
          ],
          [
           "// Smelt 3 raw chicken using coal as fuel\n  await smeltItem(bot, \"chicken\", \"coal\", 3);\n  bot.chat(\"..."
          ],
          [
           "async function eatCookedPorkchop(bot) {\n  // Check if the bot has at least 1 cooked porkchop in its ..."
          ],
          [
           "// Consume the cooked porkchop\n    await bot.consume();\n    bot.chat(\"Ate 1 cooked porkchop.\");\n  } ..."
          ],
          [
           "async function craftIronHelmet(bot) {\n  // Check if there are enough iron ingots in the inventory\n  ..."
          ],
          [
           "await getItemFromChest(bot, chestPosition, {\n      \"iron_ingot\": 5 - (ironIngots ? ironIngots.count ..."
          ],
          [
           "// Craft an iron helmet using the crafting table and 5 iron ingots\n  await craftItem(bot, \"iron_helm..."
          ],
          [
           "async function craftIronLeggingsWithSmelting(bot) {\n  // Check if there are enough iron ingots in th..."
          ],
          [
           "await getItemFromChest(bot, chestPosition, {\n      \"iron_ingot\": 7 - (ironIngots ? ironIngots.count ..."
          ],
          [
           "const rawIron = bot.inventory.findInventoryItem(mcData.itemsByName[\"raw_iron\"].id);..."
          ],
          [
           "// Check if there is a furnace nearby or in the inventory\n    let furnace = bot.inventory.findInvent..."
          ],
          [
           "maxDistance: 32\n      });\n      if (!furnace) {\n        // Craft a furnace using cobblestone\n       ..."
          ],
          [
           "furnace = bot.inventory.findInventoryItem(mcData.itemsByName[\"furnace\"].id);\n      }\n    }..."
          ],
          [
           "// Place the furnace near the player if it's not already placed\n    const furnacePosition = bot.enti..."
          ],
          [
           "// Smelt the raw iron using the furnace and coal as fuel\n    if (rawIron) {\n      await smeltItem(bo..."
          ],
          [
           "// Craft iron leggings using the crafting table and 7 iron ingots\n  await craftItem(bot, \"iron_leggi..."
          ],
          [
           "async function craftLightningRod(bot) {\n  // Check if there are enough copper ingots and sticks in t..."
          ],
          [
           "// If not, get the required items from the chest\n  if (!copperIngots || copperIngots.count < 3 || !s..."
          ],
          [
           "\"stick\": 2 - (sticks ? sticks.count : 0)\n    });\n    copperIngots = bot.inventory.findInventoryItem(..."
          ],
          [
           "// Craft a lightning rod using the crafting table, 3 copper ingots, and 2 sticks\n  await craftItem(b..."
          ],
          [
           "async function mineFiveIronOres(bot) {\n  // Equip the stone pickaxe\n  const stonePickaxe = bot.inven..."
          ],
          [
           "// Explore until finding an iron ore block\n  const ironOre = await exploreUntil(bot, new Vec3(0, -1,..."
          ],
          [
           "// Mine 5 iron ore blocks\n  await mineBlock(bot, \"iron_ore\", 5);\n  bot.chat(\"5 iron ores mined.\");\n}..."
          ],
          [
           "async function mineFiveLapisOres(bot) {\n  // Check if the bot has a stone pickaxe, iron pickaxe, or ..."
          ],
          [
           "const diamondPickaxe = bot.inventory.findInventoryItem(mcData.itemsByName[\"diamond_pickaxe\"].id);..."
          ],
          [
           "// Equip the best pickaxe available\n  if (diamondPickaxe) {\n    await bot.equip(diamondPickaxe, \"han..."
          ],
          [
           "} else {\n    bot.chat(\"I don't have a stone, iron, or diamond pickaxe to mine lapis ores.\");\n    ret..."
          ],
          [
           "// Explore the underground area to find lapis ores\n  const lapisOres = await exploreUntil(bot, new V..."
          ],
          [
           "count: 5\n    });\n    return lapis_ores.length >= 5 ? lapis_ores : null;\n  });..."
          ],
          [
           "// Mine 5 lapis ores using the equipped pickaxe\n  if (lapisOres) {\n    await mineBlock(bot, \"lapis_o..."
          ],
          [
           "async function smeltFiveRawCopper(bot) {\n  // Check if there is a furnace in the inventory\n  const f..."
          ],
          [
           "// Place the furnace near the player\n  const furnacePosition = bot.entity.position.offset(1, 0, 0);\n..."
          ],
          [
           "async function craftDiamondPickaxe(bot) {\n  // Check if there is a crafting table in the inventory o..."
          ],
          [
           "// Craft a diamond pickaxe using the crafting table, 3 diamonds, and 2 sticks\n  await craftItem(bot,..."
          ],
          [
           "async function craftStonePickaxe(bot) {\n  // Check if there is a crafting table nearby\n  const craft..."
          ],
          [
           "const tablePosition = bot.entity.position.offset(1, 0, 0);\n    await placeItem(bot, \"crafting_table\"..."
          ],
          [
           "// Check if there are enough sticks in the inventory\n  const sticks = bot.inventory.findInventoryIte..."
          ],
          [
           "// Check if there are enough cobblestone in the inventory\n  const cobblestone = bot.inventory.findIn..."
          ],
          [
           "// Craft a stone pickaxe using cobblestone and sticks\n  await craftItem(bot, \"stone_pickaxe\", 1);\n  ..."
          ],
          [
           "async function craftWoodenPickaxe(bot) {\n  // Check if there is a crafting table in the inventory\n  ..."
          ],
          [
           "// Check if there are enough oak planks in the inventory\n  const oakPlanks = bot.inventory.findInven..."
          ],
          [
           "// Craft a wooden pickaxe using oak planks and sticks\n  await craftItem(bot, \"wooden_pickaxe\", 1);\n ..."
          ],
          [
           "async function mineFiveDeepslateRedstoneOres(bot) {\n  // Equip the diamond pickaxe\n  const diamondPi..."
          ],
          [
           "// Explore the underground area to find deepslate_redstone_ore\n  const deepslateRedstoneOres = await..."
          ],
          [
           "maxDistance: 32,\n      count: 5\n    });\n    return deepslate_redstone_ores.length >= 5 ? deepslate_r..."
          ],
          [
           "// Mine 5 deepslate_redstone_ore using the equipped diamond_pickaxe\n  if (deepslateRedstoneOres) {\n ..."
          ],
          [
           "async function craftBed(bot) {\n  // Check if there is a crafting table in the inventory or nearby\n  ..."
          ],
          [
           "maxDistance: 32\n    });\n    if (!craftingTable) {\n      // Mine oak logs and craft oak planks\n      ..."
          ],
          [
           "await craftItem(bot, \"crafting_table\", 1);\n    }\n  }..."
          ],
          [
           "// Find a suitable position to place the crafting table if it's not already placed\n  const tablePosi..."
          ],
          [
           "// Find a different position to place the crafting table\n      const newPosition = bot.entity.positi..."
          ],
          [
           "// Check if there are enough wool blocks in the inventory\n  let wool = bot.inventory.findInventoryIt..."
          ],
          [
           "const sheep = await exploreUntil(bot, new Vec3(1, 0, 1), 60, () => {\n      const sheep = bot.nearest..."
          ],
          [
           "});\n    await bot.pathfinder.goto(new GoalGetToBlock(sheep.position.x, sheep.position.y, sheep.posit..."
          ],
          [
           "wool = bot.inventory.findInventoryItem(mcData.itemsByName[\"white_wool\"].id);\n  }..."
          ],
          [
           "// Check if there are enough wooden planks in the inventory\n  let oakPlanks = bot.inventory.findInve..."
          ],
          [
           "// Craft a bed using the wool blocks and wooden planks\n  bot.chat(\"Crafting a bed...\");\n  await craf..."
          ],
          [
           "async function obtainThreeBirchLogs(bot) {\n  const chestPosition = new Vec3(-17, 1, 17);\n  const sta..."
          ],
          [
           "// Check if the bot is already near the chest\n  if (bot.entity.position.distanceTo(chestPosition) > ..."
          ],
          [
           "matching: mcData.blocksByName[\"chest\"].id,\n        maxDistance: 32\n      });\n      return chest;\n   ..."
          ],
          [
           "// Take 3 birch logs from the chest\n  await getItemFromChest(bot, chestPosition, {\n    \"birch_log\": ..."
          ],
          [
           "async function obtainTenWoodLogs(bot) {\n  const logNames = [\"oak_log\", \"birch_log\", \"spruce_log\", \"j..."
          ],
          [
           "// Check if there are already 10 wood logs in the inventory\n  for (const logName of logNames) {\n    ..."
          ],
          [
           "}\n  if (totalLogs >= 10) {\n    bot.chat(\"Already have 10 wood logs in inventory.\");\n    return;\n  }\n..."
          ],
          [
           "// Equip the wooden axe if available in the inventory\n  const woodenAxe = bot.inventory.findInventor..."
          ],
          [
           "// Use exploreUntil to find a wood log if not found nearby\n    const logBlock = bot.findBlock({\n    ..."
          ],
          [
           "const foundLog = bot.findBlock({\n          matching: block => logNames.includes(block.name),\n       ..."
          ],
          [
           "// Mine the required number of wood logs using mineBlock\n    await mineBlock(bot, logBlock.name, 1);..."
          ],
          [
           "async function collectAlliumWithShears(bot) {\n  // Find an allium flower nearby\n  const allium = bot..."
          ],
          [
           "// Go near the allium flower\n  await bot.pathfinder.goto(new GoalGetToBlock(allium.position.x, alliu..."
          ],
          [
           "// Use the shears on the allium flower to collect it\n  await bot.useOn(allium);\n  bot.chat(\"Collecte..."
          ],
          [
           "async function craftIronPickaxeWithSmelting(bot) {\n  // Check if there are enough iron ingots in the..."
          ],
          [
           "// Check if there is a furnace in the inventory or nearby\n  let furnace = bot.inventory.findInventor..."
          ],
          [
           "maxDistance: 32\n    });\n    if (!furnace) {\n      // Craft a furnace using cobblestone\n      await m..."
          ],
          [
           "furnace = bot.inventory.findInventoryItem(mcData.itemsByName[\"furnace\"].id);\n    }\n  }..."
          ],
          [
           "// Smelt the iron ore using the furnace and coal as fuel\n  await smeltItem(bot, \"raw_iron\", \"coal\", ..."
          ],
          [
           "// Check if there are enough sticks in the inventory\n  let sticks = bot.inventory.findInventoryItem(..."
          ],
          [
           "// Check if there is a crafting table in the inventory or nearby\n  let craftingTable = bot.inventory..."
          ],
          [
           "// Craft an iron pickaxe using the crafting table, 3 iron ingots, and 2 sticks\n  await craftItem(bot..."
          ],
          [
           "async function equipIronLeggings(bot) {\n  // Find the iron leggings in the bot's inventory\n  const i..."
          ],
          [
           "// Equip the iron leggings in the \"legs\" slot\n  if (ironLeggings) {\n    await bot.equip(ironLeggings..."
          ],
          [
           "async function findCookAndEatChicken(bot) {\n  // Check if the bot has at least 1 cooked chicken in i..."
          ],
          [
           "} else {\n    // Check if there is raw chicken in the inventory or in the nearby chest\n    let rawChi..."
          ],
          [
           "\"chicken\": 1\n      });\n      rawChicken = bot.inventory.findInventoryItem(mcData.itemsByName[\"chicke..."
          ],
          [
           "// If there is still no raw chicken, explore the area to find and kill a chicken\n    if (!rawChicken..."
          ],
          [
           "// Cook the raw chicken into cooked chicken using a furnace\n    if (rawChicken) {\n      await smeltI..."
          ],
          [
           "// Eat the cooked chicken if available\n    if (cookedChicken) {\n      await eatCookedChicken(bot);\n ..."
          ],
          [
           "async function mineOneDiamondOre(bot) {\n  // Equip the iron pickaxe\n  const ironPickaxe = bot.invent..."
          ],
          [
           "// Explore the underground area around level 12\n  const diamondOre = await exploreUntil(bot, new Vec..."
          ],
          [
           "// Mine the diamond ore when found\n  if (diamondOre) {\n    await mineBlock(bot, \"diamond_ore\", 1);\n ..."
          ],
          [
           "async function mineThreeDiamondOres(bot) {\n  // Equip the iron pickaxe\n  const ironPickaxe = bot.inv..."
          ],
          [
           "async function obtainOakLogs(bot) {\n  const oakLogName = \"oak_log\";\n  const oakLogItem = bot.invento..."
          ],
          [
           "}\n  const logsNeeded = oakLogItem ? 3 - oakLogItem.count : 3;\n  bot.chat(`Mining ${logsNeeded} oak l..."
          ],
          [
           "async function mineFiveRedstoneOres(bot) {\n  // Check if the bot has an iron pickaxe or a diamond pi..."
          ],
          [
           "// Equip the iron pickaxe or diamond pickaxe\n  if (ironPickaxe) {\n    await bot.equip(ironPickaxe, \"..."
          ],
          [
           "// Explore the underground area around level 16 or below\n  const redstoneOres = await exploreUntil(b..."
          ],
          [
           "minY: 0,\n      maxY: 16,\n      count: 5\n    });\n    return redstone_ores.length >= 5 ? redstone_ores..."
          ],
          [
           "// Mine the redstone ores when found\n  if (redstoneOres) {\n    await mineBlock(bot, \"redstone_ore\", ..."
          ],
          [
           "async function mineOneDeepslateDiamondOre(bot) {\n  // Equip the diamond pickaxe\n  const diamondPicka..."
          ],
          [
           "// Explore the underground area around level 12\n  const deepslateDiamondOre = await exploreUntil(bot..."
          ],
          [
           "minY: 5,\n      maxY: 12\n    });\n    return deepslate_diamond_ore;\n  });..."
          ],
          [
           "// Mine the deepslate diamond ore when found\n  if (deepslateDiamondOre) {\n    await mineBlock(bot, \"..."
          ],
          [
           "async function killOneCreeper(bot) {\n  // Equip the iron sword\n  const ironSword = bot.inventory.fin..."
          ],
          [
           "// Explore until finding a creeper\n  const creeper = await exploreUntil(bot, new Vec3(1, 0, 1), 60, ..."
          ],
          [
           "});\n    return creeper;\n  });\n  if (creeper) {\n    // Attack the creeper while maintaining a safe di..."
          ],
          [
           "} else {\n    bot.chat(\"Could not find a creeper.\");\n  }\n}..."
          ],
          [
           "async function craftStoneSword(bot) {\n  // Check if there is a crafting table nearby\n  const craftin..."
          ],
          [
           "// Check if there are enough cobblestones in the inventory\n  const cobblestone = bot.inventory.findI..."
          ],
          [
           "// Check if there are enough sticks in the inventory\n  const sticks = bot.inventory.findInventoryIte..."
          ],
          [
           "async function openChestAtPosition(bot) {\n  const chestPosition = new Vec3(-20, -16, 35);\n  await mo..."
          ],
          [
           "async function killOneSkeletonWithBow(bot) {\n  // Check if the bot has a bow and arrows in the inven..."
          ],
          [
           "// Explore until finding a skeleton\n  const skeleton = await exploreUntil(bot, new Vec3(1, 0, 1), 60..."
          ],
          [
           "});\n  if (skeleton) {\n    if (bow && arrows && arrows.count > 0) {\n      // Equip the bow and attack..."
          ],
          [
           "bot.chat(\"Attacked skeleton with bow and arrow.\");\n    } else {\n      // Equip the stone sword and a..."
          ],
          [
           "await killMob(bot, \"skeleton\", 300);\n      bot.chat(\"Killed 1 skeleton.\");\n    }\n  } else {\n    bot...."
          ],
          [
           "async function checkWoodenShovel(bot) {\n  const woodenShovel = bot.inventory.findInventoryItem(mcDat..."
          ],
          [
           "}\n}..."
          ],
          [
           "async function equipIronHelmetAndBoots(bot) {\n  // Find the iron helmet in the bot's inventory\n  con..."
          ],
          [
           "// Equip the iron helmet in the \"head\" slot\n  if (ironHelmet) {\n    await bot.equip(ironHelmet, \"hea..."
          ],
          [
           "// Equip the iron boots in the \"feet\" slot\n  if (ironBoots) {\n    await bot.equip(ironBoots, \"feet\")..."
          ],
          [
           "async function craftShield(bot) {\n  // Check if there are enough oak planks and iron ingots in the i..."
          ],
          [
           "// If not, get the required items from the chest\n  if (!oakPlanks || oakPlanks.count < 6 || !ironIng..."
          ],
          [
           "\"iron_ingot\": 1 - (ironIngots ? ironIngots.count : 0)\n    });\n    oakPlanks = bot.inventory.findInve..."
          ],
          [
           "// Craft a shield using the crafting table, 6 oak planks, and 1 iron ingot\n  await craftItem(bot, \"s..."
          ],
          [
           "async function craftSpyglass(bot) {\n  // Check if there is a crafting table nearby or in the invento..."
          ],
          [
           "// Craft a spyglass using the crafting table, 2 copper ingots, and 1 amethyst shard\n  await craftIte..."
          ],
          [
           "async function mineTenCobblestone(bot) {\n  // Equip the wooden pickaxe\n  const woodenPickaxe = bot.i..."
          ],
          [
           "async function findSuitablePosition(bot, startPosition) {\n  const offsets = [new Vec3(1, 0, 0), new ..."
          ],
          [
           "if (block.name === \"grass_block\" || block.name === \"dirt\") {\n      return position;\n    }\n  }\n  retu..."
          ],
          [
           "async function craftIronBootsWithSuitablePosition(bot) {\n  // Check if there are enough iron ingots ..."
          ],
          [
           "await getItemFromChest(bot, chestPosition, {\n      \"iron_ingot\": 4 - (ironIngots ? ironIngots.count ..."
          ],
          [
           "// Find a suitable position to place the crafting table\n  const startPosition = bot.entity.position...."
          ],
          [
           "// Craft iron boots using the crafting table and 4 iron ingots\n  await craftItem(bot, \"iron_boots\", ..."
          ],
          [
           "async function smeltEightRawIron(bot) {\n  // Check if there is a furnace in the inventory or nearby\n..."
          ],
          [
           "// Smelt 8 raw iron using coal as fuel\n  await smeltItem(bot, \"raw_iron\", \"coal\", 8);\n  bot.chat(\"8 ..."
          ],
          [
           "async function smeltFiveRawIron(bot) {\n  // Check if there is a furnace in the inventory\n  const fur..."
          ],
          [
           "// Place the furnace near the player\n  const furnacePosition = bot.entity.position.offset(1, 0, 0);\n..."
          ],
          [
           "async function mineFiveCopperOres(bot) {\n  // Equip the stone pickaxe\n  const stonePickaxe = bot.inv..."
          ],
          [
           "async function cookSevenRawPorkchops(bot) {\n  // Check if there is a furnace in the inventory or nea..."
          ],
          [
           "// Check if there are 7 raw porkchops in the inventory\n  let rawPorkchops = bot.inventory.findInvent..."
          ],
          [
           "const pigsToKill = 7 - (rawPorkchops ? rawPorkchops.count : 0);\n    for (let i = 0; i < pigsToKill; ..."
          ],
          [
           "}..."
          ],
          [
           "// Smelt 7 raw porkchops using coal as fuel\n  await smeltItem(bot, \"porkchop\", \"coal\", 7);\n  bot.cha..."
          ],
          [
           "async function craftIronBoots(bot) {\n  // Check if there are enough iron ingots in the inventory\n  l..."
          ],
          [
           "async function obtainAmethystShard(bot) {\n  // Equip the iron pickaxe\n  const ironPickaxe = bot.inve..."
          ],
          [
           "// Explore the underground area to find an amethyst geode\n  const amethystGeode = await exploreUntil..."
          ],
          [
           "// Mine the amethyst geode to obtain 1 amethyst shard\n  if (amethystGeode) {\n    await mineBlock(bot..."
          ],
          [
           "async function craftIronHelmetWithSuitablePosition(bot) {\n  // Check if there is a crafting table in..."
          ],
          [
           "matching: mcData.blocksByName[\"crafting_table\"].id,\n      maxDistance: 32\n    });\n    if (!craftingT..."
          ],
          [
           "async function craftIronChestplate(bot) {\n  // Check if there is a crafting table in the inventory o..."
          ],
          [
           "// Check if there are enough iron ingots in the inventory\n  let ironIngots = bot.inventory.findInven..."
          ],
          [
           "await mineBlock(bot, \"iron_ore\", 8 - (ironIngots ? ironIngots.count : 0));\n    await smeltItem(bot, ..."
          ],
          [
           "// Craft an iron chestplate using the crafting table and 8 iron ingots\n  await craftItem(bot, \"iron_..."
          ],
          [
           "async function obtainWhiteWoolWithShears(bot) {\n  // Equip the shears\n  const shears = bot.inventory..."
          ],
          [
           "// Find the nearest white sheep\n  const whiteSheep = bot.nearestEntity(entity => {\n    return entity..."
          ],
          [
           "// Use the shears on the white sheep to obtain white wool\n  if (whiteSheep) {\n    await bot.useOn(wh..."
          ],
          [
           "async function obtainWhiteWoolWithShears(bot) {\n  // Equip the shears\n  const shears = bot.inventory..."
          ],
          [
           "// Use the shears on the sheep to obtain white wool\n  if (sheep) {\n    await bot.useOn(sheep);\n    b..."
          ],
          [
           "async function eatCookedChicken(bot) {\n  // Check if the bot has at least 1 cooked chicken in its in..."
          ],
          [
           "// Consume the cooked chicken\n    await bot.consume();\n    bot.chat(\"Ate 1 cooked chicken.\");\n  } el..."
          ],
          [
           "async function mineFiveCoalOres(bot) {\n  // Equip the wooden pickaxe\n  const woodenPickaxe = bot.inv..."
          ],
          [
           "async function sleepInWhiteBed(bot) {\n  // Find a suitable position to place the bed\n  const startPo..."
          ],
          [
           "// Place the white bed at the suitable position\n  if (bedPosition) {\n    await placeItem(bot, \"white..."
          ],
          [
           "async function craftWoodenAxe(bot) {\n  // Check if there is a crafting table in the inventory\n  cons..."
          ],
          [
           "// Craft a wooden axe using oak planks and sticks\n  await craftItem(bot, \"wooden_axe\", 1);\n  bot.cha..."
          ],
          [
           "async function equipIronSword(bot) {\n  // Find the iron sword in the inventory\n  let ironSword = bot..."
          ],
          [
           "// If the iron sword is not found in the inventory, check the chest\n  if (!ironSword) {\n    const ch..."
          ],
          [
           "// Equip the iron sword\n  if (ironSword) {\n    await bot.equip(ironSword, \"hand\");\n    bot.chat(\"Equ..."
          ],
          [
           "async function equipIronArmor(bot) {\n  // Find the iron_leggings, iron_boots, and iron_helmet in the..."
          ],
          [
           "const ironHelmet = bot.inventory.findInventoryItem(mcData.itemsByName.iron_helmet.id);..."
          ],
          [
           "// Equip the iron_leggings, iron_boots, and iron_helmet in the appropriate slots (legs, feet, and he..."
          ],
          [
           "} else {\n    bot.chat(\"Iron leggings not found in inventory.\");\n  }\n  if (ironBoots) {\n    await bot..."
          ],
          [
           "}\n  if (ironHelmet) {\n    await bot.equip(ironHelmet, \"head\");\n    bot.chat(\"Equipped iron helmet.\")..."
          ],
          [
           "async function craftWoodenSword(bot) {\n  // Check if there are enough oak planks in the inventory\n  ..."
          ],
          [
           "// If not, craft oak planks from oak logs\n  if (oakPlanksCount < 2) {\n    const oakLogsCount = bot.i..."
          ],
          [
           "await craftItem(bot, \"oak_planks\", planksToCraft);\n      bot.chat(\"Crafted oak planks.\");\n    } else..."
          ],
          [
           "// Check if there are enough sticks in the inventory\n  const sticksCount = bot.inventory.count(mcDat..."
          ],
          [
           "// Place the crafting table near the bot\n  const craftingTablePosition = bot.entity.position.offset(..."
          ],
          [
           "async function findSuitablePosition(bot) {\n  const offsets = [\n    new Vec3(1, 0, 0),\n    new Vec3(-..."
          ],
          [
           "for (const offset of offsets) {\n    const position = bot.entity.position.offset(offset.x, offset.y, ..."
          ],
          [
           "async function smeltFiveRawIron(bot) {\n  // Check if there is coal in the inventory\n  const coalCoun..."
          ],
          [
           "bot.chat(\"Collected coal.\");\n  }\n  // Check if there is a furnace in the inventory\n  const furnaceIt..."
          ],
          [
           "// If not, craft a furnace using the available cobblestone\n  if (!furnaceItem) {\n    await craftFurn..."
          ],
          [
           "// Place the furnace at the suitable position\n  await placeItem(bot, \"furnace\", furnacePosition);\n\n ..."
          ],
          [
           "async function mineWoodLog(bot) {\n  const woodLogNames = [\"oak_log\", \"birch_log\", \"spruce_log\", \"jun..."
          ],
          [
           "// Find a wood log block\n  const woodLogBlock = await exploreUntil(bot, new Vec3(1, 0, 1), 60, () =>..."
          ],
          [
           "// Mine the wood log block\n  await mineBlock(bot, woodLogBlock.name, 1);\n  bot.chat(\"Wood log mined...."
          ],
          [
           "async function craftWhiteBed(bot) {\n  // Check if there are enough oak planks in the inventory\n  con..."
          ],
          [
           "// If not, craft oak planks from oak logs\n  if (oakPlanksCount < 3) {\n    const oakLogsCount = bot.i..."
          ],
          [
           "// Check if there are enough white wool in the inventory\n  const whiteWoolCount = bot.inventory.coun..."
          ],
          [
           "// Place the crafting table near the bot\n  const craftingTablePosition = bot.entity.position.offset(..."
          ],
          [
           "async function craftShieldImproved(bot) {\n  // Check if there are enough oak planks in the inventory..."
          ],
          [
           "// If not, check if there are enough oak logs in the inventory\n  if (oakPlanksCount < 6) {\n    let o..."
          ],
          [
           "// If not, explore to find and mine oak logs\n    if (oakLogsCount < planksToCraft) {\n      await exp..."
          ],
          [
           "maxDistance: 32\n        });\n        return oak_log;\n      });\n      await mineBlock(bot, \"oak_log\", ..."
          ],
          [
           "// Craft oak planks from oak logs\n    await craftItem(bot, \"oak_planks\", planksToCraft);\n    bot.cha..."
          ],
          [
           "// If not, explore to find and mine iron ores\n  if (ironIngotsCount < 1) {\n    await exploreUntil(bo..."
          ],
          [
           "maxDistance: 32\n      });\n      return iron_ore;\n    });\n    await mineBlock(bot, \"iron_ore\", 1);\n  ..."
          ],
          [
           "// Smelt iron ores into iron ingots\n    await smeltItem(bot, \"iron_ore\", \"coal\", 1);\n    bot.chat(\"S..."
          ],
          [
           "// Craft a shield using the crafting table\n  await craftItem(bot, \"shield\", 1);\n  bot.chat(\"Crafted ..."
          ],
          [
           "async function craftFurnace(bot) {\n  // Check if there are enough cobblestones in the inventory\n  co..."
          ],
          [
           "// Place the crafting table near the bot\n  const craftingTablePosition = bot.entity.position.offset(..."
          ],
          [
           "async function craftBucket(bot) {\n  // Check if there are enough iron ingots in the inventory\n  cons..."
          ],
          [
           "// If not enough iron ingots, mine iron ores and smelt them into iron ingots\n  if (ironIngotsCount <..."
          ],
          [
           "// Place the crafting table near the bot\n  const craftingTablePosition = bot.entity.position.offset(..."
          ],
          [
           "async function smeltRawCopper(bot) {\n  // Check if there is a furnace in the inventory\n  const furna..."
          ],
          [
           "// Find a suitable position to place the furnace\n  const furnacePosition = await findSuitablePositio..."
          ],
          [
           "// Smelt 19 raw copper using the available coal as fuel\n  await smeltItem(bot, \"raw_copper\", \"coal\",..."
          ],
          [
           "async function craftCopperBlock(bot) {\n  // Check if there are enough copper ingots in the inventory..."
          ],
          [
           "// If not enough copper ingots, mine copper ores and smelt them into copper ingots\n  if (copperIngot..."
          ],
          [
           "// Place the crafting table near the bot\n  const craftingTablePosition = bot.entity.position.offset(..."
          ],
          [
           "async function equipIronChestplate(bot) {\n  // Find the iron chestplate in the inventory\n  const iro..."
          ],
          [
           "// Equip the iron chestplate\n  if (ironChestplate) {\n    await bot.equip(ironChestplate, \"torso\");\n ..."
          ],
          [
           "async function killOneSpider(bot) {\n  // Equip the iron sword\n  const ironSword = bot.inventory.find..."
          ],
          [
           "// Find the nearest spider\n  const spider = await exploreUntil(bot, new Vec3(1, 0, 1), 60, () => {\n ..."
          ],
          [
           "});\n  if (!spider) {\n    bot.chat(\"Could not find a spider.\");\n    return;\n  }..."
          ],
          [
           "// Kill the spider using the iron sword\n  await killMob(bot, \"spider\", 300);\n  bot.chat(\"Killed a sp..."
          ],
          [
           "async function craftCraftingTable(bot) {\n  // Check if there are enough oak planks in the inventory\n..."
          ],
          [
           "// If not, craft oak planks from oak logs\n  if (oakPlanksCount < 4) {\n    const oakLogsCount = bot.i..."
          ],
          [
           "// Craft a crafting table using oak planks\n  await craftItem(bot, \"crafting_table\", 1);\n  bot.chat(\"..."
          ],
          [
           "async function craftIronShovel(bot) {\n  // Check if there are enough iron ingots and sticks in the i..."
          ],
          [
           "// If not enough iron ingots or sticks, collect the required items\n  if (ironIngotsCount < 1) {\n    ..."
          ],
          [
           "}\n  if (sticksCount < 2) {\n    await craftItem(bot, \"stick\", 1);\n    bot.chat(\"Crafted sticks.\");\n  ..."
          ],
          [
           "// Find a suitable position to place the crafting table\n  const suitablePosition = bot.entity.positi..."
          ],
          [
           "// Craft an iron shovel using the crafting table\n  await craftItem(bot, \"iron_shovel\", 1);\n  bot.cha..."
          ],
          [
           "async function craftIronHelmet(bot) {\n  // Place the crafting table near the bot\n  const craftingTab..."
          ],
          [
           "async function findSuitablePosition(bot) {\n  const offsets = [new Vec3(1, 0, 0), new Vec3(-1, 0, 0),..."
          ],
          [
           "if (block.name === \"air\") {\n      return position;\n    }\n  }\n  return null;\n}..."
          ],
          [
           "async function craftLightningRod(bot) {\n  // Find a suitable position to place the crafting table\n  ..."
          ],
          [
           "// If not enough copper ingots, mine copper ores and smelt them into copper ingots\n  if (copperIngot..."
          ],
          [
           "// Craft a lightning rod using the crafting table\n  await craftItem(bot, \"lightning_rod\", 1);\n  bot...."
          ],
          [
           "async function obtainOneMoreAcaciaLog(bot) {\n  // Check the initial inventory for acacia logs\n  cons..."
          ],
          [
           "// If the number of acacia logs is less than 5, find and mine one more acacia log\n  if (initialAcaci..."
          ],
          [
           "maxDistance: 32\n      });\n    });\n    if (!acaciaLog) {\n      bot.chat(\"Could not find an acacia log..."
          ],
          [
           "bot.chat(\"1 more acacia log obtained.\");\n  }..."
          ],
          [
           "// Check the final number of acacia logs in the inventory\n  const finalAcaciaLogs = bot.inventory.co..."
          ],
          [
           "async function mineFiveIronOres(bot) {\n  // Equip the stone pickaxe\n  const stonePickaxe = bot.inven..."
          ],
          [
           "// Find 5 iron_ore blocks\n  const ironOres = await exploreUntil(bot, new Vec3(1, 0, 1), 60, () => {\n..."
          ],
          [
           "});\n    return ironOres.length >= 5 ? ironOres : null;\n  });\n  if (!ironOres) {\n    bot.chat(\"Could ..."
          ],
          [
           "// Mine the 5 iron_ore blocks\n  await mineBlock(bot, \"iron_ore\", 5);\n  bot.chat(\"5 iron ores mined.\"..."
          ],
          [
           "async function mineFiveCoalOres(bot) {\n  // Equip the stone pickaxe\n  const stonePickaxe = bot.inven..."
          ],
          [
           "// Find 5 coal_ore blocks\n  const coalOres = await exploreUntil(bot, new Vec3(1, 0, 1), 60, () => {\n..."
          ],
          [
           "});\n    return coalOres.length >= 5 ? coalOres : null;\n  });\n  if (!coalOres) {\n    bot.chat(\"Could ..."
          ],
          [
           "// Mine the 5 coal_ore blocks\n  await mineBlock(bot, \"coal_ore\", 5);\n  bot.chat(\"5 coal ores mined.\"..."
          ],
          [
           "async function cookPorkchops(bot) {\n  // Check if there is a furnace in the inventory\n  const furnac..."
          ],
          [
           "// Place the furnace near the bot\n  const furnacePosition = bot.entity.position.offset(1, 0, 0);\n  a..."
          ],
          [
           "async function craftStonePickaxe(bot) {\n  // Check if there are enough cobblestone and sticks in the..."
          ],
          [
           "// If not enough cobblestone or sticks, collect the required items\n  if (cobblestoneCount < 3) {\n   ..."
          ],
          [
           "// Place the crafting table near the bot\n  const craftingTablePosition = bot.entity.position.offset(..."
          ],
          [
           "async function craftWoodenPickaxe(bot) {\n  // check if crafting table is in the inventory\n  const cr..."
          ],
          [
           "// Check if there are enough oak planks in the inventory\n  const oakPlanksCount = bot.inventory.coun..."
          ],
          [
           "// If not, craft oak planks from oak logs\n  if (oakPlanksCount < 6) {\n    const oakLogsCount = bot.i..."
          ],
          [
           "await mineBlock(bot, \"oak_log\", planksToCraft - oakLogsCount);\n    }\n    await craftItem(bot, \"oak_p..."
          ],
          [
           "// Check if there are enough sticks in the inventory\n  const sticksCount = bot.inventory.count(mcDat..."
          ],
          [
           "// Place the crafting table near the bot\n  const craftingTablePosition = bot.entity.position.offset(..."
          ],
          [
           "async function mineFiveCopperOres(bot) {\n  // Check if the bot already has 5 or more copper ores in ..."
          ],
          [
           "bot.chat(\"Task already completed. There are already \" + totalCopperOres + \" copper ores in the inven..."
          ],
          [
           "async function craftStoneShovel(bot) {\n  // Check if there are enough cobblestone and sticks in the ..."
          ],
          [
           "// If not enough cobblestone, mine cobblestone\n  if (cobblestoneCount < 1) {\n    await mineBlock(bot..."
          ],
          [
           "// Place the crafting table near the bot\n  const craftingTablePosition = bot.entity.position.offset(..."
          ],
          [
           "async function killOnePig(bot) {\n  // Equip the wooden sword\n  const woodenSword = bot.inventory.fin..."
          ],
          [
           "// Find the nearest pig\n  const pig = await exploreUntil(bot, new Vec3(1, 0, 1), 60, () => {\n    con..."
          ],
          [
           "});\n  if (!pig) {\n    bot.chat(\"Could not find a pig.\");\n    return;\n  }..."
          ],
          [
           "// Kill the pig using the wooden sword\n  await killMob(bot, \"pig\", 300);\n  bot.chat(\"Killed a pig.\")..."
          ],
          [
           "async function mineFiveLapisLazuliOres(bot) {\n  // Equip the iron pickaxe\n  const ironPickaxe = bot...."
          ],
          [
           "// Find 5 lapis_lazuli_ore blocks\n  const lapisOres = await exploreUntil(bot, new Vec3(1, -1, 1), 60..."
          ],
          [
           "count: 5\n    });\n    return lapisOres.length >= 5 ? lapisOres : null;\n  });\n  if (!lapisOres) {\n    ..."
          ],
          [
           "// Mine the 5 lapis_lazuli_ore blocks\n  await mineBlock(bot, \"lapis_ore\", 5);\n  bot.chat(\"5 lapis la..."
          ],
          [
           "async function craftChest(bot) {\n  // Check if there are enough oak planks in the inventory\n  const ..."
          ],
          [
           "// If not, craft oak planks from oak logs\n  if (oakPlanksCount < 8) {\n    const oakLogsCount = bot.i..."
          ],
          [
           "// Place the crafting table near the bot\n  const craftingTablePosition = bot.entity.position.offset(..."
          ],
          [
           "async function killOneEnderman(bot) {\n  // Equip the iron sword\n  const ironSword = bot.inventory.fi..."
          ],
          [
           "// Find the nearest enderman\n  const enderman = await exploreUntil(bot, new Vec3(1, 0, 1), 60, () =>..."
          ],
          [
           "return enderman;\n  });\n  if (!enderman) {\n    bot.chat(\"Could not find an enderman.\");\n    return;\n ..."
          ],
          [
           "// Kill the enderman using the iron sword\n  await killMob(bot, \"enderman\", 300);\n  bot.chat(\"Killed ..."
          ],
          [
           "async function killTwoPigs(bot) {\n  // Equip the wooden sword\n  const woodenSword = bot.inventory.fi..."
          ],
          [
           "// Find and kill the second pig\n  await killMob(bot, \"pig\", 300);\n  bot.chat(\"Killed the second pig...."
          ],
          [
           "// Collect the dropped items from the killed pigs\n  const pigDrops = [\"raw_porkchop\"];\n  for (const ..."
          ],
          [
           "});\n    if (droppedItem) {\n      await bot.pathfinder.goto(new GoalBlock(droppedItem.position.x, dro..."
          ],
          [
           "async function collectBamboo(bot) {\n  // Equip the iron sword\n  const ironSword = bot.inventory.find..."
          ],
          [
           "// Find bamboo plants using the exploreUntil function\n  const bambooPlants = await exploreUntil(bot,..."
          ],
          [
           "});\n    return bambooPlants.length >= 10 ? bambooPlants : null;\n  });\n  if (!bambooPlants) {\n    bot..."
          ],
          [
           "// Break 10 bamboo plants using the iron sword\n  for (const bambooPlant of bambooPlants) {\n    const..."
          ],
          [
           "// Collect the dropped bamboo items\n  for (const bambooPlant of bambooPlants) {\n    await bot.pathfi..."
          ],
          [
           "async function eatTwoCookedMutton(bot) {\n  // Check if there are 2 cooked mutton in the inventory\n  ..."
          ],
          [
           "// Equip the cooked mutton in the bot's hand\n  await bot.equip(cookedMutton, \"hand\");\n\n  // Consume ..."
          ],
          [
           "async function fillBucketWithWater(bot) {\n  // Find a water block nearby\n  const waterBlock = await ..."
          ],
          [
           "});\n    return water;\n  });\n  if (!waterBlock) {\n    bot.chat(\"Could not find water.\");\n    return;\n..."
          ],
          [
           "const adjacentBlock = waterBlock.position.offset(0, 1, 0);\n  // Go to the water block\n  await bot.pa..."
          ],
          [
           "// Look at the water block\n  await bot.lookAt(waterBlock.position);\n\n  // Activate the bucket to col..."
          ],
          [
           "async function smeltCactusIntoGreenDye(bot) {\n  // Check if there is a furnace in the inventory\n  co..."
          ],
          [
           "// Smelt 5 cactus using the available coal as fuel\n  await smeltItem(bot, \"cactus\", \"coal\", 5);\n  bo..."
          ],
          [
           "async function eatCookedPorkchop(bot) {\n  // Equip the cooked porkchop in the bot's hand\n  const coo..."
          ],
          [
           "// Send a chat message to indicate the task is completed\n  bot.chat(\"Ate 1 cooked porkchop.\");\n}..."
          ],
          [
           "async function craftScaffolding(bot) {\n  // Check if we have a crafting table in the inventory\n  con..."
          ],
          [
           "// Place the crafting table near the bot\n  const craftingTablePosition = bot.entity.position.offset(..."
          ],
          [
           "async function craftIronHelmet(bot) {\n  // Check if there are enough iron ingots in the inventory\n  ..."
          ],
          [
           "// If not enough iron ingots, mine iron ores and smelt them into iron ingots\n  if (ironIngotsCount <..."
          ],
          [
           "// Place the crafting table near the bot\n  const craftingTablePosition = bot.entity.position.offset(..."
          ],
          [
           "async function craftIronPickaxe(bot) {\n  // Check if there are enough iron ingots and sticks in the ..."
          ],
          [
           "// If not enough iron ingots or sticks, collect the required items\n  if (ironIngotsCount < 3) {\n    ..."
          ],
          [
           "bot.chat(\"Smelted iron ores into iron ingots.\");\n  }\n  if (sticksCount < 2) {\n    await craftItem(bo..."
          ],
          [
           "// Place the crafting table near the bot\n  const craftingTablePosition = bot.entity.position.offset(..."
          ],
          [
           "async function craftOakPlanksAndSticks(bot) {\n  // Check if there are enough oak planks in the inven..."
          ],
          [
           "// Check if there are enough sticks in the inventory\n  const sticksCount = bot.inventory.count(mcDat..."
          ],
          [
           "async function cookSevenMutton(bot) {\n  // Check if there is a furnace in the inventory\n  const furn..."
          ],
          [
           "// Smelt 7 raw mutton using the available coal as fuel\n  await smeltItem(bot, \"mutton\", \"coal\", 7);\n..."
          ],
          [
           "async function killFourSheep(bot) {\n  // Equip the wooden sword\n  const woodenSword = bot.inventory...."
          ],
          [
           "// Find and kill the first three sheep\n  for (let i = 1; i <= 3; i++) {\n    await killMob(bot, \"shee..."
          ],
          [
           "// Collect the dropped items from the killed sheep\n  const sheepDrops = [\"wool\", \"raw_mutton\"];\n  fo..."
          ],
          [
           "});\n    if (droppedItem) {\n      await bot.pathfinder.goto(new GoalBlock(droppedItem.position.x, dro..."
          ],
          [
           "async function craftShears(bot) {\n  // Place the crafting table near the bot\n  const craftingTablePo..."
          ],
          [
           "async function craftAcaciaPlanksAndSticks(bot) {\n  // Check if there are enough acacia logs in the i..."
          ],
          [
           "// If not, mine more acacia logs\n  if (acaciaLogsCount < 5) {\n    await mineBlock(bot, \"acacia_log\",..."
          ],
          [
           "// Check if there are enough acacia planks in the inventory to craft 10 sticks\n  const acaciaPlanksC..."
          ],
          [
           "// If not, mine more acacia logs and craft more acacia planks\n  if (acaciaPlanksCount < 5) {\n    awa..."
          ],
          [
           "// Craft 10 sticks from acacia planks\n  await craftItem(bot, \"stick\", 3);\n  bot.chat(\"Crafted 10 sti..."
          ],
          [
           "async function collectFiveCactusBlocks(bot) {\n  // Equip the iron pickaxe\n  const ironPickaxe = bot...."
          ],
          [
           "// Find 5 cactus blocks using the exploreUntil function\n  const cactusBlocks = await exploreUntil(bo..."
          ],
          [
           "count: 5\n    });\n    return cactusBlocks.length >= 5 ? cactusBlocks : null;\n  });\n  if (!cactusBlock..."
          ],
          [
           "// Mine the 5 cactus blocks using the mineBlock function\n  await mineBlock(bot, \"cactus\", 5);\n  bot...."
          ],
          [
           "async function craftIronLeggingsAndBoots(bot) {\n  // Check if there are enough iron ingots in the in..."
          ],
          [
           "// If not enough iron ingots, mine iron ores and smelt them into iron ingots\n  if (ironIngotsCount <..."
          ],
          [
           "// Place the crafting table near the bot\n  const craftingTablePosition = bot.entity.position.offset(..."
          ],
          [
           "// Craft iron boots using the crafting table\n  await craftItem(bot, \"iron_boots\", 1);\n  bot.chat(\"Cr..."
          ],
          [
           "async function mineThreeMoreOakLogs(bot) {\n  // Check the initial inventory for oak logs\n  const ini..."
          ],
          [
           "// Find 3 oak_log blocks\n  const oakLogs = await exploreUntil(bot, new Vec3(1, 0, 1), 60, () => {\n  ..."
          ],
          [
           "});\n    return oakLogs.length >= 3 ? oakLogs : null;\n  });\n  if (!oakLogs) {\n    bot.chat(\"Could not..."
          ],
          [
           "// Mine the oak_log blocks\n  await mineBlock(bot, \"oak_log\", 3);\n  bot.chat(\"3 oak logs mined.\");..."
          ],
          [
           "// Compare the final inventory with the initial inventory\n  const finalOakLogs = bot.inventory.count..."
          ],
          [
           "async function mineTenCobblestone(bot) {\n  // Check if the bot has a pickaxe in the inventory\n  cons..."
          ],
          [
           "// If not, craft a wooden pickaxe using the available resources in the inventory\n  if (!pickaxe) {\n ..."
          ],
          [
           "// Use the exploreUntil function to find cobblestone blocks\n  const cobblestoneBlocks = await explor..."
          ],
          [
           "count: 10\n    });\n    return cobblestoneBlocks.length >= 10 ? cobblestoneBlocks : null;\n  });\n  if (..."
          ],
          [
           "// Mine 10 cobblestone blocks using the mineBlock function\n  await mineBlock(bot, \"stone\", 10);\n  bo..."
          ],
          [
           "async function smeltFiveRawIron(bot) {\n  // Check if there is a furnace in the inventory\n  const fur..."
          ],
          [
           "// Place the furnace near the bot\n  const furnacePosition = bot.entity.position.offset(1, 0, 0);\n  a..."
          ],
          [
           "async function mineFiveCopperOres(bot) {\n  // Equip the stone pickaxe\n  const stonePickaxe = bot.inv..."
          ],
          [
           "// Find 5 copper_ore blocks\n  const copperOres = await exploreUntil(bot, new Vec3(1, 0, 1), 60, () =..."
          ],
          [
           "});\n    return copperOres.length >= 5 ? copperOres : null;\n  });\n  if (!copperOres) {\n    bot.chat(\"..."
          ],
          [
           "// Mine the 5 copper_ore blocks\n  await mineBlock(bot, \"copper_ore\", 5);\n  bot.chat(\"5 copper ores m..."
          ],
          [
           "async function craftIronSword(bot) {\n  // Check if there are enough iron ingots and sticks in the in..."
          ],
          [
           "// If not enough iron ingots or sticks, collect the required items\n  if (ironIngotsCount < 2) {\n    ..."
          ],
          [
           "bot.chat(\"Smelted iron ores into iron ingots.\");\n  }\n  if (sticksCount < 1) {\n    await craftItem(bo..."
          ],
          [
           "// Place the crafting table near the bot\n  const craftingTablePosition = bot.entity.position.offset(..."
          ],
          [
           "async function craftIronChestplate(bot) {\n  // Check if there are enough iron ingots in the inventor..."
          ],
          [
           "// If not enough iron ingots, mine iron ores and smelt them into iron ingots\n  if (ironIngotsCount <..."
          ],
          [
           "// Place the crafting table near the bot\n  const craftingTablePosition = bot.entity.position.offset(..."
          ],
          [
           "async function craftWoodenHoe(bot) {\n  // Check if there are enough oak planks in the inventory\n  co..."
          ],
          [
           "// Place the crafting table near the bot\n  const craftingTablePosition = bot.entity.position.offset(..."
          ],
          [
           "async function mineFiveCoalOres(bot) {\n  // Equip the wooden pickaxe\n  const woodenPickaxe = bot.inv..."
          ],
          [
           "async function craftIronAxe(bot) {\n  // Check if there are enough iron ingots and sticks in the inve..."
          ],
          [
           "// Place the crafting table near the bot\n  const craftingTablePosition = bot.entity.position.offset(..."
          ],
          [
           "async function killOneZombie(bot) {\n  // Equip the iron sword\n  const ironSword = bot.inventory.find..."
          ],
          [
           "// Find the nearest zombie\n  const zombie = await exploreUntil(bot, new Vec3(1, 0, 1), 60, () => {\n ..."
          ],
          [
           "});\n  if (!zombie) {\n    bot.chat(\"Could not find a zombie.\");\n    return;\n  }..."
          ],
          [
           "// Kill the zombie using the iron sword\n  await killMob(bot, \"zombie\", 300);\n  bot.chat(\"Killed a zo..."
          ],
          [
           "async function equipIronArmor(bot) {\n  // Equip the iron helmet from the inventory\n  const ironHelme..."
          ],
          [
           "// Equip the iron leggings from the inventory\n  const ironLeggings = bot.inventory.findInventoryItem..."
          ],
          [
           "// Equip the iron boots from the inventory\n  const ironBoots = bot.inventory.findInventoryItem(mcDat..."
          ],
          [
           "// Find a wood log block\n  const woodLog = await exploreUntil(bot, new Vec3(1, 0, 1), 60, () => {\n  ..."
          ],
          [
           "});\n      if (log) {\n        return log;\n      }\n    }\n    return null;\n  });\n  if (woodLog) {\n    /..."
          ],
          [
           "bot.chat(\"Wood log mined.\");\n  } else {\n    bot.chat(\"Could not find a wood log.\");\n  }\n}..."
          ],
          [
           "async function mineDeepslateDiamondOre(bot) {\n  // Step 1: Equip the diamond_pickaxe\n  const diamond..."
          ],
          [
           "// Step 2: Find a deepslate_diamond_ore block nearby or explore the area to find one\n  let deepslate..."
          ],
          [
           "deepslateDiamondOre = await exploreUntil(bot, new Vec3(1, -1, 1), 60, () => {\n      const deepslateD..."
          ],
          [
           "});\n      return deepslateDiamondOreBlock;\n    });\n  }..."
          ],
          [
           "// Step 3: Mine the deepslate_diamond_ore block using the diamond_pickaxe\n  if (deepslateDiamondOre)..."
          ],
          [
           "async function obtainSpruceLogs(bot) {\n  // Find 3 spruce_log blocks\n  const spruceLogs = await expl..."
          ],
          [
           "count: 3\n    });\n    return spruceLog ? spruceLog : null;\n  });\n  if (spruceLogs) {\n    // Mine the ..."
          ],
          [
           "} else {\n    bot.chat(\"Could not find enough spruce logs.\");\n  }\n}..."
          ],
          [
           "async function mineDeepslateLapisOre(bot) {\n  // Step 1: Equip the iron_pickaxe\n  const ironPickaxe ..."
          ],
          [
           "// Step 2: Find a deepslate_lapis_ore block nearby or explore the area to find one\n  let deepslateLa..."
          ],
          [
           "deepslateLapisOre = await exploreUntil(bot, new Vec3(1, -1, 1), 60, () => {\n      const deepslateLap..."
          ],
          [
           "});\n      return deepslateLapisOreBlock;\n    });\n  }..."
          ],
          [
           "// Step 3: Mine the deepslate_lapis_ore block using the iron_pickaxe\n  if (deepslateLapisOre) {\n    ..."
          ],
          [
           "async function killOneCow(bot) {\n  // Equip the iron_pickaxe from the inventory\n  const ironPickaxe ..."
          ],
          [
           "async function mineOneDiamondOre(bot) {\n  // Equip the iron_pickaxe\n  const ironPickaxe = bot.invent..."
          ],
          [
           "// Find a diamond_ore block nearby or explore the area to find one\n  let diamondOre = bot.findBlock(..."
          ],
          [
           "const diamondOreBlock = bot.findBlock({\n        matching: mcData.blocksByName.diamond_ore.id,\n      ..."
          ],
          [
           "// Mine the diamond_ore block using the iron_pickaxe\n  if (diamondOre) {\n    await mineBlock(bot, \"d..."
          ],
          [
           "async function equipIronChestplate(bot) {\n  // Check if the bot has an iron chestplate in its invent..."
          ],
          [
           "// Equip the iron chestplate if found\n  if (ironChestplate) {\n    await bot.equip(ironChestplate, \"t..."
          ],
          [
           "async function mineFiveCalciteBlocks(bot) {\n  // Step 1: Equip the iron_pickaxe\n  const ironPickaxe ..."
          ],
          [
           "// Step 2: Find a calcite block nearby or explore the area to find one\n  let calciteBlock = bot.find..."
          ],
          [
           "if (!calciteBlock) {\n    calciteBlock = await exploreUntil(bot, new Vec3(1, -1, 1), 60, () => {\n    ..."
          ],
          [
           "});\n      return calcite;\n    });\n  }..."
          ],
          [
           "// Step 3: Mine 5 calcite blocks using the iron_pickaxe\n  if (calciteBlock) {\n    await mineBlock(bo..."
          ],
          [
           "async function craftWoodenPlanks(bot) {\n  // Check if there is a crafting table in the inventory or ..."
          ],
          [
           "// If not, craft a crafting table using the spruce_log in the inventory\n  if (!craftingTable) {\n    ..."
          ],
          [
           "// Craft 4 wooden planks using the spruce_log in the inventory\n  await craftItem(bot, \"spruce_planks..."
          ],
          [
           "async function mineFivePointedDripstone(bot) {\n  // Step 1: Equip the iron_pickaxe\n  const ironPicka..."
          ],
          [
           "// Step 2: Find a pointed_dripstone block nearby or explore the area to find one\n  let pointedDripst..."
          ],
          [
           "pointedDripstone = await exploreUntil(bot, new Vec3(1, 0, 1), 60, () => {\n      const pointedDripsto..."
          ],
          [
           "});\n  }..."
          ],
          [
           "// Step 3: Mine 5 pointed_dripstone blocks using the iron_pickaxe\n  if (pointedDripstone) {\n    awai..."
          ],
          [
           "async function collectSugarCanes(bot) {\n  // Find 3 sugar cane blocks nearby\n  const sugarCaneBlocks..."
          ],
          [
           "// Mine the sugar cane blocks\n  if (sugarCaneBlocks.length >= 3) {\n    await mineBlock(bot, \"sugar_c..."
          ],
          [
           "async function mineOneIronOre(bot) {\n  // Equip the stone_pickaxe\n  const stonePickaxe = bot.invento..."
          ],
          [
           "// If not found, explore the area to find an iron_ore block\n  if (!ironOre) {\n    ironOre = await ex..."
          ],
          [
           "maxDistance: 32\n      });\n      return ironOreBlock;\n    });\n  }..."
          ],
          [
           "// Mine the iron_ore block using the stone_pickaxe\n  if (ironOre) {\n    await mineBlock(bot, \"iron_o..."
          ],
          [
           "async function eatCookedPorkchops(bot) {\n  for (let i = 0; i < 3; i++) {\n    // Equip the cooked por..."
          ],
          [
           "// Consume the cooked porkchop\n    await bot.consume();\n  }\n  bot.chat(\"3 cooked porkchops eaten.\");..."
          ],
          [
           "async function smeltFiveRawCopper(bot) {\n  // Check if there is a furnace in the inventory or nearby..."
          ],
          [
           "// If not, place the furnace from the inventory\n  if (!furnace) {\n    const furnaceItem = bot.invent..."
          ],
          [
           "await placeItem(bot, \"furnace\", furnacePosition);\n    } else {\n      bot.chat(\"No furnace found.\");\n..."
          ],
          [
           "// Smelt 5 raw copper using coal as fuel\n  await smeltItem(bot, \"raw_copper\", \"coal\", 5);\n  bot.chat..."
          ],
          [
           "async function craftDiamondPickaxe(bot) {\n  // Step 1: Equip the iron pickaxe from the inventory\n  c..."
          ],
          [
           "// Step 3: Craft 1 more stick using the spruce planks in the inventory if needed\n  const sticks = bo..."
          ],
          [
           "// Step 4: Check if there is a crafting table nearby or in the inventory, and place it if needed\n  c..."
          ],
          [
           "if (!craftingTable) {\n    await craftItem(bot, \"crafting_table\", 1);\n  }\n  const craftingTableBlock ..."
          ],
          [
           "if (!craftingTableBlock) {\n    const craftingTablePosition = bot.entity.position.offset(1, 0, 0);\n  ..."
          ],
          [
           "// Step 5: Craft a diamond pickaxe using 3 diamonds and 2 sticks\n  await craftItem(bot, \"diamond_pic..."
          ],
          [
           "async function cookPorkchops(bot) {\n  // Check if there is a crafting table in the inventory or near..."
          ],
          [
           "// If not, mine wood, craft a crafting table, and place it\n  if (!craftingTable) {\n    const craftin..."
          ],
          [
           "await craftItem(bot, \"crafting_table\", 1);\n    }\n    const craftingTablePosition = bot.entity.positi..."
          ],
          [
           "// Check if there is a furnace in the inventory or nearby\n  let furnace = bot.findBlock({\n    matchi..."
          ],
          [
           "// If not, mine cobblestone, craft a furnace, and place it\n  if (!furnace) {\n    const furnaceItem =..."
          ],
          [
           "await craftItem(bot, \"furnace\", 1);\n    }\n    const furnacePosition = bot.entity.position.offset(1, ..."
          ],
          [
           "// Check if there are enough raw porkchops in the inventory\n  const rawPorkchops = bot.inventory.fin..."
          ],
          [
           "// Check if there is enough fuel (coal or wood) in the inventory\n  const fuel = bot.inventory.findIn..."
          ],
          [
           "// Smelt the raw porkchops in the furnace using the fuel\n  await smeltItem(bot, \"porkchop\", fuel.nam..."
          ],
          [
           "async function craftStonePickaxe(bot) {\n  // Check if there is a crafting table in the inventory or ..."
          ],
          [
           "// If not, place the crafting table from the inventory\n  if (!craftingTable) {\n    const craftingTab..."
          ],
          [
           "await placeItem(bot, \"crafting_table\", craftingTablePosition);\n    } else {\n      bot.chat(\"No craft..."
          ],
          [
           "// Craft a stone pickaxe using 3 cobblestone and 2 sticks\n  await craftItem(bot, \"stone_pickaxe\", 1)..."
          ],
          [
           "async function craftWoodenPickaxe(bot) {\n  // Check if there is a crafting table in the inventory or..."
          ],
          [
           "// Convert the spruce logs into planks\n  await craftItem(bot, \"spruce_planks\", 3);\n\n  // Craft 4 sti..."
          ],
          [
           "async function mineFiveDeepslateIronOreWithDiamondPickaxe(bot) {\n  // Step 1: Equip the diamond_pick..."
          ],
          [
           "// Step 2: Find a deepslate_iron_ore block nearby or explore the area to find one\n  let deepslateIro..."
          ],
          [
           "deepslateIronOre = await exploreUntil(bot, new Vec3(1, -1, 1), 60, () => {\n      const deepslateIron..."
          ],
          [
           "});\n      return deepslateIronOreBlock;\n    });\n  }..."
          ],
          [
           "// Step 3: Mine 5 deepslate_iron_ore blocks using the diamond_pickaxe\n  if (deepslateIronOre) {\n    ..."
          ],
          [
           "async function killOnePig(bot) {\n  // Equip the iron_pickaxe from the inventory\n  const ironPickaxe ..."
          ],
          [
           "async function smeltTenRawIron(bot) {\n  // Check if there is a furnace in the inventory or nearby\n  ..."
          ],
          [
           "// Smelt 10 raw iron using coal as fuel\n  await smeltItem(bot, \"raw_iron\", \"coal\", 10);\n  bot.chat(\"..."
          ],
          [
           "async function craftIronHelmet(bot) {\n  // Check if there are enough iron ingots in the inventory\n  ..."
          ],
          [
           "// Smelt the iron ores to obtain the required iron ingots\n    await smeltItem(bot, \"raw_iron\", \"coal..."
          ],
          [
           "await placeItem(bot, \"crafting_table\", craftingTablePosition);\n      craftingTable = bot.blockAt(cra..."
          ],
          [
           "// Craft an iron helmet using 5 iron ingots\n  await craftItem(bot, \"iron_helmet\", 1);\n  bot.chat(\"Ir..."
          ],
          [
           "if (block.name === \"air\" || block.name === \"water\") {\n      const belowBlock = bot.blockAt(position...."
          ],
          [
           "}\n  return null;\n}..."
          ],
          [
           "async function craftPaper(bot) {\n  // Check if there are enough sugar canes in the inventory\n  const..."
          ],
          [
           "await exploreUntil(bot, new Vec3(1, 0, 1), 60, () => {\n      const sugarCane = bot.findBlock({\n     ..."
          ],
          [
           "// Mine the sugar canes\n    await mineBlock(bot, \"sugar_cane\", 3 - (sugarCanes ? sugarCanes.count : ..."
          ],
          [
           "// Check if there is a crafting table nearby or in the inventory\n  const craftingTable = bot.findBlo..."
          ],
          [
           "// If not, craft a crafting table using the oak_log in the inventory\n  if (!craftingTable) {\n    awa..."
          ],
          [
           "// Find a suitable position to place the crafting table if it's not already placed\n  const craftingT..."
          ],
          [
           "if (!craftingTableBlock) {\n    craftingTablePosition = await findSuitablePosition(bot);\n    if (!cra..."
          ],
          [
           "// Place the crafting table at the suitable position\n  await placeItem(bot, \"crafting_table\", crafti..."
          ],
          [
           "async function craftIronPickaxe(bot) {\n  // Check if there are enough iron ingots in the inventory\n ..."
          ],
          [
           "// Check if there is a furnace in the inventory or nearby\n    const furnace = bot.findBlock({\n      ..."
          ],
          [
           "// If not, place the furnace from the inventory\n    if (!furnace) {\n      const furnaceItem = bot.in..."
          ],
          [
           "await placeItem(bot, \"furnace\", furnacePosition);\n      } else {\n        bot.chat(\"No furnace found...."
          ],
          [
           "// Smelt the iron ores in the furnace to obtain the required iron ingots\n    await smeltItem(bot, \"r..."
          ],
          [
           "// Craft an iron pickaxe using 3 iron ingots and 2 sticks\n  await craftItem(bot, \"iron_pickaxe\", 1);..."
          ],
          [
           "async function smeltRawIron(bot) {\n  // Check if there is a furnace in the inventory or nearby\n  con..."
          ],
          [
           "// Smelt 2 raw iron using coal as fuel\n  await smeltItem(bot, \"raw_iron\", \"coal\", 2);\n  bot.chat(\"2 ..."
          ],
          [
           "async function killOneSkeleton(bot) {\n  // Equip the iron_pickaxe from the inventory\n  const ironPic..."
          ],
          [
           "async function smeltIronOre(bot) {\n  // Find a suitable location to place the furnace\n  const furnac..."
          ],
          [
           "// Smelt 1 raw_iron into 1 iron_ingot using 1 coal as fuel\n  await smeltItem(bot, \"raw_iron\", \"coal\"..."
          ],
          [
           "// Fix the moveToChest function if needed\nasync function moveToChest(bot, chestPosition) {\n  const c..."
          ],
          [
           "// Call the openChestAtPosition function again\n\n// Call the openChestAtPosition function again\nasync..."
          ],
          [
           "// Fix the moveToChest function if needed\nasync function moveToChest(bot, chestPosition) {\n  const c..."
          ],
          [
           "}\n  const goal = new GoalGetToBlock(chestPosition.x, chestPosition.y, chestPosition.z);\n  await bot...."
          ],
          [
           "// Call the openChestAtPosition function again\n\n// Call the openChestAtPosition function again\nasync..."
          ],
          [
           "async function mineTenCobblestone(bot) {\n  // Find a stone block\n  const stone = await exploreUntil(..."
          ],
          [
           "});\n    return stoneBlock;\n  });\n  if (stone) {\n    // Mine 10 cobblestone\n    await mineBlock(bot, ..."
          ],
          [
           "async function craftIronLeggings(bot) {\n  // Check if there are enough iron ingots in the inventory\n..."
          ],
          [
           "// Smelt the iron ores to obtain the required iron ingots\n    await smeltItem(bot, \"raw_iron\", \"coal..."
          ],
          [
           "// Craft iron leggings using 7 iron ingots\n  await craftItem(bot, \"iron_leggings\", 1);\n  bot.chat(\"I..."
          ],
          [
           "async function mineOneRedstoneOre(bot) {\n  // Step 1: Equip the iron pickaxe\n  const ironPickaxe = b..."
          ],
          [
           "// Step 2: Explore the area below layer 16 to find a redstone ore block\n  let redstoneOre = await ex..."
          ],
          [
           "maxDistance: 32\n    });\n    return redstoneOreBlock;\n  });..."
          ],
          [
           "// Step 3: Mine the redstone ore block using the iron pickaxe\n  if (redstoneOre) {\n    await mineBlo..."
          ],
          [
           "async function eatRottenFlesh(bot) {\n  // Equip the rotten flesh in the bot's hand\n  const rottenFle..."
          ],
          [
           "async function mineFiveCopperOres(bot) {\n  // Check if there are 5 copper ores nearby\n  const copper..."
          ],
          [
           "// If not, explore the area to find copper ores\n  if (copperOres.length < 5) {\n    await exploreUnti..."
          ],
          [
           "maxDistance: 32\n      });\n      return copperOre;\n    });\n  }..."
          ],
          [
           "// Mine 5 copper ores using the iron_pickaxe\n  await mineBlock(bot, \"copper_ore\", 5);\n  bot.chat(\"5 ..."
          ],
          [
           "async function craftIronBoots(bot) {\n  // Check if there are enough iron ingots in the inventory\n  c..."
          ],
          [
           "// Check if there is a furnace nearby or in the inventory\n    let furnace = bot.findBlock({\n      ma..."
          ],
          [
           "await placeItem(bot, \"furnace\", furnacePosition);\n        furnace = bot.blockAt(furnacePosition);\n  ..."
          ],
          [
           "// Smelt the iron ores in the furnace to obtain the required iron ingots\n    await smeltItem(bot, \"r..."
          ],
          [
           "// Craft iron boots using 4 iron ingots\n  await craftItem(bot, \"iron_boots\", 1);\n  bot.chat(\"Iron bo..."
          ],
          [
           "async function craftIronSword(bot) {\n  // Check if there is a crafting table in the inventory or nea..."
          ],
          [
           "// Craft an iron sword using 2 iron ingots and 1 stick\n  await craftItem(bot, \"iron_sword\", 1);\n  bo..."
          ],
          [
           "async function mineTenCoalOres(bot) {\n  // Check if there are 10 coal ores nearby\n  const coalOres =..."
          ],
          [
           "// If not, explore the area to find coal ores\n  if (coalOres.length < 10) {\n    await exploreUntil(b..."
          ],
          [
           "maxDistance: 32\n      });\n      return coalOre;\n    });\n  }..."
          ],
          [
           "// Mine 10 coal ores using the iron_pickaxe\n  await mineBlock(bot, \"coal_ore\", 10);\n  bot.chat(\"10 c..."
          ],
          [
           "async function mineOneLapisOreSafely(bot) {\n  // Check if the bot's hunger is less than the maximum ..."
          ],
          [
           "// If not, find and kill a pig to obtain food\n    if (!food) {\n      await killMob(bot, \"pig\", 300);..."
          ],
          [
           "// Equip the iron_pickaxe\n  const ironPickaxe = bot.inventory.findInventoryItem(mcData.itemsByName.i..."
          ],
          [
           "// Find a lapis_ore block nearby or explore the area to find one\n  let lapisOre = bot.findBlock({\n  ..."
          ],
          [
           "if (!lapisOre) {\n    lapisOre = await exploreUntil(bot, new Vec3(1, -1, 1), 60, () => {\n      const ..."
          ],
          [
           "});\n      return lapisOreBlock;\n    });\n  }..."
          ],
          [
           "// Mine the lapis_ore block using the iron_pickaxe\n  if (lapisOre) {\n    await mineBlock(bot, \"lapis..."
          ],
          [
           "async function craftIronChestplate(bot) {\n  // Check if there are enough iron ingots in the inventor..."
          ],
          [
           "// Smelt the iron ores in the furnace to obtain the required iron ingots\n    await smeltItem(bot, \"r..."
          ],
          [
           "// Craft an iron chestplate using 8 iron ingots\n  await craftItem(bot, \"iron_chestplate\", 1);\n  bot...."
          ],
          [
           "async function mineTenRedstoneOres(bot) {\n  // Step 1: Equip the iron pickaxe\n  const ironPickaxe = ..."
          ],
          [
           "// Step 2: Explore the area below layer 16 to find redstone ore blocks\n  let redstoneOres = await ex..."
          ],
          [
           "maxDistance: 32,\n      count: 10\n    });\n    return redstoneOreBlocks.length >= 10 ? redstoneOreBloc..."
          ],
          [
           "// Step 3: Mine 10 redstone ore blocks using the iron pickaxe\n  if (redstoneOres) {\n    await mineBl..."
          ],
          [
           "async function mineFiveCoalOres(bot) {\n  // Check if there are 5 coal ores nearby\n  const coalOres =..."
          ],
          [
           "// If not, explore the area to find coal ores\n  if (coalOres.length < 5) {\n    await exploreUntil(bo..."
          ],
          [
           "// Mine 5 coal ores using the stone_pickaxe\n  await mineBlock(bot, \"coal_ore\", 5);\n  bot.chat(\"5 coa..."
          ],
          [
           "async function mineDeepslateGoldOre(bot) {\n  // Step 1: Equip the iron_pickaxe\n  const ironPickaxe =..."
          ],
          [
           "// Step 2: Find a deepslate_gold_ore block nearby or explore the area to find one\n  let deepslateGol..."
          ],
          [
           "deepslateGoldOre = await exploreUntil(bot, new Vec3(1, -1, 1), 60, () => {\n      const deepslateGold..."
          ],
          [
           "});\n      return deepslateGoldOreBlock;\n    });\n  }..."
          ],
          [
           "// Step 3: Mine the deepslate_gold_ore block using the iron_pickaxe\n  if (deepslateGoldOre) {\n    aw..."
          ],
          [
           "});\n      return foundLog;\n    });\n  }\n  await mineBlock(bot, logBlock.name, 1);\n  bot.chat(\"Wood lo..."
          ],
          [
           "async function mineEmeraldOre(bot) {\n  // Equip the iron pickaxe\n  const ironPickaxe = bot.inventory..."
          ],
          [
           "// Explore until an emerald ore is found\n  const emeraldOre = await exploreUntil(bot, new Vec3(1, 0,..."
          ],
          [
           "});\n    return foundEmeraldOre;\n  });\n  if (emeraldOre) {\n    // Mine the emerald ore\n    await mine..."
          ],
          [
           "async function craftFurnace(bot) {\n  // Check if the bot has enough cobblestone to craft a furnace\n ..."
          ],
          [
           "// Place the crafting table if it's not already placed\n  const craftingTablePosition = bot.entity.po..."
          ],
          [
           "// Craft a furnace using the cobblestones\n  await craftItem(bot, \"furnace\", 1);\n  bot.chat(\"Furnace ..."
          ],
          [
           "async function craftShieldWithIron(bot) {\n  // Check if we have enough spruce planks\n  const spruceP..."
          ],
          [
           "// Craft spruce planks from spruce logs\n    await craftItem(bot, \"spruce_planks\", 3);\n    bot.chat(\"..."
          ],
          [
           "// Check if we have enough iron ingots\n  const ironIngotCount = bot.inventory.count(mcData.itemsByNa..."
          ],
          [
           "// Place a furnace if it's not already placed\n    const furnacePosition = bot.entity.position.offset..."
          ],
          [
           "// Smelt iron ore into iron ingot using a furnace\n    await smeltItem(bot, \"raw_iron\", \"coal\", 1);\n ..."
          ],
          [
           "// Craft the shield using the 6 spruce planks and 1 iron ingot\n  await craftItem(bot, \"shield\", 1);\n..."
          ],
          [
           "async function craftStoneAxeWithCraftingTable(bot) {\n  const cobblestoneCount = bot.inventory.count(..."
          ],
          [
           "const craftingTablePosition = bot.entity.position.offset(1, -1, 0);\n    const craftingTableBlock = b..."
          ],
          [
           "// Craft the stone axe using the cobblestones and sticks on the crafting table\n    await craftItem(b..."
          ],
          [
           "await craftItem(bot, \"stick\", 1);\n      bot.chat(\"Sticks crafted.\");\n    }\n    bot.chat(\"Not enough ..."
          ],
          [
           "// If the iron chestplate is found, equip it in the \"torso\" slot\n  if (ironChestplate) {\n    await b..."
          ],
          [
           "async function craftCraftingTable(bot) {\n  const spruceLogCount = bot.inventory.count(mcData.itemsBy..."
          ],
          [
           "// Craft a crafting table using the 4 spruce planks\n    await craftItem(bot, \"crafting_table\", 1);\n ..."
          ],
          [
           "async function mineFiveIronOres(bot) {\n  // Check if the bot has a stone pickaxe or better in its in..."
          ],
          [
           "// If not, craft a stone pickaxe using the cobblestone and sticks in the inventory\n  if (!stonePicka..."
          ],
          [
           "// Find 5 iron ore blocks nearby\n  const ironOres = bot.findBlocks({\n    matching: mcData.blocksByNa..."
          ],
          [
           "// If not enough iron ore blocks are found nearby, explore until 5 iron ore blocks are found\n  if (i..."
          ],
          [
           "matching: mcData.blocksByName.iron_ore.id,\n        maxDistance: 32,\n        count: 5\n      });\n     ..."
          ],
          [
           "// Mine the 5 iron ore blocks using the stone pickaxe or better\n  await mineBlock(bot, \"iron_ore\", 5..."
          ],
          [
           "async function mineFiveCoalOres(bot) {\n  // Check if there are 5 coal ores nearby\n  const coalOres =..."
          ],
          [
           "// If not, explore until 5 coal ores are found\n  if (coalOres.length < 5) {\n    bot.chat(\"Not enough..."
          ],
          [
           "matching: mcData.blocksByName.coal_ore.id,\n        maxDistance: 32,\n        count: 5\n      });\n     ..."
          ],
          [
           "// Mine the 5 coal ores using the iron_pickaxe\n  await mineBlock(bot, \"coal_ore\", 5);\n  bot.chat(\"5 ..."
          ],
          [
           "async function craftStonePickaxe(bot) {\n  const cobblestoneCount = bot.inventory.count(mcData.itemsB..."
          ],
          [
           "// Find the stone pickaxe recipe\n    const stonePickaxeRecipe = bot.recipesFor(mcData.itemsByName.st..."
          ],
          [
           "// Craft the stone pickaxe using the found recipe and the crafting table\n    await bot.craft(stonePi..."
          ],
          [
           "async function craftWoodenPickaxe(bot) {\n  const spruceLogCount = bot.inventory.count(mcData.itemsBy..."
          ],
          [
           "// Craft 4 sticks from 2 wooden planks\n    await craftItem(bot, \"stick\", 1);\n    bot.chat(\"Sticks cr..."
          ],
          [
           "// Check if there is a crafting table in the inventory\n    const craftingTableCount = bot.inventory...."
          ],
          [
           "// Find a suitable position to place the crafting table\n    const craftingTablePosition = bot.entity..."
          ],
          [
           "// Craft a wooden pickaxe using 3 wooden planks and 2 sticks\n    await craftItem(bot, \"wooden_pickax..."
          ],
          [
           "async function killTropicalFish(bot) {\n  // Equip the iron sword\n  const ironSword = bot.inventory.f..."
          ],
          [
           "// Find the nearest tropical fish\n  const tropicalFish = bot.nearestEntity(entity => {\n    return en..."
          ],
          [
           "// Kill the tropical fish using the iron sword\n  if (tropicalFish) {\n    await killMob(bot, \"tropica..."
          ],
          [
           "async function mineThreeCopperOres(bot) {\n  // Check if there are 3 copper ores nearby\n  const coppe..."
          ],
          [
           "// If not, explore until 3 copper ores are found\n  if (copperOres.length < 3) {\n    bot.chat(\"Not en..."
          ],
          [
           "matching: mcData.blocksByName.copper_ore.id,\n        maxDistance: 32,\n        count: 3\n      });\n   ..."
          ],
          [
           "// Mine the 3 copper ores using the stone_pickaxe or iron_pickaxe\n  await mineBlock(bot, \"copper_ore..."
          ],
          [
           "async function placeFurnace(bot) {\n  // Check if the bot has a furnace in its inventory\n  const furn..."
          ],
          [
           "// Place the furnace at the found position\n    await placeItem(bot, \"furnace\", furnacePosition);\n   ..."
          ],
          [
           "async function craftStoneShovel(bot) {\n  const cobblestoneCount = bot.inventory.count(mcData.itemsBy..."
          ],
          [
           "// Craft the stone shovel using the cobblestone and sticks on the crafting table\n    await craftItem..."
          ],
          [
           "async function craftStoneHoe(bot) {\n  const cobblestoneCount = bot.inventory.count(mcData.itemsByNam..."
          ],
          [
           "// Craft the stone hoe using the cobblestone and sticks on the crafting table\n    await craftItem(bo..."
          ],
          [
           "await craftItem(bot, \"stick\", 1);\n      bot.chat(\"Sticks crafted.\");\n    }\n    if (cobblestoneCount ..."
          ],
          [
           "}\n    // Retry crafting the stone hoe\n    await craftStoneHoe(bot);\n  }\n}..."
          ],
          [
           "async function mineIronOre(bot) {\n  // Check if the bot has enough cobblestone to craft a stone pick..."
          ],
          [
           "// Place the crafting table\n  const craftingTablePosition = bot.entity.position.offset(1, -1, 0);\n  ..."
          ],
          [
           "// Find and mine 1 iron ore using the stone pickaxe\n  const ironOreBlock = bot.findBlock({\n    match..."
          ],
          [
           "await exploreUntil(bot, new Vec3(1, 0, 1), 60, () => {\n      const foundIronOre = bot.findBlock({\n  ..."
          ],
          [
           "});\n  }\n  await mineBlock(bot, \"iron_ore\", 1);\n  bot.chat(\"Iron ore mined.\");\n}..."
          ],
          [
           "async function mineSpruceLogs(bot) {\n  const spruceLogName = \"spruce_log\";\n  const spruceLogCount = ..."
          ],
          [
           "if (!spruceLogBlock) {\n    bot.chat(\"No spruce log found nearby. Exploring...\");\n    await exploreUn..."
          ],
          [
           "});\n      return foundLog;\n    });\n  }\n  await mineBlock(bot, spruceLogName, spruceLogCount);\n  bot...."
          ],
          [
           "async function smeltTwelveRawCopper(bot) {\n  // Check if the bot has a furnace in its inventory\n  co..."
          ],
          [
           "// Find a suitable position to place the furnace\n  const furnacePosition = bot.entity.position.offse..."
          ],
          [
           "// Check if the bot has enough coal in its inventory to smelt 12 raw copper\n  const coalCount = bot...."
          ],
          [
           "// Smelt the 12 raw copper using the furnace and the available coal as fuel\n  await smeltItem(bot, \"..."
          ],
          [
           "async function equipShield(bot) {\n  // Check if the bot has a shield in its inventory\n  const shield..."
          ],
          [
           "// If the shield is found, equip it in the \"off-hand\" slot\n  if (shield) {\n    await bot.equip(shiel..."
          ],
          [
           "async function mineThreeCoalOres(bot) {\n  // Check if there are 3 coal ores nearby\n  const coalOres ..."
          ],
          [
           "// If not, explore until 3 coal ores are found\n  if (coalOres.length < 3) {\n    bot.chat(\"Not enough..."
          ],
          [
           "matching: mcData.blocksByName.coal_ore.id,\n        maxDistance: 32,\n        count: 3\n      });\n     ..."
          ],
          [
           "// Mine the 3 coal ores using the stone pickaxe\n  await mineBlock(bot, \"coal_ore\", 3);\n  bot.chat(\"3..."
          ],
          [
           "async function craftIronPickaxe(bot) {\n  const ironIngotCount = bot.inventory.count(mcData.itemsByNa..."
          ],
          [
           "if (stickCount < 2) {\n      if (sprucePlankCount < 2) {\n        // Craft spruce planks from spruce l..."
          ],
          [
           "// Craft sticks using spruce planks\n      await craftItem(bot, \"stick\", 1);\n      bot.chat(\"Sticks c..."
          ],
          [
           "// Place the crafting table if it's not already placed\n    const craftingTablePosition = bot.entity...."
          ],
          [
           "bot.chat(\"Crafting table placed.\");\n    }..."
          ],
          [
           "// Craft the iron pickaxe using the iron ingots and sticks\n    await craftItem(bot, \"iron_pickaxe\", ..."
          ],
          [
           "async function smeltRawIron(bot) {\n  // Find a suitable position to place the furnace\n  const furnac..."
          ],
          [
           "// Smelt the raw iron using the furnace and the mined coal as fuel\n  await smeltItem(bot, \"raw_iron\"..."
          ],
          [
           "async function craftStoneSword(bot) {\n  const cobblestoneCount = bot.inventory.count(mcData.itemsByN..."
          ],
          [
           "// Craft the stone sword using the cobblestone and stick\n    await craftItem(bot, \"stone_sword\", 1);..."
          ],
          [
           "bot.chat(\"Sticks crafted.\");\n    }\n    bot.chat(\"Not enough materials to craft a stone sword.\");\n  }..."
          ],
          [
           "async function smeltFiveIronOres(bot) {\n  // Check if the bot has a furnace in its inventory\n  const..."
          ],
          [
           "// Check if the bot has coal in its inventory\n  const coalCount = bot.inventory.count(mcData.itemsBy..."
          ],
          [
           "// Smelt the 5 raw iron ores into iron ingots using the furnace and coal as fuel\n  await smeltItem(b..."
          ],
          [
           "async function mineThreeEmeraldOres(bot) {\n  // Equip the iron pickaxe\n  const ironPickaxe = bot.inv..."
          ],
          [
           "// Explore and mine emerald ores until 3 are mined\n  while (emeraldOresMined < 3) {\n    const emeral..."
          ],
          [
           "maxDistance: 32\n      });\n      return foundEmeraldOre;\n    });\n    if (emeraldOre) {\n      // Mine ..."
          ],
          [
           "bot.chat(`Emerald ore mined. Total: ${emeraldOresMined}/3`);\n    } else {\n      bot.chat(\"Emerald or..."
          ],
          [
           "async function smeltFiveRawIron(bot) {\n  // Check if the bot has a furnace in its inventory\n  const ..."
          ],
          [
           "// Place the furnace at the found position\n  await placeItem(bot, \"furnace\", furnacePosition);\n  bot..."
          ],
          [
           "// Smelt the 5 raw iron using the furnace and the available coal as fuel\n  await smeltItem(bot, \"raw..."
          ],
          [
           "async function craftIronSword(bot) {\n  const ironIngotCount = bot.inventory.count(mcData.itemsByName..."
          ],
          [
           "// Craft the iron sword using the iron ingots and stick\n    await craftItem(bot, \"iron_sword\", 1);\n ..."
          ],
          [
           "async function craftIronChestplate(bot) {\n  const ironIngotCount = bot.inventory.count(mcData.itemsB..."
          ],
          [
           "const craftingTableBlock = bot.blockAt(craftingTablePosition);\n    if (!craftingTableBlock || crafti..."
          ],
          [
           "// Craft the iron chestplate using the iron ingots\n    await craftItem(bot, \"iron_chestplate\", 1);\n ..."
          ],
          [
           "async function mineGoldOreAndSmelt(bot) {\n  // Check if the bot has an iron pickaxe or better in its..."
          ],
          [
           "// If not, craft an iron pickaxe\n  if (!ironPickaxe && !diamondPickaxe) {\n    await craftItem(bot, \"..."
          ],
          [
           "// Explore in a random direction until a gold ore is found\n  const randomDirection = new Vec3(Math.r..."
          ],
          [
           "matching: mcData.blocksByName.gold_ore.id,\n      maxDistance: 32\n    });\n    return foundGoldOre;\n  ..."
          ],
          [
           "bot.chat(\"Gold ore mined.\");..."
          ],
          [
           "// Place the furnace if not already placed\n    const furnaceBlock = bot.findBlock({\n      matching: ..."
          ],
          [
           "const furnacePosition = bot.entity.position.offset(1, -1, 1);\n      await placeItem(bot, \"furnace\", ..."
          ],
          [
           "// Smelt the gold ore in the furnace to obtain a gold ingot\n    await smeltItem(bot, \"gold_ore\", \"co..."
          ],
          [
           "// Mine the 5 coal ores using the stone_pickaxe or iron_pickaxe\n  await mineBlock(bot, \"coal_ore\", 5..."
          ],
          [
           "async function craftWoodenSword(bot) {\n  // Check if there are enough oak planks in the inventory\n  ..."
          ],
          [
           "// Check if there are enough sticks in the inventory\n  const sticks = bot.inventory.count(mcData.ite..."
          ],
          [
           "// Place the crafting table near the player\n  const craftingTablePosition = bot.entity.position.offs..."
          ],
          [
           "async function craftClock(bot) {\n  // Check if there is a crafting table in the inventory\n  const cr..."
          ],
          [
           "// Place the crafting table near the player\n  const craftingTablePosition = bot.entity.position.offs..."
          ],
          [
           "async function mineWoodLog(bot) {\n  const logNames = [\"oak_log\", \"birch_log\", \"spruce_log\", \"jungle_..."
          ],
          [
           "// Find a wood log block\n  const logBlock = await exploreUntil(bot, new Vec3(1, 0, 1), 60, () => {\n ..."
          ],
          [
           "});\n      if (log) return log;\n    }\n    return null;\n  });\n  if (!logBlock) {\n    bot.chat(\"Could n..."
          ],
          [
           "// Mine the wood log block\n  await mineBlock(bot, logBlock.name, 1);\n  bot.chat(\"Wood log mined.\");\n..."
          ],
          [
           "async function plantOakSapling(bot) {\n  // Find a suitable location to plant the oak sapling\n  const..."
          ],
          [
           "// Go to the location\n  await bot.pathfinder.goto(new GoalBlock(targetBlock.position.x, targetBlock...."
          ],
          [
           "// Right-click on the ground to plant the oak sapling\n  await bot.activateBlock(targetBlock);\n\n  // ..."
          ],
          [
           "async function killThreeChickens(bot) {\n  // Equip a weapon (preferably a sword) to kill the chicken..."
          ],
          [
           "} else {\n    bot.chat(\"No sword found, using bare hands.\");\n  }..."
          ],
          [
           "// Explore the area to find 3 chickens\n  let chickens = [];\n  while (chickens.length < 3) {\n    awai..."
          ],
          [
           "return entity.name === \"chicken\" && entity.position.distanceTo(bot.entity.position) < 32;\n      });\n..."
          ],
          [
           "}\n      return null;\n    });\n  }..."
          ],
          [
           "// Kill each chicken one by one\n  for (const chicken of chickens) {\n    await killMob(bot, chicken.n..."
          ],
          [
           "async function craftFurnace(bot) {\n  // Check if there are enough cobblestones in the inventory\n  co..."
          ],
          [
           "// Place the crafting table near the player\n  const craftingTablePosition = bot.entity.position.offs..."
          ],
          [
           "async function openChestAndCheckContents(bot) {\n  const targetChestPosition = new Vec3(5, 61, 134);..."
          ],
          [
           "// Find the chest at the specified position\n  const chestPosition = await exploreUntil(bot, new Vec3..."
          ],
          [
           "// Check the contents of the chest\n  await checkItemInsideChest(bot, chestPosition);\n  bot.chat(\"Che..."
          ],
          [
           "async function killThreeCows(bot) {\n  // Explore the area to find 3 cows\n  let cows = [];\n  while (c..."
          ],
          [
           "return entity.name === \"cow\" && entity.position.distanceTo(bot.entity.position) < 32;\n      });\n    ..."
          ],
          [
           "// Equip a weapon (preferably a sword) to kill the cows\n  const sword = bot.inventory.findInventoryI..."
          ],
          [
           "// Kill each cow one by one\n  for (const cow of cows) {\n    await killMob(bot, cow.name, 300);\n  }\n\n..."
          ],
          [
           "async function craftCopperBlock(bot) {\n  // Check if there are enough copper ingots in the inventory..."
          ],
          [
           "// Place the crafting table near the player\n  const craftingTablePosition = bot.entity.position.offs..."
          ],
          [
           "async function cookRawMutton(bot) {\n  // Check if there is a furnace in the inventory\n  const furnac..."
          ],
          [
           "// Place the furnace near the player\n  const furnacePosition = bot.entity.position.offset(1, 0, 0);\n..."
          ],
          [
           "async function equipIronChestplate(bot) {\n  // Find the iron chestplate in the bot's inventory\n  con..."
          ],
          [
           "async function craftStoneHoe(bot) {\n  // Check if there are enough cobblestones in the inventory\n  c..."
          ],
          [
           "// Check if there are enough sticks in the inventory\n  const sticks = bot.inventory.count(mcData.ite..."
          ],
          [
           "// Place the crafting table near the player\n  const craftingTablePosition = bot.entity.position.offs..."
          ],
          [
           "async function equipIronLeggingsAndBoots(bot) {\n  // Find the iron leggings and iron boots in the bo..."
          ],
          [
           "// Check if the bot has iron leggings and iron boots\n  if (ironLeggings && ironBoots) {\n    // Equip..."
          ],
          [
           "// Send a chat message to indicate that the iron leggings and iron boots have been equipped\n    bot...."
          ],
          [
           "async function killThreeSheep(bot) {\n  // Equip a weapon (preferably a sword) to kill the sheep\n  co..."
          ],
          [
           "// Explore the area to find 3 sheep\n  let sheep = [];\n  while (sheep.length < 3) {\n    await explore..."
          ],
          [
           "return entity.name === \"sheep\" && entity.position.distanceTo(bot.entity.position) < 32;\n      });\n  ..."
          ],
          [
           "// Kill each sheep one by one\n  for (const singleSheep of sheep) {\n    await killMob(bot, singleShee..."
          ],
          [
           "async function cookThreeRawChicken(bot) {\n  // Find a suitable location to place the furnace\n  const..."
          ],
          [
           "async function eatCookedBeef(bot) {\n  // Equip a cooked beef in the bot's hand\n  const cookedBeef = ..."
          ],
          [
           "async function mineEightCobblestone(bot) {\n  // Equip the wooden pickaxe\n  const woodenPickaxe = bot..."
          ],
          [
           "// Find stone blocks\n  const stoneBlocks = await exploreUntil(bot, new Vec3(1, 0, 1), 60, () => {\n  ..."
          ],
          [
           "// Mine 8 cobblestone\n  await mineBlock(bot, \"stone\", 8);\n  bot.chat(\"8 cobblestone mined.\");\n}..."
          ],
          [
           "async function smeltFiveRawCopper(bot) {\n  // Find a suitable location to place the furnace\n  const ..."
          ],
          [
           "async function obtainBirchLogs(bot) {\n  // Check if there are enough birch logs in the inventory\n  c..."
          ],
          [
           "await mineBlock(bot, \"birch_log\", logsNeeded);\n    bot.chat(\"5 birch logs obtained.\");\n  } else {\n  ..."
          ],
          [
           "async function waitAndEatCookedMutton(bot) {\n  // Wait until the bot's hunger is less than 20\n  whil..."
          ],
          [
           "// Consume the cooked mutton\n  await bot.consume();\n  bot.chat(\"1 cooked mutton eaten.\");\n}..."
          ],
          [
           "async function craftStonePickaxe(bot) {\n  // Check if there are enough cobblestones in the inventory..."
          ],
          [
           "// Place the crafting table near the player\n  const craftingTablePosition = bot.entity.position.offs..."
          ],
          [
           "async function craftWoodenPickaxe(bot) {\n  // Check if there are enough oak logs in the inventory\n  ..."
          ],
          [
           "// Place the crafting table near the player\n  const craftingTablePosition = bot.entity.position.offs..."
          ],
          [
           "// Check if there are enough sticks in the inventory\n  const sticks = bot.inventory.count(mcData.ite..."
          ],
          [
           "// Craft a wooden pickaxe using oak planks and sticks with the crafting table\n  await craftItem(bot,..."
          ],
          [
           "async function mineFiveCopperOre(bot) {\n  // Equip the iron pickaxe\n  const ironPickaxe = bot.invent..."
          ],
          [
           "// Find 5 copper ore blocks\n  const copperOres = await exploreUntil(bot, new Vec3(1, 0, 1), 60, () =..."
          ],
          [
           "// Mine the 5 copper ore blocks\n  await mineBlock(bot, \"copper_ore\", 5);\n  bot.chat(\"5 copper ore mi..."
          ],
          [
           "async function craftStoneShovel(bot) {\n  // Check if there are enough cobblestones in the inventory\n..."
          ],
          [
           "// Place the crafting table near the player\n  const craftingTablePosition = bot.entity.position.offs..."
          ],
          [
           "async function findSuitablePosition(bot) {\n  const offsets = [new Vec3(1, 0, 0), new Vec3(-1, 0, 0),..."
          ],
          [
           "const blockBelow = bot.blockAt(position.offset(0, -1, 0));\n    if (blockBelow && blockBelow.name !==..."
          ],
          [
           "async function craftBirchBoat(bot) {\n  // Check if there are enough birch logs in the inventory\n  co..."
          ],
          [
           "// Craft birch planks using birch logs\n  await craftItem(bot, \"birch_planks\", 5);\n\n  // Check if the..."
          ],
          [
           "// Find a suitable position to place the crafting table\n  const craftingTablePosition = await findSu..."
          ],
          [
           "// Craft a birch boat using birch planks and the crafting table\n  await craftItem(bot, \"birch_boat\",..."
          ],
          [
           "async function craftChest(bot) {\n  // Check if there are enough oak planks in the inventory\n  const ..."
          ],
          [
           "// Craft oak planks using oak logs\n    await craftItem(bot, \"oak_planks\", 8 - oakPlanks);\n  }..."
          ],
          [
           "// Place the crafting table near the player\n  const craftingTablePosition = bot.entity.position.offs..."
          ],
          [
           "async function craftDiamondSword(bot) {\n  // Check if there are enough diamonds in the inventory\n  c..."
          ],
          [
           "// Place the crafting table near the player\n  const craftingTablePosition = bot.entity.position.offs..."
          ],
          [
           "async function craftStoneAxe(bot) {\n  // Check if there are enough cobblestones in the inventory\n  c..."
          ],
          [
           "// Place the crafting table near the player\n  const craftingTablePosition = bot.entity.position.offs..."
          ],
          [
           "async function equipShield(bot) {\n  // Find the shield in the bot's inventory\n  const shield = bot.i..."
          ],
          [
           "async function eatCookedMuttonIfHungry(bot) {\n  // Check if the bot's hunger is less than 20\n  if (b..."
          ],
          [
           "// Consume the cooked mutton\n    await bot.consume();\n    bot.chat(\"1 cooked mutton eaten.\");\n  } el..."
          ],
          [
           "async function mineFiveCoalOre(bot) {\n  // Equip the iron pickaxe\n  const ironPickaxe = bot.inventor..."
          ],
          [
           "// Find 5 coal ore blocks\n  const coalOres = await exploreUntil(bot, new Vec3(1, 0, 1), 60, () => {\n..."
          ],
          [
           "// Mine the 5 coal ore blocks\n  await mineBlock(bot, \"coal_ore\", 5);\n  bot.chat(\"5 coal ore mined.\")..."
          ],
          [
           "async function killChickenWithIncreasedTime(bot) {\n  // Explore the area to find a chicken with an i..."
          ],
          [
           "});\n    return chicken;\n  });\n  if (!chicken) {\n    bot.chat(\"No chicken found.\");\n    return;\n  }..."
          ],
          [
           "// Equip a weapon (preferably a sword) to kill the chicken\n  const sword = bot.inventory.findInvento..."
          ],
          [
           "// Kill the chicken\n  await killMob(bot, \"chicken\", 300);\n\n  // Report the completion of the task\n  ..."
          ],
          [
           "async function mineDeepslateOres(bot) {\n  // Equip the iron pickaxe\n  const ironPickaxe = bot.invent..."
          ],
          [
           "// Find and mine 1 deepslate_gold_ore\n  await mineBlock(bot, \"deepslate_gold_ore\", 1);\n  bot.chat(\"1..."
          ],
          [
           "async function smeltFiveRawGold(bot) {\n  // Check if there is a furnace in the inventory\n  const fur..."
          ],
          [
           "// Place the furnace near the player\n  const furnacePosition = bot.entity.position.offset(1, 0, 0);\n..."
          ],
          [
           "async function craftIronHelmet(bot) {\n  // Check if there are enough iron ingots in the inventory\n  ..."
          ],
          [
           "// Place a furnace near the player\n    const furnacePosition = bot.entity.position.offset(1, 0, 0);\n..."
          ],
          [
           "// Place the crafting table near the player\n  const craftingTablePosition = bot.entity.position.offs..."
          ],
          [
           "async function mineTenCobbledDeepslateBelowY0(bot) {\n  // Equip the iron pickaxe\n  const ironPickaxe..."
          ],
          [
           "// Find cobbled_deepslate blocks below Y=0\n  const cobbledDeepslateBlocks = await exploreUntil(bot, ..."
          ],
          [
           "position: pos => pos.y < 0\n    });\n    return cobbledDeepslate;\n  });..."
          ],
          [
           "// Mine 10 cobbled_deepslate blocks\n  await mineBlock(bot, \"cobbled_deepslate\", 10);\n  bot.chat(\"10 ..."
          ],
          [
           "async function craftIronPickaxe(bot) {\n  // Check if there are enough iron ingots in the inventory\n ..."
          ],
          [
           "// Place the crafting table near the player\n  const craftingTablePosition = bot.entity.position.offs..."
          ],
          [
           "async function smeltRawIron(bot) {\n  // Find a suitable location to place the furnace\n  const furnac..."
          ],
          [
           "async function craftTenCobblestoneWalls(bot) {\n  // Check if there are enough cobblestones in the in..."
          ],
          [
           "// Place the crafting table near the player\n  const craftingTablePosition = bot.entity.position.offs..."
          ],
          [
           "// Craft 6 more cobblestone walls using the crafting table\n  await craftItem(bot, \"cobblestone_wall\"..."
          ],
          [
           "async function cookRawBeef(bot) {\n  // Check if there is a furnace in the inventory\n  const furnace ..."
          ],
          [
           "// Place the furnace near the player\n  const furnacePosition = bot.entity.position.offset(1, 0, 0);\n..."
          ],
          [
           "async function craftStoneSword(bot) {\n  // Check if there are enough cobblestones in the inventory\n ..."
          ],
          [
           "// Place the crafting table near the player\n  const craftingTablePosition = bot.entity.position.offs..."
          ],
          [
           "async function mineFourCoalOre(bot) {\n  // Equip the stone pickaxe\n  const stonePickaxe = bot.invent..."
          ],
          [
           "async function craftShield(bot) {\n  // Check if there are enough oak planks in the inventory\n  const..."
          ],
          [
           "// Check if there are enough iron ingots in the inventory\n  const ironIngots = bot.inventory.count(m..."
          ],
          [
           "// Place the crafting table near the player\n  const craftingTablePosition = bot.entity.position.offs..."
          ],
          [
           "async function craftBoneMeal(bot) {\n  // Check if there are enough bones in the inventory\n  const bo..."
          ],
          [
           "// Place the crafting table near the player\n  const craftingTablePosition = bot.entity.position.offs..."
          ],
          [
           "async function eatCookedMutton(bot) {\n  // Equip a cooked mutton in the bot's hand\n  const cookedMut..."
          ],
          [
           "async function craftIronLeggingsAndBoots(bot) {\n  // Check if there are enough iron ingots in the in..."
          ],
          [
           "// Check if there are enough coal in the inventory\n    const coalCount = bot.inventory.count(mcData...."
          ],
          [
           "// Place a furnace near the player\n    const furnacePosition = bot.entity.position.offset(1, 0, 0);\n..."
          ],
          [
           "// Check if there is a crafting table in the inventory\n  const craftingTable = bot.inventory.findInv..."
          ],
          [
           "// Place the crafting table near the player\n  const craftingTablePosition = bot.entity.position.offs..."
          ],
          [
           "// Craft iron boots using the crafting table\n  await craftItem(bot, \"iron_boots\", 1);\n  bot.chat(\"Ir..."
          ],
          [
           "async function mineThreeMoreOakLogs(bot) {\n  for (let i = 0; i < 3; i++) {\n    const oakLogBlock = a..."
          ],
          [
           "maxDistance: 32\n      });\n      return oakLog;\n    });\n    if (!oakLogBlock) {\n      bot.chat(\"Could..."
          ],
          [
           "}\n  bot.chat(\"3 more oak logs mined.\");\n}..."
          ],
          [
           "async function cookChicken(bot) {\n  // Check if there is a furnace in the inventory\n  const furnace ..."
          ],
          [
           "// Place the furnace near the player\n  const furnacePosition = bot.entity.position.offset(1, 0, 0);\n..."
          ],
          [
           "async function equipIronHelmet(bot) {\n  // Find the iron helmet in the bot's inventory\n  const ironH..."
          ],
          [
           "async function craftIronSword(bot) {\n  // Check if there are enough iron ingots in the inventory\n  c..."
          ],
          [
           "// Place the crafting table near the player\n  const craftingTablePosition = bot.entity.position.offs..."
          ],
          [
           "async function craftIronChestplate(bot) {\n  // Check if there are enough iron ingots in the inventor..."
          ],
          [
           "// Place a furnace near the player\n    const furnacePosition = bot.entity.position.offset(1, 0, 0);\n..."
          ],
          [
           "// Try to place the crafting table near the player at different positions until it is successfully p..."
          ],
          [
           "try {\n      craftingTablePosition = bot.entity.position.offset(offset.x, offset.y, offset.z);\n      ..."
          ],
          [
           "}\n  }\n  if (!craftingTablePosition) {\n    bot.chat(\"Failed to place crafting table. Please try again..."
          ],
          [
           "// Craft an iron chestplate using iron ingots and the crafting table\n  await craftItem(bot, \"iron_ch..."
          ],
          [
           "async function smeltThreeRawCopper(bot) {\n  // Find a suitable location to place the furnace\n  const..."
          ],
          [
           "async function smeltCopperOre(bot) {\n  // Check if there is a furnace in the inventory\n  const furna..."
          ],
          [
           "// Place the furnace near the player\n  const furnacePosition = bot.entity.position.offset(1, 0, 0);\n..."
          ],
          [
           "// Find a copper ore block\n  const copperOre = await exploreUntil(bot, new Vec3(1, 0, 1), 60, () => ..."
          ],
          [
           "// Smelt the raw copper using coal as fuel in the furnace\n  await smeltItem(bot, \"raw_copper\", \"coal..."
          ],
          [
           "async function craftStoneTools(bot) {\n  // Check if there are enough cobblestones in the inventory\n ..."
          ],
          [
           "// Check if there are enough sticks in the inventory\n  const sticks = bot.inventory.count(mcData.ite..."
          ],
          [
           "// Place the crafting table near the player\n  const craftingTablePosition = bot.entity.position.offs..."
          ],
          [
           "// Craft a stone sword, a stone axe, and a stone shovel using the crafting table\n  await craftItem(b..."
          ],
          [
           "async function mineThreeIronOre(bot) {\n  // Equip the stone pickaxe\n  const stonePickaxe = bot.inven..."
          ],
          [
           "async function equipIronArmor(bot) {\n  const ironHelmet = bot.inventory.findInventoryItem(mcData.ite..."
          ],
          [
           "const ironBoots = bot.inventory.findInventoryItem(mcData.itemsByName.iron_boots.id);\n  if (ironHelme..."
          ],
          [
           "}\n  if (ironChestplate) {\n    await bot.equip(ironChestplate, \"torso\");\n    bot.chat(\"Iron chestplat..."
          ],
          [
           "if (ironLeggings) {\n    await bot.equip(ironLeggings, \"legs\");\n    bot.chat(\"Iron leggings equipped...."
          ],
          [
           "bot.chat(\"Iron boots equipped.\");\n  } else {\n    bot.chat(\"Iron boots not found in inventory.\");\n  }..."
          ],
          [
           "async function craftFurnace(bot) {\n  const requiredCobblestones = 8;\n  const cobblestoneCount = bot...."
          ],
          [
           "}\n  const craftingTable = bot.findBlock({\n    matching: mcData.blocksByName.crafting_table.id,\n    m..."
          ],
          [
           "bot.chat(\"Crafting_table placed.\");\n  }\n  await craftItem(bot, \"furnace\", 1);\n  bot.chat(\"Furnace cr..."
          ],
          [
           "async function craftBucket(bot) {\n  const requiredIronIngots = 3;\n  const ironIngotsCount = bot.inve..."
          ],
          [
           "bot.chat(\"Crafting_table placed.\");\n  }\n  await craftItem(bot, \"bucket\", 1);\n  bot.chat(\"Bucket craf..."
          ],
          [
           "async function smeltRawCopper(bot) {\n  const furnaceInInventory = bot.inventory.findInventoryItem(mc..."
          ],
          [
           "}\n  let furnacePosition = bot.entity.position.offset(1, 0, 0);\n  const blockAtFurnacePosition = bot...."
          ],
          [
           "bot.chat(\"Furnace placed.\");\n  const requiredCoal = 7;\n  const coalCount = bot.inventory.count(mcDat..."
          ],
          [
           "}\n  await smeltItem(bot, \"raw_copper\", \"coal\", 7);\n  bot.chat(\"7 raw copper smelted.\");\n}..."
          ],
          [
           "async function smeltSixRawIron(bot) {\n  const furnaceInInventory = bot.inventory.findInventoryItem(m..."
          ],
          [
           "bot.chat(\"Furnace placed.\");\n  const requiredCoal = 6;\n  const coalCount = bot.inventory.count(mcDat..."
          ],
          [
           "}\n  await smeltItem(bot, \"raw_iron\", \"coal\", 6);\n  bot.chat(\"6 raw iron smelted.\");\n}..."
          ],
          [
           "async function craftWoodenPlanks(bot) {\n  const logNames = [\"oak_log\", \"birch_log\", \"spruce_log\", \"j..."
          ],
          [
           "const plankNames = [\"oak_planks\", \"birch_planks\", \"spruce_planks\", \"jungle_planks\", \"acacia_planks\",..."
          ],
          [
           "if (!logInInventory) {\n    bot.chat(\"No wooden log in inventory. Mining a wooden log...\");\n    await..."
          ],
          [
           "await craftItem(bot, plankName, 1);\n  bot.chat(`4 ${plankName} crafted.`);\n}..."
          ],
          [
           "async function mineFiveIronOres(bot) {\n  const stonePickaxe = bot.inventory.findInventoryItem(mcData..."
          ],
          [
           "bot.chat(\"No stone or iron pickaxe found. Mining cobblestone and crafting a stone pickaxe...\");\n    ..."
          ],
          [
           "bot.chat(\"Stone pickaxe crafted.\");\n  }\n  const pickaxeToUse = ironPickaxe || stonePickaxe;\n  await ..."
          ],
          [
           "matching: mcData.blocksByName.iron_ore.id,\n      maxDistance: 32\n    });\n    return foundIronOre;\n  ..."
          ],
          [
           "async function exploreCaveAndGatherResources(bot) {\n  // Equip torches\n  const torches = bot.invento..."
          ],
          [
           "// Find a cave entrance and start exploring\n  const caveEntrance = await exploreUntil(bot, new Vec3(..."
          ],
          [
           "},\n      maxDistance: 32\n    });\n    return caveBlock;\n  });\n  if (!caveEntrance) {\n    bot.chat(\"No..."
          ],
          [
           "// Explore the cave and gather resources\n  await exploreUntil(bot, new Vec3(1, 0, 1), 300, () => {\n ..."
          ],
          [
           "},\n      maxDistance: 32\n    });\n    if (caveBlock) {\n      bot.placeBlock(caveBlock, new Vec3(0, 1,..."
          ],
          [
           "return entity.type === \"mob\" && entity.position.distanceTo(bot.entity.position) < 32;\n    });\n    if..."
          ],
          [
           "for (const ore of ores) {\n      const oreBlock = bot.findBlock({\n        matching: mcData.blocksByNa..."
          ],
          [
           "}\n    }\n    return null; // Continue exploring until the time limit is reached\n  });..."
          ],
          [
           "bot.chat(\"Finished exploring the cave and gathering resources.\");\n}..."
          ],
          [
           "async function mineFiveCoalOres(bot) {\n  const stonePickaxe = bot.inventory.findInventoryItem(mcData..."
          ],
          [
           "}\n  await bot.equip(mcData.itemsByName.stone_pickaxe.id, \"hand\");\n  await mineBlock(bot, \"coal_ore\",..."
          ],
          [
           "async function catchFiveFishSafely(bot) {\n  // Check if the bot has a fishing rod in its inventory\n ..."
          ],
          [
           "// Find a nearby water block\n  let waterBlock;\n  while (!waterBlock) {\n    waterBlock = await explor..."
          ],
          [
           "maxDistance: 32\n      });\n      return foundWaterBlock;\n    });\n    if (!waterBlock) {\n      bot.cha..."
          ],
          [
           "// Move to a block adjacent to the water block\n  const adjacentBlock = waterBlock.position.offset(0,..."
          ],
          [
           "// Fish in the water 5 times\n  for (let i = 0; i < 5; i++) {\n    try {\n      await bot.fish();\n     ..."
          ],
          [
           "bot.chat(\"Fishing was cancelled. Trying again...\");\n        i--; // Retry the same iteration\n      }..."
          ],
          [
           "async function craftStonePickaxe(bot) {\n  const requiredCobblestones = 3;\n  const requiredSticks = 2..."
          ],
          [
           "bot.chat(\"Not enough cobblestones. Mining more...\");\n    await mineBlock(bot, \"stone\", requiredCobbl..."
          ],
          [
           "await craftItem(bot, \"stick\", requiredSticks - sticksCount);\n    bot.chat(\"Sticks crafted.\");\n  }\n  ..."
          ],
          [
           "if (!craftingTable) {\n    const craftingTablePosition = bot.entity.position.offset(1, 0, 0);\n    awa..."
          ],
          [
           "async function craftWoodenPickaxe(bot) {\n  const requiredPlanks = 3;\n  const requiredSticks = 2;\n  c..."
          ],
          [
           "bot.chat(\"Not enough spruce_planks. Crafting more...\");\n    await craftItem(bot, \"spruce_planks\", re..."
          ],
          [
           "await craftItem(bot, \"stick\", requiredSticks - sticksCount);\n    bot.chat(\"Sticks crafted.\");\n  }\n  ..."
          ],
          [
           "await craftItem(bot, \"wooden_pickaxe\", 1);\n  bot.chat(\"Wooden pickaxe crafted.\");\n}..."
          ],
          [
           "async function craftSixteenTorches(bot) {\n  const requiredSticks = 4;\n  const sticksCount = bot.inve..."
          ],
          [
           "bot.chat(\"Crafting_table placed.\");\n  }\n  await craftItem(bot, \"torch\", 2);\n  bot.chat(\"16 torches c..."
          ],
          [
           "async function exploreCave(bot) {\n  const torches = bot.inventory.findInventoryItem(mcData.itemsByNa..."
          ],
          [
           "const caveEntrance = await exploreUntil(bot, new Vec3(1, 0, 1), 60, () => {\n    const caveBlock = bo..."
          ],
          [
           "maxDistance: 32\n    });\n    return caveBlock;\n  });\n  if (!caveEntrance) {\n    bot.chat(\"No cave ent..."
          ],
          [
           "await exploreUntil(bot, new Vec3(1, 0, 1), 300, () => {\n    const caveBlock = bot.findBlock({\n      ..."
          ],
          [
           "});\n    if (caveBlock) {\n      bot.placeBlock(caveBlock, new Vec3(0, 1, 0));\n    }\n    const mob = b..."
          ],
          [
           "});\n    if (mob) {\n      killMob(bot, mob.name, 300);\n    }\n    return null; // Continue exploring u..."
          ],
          [
           "bot.chat(\"Finished exploring the cave.\");\n}..."
          ],
          [
           "async function craftEightTorches(bot) {\n  const craftingTable = bot.findBlock({\n    matching: mcData..."
          ],
          [
           "await placeItem(bot, \"crafting_table\", craftingTablePosition);\n    bot.chat(\"Crafting_table placed.\"..."
          ],
          [
           "async function catchThreeFish(bot) {\n  // Check if the bot has a fishing rod in its inventory\n  let ..."
          ],
          [
           "// Fish in the water 3 times\n  for (let i = 0; i < 3; i++) {\n    try {\n      await bot.fish();\n     ..."
          ],
          [
           "async function craftEightSticks(bot) {\n  const requiredPlanks = 2;\n  const planksCount = bot.invento..."
          ],
          [
           "await craftItem(bot, \"spruce_planks\", 1);\n    bot.chat(\"Spruce_planks crafted.\");\n  }\n  const crafti..."
          ],
          [
           "if (!craftingTable) {\n    const craftingTablePosition = bot.entity.position.offset(1, 0, 0);\n    awa..."
          ],
          [
           "async function craftStoneShovel(bot) {\n  const requiredCobblestones = 1;\n  const requiredSticks = 2;..."
          ],
          [
           "await craftItem(bot, \"stick\", requiredSticks - sticksCount);\n    bot.chat(\"Sticks crafted.\");\n  }\n  ..."
          ],
          [
           "if (!craftingTable) {\n    const craftingTablePosition = bot.entity.position.offset(1, 0, 0);\n    awa..."
          ],
          [
           "async function craftStoneHoe(bot) {\n  const requiredCobblestones = 2;\n  const requiredSticks = 2;\n  ..."
          ],
          [
           "if (!craftingTable) {\n    const craftingTablePosition = bot.entity.position.offset(1, 0, 0);\n    awa..."
          ],
          [
           "async function craftIronPickaxeWithMaterials(bot) {\n  const requiredIronIngots = 3;\n  const required..."
          ],
          [
           "bot.chat(\"Not enough iron ingots. Mining iron ores...\");\n    await mineBlock(bot, \"iron_ore\", requir..."
          ],
          [
           "bot.chat(\"Iron ingots smelted.\");\n  }\n  if (sticksCount < requiredSticks) {\n    bot.chat(\"Not enough..."
          ],
          [
           "matching: mcData.blocksByName.crafting_table.id,\n    maxDistance: 32\n  });\n  if (!craftingTable) {\n ..."
          ],
          [
           "}\n  await craftItem(bot, \"iron_pickaxe\", 1);\n  bot.chat(\"Iron pickaxe crafted.\");\n}..."
          ],
          [
           "async function craftShieldWithFurnace(bot) {\n  const requiredIronIngots = 1;\n  const requiredSpruceP..."
          ],
          [
           "if (ironIngotsCount < requiredIronIngots) {\n    bot.chat(\"Not enough iron ingots. Smelting iron ingo..."
          ],
          [
           "const furnacePosition = bot.entity.position.offset(1, 0, 0);\n      await placeItem(bot, \"furnace\", f..."
          ],
          [
           "bot.chat(\"Iron ingots smelted.\");\n  }\n  if (sprucePlanksCount < requiredSprucePlanks) {\n    bot.chat..."
          ],
          [
           "bot.chat(\"Crafting_table placed.\");\n  }\n  await craftItem(bot, \"shield\", 1);\n  bot.chat(\"Shield craf..."
          ],
          [
           "async function checkStonePickaxe(bot) {\n  const stonePickaxe = bot.inventory.findInventoryItem(mcDat..."
          ],
          [
           "async function craftFishingRod(bot) {\n  // Check if we have enough strings\n  const requiredStrings =..."
          ],
          [
           "while (bot.inventory.count(mcData.itemsByName.string.id) < requiredStrings) {\n      bot.chat(\"Findin..."
          ],
          [
           "return entity.name === \"spider\" && entity.position.distanceTo(bot.entity.position) < 32;\n        });..."
          ],
          [
           "await killMob(bot, \"spider\", 300);\n        bot.chat(\"Spider killed.\");\n      } else {\n        bot.ch..."
          ],
          [
           "// Place a crafting table if not already placed\n  const craftingTable = bot.findBlock({\n    matching..."
          ],
          [
           "// Craft a fishing rod using the 3 sticks and 2 strings\n  await craftItem(bot, \"fishing_rod\", 1);\n  ..."
          ],
          [
           "async function smeltTwentyFiveIronIngots(bot) {\n  const furnaceInInventory = bot.inventory.findInven..."
          ],
          [
           "bot.chat(\"Furnace placed.\");\n  const requiredCoal = 25;\n  const coalCount = bot.inventory.count(mcDa..."
          ],
          [
           "}\n  await smeltItem(bot, \"raw_iron\", \"coal\", 25);\n  bot.chat(\"25 raw iron smelted.\");\n}..."
          ],
          [
           "async function craftChest(bot) {\n  const requiredPlanks = 8;\n  const planksCount = bot.inventory.cou..."
          ],
          [
           "if (!craftingTable) {\n    const craftingTablePosition = bot.entity.position.offset(1, 0, 0);\n    awa..."
          ],
          [
           "bot.chat(\"Chest crafted.\");\n}..."
          ],
          [
           "async function mineLapisOre(bot) {\n  const pickaxeTypes = [mcData.itemsByName.stone_pickaxe.id, mcDa..."
          ],
          [
           "if (!pickaxe) {\n    bot.chat(\"No suitable pickaxe found. Mining cobblestone and crafting a stone pic..."
          ],
          [
           "await craftItem(bot, \"stone_pickaxe\", 1);\n    pickaxe = bot.inventory.findInventoryItem(mcData.items..."
          ],
          [
           "const lapisOreBlock = await exploreUntil(bot, new Vec3(0, -1, 0), 60, () => {\n    const foundLapisOr..."
          ],
          [
           "});\n  if (!lapisOreBlock) {\n    bot.chat(\"No lapis ore found nearby. Exploring...\");\n  }\n  await min..."
          ],
          [
           "async function collectWaterWithBucket(bot) {\n  const waterBlock = bot.findBlock({\n    matching: mcDa..."
          ],
          [
           "await exploreUntil(bot, new Vec3(1, 0, 1), 60, () => {\n      const foundWaterBlock = bot.findBlock({..."
          ],
          [
           "});\n  }\n  const bucket = bot.inventory.findInventoryItem(mcData.itemsByName.bucket.id);\n  await bot...."
          ],
          [
           "async function craftTorches(bot) {\n  const requiredCoal = 2;\n  const requiredSticks = 2;\n  const coa..."
          ],
          [
           "await mineBlock(bot, \"coal_ore\", requiredCoal - coalCount);\n    bot.chat(\"Coal mined.\");\n  }\n  if (s..."
          ],
          [
           "bot.chat(\"Crafting_table placed.\");\n  }\n  await craftItem(bot, \"torch\", 1);\n  bot.chat(\"8 torches cr..."
          ],
          [
           "async function craftStoneAxe(bot) {\n  const requiredCobblestones = 3;\n  const requiredSticks = 2;\n  ..."
          ],
          [
           "if (!craftingTable) {\n    const craftingTablePosition = bot.entity.position.offset(1, 0, 0);\n    awa..."
          ],
          [
           "async function craftTwentySprucePlanks(bot) {\n  const requiredLogs = 5;\n  const spruceLogCount = bot..."
          ],
          [
           "await mineBlock(bot, \"spruce_log\", logsToMine);\n    bot.chat(\"Spruce logs chopped down.\");\n  }\n  bot..."
          ],
          [
           "async function smeltOneRawIron(bot) {\n  const furnaceInInventory = bot.inventory.findInventoryItem(m..."
          ],
          [
           "bot.chat(\"Furnace placed.\");\n  await smeltItem(bot, \"raw_iron\", \"coal\", 1);\n  bot.chat(\"1 raw iron s..."
          ],
          [
           "async function mineCoalOre(bot) {\n  const stonePickaxe = bot.inventory.findInventoryItem(mcData.item..."
          ],
          [
           "const coalOreBlock = bot.findBlock({\n    matching: mcData.blocksByName.coal_ore.id,\n    maxDistance:..."
          ],
          [
           "const foundCoalOre = bot.findBlock({\n        matching: mcData.blocksByName.coal_ore.id,\n        maxD..."
          ],
          [
           "bot.chat(\"Coal ore mined.\");\n}..."
          ],
          [
           "async function fishInNearbyWaterSafely(bot) {\n  // Check if the bot has a fishing rod in its invento..."
          ],
          [
           "// Find a nearby water block\n  const waterBlock = await exploreUntil(bot, new Vec3(1, 0, 1), 60, () ..."
          ],
          [
           "// Check for hostile mobs nearby and kill them if necessary\n  const hostileMobs = [\"zombie\", \"skelet..."
          ],
          [
           "});\n    if (mob) {\n      await killMob(bot, mobName, 300);\n    }\n  }..."
          ],
          [
           "// Fish in the water\n  try {\n    await bot.fish();\n    bot.chat(\"Fished in the nearby water.\");\n  } ..."
          ],
          [
           "async function craftIronHelmet(bot) {\n  const requiredIronIngots = 5;\n  const ironIngotsCount = bot...."
          ],
          [
           "}\n  let craftingTable = bot.findBlock({\n    matching: mcData.blocksByName.crafting_table.id,\n    max..."
          ],
          [
           "bot.chat(\"Crafting_table placed.\");\n    // Update the craftingTable variable after placing it\n    cr..."
          ],
          [
           "async function craftIronPickaxe(bot) {\n  const requiredIronIngots = 3;\n  const requiredSticks = 2;\n ..."
          ],
          [
           "bot.chat(\"Not enough iron ingots or sticks to craft an iron pickaxe.\");\n    return;\n  }\n  const craf..."
          ],
          [
           "if (!craftingTable) {\n    const craftingTablePosition = bot.entity.position.offset(1, 0, 0);\n    awa..."
          ],
          [
           "async function smeltRawIron(bot) {\n  const furnaceInInventory = bot.inventory.findInventoryItem(mcDa..."
          ],
          [
           "const blockAtFurnacePosition = bot.blockAt(furnacePosition);\n  if (blockAtFurnacePosition.name === \"..."
          ],
          [
           "const requiredCoal = 3;\n  const coalCount = bot.inventory.count(mcData.itemsByName.coal.id);\n  if (c..."
          ],
          [
           "}\n  await smeltItem(bot, \"raw_iron\", \"coal\", 3);\n  bot.chat(\"3 raw iron smelted.\");\n}..."
          ],
          [
           "async function chopDownSpruceLogs(bot) {\n  const spruceLogCount = bot.inventory.count(mcData.itemsBy..."
          ],
          [
           "bot.chat(\"Chopped down 5 spruce logs.\");\n  } else {\n    bot.chat(\"Already have 5 spruce logs in inve..."
          ],
          [
           "async function eatCookedMutton(bot) {\n  const cookedMutton = bot.inventory.findInventoryItem(mcData...."
          ],
          [
           "async function craftSticks(bot) {\n  const requiredPlanks = 2;\n  const planksCount = bot.inventory.co..."
          ],
          [
           "await craftItem(bot, \"spruce_planks\", 1);\n    bot.chat(\"Spruce_planks crafted.\");\n  }\n  const crafti..."
          ],
          [
           "await craftItem(bot, \"stick\", 1);\n  bot.chat(\"4 sticks crafted.\");\n}..."
          ],
          [
           "async function craftStoneSword(bot) {\n  const requiredCobblestones = 2;\n  const requiredSticks = 1;\n..."
          ],
          [
           "bot.chat(\"Not enough cobblestones. Mining more...\");\n    await mineBlock(bot, \"stone\", requiredCobbl..."
          ],
          [
           "bot.chat(\"Sticks crafted.\");\n  }\n  const craftingTable = bot.findBlock({\n    matching: mcData.blocks..."
          ],
          [
           "await placeItem(bot, \"crafting_table\", craftingTablePosition);\n    bot.chat(\"Crafting_table placed.\"..."
          ],
          [
           "async function mineThreeIronOres(bot) {\n  const stonePickaxe = bot.inventory.findInventoryItem(mcDat..."
          ],
          [
           "const craftingTablePosition = bot.entity.position.offset(1, 0, 0);\n    await placeItem(bot, \"craftin..."
          ],
          [
           "const ironOreBlock = await exploreUntil(bot, new Vec3(0, -1, 0), 60, () => {\n    const foundIronOre ..."
          ],
          [
           "});\n  if (!ironOreBlock) {\n    bot.chat(\"No iron ore found nearby. Exploring...\");\n  }\n  await mineB..."
          ],
          [
           "async function craftIronLeggingsAndBoots(bot) {\n  const requiredIronIngots = 11; // 7 for leggings, ..."
          ],
          [
           "await mineBlock(bot, \"iron_ore\", requiredIronIngots - ironIngotsCount);\n    bot.chat(\"Iron ores mine..."
          ],
          [
           "}\n  await craftItem(bot, \"iron_leggings\", 1);\n  bot.chat(\"Iron leggings crafted.\");\n  await craftIte..."
          ],
          [
           "async function craftSpyglass(bot) {\n  const requiredCopperIngots = 2;\n  const requiredAmethystShards..."
          ],
          [
           "if (copperIngotsCount < requiredCopperIngots || amethystShardsCount < requiredAmethystShards) {\n    ..."
          ],
          [
           "maxDistance: 32\n  });\n  if (!craftingTable) {\n    const craftingTablePosition = bot.entity.position...."
          ],
          [
           "bot.chat(\"Spyglass crafted.\");\n}..."
          ],
          [
           "async function chopSpruceLogs(bot) {\n  const spruceLogCount = bot.inventory.count(mcData.itemsByName..."
          ],
          [
           "bot.chat(\"Chopped down 3 spruce logs.\");\n  } else {\n    bot.chat(\"Already have 3 spruce logs in inve..."
          ],
          [
           "async function cookMutton(bot) {\n  const rawMuttonCount = bot.inventory.count(mcData.itemsByName.mut..."
          ],
          [
           "}\n  const furnaceInInventory = bot.inventory.findInventoryItem(mcData.itemsByName.furnace.id);\n  if ..."
          ],
          [
           "const blockAtFurnacePosition = bot.blockAt(furnacePosition);\n  if (blockAtFurnacePosition.name === \"..."
          ],
          [
           "const requiredCoal = 5;\n  const coalCount = bot.inventory.count(mcData.itemsByName.coal.id);\n  if (c..."
          ],
          [
           "}\n  await smeltItem(bot, \"mutton\", \"coal\", 5);\n  bot.chat(\"5 mutton cooked.\");\n}..."
          ],
          [
           "async function mineCopperOreWithStonePickaxe(bot) {\n  const stonePickaxe = bot.inventory.findInvento..."
          ],
          [
           "const copperOreBlock = bot.findBlock({\n    matching: mcData.blocksByName.copper_ore.id,\n    maxDista..."
          ],
          [
           "const foundCopperOre = bot.findBlock({\n        matching: mcData.blocksByName.copper_ore.id,\n        ..."
          ],
          [
           "bot.chat(\"Copper ore mined.\");\n}..."
          ],
          [
           "async function mineFiveCopperOres(bot) {\n  const copperOreCount = bot.inventory.count(mcData.itemsBy..."
          ],
          [
           "}\n  await bot.equip(mcData.itemsByName.iron_pickaxe.id, \"hand\");\n  await mineBlock(bot, \"copper_ore\"..."
          ],
          [
           "async function craftIronSword(bot) {\n  const requiredIronIngots = 2;\n  const requiredSticks = 1;\n  c..."
          ],
          [
           "}\n  await craftItem(bot, \"iron_sword\", 1);\n  bot.chat(\"Iron sword crafted.\");\n}..."
          ],
          [
           "async function craftIronChestplate(bot) {\n  const requiredIronIngots = 8;\n  const ironIngotsCount = ..."
          ],
          [
           "}\n  await craftItem(bot, \"iron_chestplate\", 1);\n  bot.chat(\"Iron chestplate crafted.\");\n}..."
          ],
          [
           "async function craftWhiteBedWithExploration(bot) {\n  // Step 1: Explore the area to find and kill sh..."
          ],
          [
           "for (let i = 0; i < requiredWool - woolCount; i++) {\n      const sheep = await exploreUntil(bot, new..."
          ],
          [
           "});\n        return sheep;\n      });\n      if (sheep) {\n        await killMob(bot, \"sheep\");\n      } ..."
          ],
          [
           "return;\n      }\n    }\n    bot.chat(\"Wool collected.\");\n  }..."
          ],
          [
           "// Step 2: Craft 2 more spruce planks if needed\n  const requiredPlanks = 3;\n  const planksCount = bo..."
          ],
          [
           "await craftItem(bot, \"spruce_planks\", requiredPlanks - planksCount);\n    bot.chat(\"Spruce_planks cra..."
          ],
          [
           "// Step 3: Place a crafting table if not already placed\n  const craftingTable = bot.findBlock({\n    ..."
          ],
          [
           "await placeItem(bot, \"crafting_table\", craftingTablePosition);\n    bot.chat(\"Crafting_table placed.\"..."
          ],
          [
           "// Step 4: Craft a white bed using the 3 white wool blocks and 3 spruce planks\n  bot.chat(\"Crafting ..."
          ],
          [
           "async function craftWoodenHoe(bot) {\n  const requiredPlanks = 2;\n  const requiredSticks = 2;\n  const..."
          ],
          [
           "if (!craftingTable) {\n    const craftingTablePosition = bot.entity.position.offset(1, 0, 0);\n    awa..."
          ]
         ],
         "hovertemplate": "source=home<br>symbol=circle<br>x=%{x}<br>y=%{y}<br>size_col=%{marker.size}<br>extract=%{customdata[0]}<extra></extra>",
         "legendgroup": "home, circle",
         "marker": {
          "color": "#EF553B",
          "line": {
           "color": "DarkSlateGrey",
           "width": 0
          },
          "opacity": 1,
          "size": [
           4,
           4,
           4,
           4,
           4,
           4,
           4,
           4,
           4,
           4,
           4,
           4,
           4,
           4,
           4,
           4,
           4,
           4,
           4,
           4,
           4,
           4,
           4,
           4,
           4,
           4,
           4,
           4,
           4,
           4,
           4,
           4,
           4,
           4,
           4,
           4,
           4,
           4,
           4,
           4,
           4,
           4,
           4,
           4,
           4,
           4,
           4,
           4,
           4,
           4,
           4,
           4,
           4,
           4,
           4,
           4,
           4,
           4,
           4,
           4,
           4,
           4,
           4,
           4,
           4,
           4,
           4,
           4,
           4,
           4,
           4,
           4,
           4,
           4,
           4,
           4,
           4,
           4,
           4,
           4,
           4,
           4,
           4,
           4,
           4,
           4,
           4,
           4,
           4,
           4,
           4,
           4,
           4,
           4,
           4,
           4,
           4,
           4,
           4,
           4,
           4,
           4,
           4,
           4,
           4,
           4,
           4,
           4,
           4,
           4,
           4,
           4,
           4,
           4,
           4,
           4,
           4,
           4,
           4,
           4,
           4,
           4,
           4,
           4,
           4,
           4,
           4,
           4,
           4,
           4,
           4,
           4,
           4,
           4,
           4,
           4,
           4,
           4,
           4,
           4,
           4,
           4,
           4,
           4,
           4,
           4,
           4,
           4,
           4,
           4,
           4,
           4,
           4,
           4,
           4,
           4,
           4,
           4,
           4,
           4,
           4,
           4,
           4,
           4,
           4,
           4,
           4,
           4,
           4,
           4,
           4,
           4,
           4,
           4,
           4,
           4,
           4,
           4,
           4,
           4,
           4,
           4,
           4,
           4,
           4,
           4,
           4,
           4,
           4,
           4,
           4,
           4,
           4,
           4,
           4,
           4,
           4,
           4,
           4,
           4,
           4,
           4,
           4,
           4,
           4,
           4,
           4,
           4,
           4,
           4,
           4,
           4,
           4,
           4,
           4,
           4,
           4,
           4,
           4,
           4,
           4,
           4,
           4,
           4,
           4,
           4,
           4,
           4,
           4,
           4,
           4,
           4,
           4,
           4,
           4,
           4,
           4,
           4,
           4,
           4,
           4,
           4,
           4,
           4,
           4,
           4,
           4,
           4,
           4,
           4,
           4,
           4,
           4,
           4,
           4,
           4,
           4,
           4,
           4,
           4,
           4,
           4,
           4,
           4,
           4,
           4,
           4,
           4,
           4,
           4,
           4,
           4,
           4,
           4,
           4,
           4,
           4,
           4,
           4,
           4,
           4,
           4,
           4,
           4,
           4,
           4,
           4,
           4,
           4,
           4,
           4,
           4,
           4,
           4,
           4,
           4,
           4,
           4,
           4,
           4,
           4,
           4,
           4,
           4,
           4,
           4,
           4,
           4,
           4,
           4,
           4,
           4,
           4,
           4,
           4,
           4,
           4,
           4,
           4,
           4,
           4,
           4,
           4,
           4,
           4,
           4,
           4,
           4,
           4,
           4,
           4,
           4,
           4,
           4,
           4,
           4,
           4,
           4,
           4,
           4,
           4,
           4,
           4,
           4,
           4,
           4,
           4,
           4,
           4,
           4,
           4,
           4,
           4,
           4,
           4,
           4,
           4,
           4,
           4,
           4,
           4,
           4,
           4,
           4,
           4,
           4,
           4,
           4,
           4,
           4,
           4,
           4,
           4,
           4,
           4,
           4,
           4,
           4,
           4,
           4,
           4,
           4,
           4,
           4,
           4,
           4,
           4,
           4,
           4,
           4,
           4,
           4,
           4,
           4,
           4,
           4,
           4,
           4,
           4,
           4,
           4,
           4,
           4,
           4,
           4,
           4,
           4,
           4,
           4,
           4,
           4,
           4,
           4,
           4,
           4,
           4,
           4,
           4,
           4,
           4,
           4,
           4,
           4,
           4,
           4,
           4,
           4,
           4,
           4,
           4,
           4,
           4,
           4,
           4,
           4,
           4,
           4,
           4,
           4,
           4,
           4,
           4,
           4,
           4,
           4,
           4,
           4,
           4,
           4,
           4,
           4,
           4,
           4,
           4,
           4,
           4,
           4,
           4,
           4,
           4,
           4,
           4,
           4,
           4,
           4,
           4,
           4,
           4,
           4,
           4,
           4,
           4,
           4,
           4,
           4,
           4,
           4,
           4,
           4,
           4,
           4,
           4,
           4,
           4,
           4,
           4,
           4,
           4,
           4,
           4,
           4,
           4,
           4,
           4,
           4,
           4,
           4,
           4,
           4,
           4,
           4,
           4,
           4,
           4,
           4,
           4,
           4,
           4,
           4,
           4,
           4,
           4,
           4,
           4,
           4,
           4,
           4,
           4,
           4,
           4,
           4,
           4,
           4,
           4,
           4,
           4,
           4,
           4,
           4,
           4,
           4,
           4,
           4,
           4,
           4,
           4,
           4,
           4,
           4,
           4,
           4,
           4,
           4,
           4,
           4,
           4,
           4,
           4,
           4,
           4,
           4,
           4,
           4,
           4,
           4,
           4,
           4,
           4,
           4,
           4,
           4,
           4,
           4,
           4,
           4,
           4,
           4,
           4,
           4,
           4,
           4,
           4,
           4,
           4,
           4,
           4,
           4,
           4,
           4,
           4,
           4,
           4,
           4,
           4,
           4,
           4,
           4,
           4,
           4,
           4,
           4,
           4,
           4,
           4,
           4,
           4,
           4,
           4,
           4,
           4,
           4,
           4,
           4,
           4,
           4,
           4,
           4,
           4,
           4,
           4,
           4,
           4,
           4,
           4,
           4,
           4,
           4,
           4,
           4,
           4,
           4,
           4,
           4,
           4,
           4,
           4,
           4,
           4,
           4,
           4,
           4,
           4,
           4,
           4,
           4,
           4,
           4,
           4,
           4,
           4,
           4,
           4,
           4,
           4,
           4,
           4,
           4,
           4,
           4,
           4,
           4,
           4,
           4,
           4,
           4,
           4,
           4,
           4,
           4,
           4,
           4,
           4,
           4,
           4,
           4,
           4,
           4,
           4,
           4,
           4,
           4,
           4,
           4,
           4,
           4,
           4,
           4,
           4,
           4,
           4,
           4,
           4,
           4,
           4,
           4,
           4,
           4,
           4,
           4,
           4,
           4,
           4,
           4,
           4,
           4,
           4,
           4,
           4,
           4,
           4,
           4,
           4,
           4,
           4,
           4,
           4,
           4,
           4,
           4,
           4,
           4,
           4,
           4,
           4,
           4,
           4,
           4,
           4,
           4,
           4,
           4,
           4,
           4,
           4,
           4,
           4,
           4,
           4,
           4,
           4,
           4,
           4,
           4,
           4,
           4,
           4,
           4,
           4,
           4,
           4,
           4,
           4,
           4,
           4,
           4,
           4,
           4,
           4,
           4,
           4,
           4,
           4,
           4,
           4,
           4,
           4,
           4,
           4,
           4,
           4,
           4,
           4,
           4,
           4,
           4,
           4,
           4,
           4,
           4,
           4,
           4,
           4,
           4,
           4,
           4,
           4,
           4,
           4,
           4,
           4,
           4,
           4,
           4,
           4,
           4,
           4,
           4,
           4,
           4,
           4,
           4,
           4,
           4,
           4,
           4,
           4,
           4,
           4,
           4,
           4,
           4,
           4,
           4,
           4,
           4,
           4,
           4,
           4,
           4,
           4,
           4,
           4,
           4,
           4,
           4,
           4,
           4,
           4,
           4,
           4,
           4,
           4,
           4,
           4,
           4,
           4,
           4,
           4,
           4,
           4,
           4,
           4,
           4,
           4,
           4,
           4,
           4,
           4,
           4,
           4,
           4,
           4,
           4,
           4,
           4,
           4,
           4,
           4,
           4,
           4,
           4,
           4,
           4,
           4,
           4,
           4,
           4,
           4,
           4,
           4,
           4,
           4,
           4,
           4,
           4,
           4,
           4,
           4,
           4,
           4,
           4,
           4,
           4,
           4,
           4,
           4,
           4,
           4,
           4,
           4,
           4,
           4,
           4,
           4,
           4,
           4,
           4,
           4,
           4,
           4,
           4,
           4,
           4,
           4,
           4,
           4,
           4,
           4,
           4,
           4,
           4,
           4,
           4,
           4,
           4,
           4,
           4,
           4,
           4,
           4,
           4,
           4,
           4,
           4,
           4,
           4,
           4,
           4,
           4,
           4,
           4,
           4,
           4,
           4,
           4,
           4,
           4,
           4,
           4,
           4,
           4,
           4,
           4,
           4,
           4,
           4,
           4,
           4,
           4,
           4,
           4,
           4,
           4,
           4,
           4,
           4,
           4,
           4,
           4,
           4,
           4,
           4,
           4,
           4,
           4,
           4,
           4,
           4,
           4,
           4,
           4,
           4,
           4,
           4,
           4,
           4,
           4,
           4,
           4,
           4,
           4,
           4,
           4,
           4,
           4,
           4,
           4,
           4,
           4
          ],
          "sizemode": "area",
          "sizeref": 0.25,
          "symbol": "circle"
         },
         "mode": "markers",
         "name": "home, circle",
         "orientation": "v",
         "showlegend": true,
         "type": "scatter",
         "x": [
          -6.3416195,
          8.485442,
          -5.60656,
          8.633164,
          14.486671,
          -12.728916,
          13.509994,
          -5.451969,
          13.3791685,
          -7.3842063,
          13.371129,
          -9.696841,
          14.335245,
          9.945817,
          -11.755767,
          -12.026099,
          -11.771423,
          -15.727117,
          -15.18941,
          -15.496185,
          -8.8870325,
          14.50759,
          13.019569,
          2.6156704,
          11.036206,
          -5.95221,
          15.336704,
          -6.3166647,
          8.283544,
          -7.9120083,
          -8.08394,
          -8.623429,
          13.024761,
          -10.361625,
          12.147504,
          -11.284042,
          24.715303,
          11.914411,
          -12.087272,
          13.531693,
          -5.5693073,
          -7.4688773,
          9.265365,
          -5.361685,
          -7.3806524,
          -7.508139,
          11.199041,
          -12.061764,
          -7.780293,
          24.755064,
          9.834465,
          9.063617,
          -7.3908677,
          13.550858,
          -7.6964397,
          11.137024,
          -5.8969445,
          15.369576,
          12.227281,
          -6.031574,
          -7.3248014,
          8.73511,
          -9.332803,
          14.327264,
          -12.91923,
          13.789033,
          -10.075798,
          24.875797,
          -8.253872,
          10.638645,
          -8.2286215,
          -11.5507965,
          2.6155295,
          11.512005,
          10.80376,
          -9.107064,
          13.0243,
          10.626106,
          -5.7409353,
          14.512341,
          -12.886514,
          13.499974,
          -8.518363,
          -10.225009,
          -10.076628,
          14.240402,
          14.352882,
          12.760223,
          -14.779172,
          -14.530195,
          -7.727645,
          12.962125,
          11.770863,
          -12.867219,
          14.033664,
          -12.560466,
          13.531364,
          -11.813864,
          12.840319,
          -11.73588,
          8.700864,
          13.020594,
          -12.141762,
          12.5236225,
          -12.821249,
          14.125554,
          14.37069,
          -4.793295,
          11.273697,
          -11.884483,
          -7.648146,
          9.769784,
          2.6154482,
          13.439341,
          9.856639,
          -6.21421,
          8.2698765,
          -11.881006,
          -7.7244263,
          -7.6071954,
          13.84746,
          13.059285,
          13.7426405,
          -5.5048246,
          14.346533,
          13.498415,
          -5.6438274,
          -11.836615,
          -11.715575,
          -5.8134017,
          8.624818,
          14.536157,
          -12.76784,
          13.558063,
          -5.6283646,
          14.602144,
          -12.931918,
          13.653455,
          -17.513865,
          15.12296,
          -15.81784,
          -15.130927,
          -7.4742374,
          11.572362,
          2.6167521,
          -8.239854,
          -17.460741,
          15.1125555,
          -8.761325,
          -8.313349,
          -16.285728,
          -8.483119,
          -13.7868595,
          -6.382792,
          8.306757,
          8.275171,
          -7.7782884,
          13.578911,
          -7.147855,
          11.055874,
          -8.351706,
          11.369038,
          -7.168247,
          -13.854581,
          -13.681385,
          -6.312465,
          -7.471482,
          14.389016,
          9.137717,
          -9.737754,
          10.419481,
          -9.824574,
          24.797127,
          -8.53036,
          -11.433355,
          13.016847,
          -15.717533,
          -13.987922,
          12.117554,
          -5.436897,
          -6.440863,
          14.4721365,
          13.912952,
          -8.025935,
          -10.964327,
          -7.9194975,
          9.951917,
          -10.210464,
          9.16596,
          -7.857895,
          14.74046,
          14.251271,
          -14.797954,
          14.273731,
          -12.156623,
          13.756338,
          -8.23989,
          -14.092333,
          13.861462,
          -9.187284,
          10.847207,
          -6.2403793,
          8.585331,
          8.516895,
          -6.2780347,
          -7.369272,
          8.297379,
          -7.409472,
          -7.106189,
          -8.951944,
          13.049522,
          -9.870923,
          2.6156995,
          15.523243,
          -13.791585,
          -13.972824,
          -9.896356,
          -8.493428,
          24.522507,
          24.667812,
          -11.66331,
          12.892728,
          12.465711,
          -8.683082,
          13.095716,
          12.900772,
          14.834937,
          -8.510032,
          12.998619,
          12.834837,
          -11.736718,
          13.010118,
          15.2999115,
          -11.243638,
          9.711733,
          11.064503,
          -5.917366,
          15.152029,
          -5.7413387,
          9.830586,
          14.795736,
          -9.973577,
          24.600851,
          11.3388605,
          -7.4620404,
          10.1717,
          14.679536,
          -6.34324,
          8.316312,
          -17.45165,
          15.162945,
          -15.438938,
          15.265399,
          -8.790016,
          13.022668,
          12.266311,
          -5.6855726,
          9.895696,
          -10.283665,
          14.230989,
          9.507581,
          -6.409676,
          -13.820245,
          -13.656814,
          -7.568058,
          10.299396,
          11.334456,
          -11.819177,
          12.925283,
          -12.07412,
          -11.834899,
          13.069323,
          -5.938518,
          15.305765,
          -11.142027,
          12.295895,
          -6.3456144,
          15.056537,
          -10.927083,
          12.13356,
          -11.022788,
          24.709305,
          -6.345236,
          12.406772,
          15.669286,
          -9.0001955,
          13.02514,
          13.007851,
          -10.336894,
          2.6156385,
          15.395957,
          -9.229828,
          -10.066518,
          -6.211687,
          11.937695,
          15.508189,
          -17.504805,
          15.385059,
          -15.67783,
          15.025665,
          -6.3617334,
          14.1932125,
          -12.197743,
          13.92643,
          -9.062351,
          13.019106,
          15.069449,
          -17.490513,
          15.160527,
          -15.100726,
          15.112324,
          -17.363405,
          15.116471,
          14.371881,
          -14.626264,
          -5.852007,
          14.038397,
          -13.419306,
          14.06769,
          14.180343,
          -11.997247,
          14.206572,
          -13.098882,
          -13.539091,
          -13.735327,
          14.3439,
          -10.303201,
          11.748839,
          -12.0614395,
          13.813589,
          -8.636883,
          14.956805,
          -5.347872,
          9.7602415,
          15.281375,
          -5.1096087,
          9.780695,
          -9.991119,
          15.465409,
          -8.913446,
          2.616243,
          -10.9267,
          12.038224,
          -17.54686,
          14.914551,
          14.506924,
          -14.727038,
          -8.866962,
          -10.347262,
          12.992538,
          13.0989685,
          12.107914,
          11.570404,
          -6.852269,
          14.061184,
          -12.714594,
          12.633898,
          -5.40309,
          9.766091,
          15.274814,
          9.2452345,
          -11.762095,
          13.048584,
          -11.766054,
          12.684194,
          12.784886,
          -6.621403,
          10.260174,
          14.000179,
          -12.858466,
          12.40707,
          -9.817757,
          24.74615,
          -6.3139343,
          15.278364,
          -10.280667,
          12.070705,
          -5.296089,
          9.800125,
          -9.990305,
          15.454724,
          -5.503596,
          9.847357,
          15.240302,
          -8.967244,
          15.254275,
          -6.427653,
          -5.3272486,
          15.4841175,
          -17.532402,
          15.13239,
          -15.723625,
          15.246358,
          -6.591873,
          8.280255,
          8.314844,
          12.8953705,
          -11.839169,
          -11.557428,
          -5.719599,
          14.17622,
          -11.4571705,
          -12.848418,
          13.3997555,
          -12.025575,
          -11.904552,
          -11.904007,
          -6.159444,
          14.129057,
          -11.492263,
          -13.099343,
          13.621827,
          -17.221933,
          -5.752749,
          14.316027,
          -11.976691,
          13.651628,
          -6.323736,
          8.252552,
          -6.9704804,
          13.825285,
          -12.514346,
          -13.6829405,
          13.143639,
          -8.77523,
          12.780858,
          12.016973,
          -6.069466,
          14.060007,
          -12.459393,
          -13.846204,
          13.243208,
          -12.123608,
          12.205472,
          -7.1471577,
          15.340945,
          -12.601274,
          13.021732,
          -11.960018,
          13.728483,
          -10.2258625,
          24.612528,
          -7.654791,
          11.377792,
          -5.714386,
          11.976625,
          13.288672,
          -11.33175,
          -11.565277,
          11.063334,
          -8.151986,
          13.113657,
          -11.213026,
          11.237057,
          11.46792,
          -7.5048985,
          13.182931,
          11.656266,
          12.700978,
          -8.428763,
          13.594427,
          -11.232691,
          10.875629,
          -8.734408,
          11.896248,
          -5.5611377,
          14.668021,
          -11.4117985,
          -13.004789,
          13.374223,
          -17.149578,
          -9.970929,
          10.583652,
          -4.9842935,
          9.471123,
          -11.446509,
          9.339274,
          -13.733039,
          -13.966492,
          -8.006402,
          -12.241417,
          12.234052,
          13.240985,
          12.717556,
          13.790272,
          -11.523343,
          14.822011,
          -4.9268613,
          11.275698,
          24.604727,
          -7.64059,
          9.6082735,
          10.125132,
          -10.014811,
          10.50793,
          -17.385057,
          -9.160243,
          10.202385,
          13.80686,
          13.678784,
          13.727871,
          -13.771147,
          13.780032,
          -12.330305,
          -12.266267,
          -4.703907,
          9.556255,
          9.297434,
          -5.9852,
          14.396842,
          -12.630989,
          13.376438,
          -11.935509,
          -9.145573,
          15.462187,
          -12.679332,
          12.109641,
          -4.8043733,
          11.246433,
          -7.6324134,
          9.416422,
          9.236186,
          -8.381067,
          9.770567,
          -8.970625,
          15.525081,
          -12.9426985,
          12.178204,
          -11.85545,
          14.329701,
          8.512427,
          14.179049,
          -11.39098,
          -13.198689,
          13.852499,
          -5.0714817,
          9.662934,
          9.178811,
          -6.0072985,
          14.365054,
          -12.579096,
          13.428642,
          -9.070345,
          15.560461,
          12.0947895,
          -5.8951626,
          14.148862,
          -11.5060215,
          -12.997953,
          13.434788,
          -11.845887,
          -5.9745164,
          15.25866,
          -10.741554,
          -5.909206,
          14.450584,
          11.400986,
          -8.956715,
          12.039717,
          10.136927,
          24.677483,
          10.169235,
          11.012058,
          -6.6216307,
          -11.54042,
          10.804514,
          -10.046254,
          8.283009,
          -9.421148,
          12.306037,
          -5.89382,
          10.682834,
          15.250961,
          15.429919,
          -11.421426,
          12.248798,
          -8.993748,
          15.384309,
          -11.661791,
          12.144072,
          -6.611901,
          12.165913,
          10.780144,
          -9.795838,
          11.530147,
          12.917181,
          14.378102,
          11.1623335,
          -17.63793,
          15.0327835,
          15.0080595,
          -9.073335,
          15.4248495,
          -11.880603,
          12.117122,
          -7.6209006,
          24.61096,
          -6.2884774,
          10.89945,
          -6.3359904,
          10.921586,
          -10.141118,
          -9.035727,
          -7.7567577,
          15.531793,
          14.784537,
          -11.469184,
          -10.349782,
          -11.879331,
          -12.104472,
          -11.875029,
          -9.922889,
          24.656185,
          11.023129,
          11.280537,
          -7.180864,
          8.38091,
          -9.01607,
          15.561871,
          -11.792637,
          12.11839,
          -5.125417,
          -10.096208,
          11.524979,
          14.371491,
          -10.427345,
          9.664081,
          -9.779563,
          10.527533,
          -6.4639983,
          10.83409,
          -9.788787,
          -9.784984,
          11.134501,
          10.219063,
          -5.8857956,
          15.345405,
          -11.782226,
          -10.680423,
          -9.844213,
          24.6748,
          10.601191,
          -5.456668,
          9.581423,
          -5.8430066,
          -11.511393,
          9.0666275,
          -5.810292,
          9.9798565,
          14.846187,
          -11.524336,
          -10.6635,
          11.290091,
          -7.574974,
          10.442707,
          12.11046,
          -9.229274,
          2.6148698,
          15.541324,
          -8.731555,
          15.022264,
          -11.693253,
          12.872837,
          -11.82051,
          12.536197,
          -12.634351,
          13.598403,
          13.638953,
          -17.391975,
          -8.880968,
          14.9537115,
          -15.050068,
          -13.911884,
          14.9533415,
          -10.936375,
          15.290441,
          -8.057862,
          13.765388,
          13.605759,
          -15.457488,
          -14.701798,
          8.643782,
          15.088612,
          -7.6792207,
          14.629535,
          -11.198101,
          24.810242,
          -6.377401,
          -6.078406,
          2.6153786,
          15.518064,
          -6.300035,
          8.215305,
          8.255247,
          -17.360718,
          15.003183,
          -14.929522,
          15.078844,
          -11.407937,
          -11.98508,
          -6.582182,
          14.314986,
          12.591731,
          -9.966092,
          -11.903955,
          -11.76331,
          -12.067273,
          13.992475,
          -6.1563764,
          15.532663,
          -9.246304,
          15.2490635,
          2.6159496,
          10.947813,
          -5.930089,
          15.353198,
          12.151394,
          -6.122109,
          15.5118885,
          -13.708483,
          -13.889131,
          -11.590833,
          12.201944,
          14.382255,
          11.737568,
          -9.091986,
          12.993106,
          15.320352,
          -5.4778852,
          15.532755,
          -6.1389565,
          15.612515,
          -6.8500557,
          -12.092832,
          14.006061,
          -6.0270643,
          15.425514,
          12.142908,
          -15.435378,
          -15.466165,
          8.561699,
          15.071943,
          -7.2507024,
          13.6627865,
          -9.87445,
          24.803547,
          -4.9911566,
          24.783186,
          15.354069,
          -6.461118,
          14.1093645,
          -13.677257,
          12.680479,
          -5.2401867,
          15.495197,
          -9.7754345,
          -6.012264,
          15.245844,
          11.615837,
          -10.827009,
          24.803772,
          -6.281615,
          15.575651,
          -8.289577,
          -8.932177,
          10.553762,
          15.37188,
          -8.30571,
          15.14741,
          -12.049026,
          -4.9410315,
          11.141891,
          24.78693,
          13.13259,
          15.365061,
          9.192623,
          -11.847317,
          -11.874743,
          -11.646537,
          -11.268908,
          24.7943,
          -6.354844,
          -5.5127506,
          15.512297,
          -4.900476,
          24.814617,
          14.359737,
          -11.456419,
          -11.3449135,
          9.1400385,
          -10.025948,
          -9.868484,
          24.755653,
          15.262372,
          11.047916,
          -6.061596,
          2.6154795,
          14.667438,
          10.703187,
          -7.8930182,
          -6.2975764,
          -7.0536413,
          -7.0002565,
          -7.078109,
          -7.8183804,
          -5.968775,
          -11.519277,
          -10.41033,
          -6.211978,
          -10.298168,
          -9.94674,
          -7.6011577,
          -9.739476,
          -10.059489,
          -9.80993,
          -9.500907,
          -10.194563,
          -10.724964,
          -11.296115,
          -11.559705,
          -10.055017,
          -5.9686375,
          -9.667447,
          -9.042606,
          -11.14275,
          -7.8673844,
          14.2775135,
          -12.3643,
          14.61145,
          -13.374103,
          -15.027439,
          -11.377347,
          -13.582772,
          -11.348221,
          -6.478727,
          -9.128284,
          -7.58625,
          14.166863,
          -13.017343,
          14.127767,
          14.355311,
          -15.334966,
          -6.382433,
          -10.600277,
          -10.80954,
          -10.771583,
          -10.05371,
          -10.193647,
          -10.8596115,
          -9.890262,
          -9.8773155,
          -10.301348,
          -8.111853,
          -12.582683,
          -12.398371,
          -12.373161,
          -13.892604,
          -15.625234,
          -11.275905,
          -9.038544,
          -10.953649,
          -7.8987956,
          14.382541,
          -10.124371,
          -10.841794,
          -10.843713,
          -6.266255,
          -10.914857,
          -10.811262,
          -6.292693,
          -10.780134,
          -5.118031,
          -10.154426,
          -10.409951,
          -11.705836,
          -9.924925,
          -7.5869594,
          -10.56766,
          -7.7380757,
          -10.026467,
          -10.187576,
          -7.128944,
          -7.4671597,
          -14.367032,
          -15.196703,
          -15.962627,
          14.20095,
          11.200558,
          -9.694932,
          -9.543766,
          -10.2063055,
          -9.826098,
          -10.7654505,
          -8.363402,
          -6.2474346,
          -9.031109,
          -9.754406,
          -11.451021,
          -10.292249,
          -13.012346,
          -12.638083,
          -8.12051,
          -8.059917,
          -10.481203,
          -10.204093,
          -6.2915435,
          -10.78091,
          -10.39994,
          -10.516844,
          -9.772701,
          -9.879754,
          -6.5404115,
          -11.35591,
          -11.230863,
          -10.3196125,
          -7.7828364,
          13.965778,
          15.147716,
          -15.758037,
          14.357482,
          -5.56524,
          -11.473145,
          -10.375401,
          -5.212321,
          -10.054823,
          -10.715544,
          -9.797931,
          -7.626509,
          -9.861942,
          -10.13491,
          -11.700484,
          -11.815065,
          -12.022747,
          -10.066888,
          -10.890468,
          -10.070558,
          -6.3499513,
          -10.420077,
          -11.297861,
          -10.886886,
          -7.783282,
          -10.726704,
          -11.420924,
          -10.4533615,
          -5.315391,
          -10.247418,
          -9.871321,
          -7.568077,
          -10.1232605,
          -10.916421,
          -10.018893,
          -11.707437,
          -11.718314,
          -11.822383,
          -7.6111937,
          -7.6325088,
          -9.469935,
          -10.665577,
          -7.862957,
          -11.175866,
          -11.38721,
          -10.29038,
          -9.136693,
          -9.534188,
          -5.363137,
          -9.88822,
          -5.4792447,
          -9.861032,
          -8.029167,
          -14.710616,
          -15.597262,
          -14.321707,
          12.132631,
          -10.161844,
          13.697439,
          -11.277187,
          11.890959,
          -9.917498,
          -10.788238
         ],
         "xaxis": "x",
         "y": [
          -1.2283336,
          -3.1663213,
          3.7787066,
          -3.3539147,
          7.425651,
          3.555336,
          8.235287,
          -2.0197992,
          4.410421,
          0.29838535,
          -7.1715975,
          -4.1324134,
          -8.229564,
          -6.1847053,
          -0.73657084,
          -0.10088057,
          -0.37579572,
          1.5971047,
          1.4103981,
          1.5770898,
          -3.4685981,
          -8.444115,
          1.0484753,
          -17.873896,
          -5.1269917,
          -6.217527,
          -9.381692,
          -0.52114147,
          -2.9868217,
          0.16626179,
          0.10879549,
          -3.5676312,
          1.2835602,
          -3.7681081,
          -6.3595877,
          8.083686,
          -4.8116775,
          2.4904492,
          8.167132,
          2.5784163,
          -1.503139,
          0.15740786,
          -6.725253,
          -1.523096,
          0.15015641,
          0.6343189,
          3.89478,
          2.6243136,
          0.96204203,
          -4.817808,
          2.5744524,
          -6.836843,
          -1.9354765,
          4.3559194,
          -1.2143586,
          -6.1969504,
          3.7222862,
          8.169843,
          9.342957,
          3.6104186,
          0.9034002,
          -3.436141,
          1.2927758,
          6.95149,
          3.3608458,
          7.41437,
          8.203936,
          -4.8406334,
          -4.111631,
          -5.012891,
          -4.5803943,
          -6.402659,
          -17.875278,
          3.7710888,
          -4.9852,
          -3.4185207,
          1.1504077,
          -5.0634465,
          3.7414353,
          7.3651347,
          3.421584,
          8.216331,
          -3.5840712,
          -3.810665,
          -5.693225,
          -8.112605,
          -8.289718,
          2.9817708,
          1.5920149,
          1.2910733,
          0.6374569,
          1.2165174,
          -6.1421514,
          0.09821789,
          4.882983,
          2.2642422,
          4.488471,
          -0.93361807,
          2.5713162,
          -0.94436896,
          -3.342542,
          5.644689,
          -0.1866394,
          5.7292757,
          1.1254354,
          4.507166,
          3.5174508,
          -1.7326607,
          3.8905995,
          3.0112448,
          0.9082026,
          2.5851743,
          -17.87763,
          -7.187312,
          -5.809188,
          -0.63209623,
          -2.9562745,
          8.134774,
          0.23765041,
          0.56894106,
          2.7009459,
          2.6172416,
          2.6842556,
          3.924889,
          7.4037857,
          8.230951,
          3.807039,
          -1.1276748,
          -1.1277392,
          3.721453,
          -3.3398108,
          7.3722725,
          3.4665883,
          8.095193,
          3.7381525,
          7.40298,
          3.4791362,
          8.068902,
          1.4030284,
          3.7938821,
          1.6405461,
          1.7953199,
          -4.9519587,
          3.8566182,
          -17.875114,
          0.24229108,
          1.3963966,
          3.8461077,
          -0.39060268,
          -0.18881066,
          1.6319506,
          -2.127762,
          2.7438948,
          -0.4623123,
          -2.9712095,
          -2.9499445,
          -2.0011632,
          4.30769,
          0.2349096,
          -6.2878737,
          -3.8359082,
          -6.24062,
          3.2377207,
          1.2274126,
          1.725153,
          -1.1006745,
          0.07590631,
          -8.304604,
          -6.76618,
          7.5975537,
          2.350801,
          8.08273,
          -4.825779,
          3.2898545,
          8.054419,
          2.6388206,
          1.4873686,
          2.7160323,
          2.4855874,
          -1.6461014,
          2.7880468,
          7.530723,
          8.1040535,
          -3.1955237,
          -4.918762,
          -3.4506521,
          3.0210805,
          5.0092053,
          -6.766166,
          -1.4841549,
          3.456255,
          3.1818542,
          1.3773308,
          3.164791,
          8.190312,
          2.5904248,
          3.4442658,
          1.1894857,
          -7.4949126,
          -3.246022,
          -4.793111,
          -1.0977551,
          -3.1351843,
          -3.2278075,
          -0.6419731,
          0.43830812,
          -2.980048,
          -0.15282662,
          -0.2857897,
          -2.9793208,
          0.9201961,
          -3.5104353,
          -17.876024,
          -9.637749,
          1.254187,
          1.3497481,
          5.6188445,
          1.6979105,
          -4.7809606,
          -4.8035197,
          -0.91021,
          5.8750553,
          5.775784,
          -3.2651758,
          0.8473145,
          2.6689847,
          -8.875201,
          -2.3814852,
          1.1531225,
          5.168736,
          -0.92164874,
          0.9416063,
          8.102282,
          4.0849752,
          2.7766154,
          -6.3049364,
          -6.202825,
          -9.235201,
          -1.8738728,
          3.2166715,
          -8.869621,
          8.128584,
          -4.7898216,
          2.473839,
          -1.7781376,
          3.0389693,
          -8.673571,
          -0.5548176,
          -3.1033564,
          1.4109353,
          3.5521557,
          1.7903817,
          2.429996,
          -3.2691534,
          0.9348479,
          -6.3657537,
          -1.8086607,
          3.1692946,
          -4.6703467,
          -8.1114855,
          -6.5066204,
          -2.0703704,
          1.2234868,
          1.7385482,
          -2.4729588,
          3.1571467,
          -6.2891455,
          -1.122762,
          5.3543057,
          -0.15013227,
          -0.6249755,
          3.1908739,
          3.6896818,
          8.0941515,
          3.6332817,
          9.259227,
          3.4902728,
          7.695439,
          3.3391201,
          9.44431,
          8.18323,
          -4.8104825,
          -6.1480794,
          4.075639,
          -9.826795,
          -3.6091151,
          1.4896246,
          0.9452185,
          -3.5174828,
          -17.87735,
          -9.538856,
          2.9582698,
          2.2699547,
          -6.228659,
          4.1928525,
          -9.606943,
          1.4005442,
          3.5519676,
          1.5655624,
          2.5980859,
          3.5392635,
          6.9592867,
          3.0438683,
          7.3202367,
          -3.0098348,
          0.9478718,
          -9.168447,
          1.3983938,
          3.623002,
          1.732026,
          2.655561,
          1.3996762,
          2.6127164,
          2.9408028,
          1.1031463,
          -1.4928597,
          5.5547843,
          1.7273623,
          4.4166393,
          4.177751,
          8.035146,
          2.7792325,
          1.1937375,
          1.2589067,
          1.0664297,
          4.1962953,
          8.185303,
          2.4275541,
          8.200137,
          2.6672025,
          -3.521224,
          -9.0325985,
          -1.5986776,
          3.038308,
          -9.374537,
          -2.125463,
          3.1298518,
          -4.4328904,
          -9.6033325,
          -2.9159732,
          -17.875757,
          8.331196,
          2.4668107,
          1.3931981,
          2.8951905,
          3.4548588,
          1.0462661,
          -3.984518,
          -2.3783417,
          4.223674,
          2.1587272,
          -5.601702,
          -5.778379,
          2.9117756,
          6.047766,
          1.738438,
          6.1366115,
          -1.5631021,
          2.9982202,
          -9.369303,
          -6.704037,
          -1.0395353,
          5.7224073,
          -1.0564494,
          5.3458323,
          3.1318407,
          2.6864586,
          -4.656351,
          5.9733953,
          1.8679643,
          6.0750504,
          8.084493,
          -4.8168254,
          3.5376701,
          7.900866,
          3.0017614,
          9.374207,
          -2.087289,
          3.1902053,
          -4.387845,
          -9.565739,
          -1.6006655,
          3.1337204,
          -9.347033,
          -2.940231,
          -9.354722,
          3.4478052,
          -1.9111542,
          -9.610959,
          1.3857243,
          3.4473324,
          1.6681225,
          2.611172,
          -0.6216767,
          -2.9015908,
          -2.9695146,
          5.807821,
          -0.5001878,
          -0.2534367,
          3.7352428,
          7.14876,
          4.0916066,
          3.5486784,
          8.168204,
          -0.72479045,
          -0.9176227,
          -0.950677,
          3.4892452,
          7.1720195,
          4.0152116,
          3.3732202,
          7.843936,
          1.4288145,
          3.8081458,
          7.529546,
          3.8404708,
          8.124472,
          -0.43011656,
          -2.933717,
          3.1045287,
          6.2777567,
          1.4967608,
          2.8814712,
          7.602338,
          -3.670144,
          -6.80446,
          -5.6427827,
          3.4955623,
          6.5106745,
          1.6386472,
          2.973812,
          7.8218665,
          1.198823,
          5.4948783,
          3.6826448,
          8.133586,
          3.5665815,
          8.737432,
          8.175857,
          2.6927257,
          7.092327,
          -4.79388,
          7.998953,
          2.4049206,
          3.5085151,
          -5.5525665,
          -7.0848966,
          -5.3994293,
          -6.216172,
          -5.3972464,
          -3.8424783,
          -6.98204,
          -6.4032035,
          3.8508008,
          4.076792,
          8.13683,
          2.658375,
          3.38264,
          2.531183,
          -4.398048,
          -7.5014434,
          -6.593893,
          -4.9757996,
          -3.8037677,
          -5.576242,
          3.8695812,
          7.7110553,
          4.1531353,
          3.430591,
          8.071191,
          1.4476309,
          6.709365,
          2.394873,
          -1.7059385,
          2.7102966,
          -6.447513,
          -6.678578,
          1.4657692,
          2.5930352,
          -3.0495846,
          1.4881253,
          5.53519,
          -7.0509214,
          -6.6638374,
          -7.608099,
          -6.0735292,
          -8.845447,
          -1.8342955,
          3.9084303,
          -4.791139,
          8.04275,
          2.6817176,
          -5.5827365,
          6.254242,
          2.174097,
          1.4294364,
          7.6334705,
          2.2971342,
          4.705077,
          4.622014,
          4.600966,
          1.2169063,
          4.381205,
          1.5653034,
          1.7727969,
          -1.6604785,
          2.7600346,
          -6.6101365,
          3.7672138,
          7.601523,
          3.409704,
          8.132313,
          8.157505,
          3.4294336,
          8.165292,
          3.3059623,
          9.455253,
          -1.5997436,
          3.9159029,
          8.04857,
          2.7090092,
          -6.6666346,
          -4.0080724,
          -6.0886583,
          3.5872118,
          8.109705,
          3.4484878,
          9.4805,
          8.078117,
          2.598458,
          -3.222344,
          6.871345,
          4.150022,
          3.4125078,
          7.69663,
          -1.8329983,
          2.544298,
          -6.796472,
          3.6210513,
          7.606725,
          3.3755157,
          8.026957,
          3.68194,
          8.138956,
          9.462127,
          3.7605083,
          7.460322,
          4.0994716,
          3.558615,
          8.002189,
          -0.42684507,
          3.7161136,
          8.106109,
          3.165288,
          -6.184423,
          -8.383345,
          -6.172167,
          -2.645625,
          -5.711487,
          3.3821323,
          -4.8034925,
          2.4290524,
          -6.2464776,
          -5.8753757,
          -6.191431,
          -4.890125,
          -4.8389616,
          -2.9579241,
          -3.5277479,
          -6.295184,
          3.7213697,
          -4.906373,
          8.095972,
          8.157704,
          3.9418583,
          9.374624,
          3.7173226,
          7.8117223,
          3.4946086,
          9.477973,
          -5.9855666,
          -6.061343,
          -4.9948063,
          -3.1671145,
          -5.552901,
          -6.843797,
          -8.300482,
          -5.097014,
          1.3658221,
          3.2055993,
          2.7343056,
          3.439308,
          7.9536686,
          3.2663047,
          9.460262,
          8.007557,
          -4.7929044,
          -6.1699333,
          -5.074826,
          -6.172067,
          -5.0740557,
          -4.4782753,
          -4.817453,
          3.359741,
          -9.628902,
          8.229408,
          3.8931847,
          3.698245,
          -0.9112405,
          -0.10257655,
          -0.34133273,
          7.9439974,
          -4.8009357,
          3.7541,
          2.4258738,
          -1.4280807,
          -3.0903697,
          3.6505473,
          8.087796,
          3.386347,
          9.467408,
          -2.3707328,
          -3.4396844,
          -5.644853,
          -8.295022,
          -6.11467,
          -6.140311,
          7.164065,
          2.3661892,
          -6.0267353,
          -5.021681,
          -4.288938,
          8.05773,
          3.8507912,
          2.3813736,
          3.7439969,
          8.151025,
          3.7266119,
          2.161333,
          7.9095354,
          -4.803533,
          2.3247662,
          -2.1595159,
          -6.257422,
          -2.0789394,
          -6.187998,
          -6.7928915,
          3.7870007,
          -5.3147073,
          8.112043,
          3.9866436,
          1.968072,
          3.9680846,
          8.058128,
          2.6532066,
          9.463477,
          -2.9753923,
          -17.875751,
          -9.619746,
          -3.6168766,
          -8.978141,
          -0.91808224,
          5.6933355,
          -0.50049955,
          5.714563,
          0.6875369,
          4.6623483,
          5.0660505,
          1.4089692,
          -0.13513269,
          3.5681129,
          1.6275337,
          2.677567,
          2.5638394,
          8.086496,
          -9.32308,
          0.009620048,
          4.8487663,
          4.490667,
          1.5830505,
          1.6179354,
          -3.345671,
          2.631597,
          -1.7601283,
          -8.544705,
          8.1513405,
          -4.8302207,
          -0.49520344,
          -6.218396,
          -17.8766,
          -9.583129,
          -0.5875053,
          -2.840003,
          -2.923748,
          1.4094064,
          3.4328482,
          1.5833294,
          2.7096617,
          7.9152894,
          8.18276,
          3.233861,
          6.462071,
          7.0070267,
          7.01041,
          -1.0440342,
          -1.2170945,
          8.11394,
          2.8266647,
          -6.1964636,
          -9.613731,
          -3.3183346,
          -9.312818,
          -17.875557,
          -5.1840663,
          3.766713,
          8.02295,
          9.238976,
          -6.2037234,
          -9.571881,
          1.1511896,
          1.2945691,
          -1.3348832,
          -6.0141773,
          -8.309885,
          -6.262792,
          -3.1564057,
          0.7297415,
          -9.374549,
          2.950995,
          -9.601965,
          -6.1835294,
          -9.689207,
          -1.0238062,
          8.192275,
          2.7579093,
          3.7000701,
          8.03317,
          9.340826,
          1.6342345,
          1.6741284,
          -3.2613394,
          2.47516,
          3.4933727,
          7.8865867,
          8.083759,
          -4.829437,
          -1.671211,
          -4.824498,
          -9.428029,
          3.2781186,
          6.7634997,
          1.5673761,
          6.460501,
          -2.1423974,
          -9.573705,
          7.038347,
          -6.140874,
          -9.264978,
          -6.143817,
          8.211349,
          -4.8283343,
          -6.0965576,
          -9.64382,
          3.4241319,
          -2.6575947,
          3.0334527,
          -9.408605,
          -3.3309007,
          -9.162714,
          8.150557,
          -1.6827646,
          3.682271,
          -4.8257484,
          -6.9941497,
          -9.397808,
          -6.746313,
          -0.9850827,
          -0.70493764,
          -0.78917074,
          8.172531,
          -4.827403,
          -0.7172441,
          -1.8844904,
          -9.596291,
          -1.7584805,
          -4.829503,
          -8.242425,
          -6.444993,
          -6.47422,
          -6.8453836,
          7.1334515,
          8.08977,
          -4.82016,
          7.924699,
          2.477434,
          -6.2087617,
          -17.877247,
          -8.631852,
          -4.9854703,
          3.420125,
          -0.6073732,
          -0.12841268,
          -0.16599263,
          -0.22408865,
          0.053816084,
          -6.0825305,
          -5.63337,
          -6.3808913,
          -1.7816105,
          -6.217146,
          8.084539,
          8.02144,
          2.537542,
          6.169674,
          8.025365,
          2.7037141,
          5.7985816,
          -2.0980682,
          -1.0569737,
          -0.86377543,
          -5.4528723,
          3.6934323,
          -4.2911763,
          2.1613433,
          4.0669684,
          -2.265273,
          6.140278,
          1.5178642,
          6.4651446,
          1.7506896,
          1.796917,
          4.178093,
          2.8954613,
          1.6929111,
          3.3979652,
          3.0813582,
          -1.867648,
          6.033669,
          1.3955116,
          5.305496,
          3.0791416,
          1.234196,
          -6.1459765,
          -3.448095,
          -4.886961,
          -7.1467977,
          -3.0266452,
          -4.2801375,
          -5.9202356,
          -5.126078,
          -3.803589,
          -6.428417,
          -2.0939188,
          1.4270836,
          1.4056282,
          1.3372502,
          1.5150962,
          1.9334959,
          1.5088222,
          -3.753375,
          -6.539246,
          -2.128943,
          2.9823492,
          -2.9282966,
          -4.5213633,
          -6.9170947,
          -6.251934,
          -5.144838,
          -7.249584,
          -6.207596,
          -7.083544,
          -2.3310988,
          5.245937,
          -4.6114607,
          -5.682707,
          -5.413876,
          -2.016945,
          4.8080974,
          7.979273,
          -4.2002635,
          -6.0656714,
          2.124865,
          -2.079007,
          2.0186005,
          1.6633931,
          1.6451656,
          -8.080574,
          -5.95923,
          8.043732,
          2.7484093,
          5.7744203,
          -2.979942,
          -7.0596614,
          -0.17876117,
          3.42926,
          -4.683038,
          -4.896013,
          4.1535563,
          2.7574089,
          1.1004827,
          1.3700533,
          -0.1910673,
          -2.5770133,
          -3.9959114,
          -6.320295,
          -6.158054,
          -7.065793,
          -2.697028,
          -3.0427227,
          8.182623,
          6.2897797,
          3.465187,
          4.152787,
          4.0042143,
          2.062169,
          -1.9109561,
          5.7570744,
          2.792704,
          1.7317375,
          3.0061426,
          -1.4317621,
          -5.731991,
          -6.5683994,
          -2.1113198,
          -4.70484,
          -7.181437,
          7.851982,
          8.051775,
          3.7055087,
          5.6916437,
          -1.407536,
          -1.0632774,
          8.063465,
          -3.2045708,
          -6.582131,
          -4.7620482,
          -6.1333103,
          -4.000285,
          -5.3201747,
          -6.5525737,
          3.3648303,
          -7.021246,
          4.1590548,
          3.8504333,
          -1.3463433,
          5.0022235,
          -5.1315494,
          -2.2932172,
          -3.4628546,
          -6.743251,
          -4.6982136,
          -1.2512267,
          -1.097134,
          7.9835873,
          7.7053943,
          8.037278,
          3.4919157,
          6.5551777,
          3.251006,
          4.1080103,
          3.955133,
          2.2197762,
          3.1569872,
          3.1185575,
          -2.0779827,
          -5.426571,
          -1.4293423,
          -5.482614,
          -2.9131744,
          1.7177086,
          1.644433,
          0.860634,
          -5.722346,
          -4.4699388,
          -7.4968166,
          -6.4766545,
          -5.9165063,
          -3.0048976,
          -7.045316
         ],
         "yaxis": "y"
        },
        {
         "customdata": [
          [
           "// craft a furnace."
          ]
         ],
         "hovertemplate": "source=User query<br>symbol=star<br>x=%{x}<br>y=%{y}<br>size_col=%{marker.size}<br>extract=%{customdata[0]}<extra></extra>",
         "legendgroup": "User query, star",
         "marker": {
          "color": "black",
          "line": {
           "color": "DarkSlateGrey",
           "width": 0
          },
          "opacity": 1,
          "size": [
           100
          ],
          "sizemode": "area",
          "sizeref": 0.25,
          "symbol": "diamond"
         },
         "mode": "markers",
         "name": "User query, star",
         "orientation": "v",
         "showlegend": true,
         "type": "scatter",
         "x": [
          11.45275
         ],
         "xaxis": "x",
         "y": [
          -6.19967
         ],
         "yaxis": "y"
        }
       ],
       "layout": {
        "height": 700,
        "legend": {
         "itemsizing": "constant",
         "title": {
          "text": "<b>Chunk source</b>"
         },
         "tracegroupgap": 0
        },
        "margin": {
         "t": 60
        },
        "template": {
         "data": {
          "bar": [
           {
            "error_x": {
             "color": "#2a3f5f"
            },
            "error_y": {
             "color": "#2a3f5f"
            },
            "marker": {
             "line": {
              "color": "#E5ECF6",
              "width": 0.5
             },
             "pattern": {
              "fillmode": "overlay",
              "size": 10,
              "solidity": 0.2
             }
            },
            "type": "bar"
           }
          ],
          "barpolar": [
           {
            "marker": {
             "line": {
              "color": "#E5ECF6",
              "width": 0.5
             },
             "pattern": {
              "fillmode": "overlay",
              "size": 10,
              "solidity": 0.2
             }
            },
            "type": "barpolar"
           }
          ],
          "carpet": [
           {
            "aaxis": {
             "endlinecolor": "#2a3f5f",
             "gridcolor": "white",
             "linecolor": "white",
             "minorgridcolor": "white",
             "startlinecolor": "#2a3f5f"
            },
            "baxis": {
             "endlinecolor": "#2a3f5f",
             "gridcolor": "white",
             "linecolor": "white",
             "minorgridcolor": "white",
             "startlinecolor": "#2a3f5f"
            },
            "type": "carpet"
           }
          ],
          "choropleth": [
           {
            "colorbar": {
             "outlinewidth": 0,
             "ticks": ""
            },
            "type": "choropleth"
           }
          ],
          "contour": [
           {
            "colorbar": {
             "outlinewidth": 0,
             "ticks": ""
            },
            "colorscale": [
             [
              0,
              "#0d0887"
             ],
             [
              0.1111111111111111,
              "#46039f"
             ],
             [
              0.2222222222222222,
              "#7201a8"
             ],
             [
              0.3333333333333333,
              "#9c179e"
             ],
             [
              0.4444444444444444,
              "#bd3786"
             ],
             [
              0.5555555555555556,
              "#d8576b"
             ],
             [
              0.6666666666666666,
              "#ed7953"
             ],
             [
              0.7777777777777778,
              "#fb9f3a"
             ],
             [
              0.8888888888888888,
              "#fdca26"
             ],
             [
              1,
              "#f0f921"
             ]
            ],
            "type": "contour"
           }
          ],
          "contourcarpet": [
           {
            "colorbar": {
             "outlinewidth": 0,
             "ticks": ""
            },
            "type": "contourcarpet"
           }
          ],
          "heatmap": [
           {
            "colorbar": {
             "outlinewidth": 0,
             "ticks": ""
            },
            "colorscale": [
             [
              0,
              "#0d0887"
             ],
             [
              0.1111111111111111,
              "#46039f"
             ],
             [
              0.2222222222222222,
              "#7201a8"
             ],
             [
              0.3333333333333333,
              "#9c179e"
             ],
             [
              0.4444444444444444,
              "#bd3786"
             ],
             [
              0.5555555555555556,
              "#d8576b"
             ],
             [
              0.6666666666666666,
              "#ed7953"
             ],
             [
              0.7777777777777778,
              "#fb9f3a"
             ],
             [
              0.8888888888888888,
              "#fdca26"
             ],
             [
              1,
              "#f0f921"
             ]
            ],
            "type": "heatmap"
           }
          ],
          "heatmapgl": [
           {
            "colorbar": {
             "outlinewidth": 0,
             "ticks": ""
            },
            "colorscale": [
             [
              0,
              "#0d0887"
             ],
             [
              0.1111111111111111,
              "#46039f"
             ],
             [
              0.2222222222222222,
              "#7201a8"
             ],
             [
              0.3333333333333333,
              "#9c179e"
             ],
             [
              0.4444444444444444,
              "#bd3786"
             ],
             [
              0.5555555555555556,
              "#d8576b"
             ],
             [
              0.6666666666666666,
              "#ed7953"
             ],
             [
              0.7777777777777778,
              "#fb9f3a"
             ],
             [
              0.8888888888888888,
              "#fdca26"
             ],
             [
              1,
              "#f0f921"
             ]
            ],
            "type": "heatmapgl"
           }
          ],
          "histogram": [
           {
            "marker": {
             "pattern": {
              "fillmode": "overlay",
              "size": 10,
              "solidity": 0.2
             }
            },
            "type": "histogram"
           }
          ],
          "histogram2d": [
           {
            "colorbar": {
             "outlinewidth": 0,
             "ticks": ""
            },
            "colorscale": [
             [
              0,
              "#0d0887"
             ],
             [
              0.1111111111111111,
              "#46039f"
             ],
             [
              0.2222222222222222,
              "#7201a8"
             ],
             [
              0.3333333333333333,
              "#9c179e"
             ],
             [
              0.4444444444444444,
              "#bd3786"
             ],
             [
              0.5555555555555556,
              "#d8576b"
             ],
             [
              0.6666666666666666,
              "#ed7953"
             ],
             [
              0.7777777777777778,
              "#fb9f3a"
             ],
             [
              0.8888888888888888,
              "#fdca26"
             ],
             [
              1,
              "#f0f921"
             ]
            ],
            "type": "histogram2d"
           }
          ],
          "histogram2dcontour": [
           {
            "colorbar": {
             "outlinewidth": 0,
             "ticks": ""
            },
            "colorscale": [
             [
              0,
              "#0d0887"
             ],
             [
              0.1111111111111111,
              "#46039f"
             ],
             [
              0.2222222222222222,
              "#7201a8"
             ],
             [
              0.3333333333333333,
              "#9c179e"
             ],
             [
              0.4444444444444444,
              "#bd3786"
             ],
             [
              0.5555555555555556,
              "#d8576b"
             ],
             [
              0.6666666666666666,
              "#ed7953"
             ],
             [
              0.7777777777777778,
              "#fb9f3a"
             ],
             [
              0.8888888888888888,
              "#fdca26"
             ],
             [
              1,
              "#f0f921"
             ]
            ],
            "type": "histogram2dcontour"
           }
          ],
          "mesh3d": [
           {
            "colorbar": {
             "outlinewidth": 0,
             "ticks": ""
            },
            "type": "mesh3d"
           }
          ],
          "parcoords": [
           {
            "line": {
             "colorbar": {
              "outlinewidth": 0,
              "ticks": ""
             }
            },
            "type": "parcoords"
           }
          ],
          "pie": [
           {
            "automargin": true,
            "type": "pie"
           }
          ],
          "scatter": [
           {
            "fillpattern": {
             "fillmode": "overlay",
             "size": 10,
             "solidity": 0.2
            },
            "type": "scatter"
           }
          ],
          "scatter3d": [
           {
            "line": {
             "colorbar": {
              "outlinewidth": 0,
              "ticks": ""
             }
            },
            "marker": {
             "colorbar": {
              "outlinewidth": 0,
              "ticks": ""
             }
            },
            "type": "scatter3d"
           }
          ],
          "scattercarpet": [
           {
            "marker": {
             "colorbar": {
              "outlinewidth": 0,
              "ticks": ""
             }
            },
            "type": "scattercarpet"
           }
          ],
          "scattergeo": [
           {
            "marker": {
             "colorbar": {
              "outlinewidth": 0,
              "ticks": ""
             }
            },
            "type": "scattergeo"
           }
          ],
          "scattergl": [
           {
            "marker": {
             "colorbar": {
              "outlinewidth": 0,
              "ticks": ""
             }
            },
            "type": "scattergl"
           }
          ],
          "scattermapbox": [
           {
            "marker": {
             "colorbar": {
              "outlinewidth": 0,
              "ticks": ""
             }
            },
            "type": "scattermapbox"
           }
          ],
          "scatterpolar": [
           {
            "marker": {
             "colorbar": {
              "outlinewidth": 0,
              "ticks": ""
             }
            },
            "type": "scatterpolar"
           }
          ],
          "scatterpolargl": [
           {
            "marker": {
             "colorbar": {
              "outlinewidth": 0,
              "ticks": ""
             }
            },
            "type": "scatterpolargl"
           }
          ],
          "scatterternary": [
           {
            "marker": {
             "colorbar": {
              "outlinewidth": 0,
              "ticks": ""
             }
            },
            "type": "scatterternary"
           }
          ],
          "surface": [
           {
            "colorbar": {
             "outlinewidth": 0,
             "ticks": ""
            },
            "colorscale": [
             [
              0,
              "#0d0887"
             ],
             [
              0.1111111111111111,
              "#46039f"
             ],
             [
              0.2222222222222222,
              "#7201a8"
             ],
             [
              0.3333333333333333,
              "#9c179e"
             ],
             [
              0.4444444444444444,
              "#bd3786"
             ],
             [
              0.5555555555555556,
              "#d8576b"
             ],
             [
              0.6666666666666666,
              "#ed7953"
             ],
             [
              0.7777777777777778,
              "#fb9f3a"
             ],
             [
              0.8888888888888888,
              "#fdca26"
             ],
             [
              1,
              "#f0f921"
             ]
            ],
            "type": "surface"
           }
          ],
          "table": [
           {
            "cells": {
             "fill": {
              "color": "#EBF0F8"
             },
             "line": {
              "color": "white"
             }
            },
            "header": {
             "fill": {
              "color": "#C8D4E3"
             },
             "line": {
              "color": "white"
             }
            },
            "type": "table"
           }
          ]
         },
         "layout": {
          "annotationdefaults": {
           "arrowcolor": "#2a3f5f",
           "arrowhead": 0,
           "arrowwidth": 1
          },
          "autotypenumbers": "strict",
          "coloraxis": {
           "colorbar": {
            "outlinewidth": 0,
            "ticks": ""
           }
          },
          "colorscale": {
           "diverging": [
            [
             0,
             "#8e0152"
            ],
            [
             0.1,
             "#c51b7d"
            ],
            [
             0.2,
             "#de77ae"
            ],
            [
             0.3,
             "#f1b6da"
            ],
            [
             0.4,
             "#fde0ef"
            ],
            [
             0.5,
             "#f7f7f7"
            ],
            [
             0.6,
             "#e6f5d0"
            ],
            [
             0.7,
             "#b8e186"
            ],
            [
             0.8,
             "#7fbc41"
            ],
            [
             0.9,
             "#4d9221"
            ],
            [
             1,
             "#276419"
            ]
           ],
           "sequential": [
            [
             0,
             "#0d0887"
            ],
            [
             0.1111111111111111,
             "#46039f"
            ],
            [
             0.2222222222222222,
             "#7201a8"
            ],
            [
             0.3333333333333333,
             "#9c179e"
            ],
            [
             0.4444444444444444,
             "#bd3786"
            ],
            [
             0.5555555555555556,
             "#d8576b"
            ],
            [
             0.6666666666666666,
             "#ed7953"
            ],
            [
             0.7777777777777778,
             "#fb9f3a"
            ],
            [
             0.8888888888888888,
             "#fdca26"
            ],
            [
             1,
             "#f0f921"
            ]
           ],
           "sequentialminus": [
            [
             0,
             "#0d0887"
            ],
            [
             0.1111111111111111,
             "#46039f"
            ],
            [
             0.2222222222222222,
             "#7201a8"
            ],
            [
             0.3333333333333333,
             "#9c179e"
            ],
            [
             0.4444444444444444,
             "#bd3786"
            ],
            [
             0.5555555555555556,
             "#d8576b"
            ],
            [
             0.6666666666666666,
             "#ed7953"
            ],
            [
             0.7777777777777778,
             "#fb9f3a"
            ],
            [
             0.8888888888888888,
             "#fdca26"
            ],
            [
             1,
             "#f0f921"
            ]
           ]
          },
          "colorway": [
           "#636efa",
           "#EF553B",
           "#00cc96",
           "#ab63fa",
           "#FFA15A",
           "#19d3f3",
           "#FF6692",
           "#B6E880",
           "#FF97FF",
           "#FECB52"
          ],
          "font": {
           "color": "#2a3f5f"
          },
          "geo": {
           "bgcolor": "white",
           "lakecolor": "white",
           "landcolor": "#E5ECF6",
           "showlakes": true,
           "showland": true,
           "subunitcolor": "white"
          },
          "hoverlabel": {
           "align": "left"
          },
          "hovermode": "closest",
          "mapbox": {
           "style": "light"
          },
          "paper_bgcolor": "white",
          "plot_bgcolor": "#E5ECF6",
          "polar": {
           "angularaxis": {
            "gridcolor": "white",
            "linecolor": "white",
            "ticks": ""
           },
           "bgcolor": "#E5ECF6",
           "radialaxis": {
            "gridcolor": "white",
            "linecolor": "white",
            "ticks": ""
           }
          },
          "scene": {
           "xaxis": {
            "backgroundcolor": "#E5ECF6",
            "gridcolor": "white",
            "gridwidth": 2,
            "linecolor": "white",
            "showbackground": true,
            "ticks": "",
            "zerolinecolor": "white"
           },
           "yaxis": {
            "backgroundcolor": "#E5ECF6",
            "gridcolor": "white",
            "gridwidth": 2,
            "linecolor": "white",
            "showbackground": true,
            "ticks": "",
            "zerolinecolor": "white"
           },
           "zaxis": {
            "backgroundcolor": "#E5ECF6",
            "gridcolor": "white",
            "gridwidth": 2,
            "linecolor": "white",
            "showbackground": true,
            "ticks": "",
            "zerolinecolor": "white"
           }
          },
          "shapedefaults": {
           "line": {
            "color": "#2a3f5f"
           }
          },
          "ternary": {
           "aaxis": {
            "gridcolor": "white",
            "linecolor": "white",
            "ticks": ""
           },
           "baxis": {
            "gridcolor": "white",
            "linecolor": "white",
            "ticks": ""
           },
           "bgcolor": "#E5ECF6",
           "caxis": {
            "gridcolor": "white",
            "linecolor": "white",
            "ticks": ""
           }
          },
          "title": {
           "x": 0.05
          },
          "xaxis": {
           "automargin": true,
           "gridcolor": "white",
           "linecolor": "white",
           "ticks": "",
           "title": {
            "standoff": 15
           },
           "zerolinecolor": "white",
           "zerolinewidth": 2
          },
          "yaxis": {
           "automargin": true,
           "gridcolor": "white",
           "linecolor": "white",
           "ticks": "",
           "title": {
            "standoff": 15
           },
           "zerolinecolor": "white",
           "zerolinewidth": 2
          }
         }
        },
        "title": {
         "text": "<b>2D Projection of Chunk Embeddings via PaCMAP</b>"
        },
        "width": 1000,
        "xaxis": {
         "anchor": "y",
         "domain": [
          0,
          1
         ],
         "title": {
          "text": "x"
         }
        },
        "yaxis": {
         "anchor": "x",
         "domain": [
          0,
          1
         ],
         "title": {
          "text": "y"
         }
        }
       }
      }
     },
     "metadata": {},
     "output_type": "display_data"
    }
   ],
   "source": [
    "df = pd.DataFrame.from_dict(\n",
    "    [\n",
    "        {\n",
    "            \"x\": documents_projected[i, 0],\n",
    "            \"y\": documents_projected[i, 1],\n",
    "            \"source\": docs_processed[i].metadata[\"source\"].split(\"/\")[1],\n",
    "            \"extract\": docs_processed[i].page_content[:100] + \"...\",\n",
    "            \"symbol\": \"circle\",\n",
    "            \"size_col\": 4,\n",
    "        }\n",
    "        for i in range(len(docs_processed))\n",
    "    ]\n",
    "    + [\n",
    "        {\n",
    "            \"x\": documents_projected[-1, 0],\n",
    "            \"y\": documents_projected[-1, 1],\n",
    "            \"source\": \"User query\",\n",
    "            \"extract\": user_query,\n",
    "            \"size_col\": 100,\n",
    "            \"symbol\": \"star\",\n",
    "        }\n",
    "    ]\n",
    ")\n",
    "\n",
    "# visualize the embedding\n",
    "fig = px.scatter(\n",
    "    df,\n",
    "    x=\"x\",\n",
    "    y=\"y\",\n",
    "    color=\"source\",\n",
    "    hover_data=\"extract\",\n",
    "    size=\"size_col\",\n",
    "    symbol=\"symbol\",\n",
    "    color_discrete_map={\"User query\": \"black\"},\n",
    "    width=1000,\n",
    "    height=700,\n",
    ")\n",
    "fig.update_traces(\n",
    "    marker=dict(opacity=1, line=dict(width=0, color=\"DarkSlateGrey\")),\n",
    "    selector=dict(mode=\"markers\"),\n",
    ")\n",
    "fig.update_layout(\n",
    "    legend_title_text=\"<b>Chunk source</b>\",\n",
    "    title=\"<b>2D Projection of Chunk Embeddings via PaCMAP</b>\",\n",
    ")\n",
    "fig.show()"
   ]
  },
  {
   "cell_type": "code",
   "execution_count": null,
   "metadata": {},
   "outputs": [
    {
     "name": "stdout",
     "output_type": "stream",
     "text": [
      "\n",
      "Starting retrieval for user_query='// craft a furnace.'...\n",
      "\n",
      "==================================Top document==================================\n",
      "// Craft a furnace using the cobblestones\n",
      "  await craftItem(bot, \"furnace\", 1);\n",
      "  bot.chat(\"Furnace crafted.\");\n",
      "}\n",
      "==================================Metadata==================================\n",
      "{'source': '/home/atomwalk12/repos/QuestLlama/questllama/skill_library/trial5/skill/code/craftFurnace.js', 'start_index': 741}\n"
     ]
    }
   ],
   "source": [
    "print(f\"\\nStarting retrieval for {user_query=}...\")\n",
    "retrieved_docs = KNOWLEDGE_VECTOR_DATABASE.similarity_search(query=user_query, k=5)\n",
    "print(\"\\n==================================Top document==================================\")\n",
    "print(retrieved_docs[0].page_content)\n",
    "print(\"==================================Metadata==================================\")\n",
    "print(retrieved_docs[0].metadata)"
   ]
  },
  {
   "cell_type": "markdown",
   "metadata": {},
   "source": [
    "# Reader model"
   ]
  },
  {
   "cell_type": "code",
   "execution_count": null,
   "metadata": {},
   "outputs": [
    {
     "data": {
      "application/vnd.jupyter.widget-view+json": {
       "model_id": "e6205ed18e8940d2981aaed5c3cbccf9",
       "version_major": 2,
       "version_minor": 0
      },
      "text/plain": [
       "Loading checkpoint shards:   0%|          | 0/7 [00:00<?, ?it/s]"
      ]
     },
     "metadata": {},
     "output_type": "display_data"
    },
    {
     "name": "stderr",
     "output_type": "stream",
     "text": [
      "Special tokens have been added in the vocabulary, make sure the associated word embeddings are fine-tuned or trained.\n"
     ]
    }
   ],
   "source": [
    "from transformers import pipeline\n",
    "import torch\n",
    "from transformers import AutoModelForCausalLM, BitsAndBytesConfig\n",
    "from transformers import TextStreamer\n",
    "\n",
    "READER_MODEL_NAME = \"deepseek-ai/deepseek-coder-33b-instruct\"\n",
    "\n",
    "bnb_config = BitsAndBytesConfig(\n",
    "    load_in_4bit=True,\n",
    "    bnb_4bit_use_double_quant=True,\n",
    "    bnb_4bit_quant_type=\"nf4\",\n",
    "    bnb_4bit_compute_dtype=torch.float32,\n",
    ")\n",
    "model = AutoModelForCausalLM.from_pretrained(READER_MODEL_NAME, quantization_config=bnb_config)\n",
    "tokenizer = AutoTokenizer.from_pretrained(READER_MODEL_NAME)\n",
    "\n",
    "streamer = TextStreamer(tokenizer)\n",
    "READER_LLM = pipeline(\n",
    "    model=model,\n",
    "    tokenizer=tokenizer,\n",
    "    task=\"text-generation\",\n",
    "    do_sample=True,\n",
    "    temperature=0.2,\n",
    "    repetition_penalty=1.1,\n",
    "    return_full_text=False,\n",
    "    streamer=streamer,\n",
    "    max_new_tokens=2048\n",
    ")"
   ]
  },
  {
   "cell_type": "markdown",
   "metadata": {},
   "source": [
    "# Prompt template"
   ]
  },
  {
   "cell_type": "code",
   "execution_count": null,
   "metadata": {},
   "outputs": [
    {
     "name": "stdout",
     "output_type": "stream",
     "text": [
      "<｜begin▁of▁sentence｜>Using the information contained in the context,\n",
      "give a comprehensive answer to the question.\n",
      "Respond only to the question asked, response should be concise and relevant to the question.\n",
      "Provide the number of the source document when relevant.\n",
      "If the answer cannot be deduced from the context, do not give an answer.### Instruction:\n",
      "Context:\n",
      "{context}\n",
      "---\n",
      "Now here is the question you need to answer.\n",
      "\n",
      "Question: {question}\n",
      "### Response:\n",
      "\n"
     ]
    }
   ],
   "source": [
    "prompt_in_chat_format = [\n",
    "    {\n",
    "        \"role\": \"system\",\n",
    "        \"content\": \"\"\"Using the information contained in the context,\n",
    "give a comprehensive answer to the question.\n",
    "Respond only to the question asked, response should be concise and relevant to the question.\n",
    "Provide the number of the source document when relevant.\n",
    "If the answer cannot be deduced from the context, do not give an answer.\"\"\",\n",
    "    },\n",
    "    {\n",
    "        \"role\": \"user\",\n",
    "        \"content\": \"\"\"Context:\n",
    "{context}\n",
    "---\n",
    "Now here is the question you need to answer.\n",
    "\n",
    "Question: {question}\"\"\",\n",
    "    },\n",
    "]\n",
    "RAG_PROMPT_TEMPLATE = tokenizer.apply_chat_template(\n",
    "    prompt_in_chat_format, tokenize=False, add_generation_prompt=True\n",
    ")\n",
    "print(RAG_PROMPT_TEMPLATE)"
   ]
  },
  {
   "cell_type": "markdown",
   "metadata": {},
   "source": [
    "# Reranking"
   ]
  },
  {
   "cell_type": "code",
   "execution_count": null,
   "metadata": {},
   "outputs": [],
   "source": [
    "from ragatouille import RAGPretrainedModel\n",
    "\n",
    "RERANKER = RAGPretrainedModel.from_pretrained(\"colbert-ir/colbertv2.0\")"
   ]
  },
  {
   "cell_type": "code",
   "execution_count": null,
   "metadata": {},
   "outputs": [],
   "source": [
    "from typing import Tuple\n",
    "from transformers import Pipeline\n",
    "\n",
    "\n",
    "def answer_with_rag(\n",
    "    question: str,\n",
    "    llm: Pipeline,\n",
    "    knowledge_index: FAISS,\n",
    "    reranker: Optional[RAGPretrainedModel] = None,\n",
    "    num_retrieved_docs: int = 30,\n",
    "    num_docs_final: int = 5,\n",
    ") -> Tuple[str, List[LangchainDocument]]:\n",
    "    # Gather documents with retriever\n",
    "    print(\"=> Retrieving documents...\")\n",
    "    relevant_docs = knowledge_index.similarity_search(query=question, k=num_retrieved_docs)\n",
    "    relevant_docs = [doc.page_content for doc in relevant_docs]  # keep only the text\n",
    "\n",
    "    # Optionally rerank results\n",
    "    if reranker:\n",
    "        print(\"=> Reranking documents...\")\n",
    "        relevant_docs = reranker.rerank(question, relevant_docs, k=num_docs_final)\n",
    "        relevant_docs = [doc[\"content\"] for doc in relevant_docs]\n",
    "\n",
    "    relevant_docs = relevant_docs[:num_docs_final]\n",
    "\n",
    "    # Build the final prompt\n",
    "    context = \"\\nExtracted documents:\\n\"\n",
    "    context += \"\".join([f\"Document {str(i)}:::\\n\" + doc for i, doc in enumerate(relevant_docs)])\n",
    "\n",
    "    final_prompt = RAG_PROMPT_TEMPLATE.format(question=question, context=context)\n",
    "\n",
    "    # Redact an answer\n",
    "    print(\"=> Generating answer...\")\n",
    "    answer = llm(final_prompt)[0][\"generated_text\"]\n",
    "\n",
    "    return answer, relevant_docs"
   ]
  },
  {
   "cell_type": "code",
   "execution_count": null,
   "metadata": {},
   "outputs": [
    {
     "name": "stdout",
     "output_type": "stream",
     "text": [
      "=> Retrieving documents...\n",
      "=> Reranking documents...\n"
     ]
    },
    {
     "name": "stderr",
     "output_type": "stream",
     "text": [
      "100%|██████████| 1/1 [00:00<00:00, 42.91it/s]\n",
      "Setting `pad_token_id` to `eos_token_id`:32021 for open-end generation.\n"
     ]
    },
    {
     "name": "stdout",
     "output_type": "stream",
     "text": [
      "=> Generating answer...\n",
      "<｜begin▁of▁sentence｜>Using the information contained in the context,\n",
      "give a comprehensive answer to the question.\n",
      "Respond only to the question asked, response should be concise and relevant to the question.\n",
      "Provide the number of the source document when relevant.\n",
      "If the answer cannot be deduced from the context, do not give an answer.### Instruction:\n",
      "Context:\n",
      "\n",
      "Extracted documents:\n",
      "Document 0:::\n",
      "});\n",
      "      return foundLog;\n",
      "    });\n",
      "  }\n",
      "  bot.chat(\"Wood log found. Mining...\");\n",
      "  await mineBlock(bot, logBlock.name, 1);\n",
      "  bot.chat(\"Wood log mined.\");\n",
      "}Document 1:::\n",
      "async function mineWoodLog(bot) {\n",
      "  const woodLogNames = [\"oak_log\", \"birch_log\", \"spruce_log\", \"jungle_log\", \"acacia_log\", \"dark_oak_log\", \"mangrove_log\"];Document 2:::\n",
      "});\n",
      "      if (log) {\n",
      "        return log;\n",
      "      }\n",
      "    }\n",
      "    return null;\n",
      "  });\n",
      "  if (woodLog) {\n",
      "    // Mine the wood log block\n",
      "    await mineBlock(bot, woodLog.name, 1);Document 3:::\n",
      "});\n",
      "      return foundLog;\n",
      "    });\n",
      "  }\n",
      "  await mineBlock(bot, logBlock.name, 1);\n",
      "  bot.chat(\"Wood log mined.\");\n",
      "}Document 4:::\n",
      "bot.chat(\"Wood log mined.\");\n",
      "  } else {\n",
      "    bot.chat(\"Could not find a wood log.\");\n",
      "  }\n",
      "}\n",
      "---\n",
      "Now here is the question you need to answer.\n",
      "\n",
      "Question: Mine 1 wood log.\n",
      "### Response:\n"
     ]
    },
    {
     "name": "stderr",
     "output_type": "stream",
     "text": [
      "/home/atomwalk12/anaconda3/envs/questllama/lib/python3.9/site-packages/bitsandbytes/nn/modules.py:391: UserWarning:\n",
      "\n",
      "Input type into Linear4bit is torch.float16, but bnb_4bit_compute_dtype=torch.float32 (default). This will lead to slow inference or training speed.\n",
      "\n"
     ]
    },
    {
     "name": "stdout",
     "output_type": "stream",
     "text": [
      "To mine 1 wood log, you would first need to locate a wood log using the `findWoodLog` function. Once located, you can then use the `mineBlock` function to mine the wood log. Here's how you could do it:\n",
      "\n",
      "```javascript\n",
      "// Find a wood log\n",
      "const woodLog = await findWoodLog(bot);\n",
      "if (!woodLog) {\n",
      "  bot.chat(\"Could not find a wood log.\");\n",
      "  return;\n",
      "}\n",
      "\n",
      "// Mine the wood log block\n",
      "await mineBlock(bot, woodLog.name, 1);\n",
      "bot.chat(\"Wood log mined.\");\n",
      "```\n",
      "\n",
      "This code assumes that the `findWoodLog` and `mineBlock` functions are defined elsewhere in your code. The `findWoodLog` function will attempt to locate a wood log, and the `mineBlock` function will mine the specified block. If no wood log is found, the bot will respond with \"Could not find a wood log.\" Otherwise, the bot will mine the wood log and respond with \"Wood log mined.\"\n",
      "<|EOT|>\n"
     ]
    }
   ],
   "source": [
    "question = \"Mine 1 wood log.\"\n",
    "\n",
    "answer, relevant_docs = answer_with_rag(question, READER_LLM, KNOWLEDGE_VECTOR_DATABASE, reranker=RERANKER)"
   ]
  },
  {
   "cell_type": "code",
   "execution_count": null,
   "metadata": {},
   "outputs": [
    {
     "name": "stdout",
     "output_type": "stream",
     "text": [
      "==================================Answer==================================\n",
      "To mine 1 wood log, you would first need to locate a wood log using the `findWoodLog` function. Once located, you can then use the `mineBlock` function to mine the wood log. Here's how you could do it:\n",
      "\n",
      "```javascript\n",
      "// Find a wood log\n",
      "const woodLog = await findWoodLog(bot);\n",
      "if (!woodLog) {\n",
      "  bot.chat(\"Could not find a wood log.\");\n",
      "  return;\n",
      "}\n",
      "\n",
      "// Mine the wood log block\n",
      "await mineBlock(bot, woodLog.name, 1);\n",
      "bot.chat(\"Wood log mined.\");\n",
      "```\n",
      "\n",
      "This code assumes that the `findWoodLog` and `mineBlock` functions are defined elsewhere in your code. The `findWoodLog` function will attempt to locate a wood log, and the `mineBlock` function will mine the specified block. If no wood log is found, the bot will respond with \"Could not find a wood log.\" Otherwise, the bot will mine the wood log and respond with \"Wood log mined.\"\n",
      "\n",
      "==================================Source docs==================================\n",
      "Document 0------------------------------------------------------------\n",
      "});\n",
      "      return foundLog;\n",
      "    });\n",
      "  }\n",
      "  bot.chat(\"Wood log found. Mining...\");\n",
      "  await mineBlock(bot, logBlock.name, 1);\n",
      "  bot.chat(\"Wood log mined.\");\n",
      "}\n",
      "Document 1------------------------------------------------------------\n",
      "async function mineWoodLog(bot) {\n",
      "  const woodLogNames = [\"oak_log\", \"birch_log\", \"spruce_log\", \"jungle_log\", \"acacia_log\", \"dark_oak_log\", \"mangrove_log\"];\n",
      "Document 2------------------------------------------------------------\n",
      "});\n",
      "      if (log) {\n",
      "        return log;\n",
      "      }\n",
      "    }\n",
      "    return null;\n",
      "  });\n",
      "  if (woodLog) {\n",
      "    // Mine the wood log block\n",
      "    await mineBlock(bot, woodLog.name, 1);\n",
      "Document 3------------------------------------------------------------\n",
      "});\n",
      "      return foundLog;\n",
      "    });\n",
      "  }\n",
      "  await mineBlock(bot, logBlock.name, 1);\n",
      "  bot.chat(\"Wood log mined.\");\n",
      "}\n",
      "Document 4------------------------------------------------------------\n",
      "bot.chat(\"Wood log mined.\");\n",
      "  } else {\n",
      "    bot.chat(\"Could not find a wood log.\");\n",
      "  }\n",
      "}\n"
     ]
    }
   ],
   "source": [
    "print(\"==================================Answer==================================\")\n",
    "print(f\"{answer}\")\n",
    "print(\"==================================Source docs==================================\")\n",
    "for i, doc in enumerate(relevant_docs):\n",
    "    print(f\"Document {i}------------------------------------------------------------\")\n",
    "    print(doc)\n"
   ]
  },
  {
   "cell_type": "code",
   "execution_count": null,
   "metadata": {},
   "outputs": [],
   "source": []
  }
 ],
 "metadata": {
  "kernelspec": {
   "display_name": "questllama",
   "language": "python",
   "name": "python3"
  },
  "language_info": {
   "codemirror_mode": {
    "name": "ipython",
    "version": 3
   },
   "file_extension": ".py",
   "mimetype": "text/x-python",
   "name": "python",
   "nbconvert_exporter": "python",
   "pygments_lexer": "ipython3",
   "version": "3.9.19"
  }
 },
 "nbformat": 4,
 "nbformat_minor": 2
}
