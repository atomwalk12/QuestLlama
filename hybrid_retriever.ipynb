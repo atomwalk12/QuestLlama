{
 "cells": [
  {
   "cell_type": "code",
   "execution_count": 37,
   "metadata": {},
   "outputs": [],
   "source": [
    "from questllama.extensions import HybridRetriever\n",
    "from shared import config as C\n",
    "from tokenizers import Tokenizer\n",
    "import pandas as pd\n",
    "import matplotlib.pyplot as plt\n",
    "from langchain_community.vectorstores import Chroma\n",
    "\n",
    "model_name=C.TOKENIZER"
   ]
  },
  {
   "cell_type": "code",
   "execution_count": 38,
   "metadata": {},
   "outputs": [],
   "source": [
    "model = HybridRetriever(skill_library=\"skill_library\")\n",
    "knowledge_database = model.read_knowledge_database()"
   ]
  },
  {
   "cell_type": "code",
   "execution_count": 39,
   "metadata": {},
   "outputs": [
    {
     "name": "stdout",
     "output_type": "stream",
     "text": [
      "198\n"
     ]
    },
    {
     "data": {
      "image/png": "[encoded data removed]",
      "text/plain": [
       "<Figure size 640x480 with 1 Axes>"
      ]
     },
     "metadata": {},
     "output_type": "display_data"
    }
   ],
   "source": [
    "docs_processed = model.split_documents(512, knowledge_database, model_name)\n",
    "\n",
    "tokenizer =  Tokenizer.from_pretrained(model_name)\n",
    "lengths = [\n",
    "    len(tokenizer.encode(doc.page_content)) for doc in docs_processed\n",
    "]\n",
    "print(max(lengths))\n",
    "fig = pd.Series(lengths).hist()\n",
    "plt.title(\n",
    "    \"Distribution of document lengths in the knowledge base (in count of tokens)\"\n",
    ")\n",
    "plt.show()"
   ]
  },
  {
   "cell_type": "code",
   "execution_count": 42,
   "metadata": {},
   "outputs": [],
   "source": [
    "from langchain.vectorstores import FAISS\n",
    "from langchain_community.embeddings import HuggingFaceEmbeddings\n",
    "from langchain_community.vectorstores.utils import DistanceStrategy\n",
    "\n",
    "# embedding_model = HuggingFaceEmbeddings(\n",
    "#     model_name=model_name,\n",
    "#     multi_process=True,\n",
    "#     model_kwargs={\"device\": \"cuda\"},\n",
    "#     encode_kwargs={\"normalize_embeddings\": True},  # set True for cosine similarity\n",
    "# )\n",
    "\n",
    "# KNOWLEDGE_VECTOR_DATABASE = FAISS.from_documents(\n",
    "#     docs_processed, embedding_model, distance_strategy=DistanceStrategy.COSINE\n",
    "# )\n",
    "\n",
    "embedding_model = C.EMBEDDING()\n",
    "KNOWLEDGE_VECTOR_DATABASE = Chroma.from_documents(\n",
    "    documents=docs_processed,\n",
    "    embedding=embedding_model,\n",
    "    persist_directory=C.DB_DIR,\n",
    ")\n"
   ]
  },
  {
   "cell_type": "code",
   "execution_count": 46,
   "metadata": {},
   "outputs": [],
   "source": [
    "# embed a user query in the same space\n",
    "user_query = \"mineTenCobblestone()\"\n",
    "query_vector = embedding_model.embed_query(user_query)"
   ]
  },
  {
   "cell_type": "code",
   "execution_count": 47,
   "metadata": {},
   "outputs": [
    {
     "name": "stderr",
     "output_type": "stream",
     "text": [
      "/home/atomwalk12/anaconda3/envs/questllama/lib/python3.9/site-packages/pacmap/pacmap.py:828: UserWarning:\n",
      "\n",
      "Warning: random state is set to 1\n",
      "\n"
     ]
    },
    {
     "ename": "AttributeError",
     "evalue": "'Chroma' object has no attribute 'index'",
     "output_type": "error",
     "traceback": [
      "\u001b[0;31m---------------------------------------------------------------------------\u001b[0m",
      "\u001b[0;31mAttributeError\u001b[0m                            Traceback (most recent call last)",
      "Cell \u001b[0;32mIn[47], line 7\u001b[0m\n\u001b[1;32m      3\u001b[0m \u001b[38;5;28;01mimport\u001b[39;00m \u001b[38;5;21;01mplotly\u001b[39;00m\u001b[38;5;21;01m.\u001b[39;00m\u001b[38;5;21;01mexpress\u001b[39;00m \u001b[38;5;28;01mas\u001b[39;00m \u001b[38;5;21;01mpx\u001b[39;00m\n\u001b[1;32m      5\u001b[0m embedding_projector \u001b[38;5;241m=\u001b[39m pacmap\u001b[38;5;241m.\u001b[39mPaCMAP(n_components\u001b[38;5;241m=\u001b[39m\u001b[38;5;241m2\u001b[39m, n_neighbors\u001b[38;5;241m=\u001b[39m\u001b[38;5;28;01mNone\u001b[39;00m, MN_ratio\u001b[38;5;241m=\u001b[39m\u001b[38;5;241m0.5\u001b[39m, FP_ratio\u001b[38;5;241m=\u001b[39m\u001b[38;5;241m2.0\u001b[39m, random_state\u001b[38;5;241m=\u001b[39m\u001b[38;5;241m1\u001b[39m)\n\u001b[0;32m----> 7\u001b[0m embeddings_2d \u001b[38;5;241m=\u001b[39m [\n\u001b[1;32m      8\u001b[0m     \u001b[38;5;28mlist\u001b[39m(KNOWLEDGE_VECTOR_DATABASE\u001b[38;5;241m.\u001b[39mindex\u001b[38;5;241m.\u001b[39mreconstruct_n(idx, \u001b[38;5;241m1\u001b[39m)[\u001b[38;5;241m0\u001b[39m]) \u001b[38;5;28;01mfor\u001b[39;00m idx \u001b[38;5;129;01min\u001b[39;00m \u001b[38;5;28mrange\u001b[39m(\u001b[38;5;28mlen\u001b[39m(docs_processed))\n\u001b[1;32m      9\u001b[0m ] \u001b[38;5;241m+\u001b[39m [query_vector]\n\u001b[1;32m     11\u001b[0m \u001b[38;5;66;03m# fit the data (The index of transformed data corresponds to the index of the original data)\u001b[39;00m\n\u001b[1;32m     12\u001b[0m documents_projected \u001b[38;5;241m=\u001b[39m embedding_projector\u001b[38;5;241m.\u001b[39mfit_transform(np\u001b[38;5;241m.\u001b[39marray(embeddings_2d), init\u001b[38;5;241m=\u001b[39m\u001b[38;5;124m\"\u001b[39m\u001b[38;5;124mpca\u001b[39m\u001b[38;5;124m\"\u001b[39m)\n",
      "Cell \u001b[0;32mIn[47], line 8\u001b[0m, in \u001b[0;36m<listcomp>\u001b[0;34m(.0)\u001b[0m\n\u001b[1;32m      3\u001b[0m \u001b[38;5;28;01mimport\u001b[39;00m \u001b[38;5;21;01mplotly\u001b[39;00m\u001b[38;5;21;01m.\u001b[39;00m\u001b[38;5;21;01mexpress\u001b[39;00m \u001b[38;5;28;01mas\u001b[39;00m \u001b[38;5;21;01mpx\u001b[39;00m\n\u001b[1;32m      5\u001b[0m embedding_projector \u001b[38;5;241m=\u001b[39m pacmap\u001b[38;5;241m.\u001b[39mPaCMAP(n_components\u001b[38;5;241m=\u001b[39m\u001b[38;5;241m2\u001b[39m, n_neighbors\u001b[38;5;241m=\u001b[39m\u001b[38;5;28;01mNone\u001b[39;00m, MN_ratio\u001b[38;5;241m=\u001b[39m\u001b[38;5;241m0.5\u001b[39m, FP_ratio\u001b[38;5;241m=\u001b[39m\u001b[38;5;241m2.0\u001b[39m, random_state\u001b[38;5;241m=\u001b[39m\u001b[38;5;241m1\u001b[39m)\n\u001b[1;32m      7\u001b[0m embeddings_2d \u001b[38;5;241m=\u001b[39m [\n\u001b[0;32m----> 8\u001b[0m     \u001b[38;5;28mlist\u001b[39m(\u001b[43mKNOWLEDGE_VECTOR_DATABASE\u001b[49m\u001b[38;5;241;43m.\u001b[39;49m\u001b[43mindex\u001b[49m\u001b[38;5;241m.\u001b[39mreconstruct_n(idx, \u001b[38;5;241m1\u001b[39m)[\u001b[38;5;241m0\u001b[39m]) \u001b[38;5;28;01mfor\u001b[39;00m idx \u001b[38;5;129;01min\u001b[39;00m \u001b[38;5;28mrange\u001b[39m(\u001b[38;5;28mlen\u001b[39m(docs_processed))\n\u001b[1;32m      9\u001b[0m ] \u001b[38;5;241m+\u001b[39m [query_vector]\n\u001b[1;32m     11\u001b[0m \u001b[38;5;66;03m# fit the data (The index of transformed data corresponds to the index of the original data)\u001b[39;00m\n\u001b[1;32m     12\u001b[0m documents_projected \u001b[38;5;241m=\u001b[39m embedding_projector\u001b[38;5;241m.\u001b[39mfit_transform(np\u001b[38;5;241m.\u001b[39marray(embeddings_2d), init\u001b[38;5;241m=\u001b[39m\u001b[38;5;124m\"\u001b[39m\u001b[38;5;124mpca\u001b[39m\u001b[38;5;124m\"\u001b[39m)\n",
      "\u001b[0;31mAttributeError\u001b[0m: 'Chroma' object has no attribute 'index'"
     ]
    }
   ],
   "source": [
    "import pacmap\n",
    "import numpy as np\n",
    "import plotly.express as px\n",
    "\n",
    "embedding_projector = pacmap.PaCMAP(n_components=2, n_neighbors=None, MN_ratio=0.5, FP_ratio=2.0, random_state=1)\n",
    "\n",
    "embeddings_2d = [\n",
    "    list(KNOWLEDGE_VECTOR_DATABASE.index.reconstruct_n(idx, 1)[0]) for idx in range(len(docs_processed))\n",
    "] + [query_vector]\n",
    "\n",
    "# fit the data (The index of transformed data corresponds to the index of the original data)\n",
    "documents_projected = embedding_projector.fit_transform(np.array(embeddings_2d), init=\"pca\")"
   ]
  },
  {
   "cell_type": "code",
   "execution_count": 49,
   "metadata": {},
   "outputs": [
    {
     "data": {
      "application/vnd.plotly.v1+json": {
       "config": {
        "plotlyServerURL": "https://plot.ly"
       },
       "data": [
        {
         "customdata": [
          [
           "async function equipIronSword(bot) {\n  // Find the iron sword in the bot's inventory\n  const ironSwo..."
          ],
          [
           "async function mineThreeDiamondOres(bot) {\n  // Check if the bot has an iron pickaxe or a diamond pi..."
          ],
          [
           "// Equip the iron pickaxe or diamond pickaxe\n  if (ironPickaxe) {\n    await bot.equip(ironPickaxe, \"..."
          ],
          [
           "// Explore the underground area around level 12\n  const diamondOres = await exploreUntil(bot, new Ve..."
          ],
          [
           "// Mine the diamond ores when found\n  if (diamondOres) {\n    await mineBlock(bot, \"diamond_ore\", 3);..."
          ],
          [
           "async function craftIronSwordWithChest(bot) {\n  // Check if there are enough iron ingots and sticks ..."
          ],
          [
           "// If not, get the required items from the chest\n  if (!ironIngots || ironIngots.count < 2 || !stick..."
          ],
          [
           "// Check if there is a crafting table nearby or in the inventory\n  let craftingTable = bot.inventory..."
          ],
          [
           "// Place the crafting table near the player if it's not already placed\n  const tablePosition = bot.e..."
          ],
          [
           "async function mineWoodLog(bot) {\n  const logNames = [\"oak_log\", \"birch_log\", \"spruce_log\", \"jungle_..."
          ],
          [
           "maxDistance: 32\n      });\n      return foundLog;\n    });\n  }\n  bot.chat(\"Wood log found. Mining...\")..."
          ],
          [
           "async function killThreeChickens(bot) {\n  for (let i = 0; i < 3; i++) {\n    // Explore until finding..."
          ],
          [
           "bot.chat(`Killed chicken ${i + 1}/3.`);\n    } else {\n      bot.chat(\"Could not find enough chickens...."
          ],
          [
           "async function craftWoodenShovel(bot) {\n  // Check if there is a crafting table in the inventory\n  c..."
          ],
          [
           "// Check if there are enough oak planks in the inventory\n  const oakPlanks = bot.inventory.findInven..."
          ],
          [
           "// Check if there are enough sticks in the inventory\n  const sticks = bot.inventory.findInventoryIte..."
          ],
          [
           "async function craftFurnace(bot) {\n  // Check if there are enough cobblestones in the inventory\n  co..."
          ],
          [
           "// Place the crafting table near the player\n  const tablePosition = bot.entity.position.offset(1, 0,..."
          ],
          [
           "async function equipIronChestplate(bot) {\n  // Find the iron chestplate in the bot's inventory\n  con..."
          ],
          [
           "async function placeChest(bot) {\n  const chest = bot.inventory.findInventoryItem(mcData.itemsByName[..."
          ],
          [
           "async function craftCraftingTable(bot) {\n  // Check if there is a crafting table in the inventory\n  ..."
          ],
          [
           "// Check if there are enough oak planks in the inventory\n  const oakPlanks = bot.inventory.findInven..."
          ],
          [
           "// Craft a crafting table using oak planks\n  bot.chat(\"Crafting crafting table...\");\n  await craftIt..."
          ],
          [
           "async function cookThreeRawChicken(bot) {\n  // Check if there is a furnace in the inventory or nearb..."
          ],
          [
           "// Place the furnace near the player if it's not already placed\n  const furnacePosition = bot.entity..."
          ],
          [
           "async function eatCookedPorkchop(bot) {\n  // Check if the bot has at least 1 cooked porkchop in its ..."
          ],
          [
           "async function eatOneCookedPorkchop(bot) {\n  await eatCookedPorkchop(bot);\n}..."
          ],
          [
           "async function craftIronHelmet(bot) {\n  // Check if there are enough iron ingots in the inventory\n  ..."
          ],
          [
           "// Place the crafting table near the player if it's not already placed\n  const tablePosition = bot.e..."
          ],
          [
           "async function craftIronLeggingsWithSmelting(bot) {\n  // Check if there are enough iron ingots in th..."
          ],
          [
           "});\n    ironIngots = bot.inventory.findInventoryItem(mcData.itemsByName[\"iron_ingot\"].id);\n    const..."
          ],
          [
           "// Check if there is a furnace nearby or in the inventory\n    let furnace = bot.inventory.findInvent..."
          ],
          [
           "await craftItem(bot, \"furnace\", 1);\n        furnace = bot.inventory.findInventoryItem(mcData.itemsBy..."
          ],
          [
           "// Place the furnace near the player if it's not already placed\n    const furnacePosition = bot.enti..."
          ],
          [
           "// Smelt the raw iron using the furnace and coal as fuel\n    if (rawIron) {\n      await smeltItem(bo..."
          ],
          [
           "// Place the crafting table near the player if it's not already placed\n  const tablePosition = bot.e..."
          ],
          [
           "async function craftLightningRod(bot) {\n  // Check if there are enough copper ingots and sticks in t..."
          ],
          [
           "// If not, get the required items from the chest\n  if (!copperIngots || copperIngots.count < 3 || !s..."
          ],
          [
           "sticks = bot.inventory.findInventoryItem(mcData.itemsByName[\"stick\"].id);\n  }..."
          ],
          [
           "// Place the crafting table near the player if it's not already placed\n  const tablePosition = bot.e..."
          ],
          [
           "async function mineFiveIronOres(bot) {\n  // Equip the stone pickaxe\n  const stonePickaxe = bot.inven..."
          ],
          [
           "// Mine 5 iron ore blocks\n  await mineBlock(bot, \"iron_ore\", 5);\n  bot.chat(\"5 iron ores mined.\");\n}..."
          ],
          [
           "async function mineFiveLapisOres(bot) {\n  // Check if the bot has a stone pickaxe, iron pickaxe, or ..."
          ],
          [
           "// Equip the best pickaxe available\n  if (diamondPickaxe) {\n    await bot.equip(diamondPickaxe, \"han..."
          ],
          [
           "// Explore the underground area to find lapis ores\n  const lapisOres = await exploreUntil(bot, new V..."
          ],
          [
           "// Mine 5 lapis ores using the equipped pickaxe\n  if (lapisOres) {\n    await mineBlock(bot, \"lapis_o..."
          ],
          [
           "async function smeltFiveRawCopper(bot) {\n  // Check if there is a furnace in the inventory\n  const f..."
          ],
          [
           "// Smelt 5 raw copper using coal as fuel\n  await smeltItem(bot, \"raw_copper\", \"coal\", 5);\n  bot.chat..."
          ],
          [
           "async function craftDiamondPickaxe(bot) {\n  // Check if there is a crafting table in the inventory o..."
          ],
          [
           "// Place the crafting table near the player if it's not already placed\n  const tablePosition = bot.e..."
          ],
          [
           "async function craftStonePickaxe(bot) {\n  // Check if there is a crafting table nearby\n  const craft..."
          ],
          [
           "// Check if there are enough sticks in the inventory\n  const sticks = bot.inventory.findInventoryIte..."
          ],
          [
           "// Check if there are enough cobblestone in the inventory\n  const cobblestone = bot.inventory.findIn..."
          ],
          [
           "async function craftWoodenPickaxe(bot) {\n  // Check if there is a crafting table in the inventory\n  ..."
          ],
          [
           "// Check if there are enough oak planks in the inventory\n  const oakPlanks = bot.inventory.findInven..."
          ],
          [
           "// Check if there are enough sticks in the inventory\n  const sticks = bot.inventory.findInventoryIte..."
          ],
          [
           "async function mineFiveDeepslateRedstoneOres(bot) {\n  // Equip the diamond pickaxe\n  const diamondPi..."
          ],
          [
           "// Explore the underground area to find deepslate_redstone_ore\n  const deepslateRedstoneOres = await..."
          ],
          [
           "// Mine 5 deepslate_redstone_ore using the equipped diamond_pickaxe\n  if (deepslateRedstoneOres) {\n ..."
          ],
          [
           "async function craftBed(bot) {\n  // Check if there is a crafting table in the inventory or nearby\n  ..."
          ],
          [
           "await craftItem(bot, \"oak_planks\", 2);\n      // Craft a crafting table using oak planks\n      await ..."
          ],
          [
           "// Find a suitable position to place the crafting table if it's not already placed\n  const tablePosi..."
          ],
          [
           "} else {\n      await placeItem(bot, \"crafting_table\", tablePosition);\n    }\n  }..."
          ],
          [
           "// Check if there are enough wool blocks in the inventory\n  let wool = bot.inventory.findInventoryIt..."
          ],
          [
           "});\n      return sheep;\n    });\n    await bot.pathfinder.goto(new GoalGetToBlock(sheep.position.x, s..."
          ],
          [
           "// Check if there are enough wooden planks in the inventory\n  let oakPlanks = bot.inventory.findInve..."
          ],
          [
           "// Craft a bed using the wool blocks and wooden planks\n  bot.chat(\"Crafting a bed...\");\n  await craf..."
          ],
          [
           "async function obtainThreeBirchLogs(bot) {\n  const chestPosition = new Vec3(-17, 1, 17);\n  const sta..."
          ],
          [
           "// Check if the bot is already near the chest\n  if (bot.entity.position.distanceTo(chestPosition) > ..."
          ],
          [
           "// Return to the starting position\n  await bot.pathfinder.goto(new GoalNear(startingPosition.x, star..."
          ],
          [
           "async function obtainTenWoodLogs(bot) {\n  const logNames = [\"oak_log\", \"birch_log\", \"spruce_log\", \"j..."
          ],
          [
           "// Check if there are already 10 wood logs in the inventory\n  for (const logName of logNames) {\n    ..."
          ],
          [
           "// Equip the wooden axe if available in the inventory\n  const woodenAxe = bot.inventory.findInventor..."
          ],
          [
           "maxDistance: 32\n    });\n    if (!logBlock) {\n      await exploreUntil(bot, new Vec3(1, 0, 1), 60, ()..."
          ],
          [
           "// Mine the required number of wood logs using mineBlock\n    await mineBlock(bot, logBlock.name, 1);..."
          ],
          [
           "async function collectAlliumWithShears(bot) {\n  // Find an allium flower nearby\n  const allium = bot..."
          ],
          [
           "// Equip the shears\n  const shears = bot.inventory.findInventoryItem(mcData.itemsByName[\"shears\"].id..."
          ],
          [
           "async function craftIronPickaxeWithSmelting(bot) {\n  // Check if there are enough iron ingots in the..."
          ],
          [
           "// Check if there is a furnace in the inventory or nearby\n  let furnace = bot.inventory.findInventor..."
          ],
          [
           "// Place the furnace near the player if it's not already placed\n  const furnacePosition = bot.entity..."
          ],
          [
           "// Check if there are enough sticks in the inventory\n  let sticks = bot.inventory.findInventoryItem(..."
          ],
          [
           "// Check if there is a crafting table in the inventory or nearby\n  let craftingTable = bot.inventory..."
          ],
          [
           "// Place the crafting table near the player if it's not already placed\n  const tablePosition = bot.e..."
          ],
          [
           "async function equipIronLeggings(bot) {\n  // Find the iron leggings in the bot's inventory\n  const i..."
          ],
          [
           "async function findCookAndEatChicken(bot) {\n  // Check if the bot has at least 1 cooked chicken in i..."
          ],
          [
           "if (!rawChicken) {\n      const chestPosition = new Vec3(-17, 1, 17);\n      await getItemFromChest(bo..."
          ],
          [
           "// If there is still no raw chicken, explore the area to find and kill a chicken\n    if (!rawChicken..."
          ],
          [
           "// Eat the cooked chicken if available\n    if (cookedChicken) {\n      await eatCookedChicken(bot);\n ..."
          ],
          [
           "async function mineOneDiamondOre(bot) {\n  // Equip the iron pickaxe\n  const ironPickaxe = bot.invent..."
          ],
          [
           "// Explore the underground area around level 12\n  const diamondOre = await exploreUntil(bot, new Vec..."
          ],
          [
           "// Mine the diamond ore when found\n  if (diamondOre) {\n    await mineBlock(bot, \"diamond_ore\", 1);\n ..."
          ],
          [
           "async function mineThreeDiamondOres(bot) {\n  // Equip the iron pickaxe\n  const ironPickaxe = bot.inv..."
          ],
          [
           "async function obtainOakLogs(bot) {\n  const oakLogName = \"oak_log\";\n  const oakLogItem = bot.invento..."
          ],
          [
           "async function mineFiveRedstoneOres(bot) {\n  // Check if the bot has an iron pickaxe or a diamond pi..."
          ],
          [
           "// Equip the iron pickaxe or diamond pickaxe\n  if (ironPickaxe) {\n    await bot.equip(ironPickaxe, \"..."
          ],
          [
           "// Explore the underground area around level 16 or below\n  const redstoneOres = await exploreUntil(b..."
          ],
          [
           "// Mine the redstone ores when found\n  if (redstoneOres) {\n    await mineBlock(bot, \"redstone_ore\", ..."
          ],
          [
           "async function mineOneDeepslateDiamondOre(bot) {\n  // Equip the diamond pickaxe\n  const diamondPicka..."
          ],
          [
           "// Explore the underground area around level 12\n  const deepslateDiamondOre = await exploreUntil(bot..."
          ],
          [
           "// Mine the deepslate diamond ore when found\n  if (deepslateDiamondOre) {\n    await mineBlock(bot, \"..."
          ],
          [
           "async function killOneCreeper(bot) {\n  // Equip the iron sword\n  const ironSword = bot.inventory.fin..."
          ],
          [
           "// Explore until finding a creeper\n  const creeper = await exploreUntil(bot, new Vec3(1, 0, 1), 60, ..."
          ],
          [
           "async function craftStoneSword(bot) {\n  // Check if there is a crafting table nearby\n  const craftin..."
          ],
          [
           "// Check if there are enough cobblestones in the inventory\n  const cobblestone = bot.inventory.findI..."
          ],
          [
           "// Check if there are enough sticks in the inventory\n  const sticks = bot.inventory.findInventoryIte..."
          ],
          [
           "async function openChestAtPosition(bot) {\n  const chestPosition = new Vec3(-20, -16, 35);\n  await mo..."
          ],
          [
           "async function killOneSkeletonWithBow(bot) {\n  // Check if the bot has a bow and arrows in the inven..."
          ],
          [
           "// Explore until finding a skeleton\n  const skeleton = await exploreUntil(bot, new Vec3(1, 0, 1), 60..."
          ],
          [
           "await bot.lookAt(skeleton.position);\n      await bot.activateItem();\n      bot.chat(\"Attacked skelet..."
          ],
          [
           "async function checkWoodenShovel(bot) {\n  const woodenShovel = bot.inventory.findInventoryItem(mcDat..."
          ],
          [
           "async function equipIronHelmetAndBoots(bot) {\n  // Find the iron helmet in the bot's inventory\n  con..."
          ],
          [
           "// Find the iron boots in the bot's inventory\n  const ironBoots = bot.inventory.findInventoryItem(mc..."
          ],
          [
           "async function craftShield(bot) {\n  // Check if there are enough oak planks and iron ingots in the i..."
          ],
          [
           "// If not, get the required items from the chest\n  if (!oakPlanks || oakPlanks.count < 6 || !ironIng..."
          ],
          [
           "ironIngots = bot.inventory.findInventoryItem(mcData.itemsByName[\"iron_ingot\"].id);\n  }..."
          ],
          [
           "// Place the crafting table near the player if it's not already placed\n  const tablePosition = bot.e..."
          ],
          [
           "async function craftSpyglass(bot) {\n  // Check if there is a crafting table nearby or in the invento..."
          ],
          [
           "// Place the crafting table near the player if it's not already placed\n  const tablePosition = bot.e..."
          ],
          [
           "async function mineTenCobblestone(bot) {\n  // Equip the wooden pickaxe\n  const woodenPickaxe = bot.i..."
          ],
          [
           "async function findSuitablePosition(bot, startPosition) {\n  const offsets = [new Vec3(1, 0, 0), new ..."
          ],
          [
           "async function craftIronBootsWithSuitablePosition(bot) {\n  // Check if there are enough iron ingots ..."
          ],
          [
           "// Find a suitable position to place the crafting table\n  const startPosition = bot.entity.position...."
          ],
          [
           "// Craft iron boots using the crafting table and 4 iron ingots\n  await craftItem(bot, \"iron_boots\", ..."
          ],
          [
           "async function smeltEightRawIron(bot) {\n  // Check if there is a furnace in the inventory or nearby\n..."
          ],
          [
           "// Place the furnace near the player if it's not already placed\n  const furnacePosition = bot.entity..."
          ],
          [
           "async function smeltFiveRawIron(bot) {\n  // Check if there is a furnace in the inventory\n  const fur..."
          ],
          [
           "// Smelt 5 raw iron using coal as fuel\n  await smeltItem(bot, \"raw_iron\", \"coal\", 5);\n  bot.chat(\"5 ..."
          ],
          [
           "async function mineFiveCopperOres(bot) {\n  // Equip the stone pickaxe\n  const stonePickaxe = bot.inv..."
          ],
          [
           "async function cookSevenRawPorkchops(bot) {\n  // Check if there is a furnace in the inventory or nea..."
          ],
          [
           "// Place the furnace near the player if it's not already placed\n  const furnacePosition = bot.entity..."
          ],
          [
           "// Check if there are 7 raw porkchops in the inventory\n  let rawPorkchops = bot.inventory.findInvent..."
          ],
          [
           "// Smelt 7 raw porkchops using coal as fuel\n  await smeltItem(bot, \"porkchop\", \"coal\", 7);\n  bot.cha..."
          ],
          [
           "async function craftIronBoots(bot) {\n  // Check if there are enough iron ingots in the inventory\n  l..."
          ],
          [
           "// Place the crafting table near the player if it's not already placed\n  const tablePosition = bot.e..."
          ],
          [
           "async function obtainAmethystShard(bot) {\n  // Equip the iron pickaxe\n  const ironPickaxe = bot.inve..."
          ],
          [
           "// Mine the amethyst geode to obtain 1 amethyst shard\n  if (amethystGeode) {\n    await mineBlock(bot..."
          ],
          [
           "async function craftIronHelmetWithSuitablePosition(bot) {\n  // Check if there is a crafting table in..."
          ],
          [
           "// Craft an iron helmet using the crafting table and 5 iron ingots\n  await craftItem(bot, \"iron_helm..."
          ],
          [
           "async function craftIronChestplate(bot) {\n  // Check if there is a crafting table in the inventory o..."
          ],
          [
           "// Place the crafting table near the player if it's not already placed\n  const tablePosition = bot.e..."
          ],
          [
           "// Check if there are enough iron ingots in the inventory\n  let ironIngots = bot.inventory.findInven..."
          ],
          [
           "// Craft an iron chestplate using the crafting table and 8 iron ingots\n  await craftItem(bot, \"iron_..."
          ],
          [
           "async function obtainWhiteWoolWithShears(bot) {\n  // Equip the shears\n  const shears = bot.inventory..."
          ],
          [
           "// Use the shears on the white sheep to obtain white wool\n  if (whiteSheep) {\n    await bot.useOn(wh..."
          ],
          [
           "async function obtainWhiteWoolWithShears(bot) {\n  // Equip the shears\n  const shears = bot.inventory..."
          ],
          [
           "// Use the shears on the sheep to obtain white wool\n  if (sheep) {\n    await bot.useOn(sheep);\n    b..."
          ],
          [
           "async function eatCookedChicken(bot) {\n  // Check if the bot has at least 1 cooked chicken in its in..."
          ],
          [
           "async function mineFiveCoalOres(bot) {\n  // Equip the wooden pickaxe\n  const woodenPickaxe = bot.inv..."
          ],
          [
           "async function sleepInWhiteBed(bot) {\n  // Find a suitable position to place the bed\n  const startPo..."
          ],
          [
           "// Sleep in the bed\n  const bedBlock = bot.blockAt(bedPosition);\n  await bot.sleep(bedBlock);\n  bot...."
          ],
          [
           "async function craftWoodenAxe(bot) {\n  // Check if there is a crafting table in the inventory\n  cons..."
          ],
          [
           "// Check if there are enough sticks in the inventory\n  const sticks = bot.inventory.findInventoryIte..."
          ],
          [
           "async function equipIronSword(bot) {\n  // Find the iron sword in the inventory\n  let ironSword = bot..."
          ],
          [
           "// Equip the iron sword\n  if (ironSword) {\n    await bot.equip(ironSword, \"hand\");\n    bot.chat(\"Equ..."
          ],
          [
           "async function equipIronArmor(bot) {\n  // Find the iron_leggings, iron_boots, and iron_helmet in the..."
          ],
          [
           "// Equip the iron_leggings, iron_boots, and iron_helmet in the appropriate slots (legs, feet, and he..."
          ],
          [
           "await bot.equip(ironHelmet, \"head\");\n    bot.chat(\"Equipped iron helmet.\");\n  } else {\n    bot.chat(..."
          ],
          [
           "async function craftWoodenSword(bot) {\n  // Check if there are enough oak planks in the inventory\n  ..."
          ],
          [
           "// If not, craft oak planks from oak logs\n  if (oakPlanksCount < 2) {\n    const oakLogsCount = bot.i..."
          ],
          [
           "// Check if there are enough sticks in the inventory\n  const sticksCount = bot.inventory.count(mcDat..."
          ],
          [
           "// Craft a wooden sword using the crafting table\n  await craftItem(bot, \"wooden_sword\", 1);\n  bot.ch..."
          ],
          [
           "async function findSuitablePosition(bot) {\n  const offsets = [\n    new Vec3(1, 0, 0),\n    new Vec3(-..."
          ],
          [
           "async function smeltFiveRawIron(bot) {\n  // Check if there is coal in the inventory\n  const coalCoun..."
          ],
          [
           "// If not, craft a furnace using the available cobblestone\n  if (!furnaceItem) {\n    await craftFurn..."
          ],
          [
           "// Smelt 5 raw iron using the available coal as fuel\n  await smeltItem(bot, \"raw_iron\", \"coal\", 5);\n..."
          ],
          [
           "async function mineWoodLog(bot) {\n  const woodLogNames = [\"oak_log\", \"birch_log\", \"spruce_log\", \"jun..."
          ],
          [
           "// Mine the wood log block\n  await mineBlock(bot, woodLogBlock.name, 1);\n  bot.chat(\"Wood log mined...."
          ],
          [
           "async function craftWhiteBed(bot) {\n  // Check if there are enough oak planks in the inventory\n  con..."
          ],
          [
           "// If not, craft oak planks from oak logs\n  if (oakPlanksCount < 3) {\n    const oakLogsCount = bot.i..."
          ],
          [
           "// Check if there are enough white wool in the inventory\n  const whiteWoolCount = bot.inventory.coun..."
          ],
          [
           "// Craft a white bed using the crafting table\n  await craftItem(bot, \"white_bed\", 1);\n  bot.chat(\"Cr..."
          ],
          [
           "async function craftShieldImproved(bot) {\n  // Check if there are enough oak planks in the inventory..."
          ],
          [
           "// If not, explore to find and mine oak logs\n    if (oakLogsCount < planksToCraft) {\n      await exp..."
          ],
          [
           "// Craft oak planks from oak logs\n    await craftItem(bot, \"oak_planks\", planksToCraft);\n    bot.cha..."
          ],
          [
           "// If not, explore to find and mine iron ores\n  if (ironIngotsCount < 1) {\n    await exploreUntil(bo..."
          ],
          [
           "// Smelt iron ores into iron ingots\n    await smeltItem(bot, \"iron_ore\", \"coal\", 1);\n    bot.chat(\"S..."
          ],
          [
           "async function craftFurnace(bot) {\n  // Check if there are enough cobblestones in the inventory\n  co..."
          ],
          [
           "// Place the crafting table near the bot\n  const craftingTablePosition = bot.entity.position.offset(..."
          ],
          [
           "async function craftBucket(bot) {\n  // Check if there are enough iron ingots in the inventory\n  cons..."
          ],
          [
           "// Place the crafting table near the bot\n  const craftingTablePosition = bot.entity.position.offset(..."
          ],
          [
           "async function smeltRawCopper(bot) {\n  // Check if there is a furnace in the inventory\n  const furna..."
          ],
          [
           "// Find a suitable position to place the furnace\n  const furnacePosition = await findSuitablePositio..."
          ],
          [
           "async function craftCopperBlock(bot) {\n  // Check if there are enough copper ingots in the inventory..."
          ],
          [
           "// If not enough copper ingots, mine copper ores and smelt them into copper ingots\n  if (copperIngot..."
          ],
          [
           "// Place the crafting table near the bot\n  const craftingTablePosition = bot.entity.position.offset(..."
          ],
          [
           "async function equipIronChestplate(bot) {\n  // Find the iron chestplate in the inventory\n  const iro..."
          ],
          [
           "async function killOneSpider(bot) {\n  // Equip the iron sword\n  const ironSword = bot.inventory.find..."
          ],
          [
           "// Find the nearest spider\n  const spider = await exploreUntil(bot, new Vec3(1, 0, 1), 60, () => {\n ..."
          ],
          [
           "// Collect the dropped items\n  await bot.pathfinder.goto(new GoalBlock(spider.position.x, spider.pos..."
          ],
          [
           "async function craftCraftingTable(bot) {\n  // Check if there are enough oak planks in the inventory\n..."
          ],
          [
           "// If not, craft oak planks from oak logs\n  if (oakPlanksCount < 4) {\n    const oakLogsCount = bot.i..."
          ],
          [
           "// Craft a crafting table using oak planks\n  await craftItem(bot, \"crafting_table\", 1);\n  bot.chat(\"..."
          ],
          [
           "async function craftIronShovel(bot) {\n  // Check if there are enough iron ingots and sticks in the i..."
          ],
          [
           "// If not enough iron ingots or sticks, collect the required items\n  if (ironIngotsCount < 1) {\n    ..."
          ],
          [
           "// Find a suitable position to place the crafting table\n  const suitablePosition = bot.entity.positi..."
          ],
          [
           "// Craft an iron shovel using the crafting table\n  await craftItem(bot, \"iron_shovel\", 1);\n  bot.cha..."
          ],
          [
           "async function craftIronHelmet(bot) {\n  // Place the crafting table near the bot\n  const craftingTab..."
          ],
          [
           "async function findSuitablePosition(bot) {\n  const offsets = [new Vec3(1, 0, 0), new Vec3(-1, 0, 0),..."
          ],
          [
           "async function craftLightningRod(bot) {\n  // Find a suitable position to place the crafting table\n  ..."
          ],
          [
           "// If not enough copper ingots, mine copper ores and smelt them into copper ingots\n  if (copperIngot..."
          ],
          [
           "async function obtainOneMoreAcaciaLog(bot) {\n  // Check the initial inventory for acacia logs\n  cons..."
          ],
          [
           "// If the number of acacia logs is less than 5, find and mine one more acacia log\n  if (initialAcaci..."
          ],
          [
           "// Check the final number of acacia logs in the inventory\n  const finalAcaciaLogs = bot.inventory.co..."
          ],
          [
           "async function mineFiveIronOres(bot) {\n  // Equip the stone pickaxe\n  const stonePickaxe = bot.inven..."
          ],
          [
           "// Find 5 iron_ore blocks\n  const ironOres = await exploreUntil(bot, new Vec3(1, 0, 1), 60, () => {\n..."
          ],
          [
           "async function mineFiveCoalOres(bot) {\n  // Equip the stone pickaxe\n  const stonePickaxe = bot.inven..."
          ],
          [
           "// Find 5 coal_ore blocks\n  const coalOres = await exploreUntil(bot, new Vec3(1, 0, 1), 60, () => {\n..."
          ],
          [
           "async function cookPorkchops(bot) {\n  // Check if there is a furnace in the inventory\n  const furnac..."
          ],
          [
           "// Smelt 2 porkchops using the available coal as fuel\n  await smeltItem(bot, \"porkchop\", \"coal\", 2);..."
          ],
          [
           "async function craftStonePickaxe(bot) {\n  // Check if there are enough cobblestone and sticks in the..."
          ],
          [
           "// If not enough cobblestone or sticks, collect the required items\n  if (cobblestoneCount < 3) {\n   ..."
          ],
          [
           "// Craft a stone pickaxe using the crafting table\n  await craftItem(bot, \"stone_pickaxe\", 1);\n  bot...."
          ],
          [
           "async function craftWoodenPickaxe(bot) {\n  // check if crafting table is in the inventory\n  const cr..."
          ],
          [
           "// If not, craft oak planks from oak logs\n  if (oakPlanksCount < 6) {\n    const oakLogsCount = bot.i..."
          ],
          [
           "// Check if there are enough sticks in the inventory\n  const sticksCount = bot.inventory.count(mcDat..."
          ],
          [
           "// Craft a wooden pickaxe using the crafting table\n  await craftItem(bot, \"wooden_pickaxe\", 1);\n  bo..."
          ],
          [
           "async function mineFiveCopperOres(bot) {\n  // Check if the bot already has 5 or more copper ores in ..."
          ],
          [
           "} else {\n    bot.chat(\"Need to mine \" + (5 - totalCopperOres) + \" more copper ores.\");\n    // You ca..."
          ],
          [
           "async function craftStoneShovel(bot) {\n  // Check if there are enough cobblestone and sticks in the ..."
          ],
          [
           "// If not enough sticks, craft sticks\n  if (sticksCount < 2) {\n    await craftItem(bot, \"stick\", 1);..."
          ],
          [
           "async function killOnePig(bot) {\n  // Equip the wooden sword\n  const woodenSword = bot.inventory.fin..."
          ],
          [
           "// Find the nearest pig\n  const pig = await exploreUntil(bot, new Vec3(1, 0, 1), 60, () => {\n    con..."
          ],
          [
           "// Collect the dropped items\n  await bot.pathfinder.goto(new GoalBlock(pig.position.x, pig.position...."
          ],
          [
           "async function mineFiveLapisLazuliOres(bot) {\n  // Equip the iron pickaxe\n  const ironPickaxe = bot...."
          ],
          [
           "// Find 5 lapis_lazuli_ore blocks\n  const lapisOres = await exploreUntil(bot, new Vec3(1, -1, 1), 60..."
          ],
          [
           "// Mine the 5 lapis_lazuli_ore blocks\n  await mineBlock(bot, \"lapis_ore\", 5);\n  bot.chat(\"5 lapis la..."
          ],
          [
           "async function craftChest(bot) {\n  // Check if there are enough oak planks in the inventory\n  const ..."
          ],
          [
           "// If not, craft oak planks from oak logs\n  if (oakPlanksCount < 8) {\n    const oakLogsCount = bot.i..."
          ],
          [
           "// Place the crafting table near the bot\n  const craftingTablePosition = bot.entity.position.offset(..."
          ],
          [
           "async function killOneEnderman(bot) {\n  // Equip the iron sword\n  const ironSword = bot.inventory.fi..."
          ],
          [
           "// Find the nearest enderman\n  const enderman = await exploreUntil(bot, new Vec3(1, 0, 1), 60, () =>..."
          ],
          [
           "// Collect the dropped items\n  await bot.pathfinder.goto(new GoalBlock(enderman.position.x, enderman..."
          ],
          [
           "async function killTwoPigs(bot) {\n  // Equip the wooden sword\n  const woodenSword = bot.inventory.fi..."
          ],
          [
           "// Collect the dropped items from the killed pigs\n  const pigDrops = [\"raw_porkchop\"];\n  for (const ..."
          ],
          [
           "async function collectBamboo(bot) {\n  // Equip the iron sword\n  const ironSword = bot.inventory.find..."
          ],
          [
           "// Find bamboo plants using the exploreUntil function\n  const bambooPlants = await exploreUntil(bot,..."
          ],
          [
           "// Break 10 bamboo plants using the iron sword\n  for (const bambooPlant of bambooPlants) {\n    const..."
          ],
          [
           "async function eatTwoCookedMutton(bot) {\n  // Check if there are 2 cooked mutton in the inventory\n  ..."
          ],
          [
           "// Send a chat message to indicate the task is completed\n  bot.chat(\"Ate 2 cooked mutton.\");\n}..."
          ],
          [
           "async function fillBucketWithWater(bot) {\n  // Find a water block nearby\n  const waterBlock = await ..."
          ],
          [
           "const adjacentBlock = waterBlock.position.offset(0, 1, 0);\n  // Go to the water block\n  await bot.pa..."
          ],
          [
           "// Activate the bucket to collect water\n  await bot.activateItem();\n  bot.chat(\"Filled the bucket wi..."
          ],
          [
           "async function smeltCactusIntoGreenDye(bot) {\n  // Check if there is a furnace in the inventory\n  co..."
          ],
          [
           "// Find a suitable position to place the furnace\n  const furnacePosition = await findSuitablePositio..."
          ],
          [
           "async function eatCookedPorkchop(bot) {\n  // Equip the cooked porkchop in the bot's hand\n  const coo..."
          ],
          [
           "async function craftScaffolding(bot) {\n  // Check if we have a crafting table in the inventory\n  con..."
          ],
          [
           "// Place the crafting table near the bot\n  const craftingTablePosition = bot.entity.position.offset(..."
          ],
          [
           "async function craftIronHelmet(bot) {\n  // Check if there are enough iron ingots in the inventory\n  ..."
          ],
          [
           "// Place the crafting table near the bot\n  const craftingTablePosition = bot.entity.position.offset(..."
          ],
          [
           "async function craftIronPickaxe(bot) {\n  // Check if there are enough iron ingots and sticks in the ..."
          ],
          [
           "// If not enough iron ingots or sticks, collect the required items\n  if (ironIngotsCount < 3) {\n    ..."
          ],
          [
           "// Place the crafting table near the bot\n  const craftingTablePosition = bot.entity.position.offset(..."
          ],
          [
           "async function craftOakPlanksAndSticks(bot) {\n  // Check if there are enough oak planks in the inven..."
          ],
          [
           "// Check if there are enough sticks in the inventory\n  const sticksCount = bot.inventory.count(mcDat..."
          ],
          [
           "async function cookSevenMutton(bot) {\n  // Check if there is a furnace in the inventory\n  const furn..."
          ],
          [
           "// Find a suitable position to place the furnace\n  const furnacePosition = await findSuitablePositio..."
          ],
          [
           "async function killFourSheep(bot) {\n  // Equip the wooden sword\n  const woodenSword = bot.inventory...."
          ],
          [
           "// Collect the dropped items from the killed sheep\n  const sheepDrops = [\"wool\", \"raw_mutton\"];\n  fo..."
          ],
          [
           "async function craftShears(bot) {\n  // Place the crafting table near the bot\n  const craftingTablePo..."
          ],
          [
           "async function craftAcaciaPlanksAndSticks(bot) {\n  // Check if there are enough acacia logs in the i..."
          ],
          [
           "// Check if there are enough acacia planks in the inventory to craft 10 sticks\n  const acaciaPlanksC..."
          ],
          [
           "// Craft 10 sticks from acacia planks\n  await craftItem(bot, \"stick\", 3);\n  bot.chat(\"Crafted 10 sti..."
          ],
          [
           "async function collectFiveCactusBlocks(bot) {\n  // Equip the iron pickaxe\n  const ironPickaxe = bot...."
          ],
          [
           "// Find 5 cactus blocks using the exploreUntil function\n  const cactusBlocks = await exploreUntil(bo..."
          ],
          [
           "// Mine the 5 cactus blocks using the mineBlock function\n  await mineBlock(bot, \"cactus\", 5);\n  bot...."
          ],
          [
           "async function craftIronLeggingsAndBoots(bot) {\n  // Check if there are enough iron ingots in the in..."
          ],
          [
           "// If not enough iron ingots, mine iron ores and smelt them into iron ingots\n  if (ironIngotsCount <..."
          ],
          [
           "// Craft iron leggings using the crafting table\n  await craftItem(bot, \"iron_leggings\", 1);\n  bot.ch..."
          ],
          [
           "async function mineThreeMoreOakLogs(bot) {\n  // Check the initial inventory for oak logs\n  const ini..."
          ],
          [
           "// Find 3 oak_log blocks\n  const oakLogs = await exploreUntil(bot, new Vec3(1, 0, 1), 60, () => {\n  ..."
          ],
          [
           "// Compare the final inventory with the initial inventory\n  const finalOakLogs = bot.inventory.count..."
          ],
          [
           "async function mineTenCobblestone(bot) {\n  // Check if the bot has a pickaxe in the inventory\n  cons..."
          ],
          [
           "// Use the exploreUntil function to find cobblestone blocks\n  const cobblestoneBlocks = await explor..."
          ],
          [
           "// Mine 10 cobblestone blocks using the mineBlock function\n  await mineBlock(bot, \"stone\", 10);\n  bo..."
          ],
          [
           "async function smeltFiveRawIron(bot) {\n  // Check if there is a furnace in the inventory\n  const fur..."
          ],
          [
           "async function mineFiveCopperOres(bot) {\n  // Equip the stone pickaxe\n  const stonePickaxe = bot.inv..."
          ],
          [
           "// Find 5 copper_ore blocks\n  const copperOres = await exploreUntil(bot, new Vec3(1, 0, 1), 60, () =..."
          ],
          [
           "async function craftIronSword(bot) {\n  // Check if there are enough iron ingots and sticks in the in..."
          ],
          [
           "// If not enough iron ingots or sticks, collect the required items\n  if (ironIngotsCount < 2) {\n    ..."
          ],
          [
           "// Place the crafting table near the bot\n  const craftingTablePosition = bot.entity.position.offset(..."
          ],
          [
           "async function craftIronChestplate(bot) {\n  // Check if there are enough iron ingots in the inventor..."
          ],
          [
           "// Place the crafting table near the bot\n  const craftingTablePosition = bot.entity.position.offset(..."
          ],
          [
           "async function craftWoodenHoe(bot) {\n  // Check if there are enough oak planks in the inventory\n  co..."
          ],
          [
           "// Craft a wooden hoe using the crafting table\n  await craftItem(bot, \"wooden_hoe\", 1);\n  bot.chat(\"..."
          ],
          [
           "async function mineFiveCoalOres(bot) {\n  // Equip the wooden pickaxe\n  const woodenPickaxe = bot.inv..."
          ],
          [
           "async function craftIronAxe(bot) {\n  // Check if there are enough iron ingots and sticks in the inve..."
          ],
          [
           "// Place the crafting table near the bot\n  const craftingTablePosition = bot.entity.position.offset(..."
          ],
          [
           "async function killOneZombie(bot) {\n  // Equip the iron sword\n  const ironSword = bot.inventory.find..."
          ],
          [
           "// Find the nearest zombie\n  const zombie = await exploreUntil(bot, new Vec3(1, 0, 1), 60, () => {\n ..."
          ],
          [
           "// Collect the dropped items\n  await bot.pathfinder.goto(new GoalBlock(zombie.position.x, zombie.pos..."
          ],
          [
           "async function equipIronArmor(bot) {\n  // Equip the iron helmet from the inventory\n  const ironHelme..."
          ],
          [
           "// Equip the iron leggings from the inventory\n  const ironLeggings = bot.inventory.findInventoryItem..."
          ],
          [
           "// Equip the iron boots from the inventory\n  const ironBoots = bot.inventory.findInventoryItem(mcDat..."
          ],
          [
           "async function mineWoodLog(bot) {\n  const woodLogNames = [\"oak_log\", \"birch_log\", \"spruce_log\", \"jun..."
          ],
          [
           "// Find a wood log block\n  const woodLog = await exploreUntil(bot, new Vec3(1, 0, 1), 60, () => {\n  ..."
          ],
          [
           "bot.chat(\"Could not find a wood log.\");\n  }\n}..."
          ],
          [
           "async function mineDeepslateDiamondOre(bot) {\n  // Step 1: Equip the diamond_pickaxe\n  const diamond..."
          ],
          [
           "// Step 2: Find a deepslate_diamond_ore block nearby or explore the area to find one\n  let deepslate..."
          ],
          [
           "maxDistance: 32\n      });\n      return deepslateDiamondOreBlock;\n    });\n  }..."
          ],
          [
           "// Step 3: Mine the deepslate_diamond_ore block using the diamond_pickaxe\n  if (deepslateDiamondOre)..."
          ],
          [
           "async function obtainSpruceLogs(bot) {\n  // Find 3 spruce_log blocks\n  const spruceLogs = await expl..."
          ],
          [
           "} else {\n    bot.chat(\"Could not find enough spruce logs.\");\n  }\n}..."
          ],
          [
           "async function mineDeepslateLapisOre(bot) {\n  // Step 1: Equip the iron_pickaxe\n  const ironPickaxe ..."
          ],
          [
           "// Step 2: Find a deepslate_lapis_ore block nearby or explore the area to find one\n  let deepslateLa..."
          ],
          [
           "});\n      return deepslateLapisOreBlock;\n    });\n  }..."
          ],
          [
           "// Step 3: Mine the deepslate_lapis_ore block using the iron_pickaxe\n  if (deepslateLapisOre) {\n    ..."
          ],
          [
           "async function killOneCow(bot) {\n  // Equip the iron_pickaxe from the inventory\n  const ironPickaxe ..."
          ],
          [
           "async function mineOneDiamondOre(bot) {\n  // Equip the iron_pickaxe\n  const ironPickaxe = bot.invent..."
          ],
          [
           "// Find a diamond_ore block nearby or explore the area to find one\n  let diamondOre = bot.findBlock(..."
          ],
          [
           "// Mine the diamond_ore block using the iron_pickaxe\n  if (diamondOre) {\n    await mineBlock(bot, \"d..."
          ],
          [
           "async function equipIronChestplate(bot) {\n  // Check if the bot has an iron chestplate in its invent..."
          ],
          [
           "async function mineFiveCalciteBlocks(bot) {\n  // Step 1: Equip the iron_pickaxe\n  const ironPickaxe ..."
          ],
          [
           "// Step 2: Find a calcite block nearby or explore the area to find one\n  let calciteBlock = bot.find..."
          ],
          [
           "// Step 3: Mine 5 calcite blocks using the iron_pickaxe\n  if (calciteBlock) {\n    await mineBlock(bo..."
          ],
          [
           "async function craftWoodenPlanks(bot) {\n  // Check if there is a crafting table in the inventory or ..."
          ],
          [
           "// Place the crafting table near the bot\n  const craftingTablePosition = bot.entity.position.offset(..."
          ],
          [
           "async function mineFivePointedDripstone(bot) {\n  // Step 1: Equip the iron_pickaxe\n  const ironPicka..."
          ],
          [
           "// Step 2: Find a pointed_dripstone block nearby or explore the area to find one\n  let pointedDripst..."
          ],
          [
           "// Step 3: Mine 5 pointed_dripstone blocks using the iron_pickaxe\n  if (pointedDripstone) {\n    awai..."
          ],
          [
           "async function collectSugarCanes(bot) {\n  // Find 3 sugar cane blocks nearby\n  const sugarCaneBlocks..."
          ],
          [
           "async function mineOneIronOre(bot) {\n  // Equip the stone_pickaxe\n  const stonePickaxe = bot.invento..."
          ],
          [
           "// If not found, explore the area to find an iron_ore block\n  if (!ironOre) {\n    ironOre = await ex..."
          ],
          [
           "// Mine the iron_ore block using the stone_pickaxe\n  if (ironOre) {\n    await mineBlock(bot, \"iron_o..."
          ],
          [
           "async function eatCookedPorkchops(bot) {\n  for (let i = 0; i < 3; i++) {\n    // Equip the cooked por..."
          ],
          [
           "async function smeltFiveRawCopper(bot) {\n  // Check if there is a furnace in the inventory or nearby..."
          ],
          [
           "// If not, place the furnace from the inventory\n  if (!furnace) {\n    const furnaceItem = bot.invent..."
          ],
          [
           "async function craftDiamondPickaxe(bot) {\n  // Step 1: Equip the iron pickaxe from the inventory\n  c..."
          ],
          [
           "// Step 3: Craft 1 more stick using the spruce planks in the inventory if needed\n  const sticks = bo..."
          ],
          [
           "// Step 4: Check if there is a crafting table nearby or in the inventory, and place it if needed\n  c..."
          ],
          [
           "maxDistance: 32\n  });\n  if (!craftingTableBlock) {\n    const craftingTablePosition = bot.entity.posi..."
          ],
          [
           "// Step 5: Craft a diamond pickaxe using 3 diamonds and 2 sticks\n  await craftItem(bot, \"diamond_pic..."
          ],
          [
           "async function cookPorkchops(bot) {\n  // Check if there is a crafting table in the inventory or near..."
          ],
          [
           "// If not, mine wood, craft a crafting table, and place it\n  if (!craftingTable) {\n    const craftin..."
          ],
          [
           "// Check if there is a furnace in the inventory or nearby\n  let furnace = bot.findBlock({\n    matchi..."
          ],
          [
           "// If not, mine cobblestone, craft a furnace, and place it\n  if (!furnace) {\n    const furnaceItem =..."
          ],
          [
           "// Check if there are enough raw porkchops in the inventory\n  const rawPorkchops = bot.inventory.fin..."
          ],
          [
           "// Check if there is enough fuel (coal or wood) in the inventory\n  const fuel = bot.inventory.findIn..."
          ],
          [
           "async function craftStonePickaxe(bot) {\n  // Check if there is a crafting table in the inventory or ..."
          ],
          [
           "// If not, place the crafting table from the inventory\n  if (!craftingTable) {\n    const craftingTab..."
          ],
          [
           "// Craft a stone pickaxe using 3 cobblestone and 2 sticks\n  await craftItem(bot, \"stone_pickaxe\", 1)..."
          ],
          [
           "async function craftWoodenPickaxe(bot) {\n  // Check if there is a crafting table in the inventory or..."
          ],
          [
           "// Place the crafting table near the bot\n  const craftingTablePosition = bot.entity.position.offset(..."
          ],
          [
           "async function mineFiveDeepslateIronOreWithDiamondPickaxe(bot) {\n  // Step 1: Equip the diamond_pick..."
          ],
          [
           "// Step 2: Find a deepslate_iron_ore block nearby or explore the area to find one\n  let deepslateIro..."
          ],
          [
           "// Step 3: Mine 5 deepslate_iron_ore blocks using the diamond_pickaxe\n  if (deepslateIronOre) {\n    ..."
          ],
          [
           "async function killOnePig(bot) {\n  // Equip the iron_pickaxe from the inventory\n  const ironPickaxe ..."
          ],
          [
           "async function smeltTenRawIron(bot) {\n  // Check if there is a furnace in the inventory or nearby\n  ..."
          ],
          [
           "// If not, place the furnace from the inventory\n  if (!furnace) {\n    const furnaceItem = bot.invent..."
          ],
          [
           "async function craftIronHelmet(bot) {\n  // Check if there are enough iron ingots in the inventory\n  ..."
          ],
          [
           "// Check if there is a crafting table nearby or in the inventory\n  let craftingTable = bot.findBlock..."
          ],
          [
           "// If not, place the crafting table from the inventory\n  if (!craftingTable) {\n    const craftingTab..."
          ],
          [
           "// Craft an iron helmet using 5 iron ingots\n  await craftItem(bot, \"iron_helmet\", 1);\n  bot.chat(\"Ir..."
          ],
          [
           "async function findSuitablePosition(bot) {\n  const offsets = [new Vec3(1, 0, 0), new Vec3(-1, 0, 0),..."
          ],
          [
           "return position;\n      }\n    }\n  }\n  return null;\n}..."
          ],
          [
           "async function craftPaper(bot) {\n  // Check if there are enough sugar canes in the inventory\n  const..."
          ],
          [
           "// Mine the sugar canes\n    await mineBlock(bot, \"sugar_cane\", 3 - (sugarCanes ? sugarCanes.count : ..."
          ],
          [
           "// If not, craft a crafting table using the oak_log in the inventory\n  if (!craftingTable) {\n    awa..."
          ],
          [
           "// Find a suitable position to place the crafting table if it's not already placed\n  const craftingT..."
          ],
          [
           "return;\n    }\n  } else {\n    craftingTablePosition = craftingTableBlock.position;\n  }..."
          ],
          [
           "// Place the crafting table at the suitable position\n  await placeItem(bot, \"crafting_table\", crafti..."
          ],
          [
           "async function craftIronPickaxe(bot) {\n  // Check if there are enough iron ingots in the inventory\n ..."
          ],
          [
           "// If not, place the furnace from the inventory\n    if (!furnace) {\n      const furnaceItem = bot.in..."
          ],
          [
           "// Smelt the iron ores in the furnace to obtain the required iron ingots\n    await smeltItem(bot, \"r..."
          ],
          [
           "// Craft an iron pickaxe using 3 iron ingots and 2 sticks\n  await craftItem(bot, \"iron_pickaxe\", 1);..."
          ],
          [
           "async function smeltRawIron(bot) {\n  // Check if there is a furnace in the inventory or nearby\n  con..."
          ],
          [
           "// If not, place the furnace from the inventory\n  if (!furnace) {\n    const furnaceItem = bot.invent..."
          ],
          [
           "async function killOneSkeleton(bot) {\n  // Equip the iron_pickaxe from the inventory\n  const ironPic..."
          ],
          [
           "async function smeltIronOre(bot) {\n  // Find a suitable location to place the furnace\n  const furnac..."
          ],
          [
           "// Fix the moveToChest function if needed\nasync function moveToChest(bot, chestPosition) {\n  const c..."
          ],
          [
           "// Call the openChestAtPosition function again\n\n// Call the openChestAtPosition function again\nasync..."
          ],
          [
           "// Fix the moveToChest function if needed\nasync function moveToChest(bot, chestPosition) {\n  const c..."
          ],
          [
           "// Call the openChestAtPosition function again\n\n// Call the openChestAtPosition function again\nasync..."
          ],
          [
           "async function mineTenCobblestone(bot) {\n  // Find a stone block\n  const stone = await exploreUntil(..."
          ],
          [
           "async function craftIronLeggings(bot) {\n  // Check if there are enough iron ingots in the inventory\n..."
          ],
          [
           "// Craft iron leggings using 7 iron ingots\n  await craftItem(bot, \"iron_leggings\", 1);\n  bot.chat(\"I..."
          ],
          [
           "async function mineOneRedstoneOre(bot) {\n  // Step 1: Equip the iron pickaxe\n  const ironPickaxe = b..."
          ],
          [
           "// Step 2: Explore the area below layer 16 to find a redstone ore block\n  let redstoneOre = await ex..."
          ],
          [
           "// Step 3: Mine the redstone ore block using the iron pickaxe\n  if (redstoneOre) {\n    await mineBlo..."
          ],
          [
           "async function eatRottenFlesh(bot) {\n  // Equip the rotten flesh in the bot's hand\n  const rottenFle..."
          ],
          [
           "async function mineFiveCopperOres(bot) {\n  // Check if there are 5 copper ores nearby\n  const copper..."
          ],
          [
           "// If not, explore the area to find copper ores\n  if (copperOres.length < 5) {\n    await exploreUnti..."
          ],
          [
           "async function craftIronBoots(bot) {\n  // Check if there are enough iron ingots in the inventory\n  c..."
          ],
          [
           "// If not, place the furnace from the inventory\n    if (!furnace) {\n      const furnaceItem = bot.in..."
          ],
          [
           "// Smelt the iron ores in the furnace to obtain the required iron ingots\n    await smeltItem(bot, \"r..."
          ],
          [
           "// Craft iron boots using 4 iron ingots\n  await craftItem(bot, \"iron_boots\", 1);\n  bot.chat(\"Iron bo..."
          ],
          [
           "async function craftIronSword(bot) {\n  // Check if there is a crafting table in the inventory or nea..."
          ],
          [
           "// Craft an iron sword using 2 iron ingots and 1 stick\n  await craftItem(bot, \"iron_sword\", 1);\n  bo..."
          ],
          [
           "async function mineTenCoalOres(bot) {\n  // Check if there are 10 coal ores nearby\n  const coalOres =..."
          ],
          [
           "// Mine 10 coal ores using the iron_pickaxe\n  await mineBlock(bot, \"coal_ore\", 10);\n  bot.chat(\"10 c..."
          ],
          [
           "async function mineOneLapisOreSafely(bot) {\n  // Check if the bot's hunger is less than the maximum ..."
          ],
          [
           "// Equip the iron_pickaxe\n  const ironPickaxe = bot.inventory.findInventoryItem(mcData.itemsByName.i..."
          ],
          [
           "// Find a lapis_ore block nearby or explore the area to find one\n  let lapisOre = bot.findBlock({\n  ..."
          ],
          [
           "// Mine the lapis_ore block using the iron_pickaxe\n  if (lapisOre) {\n    await mineBlock(bot, \"lapis..."
          ],
          [
           "async function craftIronChestplate(bot) {\n  // Check if there are enough iron ingots in the inventor..."
          ],
          [
           "// Smelt the iron ores in the furnace to obtain the required iron ingots\n    await smeltItem(bot, \"r..."
          ],
          [
           "// Craft an iron chestplate using 8 iron ingots\n  await craftItem(bot, \"iron_chestplate\", 1);\n  bot...."
          ],
          [
           "async function mineTenRedstoneOres(bot) {\n  // Step 1: Equip the iron pickaxe\n  const ironPickaxe = ..."
          ],
          [
           "// Step 2: Explore the area below layer 16 to find redstone ore blocks\n  let redstoneOres = await ex..."
          ],
          [
           "// Step 3: Mine 10 redstone ore blocks using the iron pickaxe\n  if (redstoneOres) {\n    await mineBl..."
          ],
          [
           "async function mineFiveCoalOres(bot) {\n  // Check if there are 5 coal ores nearby\n  const coalOres =..."
          ],
          [
           "// Mine 5 coal ores using the stone_pickaxe\n  await mineBlock(bot, \"coal_ore\", 5);\n  bot.chat(\"5 coa..."
          ],
          [
           "async function mineDeepslateGoldOre(bot) {\n  // Step 1: Equip the iron_pickaxe\n  const ironPickaxe =..."
          ],
          [
           "// Step 2: Find a deepslate_gold_ore block nearby or explore the area to find one\n  let deepslateGol..."
          ],
          [
           "// Step 3: Mine the deepslate_gold_ore block using the iron_pickaxe\n  if (deepslateGoldOre) {\n    aw..."
          ],
          [
           "maxDistance: 32\n      });\n      return foundLog;\n    });\n  }\n  await mineBlock(bot, logBlock.name, 1..."
          ],
          [
           "async function mineEmeraldOre(bot) {\n  // Equip the iron pickaxe\n  const ironPickaxe = bot.inventory..."
          ],
          [
           "// Explore until an emerald ore is found\n  const emeraldOre = await exploreUntil(bot, new Vec3(1, 0,..."
          ],
          [
           "async function craftFurnace(bot) {\n  // Check if the bot has enough cobblestone to craft a furnace\n ..."
          ],
          [
           "// Place the crafting table if it's not already placed\n  const craftingTablePosition = bot.entity.po..."
          ],
          [
           "async function craftShieldWithIron(bot) {\n  // Check if we have enough spruce planks\n  const spruceP..."
          ],
          [
           "// Check if we have enough iron ingots\n  const ironIngotCount = bot.inventory.count(mcData.itemsByNa..."
          ],
          [
           "// Place a furnace if it's not already placed\n    const furnacePosition = bot.entity.position.offset..."
          ],
          [
           "// Place the crafting table if it's not already placed\n  const craftingTablePosition = bot.entity.po..."
          ],
          [
           "// Craft the shield using the 6 spruce planks and 1 iron ingot\n  await craftItem(bot, \"shield\", 1);\n..."
          ],
          [
           "async function craftStoneAxeWithCraftingTable(bot) {\n  const cobblestoneCount = bot.inventory.count(..."
          ],
          [
           "if (!craftingTableBlock || craftingTableBlock.name !== \"crafting_table\") {\n      await placeItem(bot..."
          ],
          [
           "// Craft the stone axe using the cobblestones and sticks on the crafting table\n    await craftItem(b..."
          ],
          [
           "async function equipIronChestplate(bot) {\n  // Check if the bot has an iron chestplate in its invent..."
          ],
          [
           "async function craftCraftingTable(bot) {\n  const spruceLogCount = bot.inventory.count(mcData.itemsBy..."
          ],
          [
           "async function mineFiveIronOres(bot) {\n  // Check if the bot has a stone pickaxe or better in its in..."
          ],
          [
           "// Find 5 iron ore blocks nearby\n  const ironOres = bot.findBlocks({\n    matching: mcData.blocksByNa..."
          ],
          [
           "// If not enough iron ore blocks are found nearby, explore until 5 iron ore blocks are found\n  if (i..."
          ],
          [
           "// Mine the 5 iron ore blocks using the stone pickaxe or better\n  await mineBlock(bot, \"iron_ore\", 5..."
          ],
          [
           "async function mineFiveCoalOres(bot) {\n  // Check if there are 5 coal ores nearby\n  const coalOres =..."
          ],
          [
           "// If not, explore until 5 coal ores are found\n  if (coalOres.length < 5) {\n    bot.chat(\"Not enough..."
          ],
          [
           "// Mine the 5 coal ores using the iron_pickaxe\n  await mineBlock(bot, \"coal_ore\", 5);\n  bot.chat(\"5 ..."
          ],
          [
           "async function craftStonePickaxe(bot) {\n  const cobblestoneCount = bot.inventory.count(mcData.itemsB..."
          ],
          [
           "// Find the stone pickaxe recipe\n    const stonePickaxeRecipe = bot.recipesFor(mcData.itemsByName.st..."
          ],
          [
           "async function craftWoodenPickaxe(bot) {\n  const spruceLogCount = bot.inventory.count(mcData.itemsBy..."
          ],
          [
           "// Check if there is a crafting table in the inventory\n    const craftingTableCount = bot.inventory...."
          ],
          [
           "// Place the crafting table at the found position\n    await placeItem(bot, \"crafting_table\", craftin..."
          ],
          [
           "async function killTropicalFish(bot) {\n  // Equip the iron sword\n  const ironSword = bot.inventory.f..."
          ],
          [
           "// Kill the tropical fish using the iron sword\n  if (tropicalFish) {\n    await killMob(bot, \"tropica..."
          ],
          [
           "async function mineThreeCopperOres(bot) {\n  // Check if there are 3 copper ores nearby\n  const coppe..."
          ],
          [
           "// If not, explore until 3 copper ores are found\n  if (copperOres.length < 3) {\n    bot.chat(\"Not en..."
          ],
          [
           "// Mine the 3 copper ores using the stone_pickaxe or iron_pickaxe\n  await mineBlock(bot, \"copper_ore..."
          ],
          [
           "async function placeFurnace(bot) {\n  // Check if the bot has a furnace in its inventory\n  const furn..."
          ],
          [
           "async function craftStoneShovel(bot) {\n  const cobblestoneCount = bot.inventory.count(mcData.itemsBy..."
          ],
          [
           "// Craft the stone shovel using the cobblestone and sticks on the crafting table\n    await craftItem..."
          ],
          [
           "async function craftStoneHoe(bot) {\n  const cobblestoneCount = bot.inventory.count(mcData.itemsByNam..."
          ],
          [
           "// Craft the stone hoe using the cobblestone and sticks on the crafting table\n    await craftItem(bo..."
          ],
          [
           "}\n    // Retry crafting the stone hoe\n    await craftStoneHoe(bot);\n  }\n}..."
          ],
          [
           "async function mineIronOre(bot) {\n  // Check if the bot has enough cobblestone to craft a stone pick..."
          ],
          [
           "// Place the crafting table\n  const craftingTablePosition = bot.entity.position.offset(1, -1, 0);\n  ..."
          ],
          [
           "// Find and mine 1 iron ore using the stone pickaxe\n  const ironOreBlock = bot.findBlock({\n    match..."
          ],
          [
           "});\n  }\n  await mineBlock(bot, \"iron_ore\", 1);\n  bot.chat(\"Iron ore mined.\");\n}..."
          ],
          [
           "async function mineSpruceLogs(bot) {\n  const spruceLogName = \"spruce_log\";\n  const spruceLogCount = ..."
          ],
          [
           "maxDistance: 32\n      });\n      return foundLog;\n    });\n  }\n  await mineBlock(bot, spruceLogName, s..."
          ],
          [
           "async function smeltTwelveRawCopper(bot) {\n  // Check if the bot has a furnace in its inventory\n  co..."
          ],
          [
           "// Place the furnace at the found position\n  await placeItem(bot, \"furnace\", furnacePosition);\n  bot..."
          ],
          [
           "// Smelt the 12 raw copper using the furnace and the available coal as fuel\n  await smeltItem(bot, \"..."
          ],
          [
           "async function equipShield(bot) {\n  // Check if the bot has a shield in its inventory\n  const shield..."
          ],
          [
           "async function mineThreeCoalOres(bot) {\n  // Check if there are 3 coal ores nearby\n  const coalOres ..."
          ],
          [
           "// If not, explore until 3 coal ores are found\n  if (coalOres.length < 3) {\n    bot.chat(\"Not enough..."
          ],
          [
           "// Mine the 3 coal ores using the stone pickaxe\n  await mineBlock(bot, \"coal_ore\", 3);\n  bot.chat(\"3..."
          ],
          [
           "async function craftIronPickaxe(bot) {\n  const ironIngotCount = bot.inventory.count(mcData.itemsByNa..."
          ],
          [
           "bot.chat(\"Spruce planks crafted.\");\n      }..."
          ],
          [
           "// Craft sticks using spruce planks\n      await craftItem(bot, \"stick\", 1);\n      bot.chat(\"Sticks c..."
          ],
          [
           "// Place the crafting table if it's not already placed\n    const craftingTablePosition = bot.entity...."
          ],
          [
           "// Craft the iron pickaxe using the iron ingots and sticks\n    await craftItem(bot, \"iron_pickaxe\", ..."
          ],
          [
           "async function smeltRawIron(bot) {\n  // Find a suitable position to place the furnace\n  const furnac..."
          ],
          [
           "// Smelt the raw iron using the furnace and the mined coal as fuel\n  await smeltItem(bot, \"raw_iron\"..."
          ],
          [
           "async function craftStoneSword(bot) {\n  const cobblestoneCount = bot.inventory.count(mcData.itemsByN..."
          ],
          [
           "// Craft the stone sword using the cobblestone and stick\n    await craftItem(bot, \"stone_sword\", 1);..."
          ],
          [
           "async function smeltFiveIronOres(bot) {\n  // Check if the bot has a furnace in its inventory\n  const..."
          ],
          [
           "// Place the furnace at the found position\n  await placeItem(bot, \"furnace\", furnacePosition);\n  bot..."
          ],
          [
           "// Smelt the 5 raw iron ores into iron ingots using the furnace and coal as fuel\n  await smeltItem(b..."
          ],
          [
           "async function mineThreeEmeraldOres(bot) {\n  // Equip the iron pickaxe\n  const ironPickaxe = bot.inv..."
          ],
          [
           "// Explore and mine emerald ores until 3 are mined\n  while (emeraldOresMined < 3) {\n    const emeral..."
          ],
          [
           "emeraldOresMined++;\n      bot.chat(`Emerald ore mined. Total: ${emeraldOresMined}/3`);\n    } else {\n..."
          ],
          [
           "async function smeltFiveRawIron(bot) {\n  // Check if the bot has a furnace in its inventory\n  const ..."
          ],
          [
           "// Check if the bot has enough coal in its inventory to smelt 5 raw iron\n  const coalCount = bot.inv..."
          ],
          [
           "async function craftIronSword(bot) {\n  const ironIngotCount = bot.inventory.count(mcData.itemsByName..."
          ],
          [
           "await placeItem(bot, \"crafting_table\", craftingTablePosition);\n      bot.chat(\"Crafting table placed..."
          ],
          [
           "// Craft the iron sword using the iron ingots and stick\n    await craftItem(bot, \"iron_sword\", 1);\n ..."
          ],
          [
           "async function craftIronChestplate(bot) {\n  const ironIngotCount = bot.inventory.count(mcData.itemsB..."
          ],
          [
           "bot.chat(\"Crafting table placed.\");\n    }..."
          ],
          [
           "// Craft the iron chestplate using the iron ingots\n    await craftItem(bot, \"iron_chestplate\", 1);\n ..."
          ],
          [
           "async function mineGoldOreAndSmelt(bot) {\n  // Check if the bot has an iron pickaxe or better in its..."
          ],
          [
           "// Explore in a random direction until a gold ore is found\n  const randomDirection = new Vec3(Math.r..."
          ],
          [
           "// Place the furnace if not already placed\n    const furnaceBlock = bot.findBlock({\n      matching: ..."
          ],
          [
           "// Smelt the gold ore in the furnace to obtain a gold ingot\n    await smeltItem(bot, \"gold_ore\", \"co..."
          ],
          [
           "// Mine the 5 coal ores using the stone_pickaxe or iron_pickaxe\n  await mineBlock(bot, \"coal_ore\", 5..."
          ],
          [
           "async function craftWoodenSword(bot) {\n  // Check if there are enough oak planks in the inventory\n  ..."
          ],
          [
           "// Check if there are enough sticks in the inventory\n  const sticks = bot.inventory.count(mcData.ite..."
          ],
          [
           "// Craft a wooden sword using oak planks and sticks with the crafting table\n  await craftItem(bot, \"..."
          ],
          [
           "async function craftClock(bot) {\n  // Check if there is a crafting table in the inventory\n  const cr..."
          ],
          [
           "// Craft a clock using 4 gold ingots and 1 redstone dust with the crafting table\n  await craftItem(b..."
          ],
          [
           "async function mineWoodLog(bot) {\n  const logNames = [\"oak_log\", \"birch_log\", \"spruce_log\", \"jungle_..."
          ],
          [
           "// Find a wood log block\n  const logBlock = await exploreUntil(bot, new Vec3(1, 0, 1), 60, () => {\n ..."
          ],
          [
           "async function plantOakSapling(bot) {\n  // Find a suitable location to plant the oak sapling\n  const..."
          ],
          [
           "// Go to the location\n  await bot.pathfinder.goto(new GoalBlock(targetBlock.position.x, targetBlock...."
          ],
          [
           "// Send a chat message to indicate the oak sapling has been planted\n  bot.chat(\"Oak sapling planted...."
          ],
          [
           "async function killThreeChickens(bot) {\n  // Equip a weapon (preferably a sword) to kill the chicken..."
          ],
          [
           "// Explore the area to find 3 chickens\n  let chickens = [];\n  while (chickens.length < 3) {\n    awai..."
          ],
          [
           "}\n      return null;\n    });\n  }..."
          ],
          [
           "// Kill each chicken one by one\n  for (const chicken of chickens) {\n    await killMob(bot, chicken.n..."
          ],
          [
           "async function craftFurnace(bot) {\n  // Check if there are enough cobblestones in the inventory\n  co..."
          ],
          [
           "// Craft a furnace using cobblestones and the crafting table\n  await craftItem(bot, \"furnace\", 1, cr..."
          ],
          [
           "async function openChestAndCheckContents(bot) {\n  const targetChestPosition = new Vec3(5, 61, 134);\n..."
          ],
          [
           "// Check the contents of the chest\n  await checkItemInsideChest(bot, chestPosition);\n  bot.chat(\"Che..."
          ],
          [
           "async function killThreeCows(bot) {\n  // Explore the area to find 3 cows\n  let cows = [];\n  while (c..."
          ],
          [
           "// Equip a weapon (preferably a sword) to kill the cows\n  const sword = bot.inventory.findInventoryI..."
          ],
          [
           "async function craftCopperBlock(bot) {\n  // Check if there are enough copper ingots in the inventory..."
          ],
          [
           "// Craft a copper block using copper ingots and the crafting table\n  await craftItem(bot, \"copper_bl..."
          ],
          [
           "async function cookRawMutton(bot) {\n  // Check if there is a furnace in the inventory\n  const furnac..."
          ],
          [
           "// Smelt the 4 raw mutton using coal as fuel in the furnace\n  await smeltItem(bot, \"mutton\", \"coal\",..."
          ],
          [
           "async function equipIronChestplate(bot) {\n  // Find the iron chestplate in the bot's inventory\n  con..."
          ],
          [
           "async function craftStoneHoe(bot) {\n  // Check if there are enough cobblestones in the inventory\n  c..."
          ],
          [
           "// Check if there are enough sticks in the inventory\n  const sticks = bot.inventory.count(mcData.ite..."
          ],
          [
           "// Craft a stone hoe using cobblestones and sticks with the crafting table\n  await craftItem(bot, \"s..."
          ],
          [
           "async function equipIronLeggingsAndBoots(bot) {\n  // Find the iron leggings and iron boots in the bo..."
          ],
          [
           "// Equip the iron boots in the feet slot\n    await bot.equip(ironBoots, \"feet\");\n\n    // Send a chat..."
          ],
          [
           "async function killThreeSheep(bot) {\n  // Equip a weapon (preferably a sword) to kill the sheep\n  co..."
          ],
          [
           "// Explore the area to find 3 sheep\n  let sheep = [];\n  while (sheep.length < 3) {\n    await explore..."
          ],
          [
           "// Kill each sheep one by one\n  for (const singleSheep of sheep) {\n    await killMob(bot, singleShee..."
          ],
          [
           "async function cookThreeRawChicken(bot) {\n  // Find a suitable location to place the furnace\n  const..."
          ],
          [
           "async function eatCookedBeef(bot) {\n  // Equip a cooked beef in the bot's hand\n  const cookedBeef = ..."
          ],
          [
           "async function mineEightCobblestone(bot) {\n  // Equip the wooden pickaxe\n  const woodenPickaxe = bot..."
          ],
          [
           "// Mine 8 cobblestone\n  await mineBlock(bot, \"stone\", 8);\n  bot.chat(\"8 cobblestone mined.\");\n}..."
          ],
          [
           "async function smeltFiveRawCopper(bot) {\n  // Find a suitable location to place the furnace\n  const ..."
          ],
          [
           "async function obtainBirchLogs(bot) {\n  // Check if there are enough birch logs in the inventory\n  c..."
          ],
          [
           "async function waitAndEatCookedMutton(bot) {\n  // Wait until the bot's hunger is less than 20\n  whil..."
          ],
          [
           "async function craftStonePickaxe(bot) {\n  // Check if there are enough cobblestones in the inventory..."
          ],
          [
           "// Craft a stone pickaxe using cobblestones and sticks with the crafting table\n  await craftItem(bot..."
          ],
          [
           "async function craftWoodenPickaxe(bot) {\n  // Check if there are enough oak logs in the inventory\n  ..."
          ],
          [
           "// Place the crafting table near the player\n  const craftingTablePosition = bot.entity.position.offs..."
          ],
          [
           "// Check if there are enough sticks in the inventory\n  const sticks = bot.inventory.count(mcData.ite..."
          ],
          [
           "async function mineFiveCopperOre(bot) {\n  // Equip the iron pickaxe\n  const ironPickaxe = bot.invent..."
          ],
          [
           "// Mine the 5 copper ore blocks\n  await mineBlock(bot, \"copper_ore\", 5);\n  bot.chat(\"5 copper ore mi..."
          ],
          [
           "async function craftStoneShovel(bot) {\n  // Check if there are enough cobblestones in the inventory\n..."
          ],
          [
           "// Craft a stone shovel using cobblestones and sticks with the crafting table\n  await craftItem(bot,..."
          ],
          [
           "async function findSuitablePosition(bot) {\n  const offsets = [new Vec3(1, 0, 0), new Vec3(-1, 0, 0),..."
          ],
          [
           "async function craftBirchBoat(bot) {\n  // Check if there are enough birch logs in the inventory\n  co..."
          ],
          [
           "// Check if there is a crafting table in the inventory\n  const craftingTable = bot.inventory.findInv..."
          ],
          [
           "// Find a suitable position to place the crafting table\n  const craftingTablePosition = await findSu..."
          ],
          [
           "// Craft a birch boat using birch planks and the crafting table\n  await craftItem(bot, \"birch_boat\",..."
          ],
          [
           "async function craftChest(bot) {\n  // Check if there are enough oak planks in the inventory\n  const ..."
          ],
          [
           "// Place the crafting table near the player\n  const craftingTablePosition = bot.entity.position.offs..."
          ],
          [
           "async function craftDiamondSword(bot) {\n  // Check if there are enough diamonds in the inventory\n  c..."
          ],
          [
           "// Place the crafting table near the player\n  const craftingTablePosition = bot.entity.position.offs..."
          ],
          [
           "async function craftStoneAxe(bot) {\n  // Check if there are enough cobblestones in the inventory\n  c..."
          ],
          [
           "// Craft a stone axe using cobblestones and sticks with the crafting table\n  await craftItem(bot, \"s..."
          ],
          [
           "async function equipShield(bot) {\n  // Find the shield in the bot's inventory\n  const shield = bot.i..."
          ],
          [
           "async function eatCookedMuttonIfHungry(bot) {\n  // Check if the bot's hunger is less than 20\n  if (b..."
          ],
          [
           "async function mineFiveCoalOre(bot) {\n  // Equip the iron pickaxe\n  const ironPickaxe = bot.inventor..."
          ],
          [
           "// Mine the 5 coal ore blocks\n  await mineBlock(bot, \"coal_ore\", 5);\n  bot.chat(\"5 coal ore mined.\")..."
          ],
          [
           "async function killChickenWithIncreasedTime(bot) {\n  // Explore the area to find a chicken with an i..."
          ],
          [
           "// Equip a weapon (preferably a sword) to kill the chicken\n  const sword = bot.inventory.findInvento..."
          ],
          [
           "async function mineDeepslateOres(bot) {\n  // Equip the iron pickaxe\n  const ironPickaxe = bot.invent..."
          ],
          [
           "async function smeltFiveRawGold(bot) {\n  // Check if there is a furnace in the inventory\n  const fur..."
          ],
          [
           "// Smelt the 5 raw gold using coal as fuel in the furnace\n  await smeltItem(bot, \"raw_gold\", \"coal\",..."
          ],
          [
           "async function craftIronHelmet(bot) {\n  // Check if there are enough iron ingots in the inventory\n  ..."
          ],
          [
           "// Smelt iron ores into iron ingots\n    for (let i = 0; i < 5 - ironIngots; i++) {\n      await smelt..."
          ],
          [
           "async function mineTenCobbledDeepslateBelowY0(bot) {\n  // Equip the iron pickaxe\n  const ironPickaxe..."
          ],
          [
           "// Find cobbled_deepslate blocks below Y=0\n  const cobbledDeepslateBlocks = await exploreUntil(bot, ..."
          ],
          [
           "async function craftIronPickaxe(bot) {\n  // Check if there are enough iron ingots in the inventory\n ..."
          ],
          [
           "// Craft an iron pickaxe using iron ingots and sticks with the crafting table\n  await craftItem(bot,..."
          ],
          [
           "async function smeltRawIron(bot) {\n  // Find a suitable location to place the furnace\n  const furnac..."
          ],
          [
           "async function craftTenCobblestoneWalls(bot) {\n  // Check if there are enough cobblestones in the in..."
          ],
          [
           "// Craft 6 cobblestone walls using the crafting table\n  await craftItem(bot, \"cobblestone_wall\", 1, ..."
          ],
          [
           "async function cookRawBeef(bot) {\n  // Check if there is a furnace in the inventory\n  const furnace ..."
          ],
          [
           "// Smelt the 6 raw beef using coal as fuel in the furnace\n  await smeltItem(bot, \"beef\", \"coal\", 6);..."
          ],
          [
           "async function craftStoneSword(bot) {\n  // Check if there are enough cobblestones in the inventory\n ..."
          ],
          [
           "// Craft a stone sword using cobblestones and sticks with the crafting table\n  await craftItem(bot, ..."
          ],
          [
           "async function mineFourCoalOre(bot) {\n  // Equip the stone pickaxe\n  const stonePickaxe = bot.invent..."
          ],
          [
           "async function craftShield(bot) {\n  // Check if there are enough oak planks in the inventory\n  const..."
          ],
          [
           "// Check if there are enough iron ingots in the inventory\n  const ironIngots = bot.inventory.count(m..."
          ],
          [
           "// Craft a shield using oak planks and iron ingots with the crafting table\n  await craftItem(bot, \"s..."
          ],
          [
           "async function craftBoneMeal(bot) {\n  // Check if there are enough bones in the inventory\n  const bo..."
          ],
          [
           "// Craft 4 bone meal using 2 bones and the crafting table\n  await craftItem(bot, \"bone_meal\", 2, cra..."
          ],
          [
           "async function eatCookedMutton(bot) {\n  // Equip a cooked mutton in the bot's hand\n  const cookedMut..."
          ],
          [
           "async function craftIronLeggingsAndBoots(bot) {\n  // Check if there are enough iron ingots in the in..."
          ],
          [
           "// Check if there are enough coal in the inventory\n    const coalCount = bot.inventory.count(mcData...."
          ],
          [
           "// Smelt iron ores into iron ingots\n    for (let i = 0; i < 11 - ironIngots; i++) {\n      await smel..."
          ],
          [
           "// Place the crafting table near the player\n  const craftingTablePosition = bot.entity.position.offs..."
          ],
          [
           "async function mineThreeMoreOakLogs(bot) {\n  for (let i = 0; i < 3; i++) {\n    const oakLogBlock = a..."
          ],
          [
           "async function cookChicken(bot) {\n  // Check if there is a furnace in the inventory\n  const furnace ..."
          ],
          [
           "// Smelt the raw chicken using coal as fuel in the furnace\n  await smeltItem(bot, \"chicken\", \"coal\",..."
          ],
          [
           "async function equipIronHelmet(bot) {\n  // Find the iron helmet in the bot's inventory\n  const ironH..."
          ],
          [
           "async function craftIronSword(bot) {\n  // Check if there are enough iron ingots in the inventory\n  c..."
          ],
          [
           "// Craft an iron sword using iron ingots and sticks with the crafting table\n  await craftItem(bot, \"..."
          ],
          [
           "async function craftIronChestplate(bot) {\n  // Check if there are enough iron ingots in the inventor..."
          ],
          [
           "// Smelt iron ores into iron ingots\n    for (let i = 0; i < 8 - ironIngots; i++) {\n      await smelt..."
          ],
          [
           "// Try to place the crafting table near the player at different positions until it is successfully p..."
          ],
          [
           "break;\n    } catch (error) {\n      console.log(\"Error placing crafting_table:\", error.message);\n    ..."
          ],
          [
           "// Craft an iron chestplate using iron ingots and the crafting table\n  await craftItem(bot, \"iron_ch..."
          ],
          [
           "async function smeltThreeRawCopper(bot) {\n  // Find a suitable location to place the furnace\n  const..."
          ],
          [
           "async function smeltCopperOre(bot) {\n  // Check if there is a furnace in the inventory\n  const furna..."
          ],
          [
           "// Find a copper ore block\n  const copperOre = await exploreUntil(bot, new Vec3(1, 0, 1), 60, () => ..."
          ],
          [
           "// Collect the smelted copper ingot\n  bot.chat(\"1 copper ore smelted.\");\n}..."
          ],
          [
           "async function craftStoneTools(bot) {\n  // Check if there are enough cobblestones in the inventory\n ..."
          ],
          [
           "// Check if there are enough sticks in the inventory\n  const sticks = bot.inventory.count(mcData.ite..."
          ],
          [
           "// Craft a stone sword, a stone axe, and a stone shovel using the crafting table\n  await craftItem(b..."
          ],
          [
           "async function mineThreeIronOre(bot) {\n  // Equip the stone pickaxe\n  const stonePickaxe = bot.inven..."
          ],
          [
           "async function equipIronArmor(bot) {\n  const ironHelmet = bot.inventory.findInventoryItem(mcData.ite..."
          ],
          [
           "bot.chat(\"Iron helmet equipped.\");\n  } else {\n    bot.chat(\"Iron helmet not found in inventory.\");\n ..."
          ],
          [
           "}\n  if (ironBoots) {\n    await bot.equip(ironBoots, \"feet\");\n    bot.chat(\"Iron boots equipped.\");\n ..."
          ],
          [
           "async function craftFurnace(bot) {\n  const requiredCobblestones = 8;\n  const cobblestoneCount = bot...."
          ],
          [
           "await placeItem(bot, \"crafting_table\", craftingTablePosition);\n    bot.chat(\"Crafting_table placed.\"..."
          ],
          [
           "async function craftBucket(bot) {\n  const requiredIronIngots = 3;\n  const ironIngotsCount = bot.inve..."
          ],
          [
           "await placeItem(bot, \"crafting_table\", craftingTablePosition);\n    bot.chat(\"Crafting_table placed.\"..."
          ],
          [
           "async function smeltRawCopper(bot) {\n  const furnaceInInventory = bot.inventory.findInventoryItem(mc..."
          ],
          [
           "}\n  await placeItem(bot, \"furnace\", furnacePosition);\n  bot.chat(\"Furnace placed.\");\n  const require..."
          ],
          [
           "async function smeltSixRawIron(bot) {\n  const furnaceInInventory = bot.inventory.findInventoryItem(m..."
          ],
          [
           "}\n  await placeItem(bot, \"furnace\", furnacePosition);\n  bot.chat(\"Furnace placed.\");\n  const require..."
          ],
          [
           "async function craftWoodenPlanks(bot) {\n  const logNames = [\"oak_log\", \"birch_log\", \"spruce_log\", \"j..."
          ],
          [
           "await mineWoodLog(bot);\n  }\n  const logIndex = logNames.indexOf(logInInventory);\n  const plankName =..."
          ],
          [
           "async function mineFiveIronOres(bot) {\n  const stonePickaxe = bot.inventory.findInventoryItem(mcData..."
          ],
          [
           "await placeItem(bot, \"crafting_table\", craftingTablePosition);\n    await craftItem(bot, \"stone_picka..."
          ],
          [
           "});\n  await mineBlock(bot, \"iron_ore\", 5);\n  bot.chat(\"5 iron ores mined.\");\n}..."
          ],
          [
           "async function exploreCaveAndGatherResources(bot) {\n  // Equip torches\n  const torches = bot.invento..."
          ],
          [
           "// Find a cave entrance and start exploring\n  const caveEntrance = await exploreUntil(bot, new Vec3(..."
          ],
          [
           "// Explore the cave and gather resources\n  await exploreUntil(bot, new Vec3(1, 0, 1), 300, () => {\n ..."
          ],
          [
           "});\n    if (mob) {\n      killMob(bot, mob.name, 300);\n    }\n    const ores = [\"coal_ore\", \"iron_ore\"..."
          ],
          [
           "bot.chat(\"Finished exploring the cave and gathering resources.\");\n}..."
          ],
          [
           "async function mineFiveCoalOres(bot) {\n  const stonePickaxe = bot.inventory.findInventoryItem(mcData..."
          ],
          [
           "async function catchFiveFishSafely(bot) {\n  // Check if the bot has a fishing rod in its inventory\n ..."
          ],
          [
           "// Find a nearby water block\n  let waterBlock;\n  while (!waterBlock) {\n    waterBlock = await explor..."
          ],
          [
           "// Move to a block adjacent to the water block\n  const adjacentBlock = waterBlock.position.offset(0,..."
          ],
          [
           "// Fish in the water 5 times\n  for (let i = 0; i < 5; i++) {\n    try {\n      await bot.fish();\n     ..."
          ],
          [
           "async function craftStonePickaxe(bot) {\n  const requiredCobblestones = 3;\n  const requiredSticks = 2..."
          ],
          [
           "bot.chat(\"Cobblestones mined.\");\n  }\n  if (sticksCount < requiredSticks) {\n    bot.chat(\"Not enough ..."
          ],
          [
           "await placeItem(bot, \"crafting_table\", craftingTablePosition);\n    bot.chat(\"Crafting_table placed.\"..."
          ],
          [
           "async function craftWoodenPickaxe(bot) {\n  const requiredPlanks = 3;\n  const requiredSticks = 2;\n  c..."
          ],
          [
           "}\n  if (sticksCount < requiredSticks) {\n    bot.chat(\"Not enough sticks. Crafting more...\");\n    awa..."
          ],
          [
           "async function craftSixteenTorches(bot) {\n  const requiredSticks = 4;\n  const sticksCount = bot.inve..."
          ],
          [
           "maxDistance: 32\n  });\n  if (!craftingTable) {\n    const craftingTablePosition = bot.entity.position...."
          ],
          [
           "async function exploreCave(bot) {\n  const torches = bot.inventory.findInventoryItem(mcData.itemsByNa..."
          ],
          [
           "matching: block => {\n        return block && block.name === \"air\" && block.position && block.positio..."
          ],
          [
           "matching: block => {\n        return block && block.name === \"air\" && block.position && block.positio..."
          ],
          [
           "});..."
          ],
          [
           "bot.chat(\"Finished exploring the cave.\");\n}..."
          ],
          [
           "async function craftEightTorches(bot) {\n  const craftingTable = bot.findBlock({\n    matching: mcData..."
          ],
          [
           "async function catchThreeFish(bot) {\n  // Check if the bot has a fishing rod in its inventory\n  let ..."
          ],
          [
           "// Fish in the water 3 times\n  for (let i = 0; i < 3; i++) {\n    try {\n      await bot.fish();\n     ..."
          ],
          [
           "async function craftEightSticks(bot) {\n  const requiredPlanks = 2;\n  const planksCount = bot.invento..."
          ],
          [
           "maxDistance: 32\n  });\n  if (!craftingTable) {\n    const craftingTablePosition = bot.entity.position...."
          ],
          [
           "async function craftStoneShovel(bot) {\n  const requiredCobblestones = 1;\n  const requiredSticks = 2;..."
          ],
          [
           "bot.chat(\"Cobblestones mined.\");\n  }\n  if (sticksCount < requiredSticks) {\n    bot.chat(\"Not enough ..."
          ],
          [
           "await placeItem(bot, \"crafting_table\", craftingTablePosition);\n    bot.chat(\"Crafting_table placed.\"..."
          ],
          [
           "async function craftStoneHoe(bot) {\n  const requiredCobblestones = 2;\n  const requiredSticks = 2;\n  ..."
          ],
          [
           "await placeItem(bot, \"crafting_table\", craftingTablePosition);\n    bot.chat(\"Crafting_table placed.\"..."
          ],
          [
           "async function craftIronPickaxeWithMaterials(bot) {\n  const requiredIronIngots = 3;\n  const required..."
          ],
          [
           "await smeltItem(bot, \"iron_ore\", \"coal\", requiredIronIngots - ironIngotsCount);\n    bot.chat(\"Iron i..."
          ],
          [
           "maxDistance: 32\n  });\n  if (!craftingTable) {\n    const craftingTablePosition = bot.entity.position...."
          ],
          [
           "async function craftShieldWithFurnace(bot) {\n  const requiredIronIngots = 1;\n  const requiredSpruceP..."
          ],
          [
           "maxDistance: 32\n    });\n    if (!furnace) {\n      const furnacePosition = bot.entity.position.offset..."
          ],
          [
           "await craftItem(bot, \"spruce_planks\", requiredSprucePlanks - sprucePlanksCount);\n    bot.chat(\"Spruc..."
          ],
          [
           "}\n  await craftItem(bot, \"shield\", 1);\n  bot.chat(\"Shield crafted.\");\n}..."
          ],
          [
           "async function checkStonePickaxe(bot) {\n  const stonePickaxe = bot.inventory.findInventoryItem(mcDat..."
          ],
          [
           "async function craftFishingRod(bot) {\n  // Check if we have enough strings\n  const requiredStrings =..."
          ],
          [
           "const spider = bot.nearestEntity(entity => {\n          return entity.name === \"spider\" && entity.pos..."
          ],
          [
           "// Place a crafting table if not already placed\n  const craftingTable = bot.findBlock({\n    matching..."
          ],
          [
           "// Craft a fishing rod using the 3 sticks and 2 strings\n  await craftItem(bot, \"fishing_rod\", 1);\n  ..."
          ],
          [
           "async function smeltTwentyFiveIronIngots(bot) {\n  const furnaceInInventory = bot.inventory.findInven..."
          ],
          [
           "}\n  await placeItem(bot, \"furnace\", furnacePosition);\n  bot.chat(\"Furnace placed.\");\n  const require..."
          ],
          [
           "async function craftChest(bot) {\n  const requiredPlanks = 8;\n  const planksCount = bot.inventory.cou..."
          ],
          [
           "maxDistance: 32\n  });\n  if (!craftingTable) {\n    const craftingTablePosition = bot.entity.position...."
          ],
          [
           "async function mineLapisOre(bot) {\n  const pickaxeTypes = [mcData.itemsByName.stone_pickaxe.id, mcDa..."
          ],
          [
           "await mineBlock(bot, \"stone\", 3);\n    const craftingTablePosition = bot.entity.position.offset(1, 0,..."
          ],
          [
           "const foundLapisOre = bot.findBlock({\n      matching: mcData.blocksByName.lapis_ore.id,\n      maxDis..."
          ],
          [
           "async function collectWaterWithBucket(bot) {\n  const waterBlock = bot.findBlock({\n    matching: mcDa..."
          ],
          [
           "return foundWaterBlock;\n    });\n  }\n  const bucket = bot.inventory.findInventoryItem(mcData.itemsByN..."
          ],
          [
           "async function craftTorches(bot) {\n  const requiredCoal = 2;\n  const requiredSticks = 2;\n  const coa..."
          ],
          [
           "await craftItem(bot, \"stick\", 1);\n    bot.chat(\"Sticks crafted.\");\n  }\n  const craftingTable = bot.f..."
          ],
          [
           "async function craftStoneAxe(bot) {\n  const requiredCobblestones = 3;\n  const requiredSticks = 2;\n  ..."
          ],
          [
           "await placeItem(bot, \"crafting_table\", craftingTablePosition);\n    bot.chat(\"Crafting_table placed.\"..."
          ],
          [
           "async function craftTwentySprucePlanks(bot) {\n  const requiredLogs = 5;\n  const spruceLogCount = bot..."
          ],
          [
           "bot.chat(\"20 spruce planks crafted.\");\n}..."
          ],
          [
           "async function smeltOneRawIron(bot) {\n  const furnaceInInventory = bot.inventory.findInventoryItem(m..."
          ],
          [
           "}\n  await placeItem(bot, \"furnace\", furnacePosition);\n  bot.chat(\"Furnace placed.\");\n  await smeltIt..."
          ],
          [
           "async function mineCoalOre(bot) {\n  const stonePickaxe = bot.inventory.findInventoryItem(mcData.item..."
          ],
          [
           "await exploreUntil(bot, new Vec3(1, 0, 1), 60, () => {\n      const foundCoalOre = bot.findBlock({\n  ..."
          ],
          [
           "async function fishInNearbyWaterSafely(bot) {\n  // Check if the bot has a fishing rod in its invento..."
          ],
          [
           "// Find a nearby water block\n  const waterBlock = await exploreUntil(bot, new Vec3(1, 0, 1), 60, () ..."
          ],
          [
           "// Look at the water block\n  await bot.lookAt(waterBlock.position);\n\n  // Equip the fishing rod\n  aw..."
          ],
          [
           "// Fish in the water\n  try {\n    await bot.fish();\n    bot.chat(\"Fished in the nearby water.\");\n  } ..."
          ],
          [
           "async function craftIronHelmet(bot) {\n  const requiredIronIngots = 5;\n  const ironIngotsCount = bot...."
          ],
          [
           "await placeItem(bot, \"crafting_table\", craftingTablePosition);\n    bot.chat(\"Crafting_table placed.\"..."
          ],
          [
           "async function craftIronPickaxe(bot) {\n  const requiredIronIngots = 3;\n  const requiredSticks = 2;\n ..."
          ],
          [
           "}\n  const craftingTable = bot.findBlock({\n    matching: mcData.blocksByName.crafting_table.id,\n    m..."
          ],
          [
           "async function smeltRawIron(bot) {\n  const furnaceInInventory = bot.inventory.findInventoryItem(mcDa..."
          ],
          [
           "}\n  await placeItem(bot, \"furnace\", furnacePosition);\n  bot.chat(\"Furnace placed.\");\n  const require..."
          ],
          [
           "async function chopDownSpruceLogs(bot) {\n  const spruceLogCount = bot.inventory.count(mcData.itemsBy..."
          ],
          [
           "async function eatCookedMutton(bot) {\n  const cookedMutton = bot.inventory.findInventoryItem(mcData...."
          ],
          [
           "async function craftSticks(bot) {\n  const requiredPlanks = 2;\n  const planksCount = bot.inventory.co..."
          ],
          [
           "await placeItem(bot, \"crafting_table\", craftingTablePosition);\n  bot.chat(\"Crafting_table placed.\");..."
          ],
          [
           "async function craftStoneSword(bot) {\n  const requiredCobblestones = 2;\n  const requiredSticks = 1;\n..."
          ],
          [
           "bot.chat(\"Cobblestones mined.\");\n  }\n  if (sticksCount < requiredSticks) {\n    bot.chat(\"Not enough ..."
          ],
          [
           "bot.chat(\"Crafting_table placed.\");\n  }\n  await craftItem(bot, \"stone_sword\", 1);\n  bot.chat(\"Stone ..."
          ],
          [
           "async function mineThreeIronOres(bot) {\n  const stonePickaxe = bot.inventory.findInventoryItem(mcDat..."
          ],
          [
           "bot.chat(\"Stone pickaxe crafted.\");\n  }\n  await bot.equip(mcData.itemsByName.stone_pickaxe.id, \"hand..."
          ],
          [
           "async function craftIronLeggingsAndBoots(bot) {\n  const requiredIronIngots = 11; // 7 for leggings, ..."
          ],
          [
           "await smeltItem(bot, \"iron_ore\", \"coal\", requiredIronIngots - ironIngotsCount);\n    bot.chat(\"Iron i..."
          ],
          [
           "}\n  await craftItem(bot, \"iron_leggings\", 1);\n  bot.chat(\"Iron leggings crafted.\");\n  await craftIte..."
          ],
          [
           "async function craftSpyglass(bot) {\n  const requiredCopperIngots = 2;\n  const requiredAmethystShards..."
          ],
          [
           "return;\n  }\n  const craftingTable = bot.findBlock({\n    matching: mcData.blocksByName.crafting_table..."
          ],
          [
           "async function chopSpruceLogs(bot) {\n  const spruceLogCount = bot.inventory.count(mcData.itemsByName..."
          ],
          [
           "async function cookMutton(bot) {\n  const rawMuttonCount = bot.inventory.count(mcData.itemsByName.mut..."
          ],
          [
           "const blockAtFurnacePosition = bot.blockAt(furnacePosition);\n  if (blockAtFurnacePosition.name === \"..."
          ],
          [
           "}\n  await smeltItem(bot, \"mutton\", \"coal\", 5);\n  bot.chat(\"5 mutton cooked.\");\n}..."
          ],
          [
           "async function mineCopperOreWithStonePickaxe(bot) {\n  const stonePickaxe = bot.inventory.findInvento..."
          ],
          [
           "bot.chat(\"Stone pickaxe crafted.\");\n  }\n  await bot.equip(mcData.itemsByName.stone_pickaxe.id, \"hand..."
          ],
          [
           "maxDistance: 32\n      });\n      return foundCopperOre;\n    });\n  }\n  await mineBlock(bot, \"copper_or..."
          ],
          [
           "async function mineFiveCopperOres(bot) {\n  const copperOreCount = bot.inventory.count(mcData.itemsBy..."
          ],
          [
           "async function craftIronSword(bot) {\n  const requiredIronIngots = 2;\n  const requiredSticks = 1;\n  c..."
          ],
          [
           "maxDistance: 32\n  });\n  if (!craftingTable) {\n    const craftingTablePosition = bot.entity.position...."
          ],
          [
           "async function craftIronChestplate(bot) {\n  const requiredIronIngots = 8;\n  const ironIngotsCount = ..."
          ],
          [
           "bot.chat(\"Iron ingots smelted.\");\n  }\n  const craftingTable = bot.findBlock({\n    matching: mcData.b..."
          ],
          [
           "async function craftWhiteBedWithExploration(bot) {\n  // Step 1: Explore the area to find and kill sh..."
          ],
          [
           "const sheep = bot.nearestEntity(entity => {\n          return entity.name === \"sheep\" && entity.posit..."
          ],
          [
           "// Step 2: Craft 2 more spruce planks if needed\n  const requiredPlanks = 3;\n  const planksCount = bo..."
          ],
          [
           "// Step 3: Place a crafting table if not already placed\n  const craftingTable = bot.findBlock({\n    ..."
          ],
          [
           "// Step 4: Craft a white bed using the 3 white wool blocks and 3 spruce planks\n  bot.chat(\"Crafting ..."
          ],
          [
           "async function craftWoodenHoe(bot) {\n  const requiredPlanks = 2;\n  const requiredSticks = 2;\n  const..."
          ],
          [
           "}\n  if (sticksCount < requiredSticks) {\n    bot.chat(\"Not enough sticks. Crafting more...\");\n    awa..."
          ],
          [
           "bot.chat(\"Crafting_table placed.\");\n  }\n  await craftItem(bot, \"wooden_hoe\", 1);\n  bot.chat(\"Wooden ..."
          ]
         ],
         "hovertemplate": "source=home<br>symbol=circle<br>x=%{x}<br>y=%{y}<br>size_col=%{marker.size}<br>extract=%{customdata[0]}<extra></extra>",
         "legendgroup": "home, circle",
         "marker": {
          "color": "#EF553B",
          "line": {
           "color": "DarkSlateGrey",
           "width": 0
          },
          "opacity": 1,
          "size": [
           4,
           4,
           4,
           4,
           4,
           4,
           4,
           4,
           4,
           4,
           4,
           4,
           4,
           4,
           4,
           4,
           4,
           4,
           4,
           4,
           4,
           4,
           4,
           4,
           4,
           4,
           4,
           4,
           4,
           4,
           4,
           4,
           4,
           4,
           4,
           4,
           4,
           4,
           4,
           4,
           4,
           4,
           4,
           4,
           4,
           4,
           4,
           4,
           4,
           4,
           4,
           4,
           4,
           4,
           4,
           4,
           4,
           4,
           4,
           4,
           4,
           4,
           4,
           4,
           4,
           4,
           4,
           4,
           4,
           4,
           4,
           4,
           4,
           4,
           4,
           4,
           4,
           4,
           4,
           4,
           4,
           4,
           4,
           4,
           4,
           4,
           4,
           4,
           4,
           4,
           4,
           4,
           4,
           4,
           4,
           4,
           4,
           4,
           4,
           4,
           4,
           4,
           4,
           4,
           4,
           4,
           4,
           4,
           4,
           4,
           4,
           4,
           4,
           4,
           4,
           4,
           4,
           4,
           4,
           4,
           4,
           4,
           4,
           4,
           4,
           4,
           4,
           4,
           4,
           4,
           4,
           4,
           4,
           4,
           4,
           4,
           4,
           4,
           4,
           4,
           4,
           4,
           4,
           4,
           4,
           4,
           4,
           4,
           4,
           4,
           4,
           4,
           4,
           4,
           4,
           4,
           4,
           4,
           4,
           4,
           4,
           4,
           4,
           4,
           4,
           4,
           4,
           4,
           4,
           4,
           4,
           4,
           4,
           4,
           4,
           4,
           4,
           4,
           4,
           4,
           4,
           4,
           4,
           4,
           4,
           4,
           4,
           4,
           4,
           4,
           4,
           4,
           4,
           4,
           4,
           4,
           4,
           4,
           4,
           4,
           4,
           4,
           4,
           4,
           4,
           4,
           4,
           4,
           4,
           4,
           4,
           4,
           4,
           4,
           4,
           4,
           4,
           4,
           4,
           4,
           4,
           4,
           4,
           4,
           4,
           4,
           4,
           4,
           4,
           4,
           4,
           4,
           4,
           4,
           4,
           4,
           4,
           4,
           4,
           4,
           4,
           4,
           4,
           4,
           4,
           4,
           4,
           4,
           4,
           4,
           4,
           4,
           4,
           4,
           4,
           4,
           4,
           4,
           4,
           4,
           4,
           4,
           4,
           4,
           4,
           4,
           4,
           4,
           4,
           4,
           4,
           4,
           4,
           4,
           4,
           4,
           4,
           4,
           4,
           4,
           4,
           4,
           4,
           4,
           4,
           4,
           4,
           4,
           4,
           4,
           4,
           4,
           4,
           4,
           4,
           4,
           4,
           4,
           4,
           4,
           4,
           4,
           4,
           4,
           4,
           4,
           4,
           4,
           4,
           4,
           4,
           4,
           4,
           4,
           4,
           4,
           4,
           4,
           4,
           4,
           4,
           4,
           4,
           4,
           4,
           4,
           4,
           4,
           4,
           4,
           4,
           4,
           4,
           4,
           4,
           4,
           4,
           4,
           4,
           4,
           4,
           4,
           4,
           4,
           4,
           4,
           4,
           4,
           4,
           4,
           4,
           4,
           4,
           4,
           4,
           4,
           4,
           4,
           4,
           4,
           4,
           4,
           4,
           4,
           4,
           4,
           4,
           4,
           4,
           4,
           4,
           4,
           4,
           4,
           4,
           4,
           4,
           4,
           4,
           4,
           4,
           4,
           4,
           4,
           4,
           4,
           4,
           4,
           4,
           4,
           4,
           4,
           4,
           4,
           4,
           4,
           4,
           4,
           4,
           4,
           4,
           4,
           4,
           4,
           4,
           4,
           4,
           4,
           4,
           4,
           4,
           4,
           4,
           4,
           4,
           4,
           4,
           4,
           4,
           4,
           4,
           4,
           4,
           4,
           4,
           4,
           4,
           4,
           4,
           4,
           4,
           4,
           4,
           4,
           4,
           4,
           4,
           4,
           4,
           4,
           4,
           4,
           4,
           4,
           4,
           4,
           4,
           4,
           4,
           4,
           4,
           4,
           4,
           4,
           4,
           4,
           4,
           4,
           4,
           4,
           4,
           4,
           4,
           4,
           4,
           4,
           4,
           4,
           4,
           4,
           4,
           4,
           4,
           4,
           4,
           4,
           4,
           4,
           4,
           4,
           4,
           4,
           4,
           4,
           4,
           4,
           4,
           4,
           4,
           4,
           4,
           4,
           4,
           4,
           4,
           4,
           4,
           4,
           4,
           4,
           4,
           4,
           4,
           4,
           4,
           4,
           4,
           4,
           4,
           4,
           4,
           4,
           4,
           4,
           4,
           4,
           4,
           4,
           4,
           4,
           4,
           4,
           4,
           4,
           4,
           4,
           4,
           4,
           4,
           4,
           4,
           4,
           4,
           4,
           4,
           4,
           4,
           4,
           4,
           4,
           4,
           4,
           4,
           4,
           4,
           4,
           4,
           4,
           4,
           4,
           4,
           4,
           4,
           4,
           4,
           4,
           4,
           4,
           4,
           4,
           4,
           4,
           4,
           4,
           4,
           4,
           4,
           4,
           4,
           4,
           4,
           4,
           4,
           4,
           4,
           4,
           4,
           4,
           4,
           4,
           4,
           4,
           4,
           4,
           4,
           4,
           4,
           4,
           4,
           4,
           4,
           4,
           4,
           4,
           4,
           4,
           4,
           4,
           4,
           4,
           4,
           4,
           4,
           4,
           4,
           4,
           4,
           4,
           4,
           4,
           4,
           4,
           4,
           4,
           4,
           4,
           4,
           4,
           4,
           4,
           4,
           4,
           4,
           4,
           4,
           4,
           4,
           4,
           4,
           4,
           4,
           4,
           4,
           4,
           4,
           4,
           4,
           4,
           4,
           4,
           4,
           4,
           4,
           4,
           4,
           4,
           4,
           4,
           4,
           4,
           4,
           4,
           4,
           4,
           4,
           4,
           4,
           4,
           4,
           4,
           4,
           4,
           4,
           4,
           4,
           4,
           4,
           4,
           4,
           4,
           4,
           4,
           4,
           4,
           4,
           4,
           4,
           4,
           4,
           4,
           4,
           4,
           4,
           4,
           4,
           4,
           4,
           4,
           4,
           4,
           4,
           4,
           4,
           4,
           4,
           4,
           4,
           4,
           4,
           4,
           4,
           4,
           4,
           4,
           4,
           4,
           4,
           4,
           4,
           4,
           4,
           4,
           4,
           4,
           4,
           4,
           4,
           4
          ],
          "sizemode": "area",
          "sizeref": 0.25,
          "symbol": "circle"
         },
         "mode": "markers",
         "name": "home, circle",
         "orientation": "v",
         "showlegend": true,
         "type": "scatter",
         "x": [
          -6.732255,
          -9.812526,
          -7.945454,
          -8.169781,
          9.909315,
          -9.939803,
          -4.6246514,
          -4.8835974,
          -0.9490732,
          -8.212772,
          11.377539,
          -8.381756,
          11.479223,
          -0.90609235,
          9.621252,
          8.972595,
          -4.627595,
          5.3943286,
          -7.0550904,
          -6.9188714,
          7.098675,
          -3.7502828,
          15.047765,
          -3.6040537,
          -1.0410317,
          -7.376979,
          -6.754551,
          -4.470377,
          -0.93255544,
          -4.544947,
          -9.57151,
          -8.046648,
          10.799118,
          -2.7564306,
          9.875686,
          -0.99748206,
          -9.948083,
          -4.776573,
          12.558367,
          -0.96012443,
          -7.7143292,
          14.793409,
          -9.891807,
          -8.105185,
          -8.2484665,
          9.856389,
          -0.67681694,
          14.635656,
          -5.1361446,
          -0.9616043,
          -2.995242,
          10.729944,
          8.757685,
          -0.99208343,
          9.398083,
          8.884465,
          -6.201126,
          -8.193843,
          9.762459,
          -5.0648913,
          10.176086,
          -3.0569615,
          11.027217,
          -6.7744093,
          -3.5758092,
          -3.6821792,
          14.907791,
          -2.4998696,
          -7.9974093,
          -3.5784924,
          -8.631739,
          -5.1517515,
          -6.893244,
          -8.48667,
          13.93217,
          -4.882989,
          9.870353,
          8.891407,
          -5.243048,
          8.602651,
          9.114641,
          -4.7068906,
          -0.92040896,
          -7.4253454,
          -6.931305,
          -8.229905,
          -5.9873996,
          10.823132,
          -6.2625375,
          -8.22594,
          9.993285,
          -6.241868,
          -8.322704,
          -9.728894,
          -7.7185044,
          -8.314857,
          9.908809,
          -6.2024884,
          -8.209944,
          9.84778,
          -6.3688765,
          -7.277264,
          -2.8497934,
          7.0460916,
          8.908276,
          -6.6044993,
          -9.791728,
          -6.8939404,
          -6.4894786,
          -7.943498,
          -6.0324554,
          -5.8282332,
          -9.928182,
          -4.5232096,
          12.104917,
          -0.9706677,
          -5.4014297,
          -0.9446024,
          -6.750873,
          -8.7095585,
          -4.504574,
          -4.192936,
          15.843287,
          -3.7430706,
          -1.144662,
          -0.3834066,
          14.628516,
          -6.7684426,
          -4.0956407,
          -2.4752073,
          -4.5112557,
          14.724819,
          -4.5029287,
          -0.95295924,
          -7.73228,
          9.628318,
          -5.056864,
          16.18383,
          -5.1802573,
          -2.4758155,
          -4.3641877,
          16.354412,
          -3.344379,
          9.932805,
          -3.2691543,
          9.918772,
          -6.415734,
          -6.7516236,
          -5.7485275,
          12.735508,
          -1.1319989,
          8.904794,
          -8.581765,
          10.093877,
          -10.011266,
          -8.570725,
          10.049723,
          12.528504,
          -5.8917003,
          8.710828,
          15.731878,
          -8.416865,
          -5.364297,
          -3.0000484,
          14.509467,
          -7.46916,
          14.3281355,
          12.528513,
          -5.7746134,
          8.706044,
          15.742564,
          -6.791924,
          -8.437219,
          -3.5711024,
          -7.708533,
          -4.6460533,
          7.200893,
          5.35478,
          -4.4956884,
          5.3563433,
          8.898664,
          -4.9258804,
          12.527679,
          -5.4527197,
          5.3560586,
          -7.163547,
          -6.425346,
          -6.826428,
          -4.0998445,
          12.528644,
          -5.8712535,
          15.595328,
          -10.095416,
          -5.8396907,
          -2.372144,
          15.647948,
          -6.237566,
          -8.48324,
          -2.61239,
          -5.4474463,
          12.5271435,
          -8.187334,
          -6.3796797,
          -6.285424,
          -7.813175,
          -6.247804,
          -7.854863,
          -0.8259086,
          14.446719,
          -9.972538,
          -5.318163,
          15.916878,
          -3.9094443,
          -4.8605247,
          8.721708,
          15.662101,
          -6.9670205,
          10.760059,
          -7.742224,
          -5.0115147,
          -6.3670225,
          -6.8385625,
          -4.473469,
          -6.1839175,
          -8.308547,
          14.816337,
          12.530841,
          -5.9058504,
          5.3580117,
          -6.408583,
          -6.879515,
          -4.2728086,
          -6.72192,
          -7.7061577,
          -6.4194026,
          -8.072756,
          -7.5136933,
          -3.6037292,
          13.374542,
          -8.18528,
          -3.1313882,
          13.655121,
          8.670354,
          -4.6623635,
          -6.779604,
          8.272588,
          5.355914,
          -4.3911724,
          5.3569427,
          -10.031636,
          -6.207241,
          5.358126,
          12.528202,
          9.407173,
          8.682492,
          -4.5137734,
          -5.367445,
          -8.033883,
          -6.2539372,
          -4.303511,
          -4.0644364,
          14.897072,
          -6.3071785,
          -8.27531,
          -6.385275,
          12.528236,
          -4.7959394,
          8.168561,
          12.526881,
          -7.690971,
          -5.521187,
          -4.9529595,
          -8.207316,
          14.938775,
          -0.7408932,
          -6.2591805,
          -7.7469306,
          -10.00108,
          -6.375594,
          5.3566413,
          -4.4176164,
          5.364473,
          12.528457,
          15.802527,
          -6.2120557,
          -10.007565,
          5.347448,
          -6.4537997,
          -6.8562365,
          -4.2494545,
          -6.3578253,
          -4.900454,
          -5.233718,
          -8.478989,
          -8.48958,
          12.937624,
          -6.225759,
          -8.929811,
          11.849966,
          9.794121,
          -8.003964,
          11.992176,
          -6.1918697,
          -9.314075,
          12.079462,
          9.753874,
          -6.7664433,
          -6.264768,
          -9.529894,
          9.922633,
          -7.258287,
          -6.218371,
          -9.270736,
          9.907248,
          -3.2273006,
          5.409924,
          -6.2085347,
          -9.703119,
          9.852586,
          -7.1399503,
          -4.6642385,
          -8.699139,
          9.903969,
          -6.836097,
          9.871654,
          -6.3777623,
          -6.701678,
          11.222094,
          -3.9676015,
          -2.5614874,
          15.772744,
          9.876784,
          -6.117067,
          11.130748,
          -6.2700605,
          9.161992,
          -4.7818,
          9.870526,
          -6.8077135,
          15.92871,
          -3.0957782,
          -4.491331,
          -6.2171683,
          -9.673913,
          9.739226,
          -6.776169,
          9.872373,
          -6.3004537,
          -4.396318,
          10.914597,
          -6.915161,
          15.898272,
          -8.816956,
          11.980345,
          -8.026285,
          10.351678,
          11.778,
          -3.4913602,
          11.940016,
          9.553034,
          -4.7488737,
          -8.003632,
          10.549126,
          15.720084,
          9.871566,
          -6.4522715,
          -6.7643194,
          -5.552712,
          -3.271723,
          -6.0574765,
          -3.3297439,
          -6.0789986,
          -7.1916466,
          -4.390611,
          15.3600855,
          -6.2355537,
          -8.10052,
          9.915066,
          -6.7761574,
          9.862313,
          -8.146599,
          -4.761689,
          -7.894811,
          10.604263,
          15.696868,
          9.872024,
          15.952679,
          -9.721534,
          15.331669,
          -5.995325,
          -6.193011,
          -9.747615,
          9.871746,
          -4.8051,
          10.596601,
          15.840862,
          -6.2165184,
          -8.215328,
          9.86348,
          -9.771071,
          15.374114,
          -6.189862,
          -9.685738,
          9.829593,
          11.657868,
          -6.3189607,
          -7.5221515,
          6.898673,
          -4.8836346,
          -4.0420275,
          9.511644,
          -6.0548964,
          -2.922388,
          15.087541,
          -9.739846,
          9.769783,
          -6.8228755,
          -7.085364,
          -8.198887,
          -7.942483,
          9.880349,
          -8.796024,
          15.354116,
          9.866854,
          -8.480163,
          15.2292,
          -9.747155,
          -3.1824026,
          -7.2617683,
          -2.8035278,
          -4.716744,
          -4.1155376,
          9.968707,
          9.857049,
          -8.577214,
          15.206934,
          -7.191773,
          -9.9184065,
          10.122092,
          -9.770193,
          -7.047273,
          11.801154,
          7.818009,
          -3.7041366,
          -8.132544,
          14.119039,
          -8.950234,
          11.488263,
          -1.0808297,
          8.738367,
          14.430257,
          -6.9074564,
          9.86846,
          -8.475567,
          15.4935465,
          -9.587521,
          12.2446,
          10.624213,
          -3.9722197,
          9.665111,
          -5.9596906,
          14.341582,
          -9.781673,
          -7.4357233,
          -1.2094972,
          8.8107605,
          14.216587,
          -6.6520395,
          -8.372537,
          10.786437,
          -1.6165466,
          8.924927,
          -9.808008,
          10.57504,
          9.892374,
          -4.2975407,
          12.806437,
          9.591284,
          -8.860685,
          -7.921088,
          -3.1475961,
          10.830006,
          15.2994795,
          8.316215,
          8.671115,
          17.707787,
          -0.9961074,
          16.756119,
          -8.507631,
          -7.990956,
          -3.9342716,
          -3.4338372,
          14.27603,
          -8.117419,
          -8.331199,
          12.086841,
          10.640745,
          -1.399718,
          16.918596,
          -7.7972875,
          14.015937,
          -8.65858,
          -5.6906257,
          -1.3303226,
          17.172136,
          -0.5500629,
          14.411223,
          -6.77388,
          6.8649135,
          8.672193,
          17.761673,
          -8.55129,
          9.546275,
          -7.8227506,
          -8.470921,
          10.264401,
          -6.05999,
          -6.7576294,
          -7.4815044,
          14.577336,
          -6.1324067,
          -7.8438773,
          -4.5616026,
          6.9133415,
          17.798702,
          -2.7764785,
          -2.504273,
          8.872945,
          -7.8503265,
          14.892087,
          6.753837,
          17.709797,
          -8.324535,
          -3.4982479,
          10.138238,
          -2.924668,
          17.636316,
          -3.6076596,
          5.367592,
          -4.5092278,
          5.3744235,
          6.9528365,
          17.71913,
          -6.7865458,
          -6.0810204,
          -7.713702,
          14.875678,
          -7.27699,
          -5.3848677,
          -8.257736,
          -0.4196579,
          14.222888,
          -1.8740162,
          -4.4233427,
          -6.18479,
          -7.7841034,
          7.0345683,
          17.664757,
          -6.223354,
          -1.7013631,
          9.335235,
          -0.47264215,
          14.488983,
          6.8215494,
          17.652203,
          -6.751964,
          7.883401,
          8.737487,
          17.131369,
          -1.3551522,
          16.671583,
          -6.76249,
          8.980771,
          -2.8479357,
          8.939904,
          -4.797114,
          -8.494099,
          -0.50876397,
          14.42091,
          -6.765937,
          7.0793567,
          17.664442,
          -2.0251107,
          8.85902,
          -6.9844527,
          11.226164,
          17.502064,
          -6.259287,
          -0.51862806,
          -7.010516,
          13.674242,
          7.2741437,
          8.685486,
          7.980139,
          -6.7544117,
          -9.883431,
          -8.090218,
          10.276026,
          -5.74435,
          7.9959583,
          -5.6734285,
          8.112483,
          -5.931499,
          -5.4218864,
          -5.6807585,
          -5.0395575,
          -9.058082,
          8.646931,
          -9.354943,
          -7.59576,
          14.807862,
          -4.793403,
          -7.7919784,
          -8.374756,
          -8.325256,
          13.526533,
          -6.3895516,
          -8.390714,
          -8.623145,
          -2.9027617,
          -8.2651,
          -10.596512,
          -3.4711072,
          8.003408,
          -10.612161,
          -5.6948357,
          -5.6668897,
          -4.985463,
          -3.5227635,
          -6.9238925,
          -8.439981,
          12.528169,
          13.174592,
          -6.453494,
          -8.695882,
          -8.252802,
          -6.649267,
          -4.873591,
          -10.575427,
          -3.6040335,
          7.9023886,
          -10.710113,
          8.012495,
          -10.212204,
          -4.3189783,
          -5.588951,
          -10.215335,
          -5.259675,
          -4.4731145,
          14.117573,
          -7.4354134,
          -4.139883,
          -8.271418,
          -2.9040976,
          15.643719,
          -5.800231,
          -5.142713,
          -6.398892,
          -5.422596,
          -9.756821,
          -6.6893535,
          9.166476,
          -9.589123,
          10.583374,
          -10.268434,
          -5.348137,
          -10.573524,
          8.067843,
          -7.7587976,
          13.241459,
          -6.064337,
          8.359828,
          -5.45373,
          -7.9776025,
          -8.177264,
          -7.0271926,
          -6.4198866,
          -7.8033524,
          -4.9519877,
          8.832578,
          -10.159359,
          -5.273522,
          -5.9238663,
          -4.7665467,
          -8.302491,
          -6.667329,
          -6.326026,
          8.028138,
          -10.64661,
          -4.1784854,
          14.278414,
          -6.8986707,
          -7.896072,
          -4.504324,
          -4.286907,
          8.133404,
          -10.133033,
          -5.1078563,
          -7.8641405,
          -9.654039,
          -4.0722985,
          13.674996,
          -6.645112,
          -8.31588,
          11.211091,
          -6.9965057,
          -10.283814,
          -5.1576786,
          -5.302964,
          -5.4379034,
          -6.572844,
          -8.34867,
          -3.8126845,
          -2.8707705,
          15.217625,
          -10.561034,
          -3.7785413,
          14.516222
         ],
         "xaxis": "x",
         "y": [
          0.16814649,
          -1.5315348,
          2.709311,
          9.796136,
          -5.387371,
          -1.7635992,
          5.8887897,
          4.244291,
          -3.6628397,
          7.234669,
          -2.0042942,
          6.768162,
          -2.3145833,
          2.8698976,
          0.07965689,
          1.6425478,
          1.587713,
          -11.018572,
          0.2212121,
          -0.5677938,
          -0.20455362,
          3.9653392,
          -0.31581488,
          1.5584489,
          -3.4377718,
          1.2163947,
          -1.2709334,
          5.864712,
          -3.7051466,
          5.8946,
          -1.2716603,
          7.559131,
          -2.1023614,
          0.050466646,
          -0.7631983,
          -3.6373923,
          -1.8064681,
          6.3214936,
          -0.5994539,
          -3.6424868,
          7.8702087,
          0.753746,
          -1.1331843,
          2.6343968,
          9.967183,
          -5.333428,
          2.8823113,
          1.000987,
          5.0338893,
          -3.668302,
          1.4241015,
          -0.21435718,
          1.9529335,
          2.886921,
          0.18091957,
          1.7849003,
          -17.152418,
          9.557233,
          -5.313082,
          5.417421,
          -4.0396237,
          2.2274554,
          -2.4940681,
          10.052081,
          0.05417164,
          3.967092,
          -0.22456849,
          -0.59899944,
          8.797981,
          -0.9450313,
          -0.58656764,
          2.9971704,
          9.970678,
          4.9247084,
          -0.4587674,
          1.9381711,
          -0.33392355,
          0.112361416,
          5.215875,
          2.5012805,
          0.7693194,
          4.180471,
          -3.7059646,
          0.74271905,
          1.020907,
          9.479484,
          3.8118217,
          -2.9761646,
          -16.878141,
          9.832885,
          -4.9568057,
          -16.980154,
          1.1142164,
          -1.4204007,
          3.1142454,
          9.716679,
          -5.400441,
          -17.153772,
          9.912186,
          -5.56357,
          -16.357527,
          5.4871125,
          1.4940097,
          0.32258767,
          1.757336,
          -0.9018034,
          -1.6727893,
          9.83914,
          3.78136,
          -0.34144968,
          0.68589497,
          0.10676047,
          -1.790191,
          6.178195,
          -0.3759691,
          -3.6029704,
          4.9265184,
          -3.6727338,
          -14.35542,
          2.4336612,
          5.872001,
          0.11981531,
          0.050352544,
          1.5282888,
          -3.483764,
          2.9930532,
          1.018634,
          -14.255058,
          1.8525977,
          -0.41511622,
          5.8540664,
          1.1137311,
          5.9215713,
          -3.6624458,
          7.911664,
          -4.764636,
          5.260581,
          -0.41825327,
          5.3987927,
          -0.2920038,
          5.9449706,
          -0.47666648,
          0.7320494,
          -4.557265,
          0.6854133,
          -4.3195863,
          1.1072384,
          -14.3401575,
          0.17286614,
          -1.7010201,
          2.9421978,
          1.6813276,
          0.99204224,
          -4.4022074,
          -0.22089984,
          1.1726627,
          -4.503413,
          -17.07521,
          3.7889833,
          2.412918,
          -0.7701076,
          3.1962314,
          1.9732808,
          1.2775778,
          1.1114073,
          6.511071,
          -0.59453034,
          -17.072739,
          3.7938373,
          2.4480147,
          -0.8455435,
          1.313699,
          5.458242,
          4.1130586,
          8.885747,
          -0.419879,
          -0.048073564,
          -11.153704,
          4.623279,
          -11.159355,
          -0.0069440445,
          -0.44658586,
          -17.070646,
          2.4758503,
          -11.150474,
          -0.023107063,
          -16.070005,
          10.1044445,
          -0.9250127,
          -17.074286,
          3.6729958,
          -0.80690426,
          -2.3170478,
          2.5943332,
          -0.6617744,
          -0.898755,
          -1.1137236,
          2.7072659,
          1.5303541,
          1.7072086,
          -17.071905,
          7.0344563,
          0.5260101,
          -16.774797,
          7.380108,
          -16.963297,
          7.413413,
          2.8221006,
          1.0819725,
          -1.9182062,
          1.9942076,
          -0.86340624,
          2.1411614,
          4.0076866,
          2.4153154,
          -0.93909466,
          0.945529,
          -2.6747556,
          0.7820103,
          -0.1097144,
          -16.369263,
          10.044886,
          -0.77956325,
          -17.248837,
          9.180052,
          0.9170982,
          -17.077068,
          3.6015575,
          -11.150497,
          -16.176067,
          9.984236,
          -0.86377686,
          0.08024953,
          2.4978325,
          -16.098682,
          9.230741,
          1.4121977,
          2.1535015,
          -0.66524667,
          9.078943,
          0.60318375,
          -0.4406408,
          -0.032153793,
          -0.121449925,
          -14.150297,
          -0.062391423,
          -11.144579,
          4.7929044,
          -11.148936,
          -2.0807867,
          2.3696814,
          -11.132749,
          -17.073751,
          -0.22440583,
          -0.067438476,
          -0.20983423,
          0.8424322,
          2.7812486,
          -1.2078913,
          4.423062,
          4.305778,
          -0.39462999,
          -16.674358,
          9.193062,
          0.33441904,
          -17.075483,
          3.0260942,
          -4.351018,
          -17.072659,
          8.290575,
          -0.26324934,
          1.2837127,
          9.493502,
          0.39432624,
          2.8941422,
          -16.912674,
          7.374491,
          -2.0339034,
          2.365964,
          -11.147641,
          4.882004,
          -11.117784,
          -17.072397,
          -0.9414456,
          -17.107708,
          -2.0397758,
          -11.178682,
          -15.9273615,
          10.011211,
          -0.9490106,
          0.089175984,
          0.7112508,
          -0.19387476,
          -0.51416963,
          6.7684717,
          -0.9282449,
          -17.064919,
          7.6142735,
          -2.3706315,
          -5.413033,
          6.9554033,
          -1.9816171,
          -17.2147,
          7.6753187,
          -2.0041933,
          -5.4209886,
          -14.228835,
          -16.870039,
          8.1026945,
          -5.3457966,
          -0.088259056,
          -17.110235,
          8.1569,
          -5.240628,
          1.4966681,
          -10.974729,
          -17.149775,
          7.731418,
          -5.480218,
          2.1460953,
          1.0773101,
          9.066246,
          -5.304009,
          0.70891327,
          9.882617,
          3.6954389,
          -14.5817,
          -0.28162006,
          3.8553941,
          -0.19231974,
          -0.43394688,
          9.86904,
          2.5568564,
          -0.2616789,
          2.990759,
          0.15657635,
          1.441523,
          9.892103,
          3.4095135,
          -0.71473,
          1.5649397,
          0.032273233,
          -17.092651,
          7.7318635,
          -5.242314,
          -14.184358,
          9.883637,
          3.7561834,
          5.617347,
          -0.15889424,
          3.61936,
          -0.4163689,
          3.5983431,
          -2.047811,
          7.2969913,
          -0.04288228,
          -0.39042583,
          2.4375074,
          -2.1254249,
          -3.4022408,
          5.2813177,
          4.109827,
          -0.06528857,
          -0.4972893,
          9.882362,
          3.7355442,
          -14.245674,
          -0.9851161,
          -0.04906481,
          -0.4558224,
          0.2430936,
          -0.9675063,
          5.211241,
          5.635327,
          0.08189774,
          -17.027859,
          9.952785,
          -5.5308547,
          -14.161649,
          9.882996,
          8.327378,
          5.53911,
          4.3336115,
          -0.0632723,
          -0.11165591,
          9.882613,
          -0.5104595,
          7.668052,
          0.80318546,
          3.0392919,
          -17.183445,
          7.7611203,
          -5.5770473,
          5.0629563,
          -0.081084855,
          -0.60065705,
          -17.114202,
          9.728954,
          -5.423329,
          7.6766934,
          0.7931573,
          -17.244265,
          7.7978954,
          -5.4430413,
          -2.0200398,
          -16.601513,
          6.927317,
          -0.055543702,
          0.5550147,
          4.1698294,
          0.090157256,
          3.4554107,
          0.11081807,
          -0.37308392,
          0.73992115,
          -2.8321295,
          2.9450772,
          0.5043016,
          1.2547491,
          0.5227308,
          9.816406,
          8.541763,
          0.85640556,
          9.881245,
          8.698678,
          0.9043344,
          0.6553804,
          0.56937766,
          1.0297683,
          2.034002,
          0.12971735,
          0.45549524,
          -4.9070983,
          9.883935,
          8.555039,
          0.8161569,
          1.8283796,
          0.5869209,
          -3.0611365,
          0.72157633,
          2.9610584,
          -2.121311,
          -0.04313262,
          -0.44787598,
          8.223211,
          0.1797203,
          7.370474,
          -2.038742,
          2.8690696,
          2.1794462,
          1.2417606,
          0.14509358,
          9.880419,
          8.700625,
          0.8252399,
          1.0226192,
          -1.7471567,
          -2.9034743,
          0.44157222,
          -4.260031,
          -0.9610089,
          1.2509941,
          0.66427094,
          3.1755652,
          2.500355,
          1.9392134,
          1.0486848,
          -14.858077,
          7.9687376,
          -2.6830192,
          2.8962386,
          1.7384994,
          0.68534446,
          -2.6547792,
          -3.419014,
          2.3632662,
          -1.1806298,
          -3.961429,
          0.108369365,
          7.6815453,
          1.5407751,
          -0.37668148,
          0.8046473,
          -0.045536418,
          2.4636521,
          -0.5488921,
          2.9095843,
          -0.43283406,
          -0.52233666,
          7.235414,
          1.479641,
          0.17490421,
          -0.2852185,
          -0.1218378,
          7.7002797,
          -2.0619826,
          -2.6205947,
          2.8590262,
          -0.5336215,
          9.141735,
          -0.68616116,
          6.3128695,
          1.4181755,
          2.7945426,
          -0.5568819,
          2.9430215,
          1.15013,
          -14.188311,
          -0.11272601,
          2.586938,
          -0.5780848,
          0.42305657,
          -4.3192444,
          0.027313381,
          6.4859776,
          -2.7730048,
          -1.2204912,
          -14.276652,
          8.190818,
          0.4420366,
          -1.2626953,
          1.4150865,
          1.16288,
          -0.11928281,
          -0.55335027,
          3.4477663,
          -0.54041237,
          1.8684859,
          7.788295,
          0.7088788,
          -0.16407803,
          -0.55327964,
          2.589557,
          3.9319637,
          -0.24288103,
          0.52863675,
          -0.5777798,
          3.1910136,
          -11.112838,
          2.0224912,
          -11.051922,
          -0.10238506,
          -0.5434487,
          -14.067486,
          1.9497377,
          7.8251414,
          0.71013457,
          8.420848,
          0.77917933,
          0.7794217,
          2.9664567,
          1.1114408,
          2.8326397,
          -0.14198062,
          -17.2335,
          7.7155843,
          -0.19342229,
          -0.55586576,
          -1.2320065,
          2.8932092,
          -4.6154513,
          2.9683008,
          1.1961623,
          -0.13542478,
          -0.56105435,
          -14.343252,
          0.13712932,
          2.323726,
          -0.4604388,
          2.8691125,
          -0.3879094,
          -14.251291,
          0.20715755,
          2.3191197,
          1.7420839,
          -0.7190352,
          6.4256935,
          2.9760666,
          0.76976436,
          -14.218914,
          -0.1409345,
          -0.54038763,
          2.730255,
          1.6887895,
          7.940417,
          -2.3959832,
          -0.5416786,
          -1.1695843,
          2.9674163,
          9.943982,
          -0.42852557,
          0.008650146,
          2.5169666,
          -4.3585515,
          -14.316351,
          0.12570769,
          1.8885577,
          -4.241257,
          2.2191393,
          -4.162551,
          2.1031573,
          -4.133527,
          2.0907156,
          0.51165783,
          2.1951952,
          0.6511349,
          -0.13455866,
          -3.6632762,
          0.6422017,
          8.214345,
          0.603843,
          -0.0315626,
          9.121354,
          6.8669615,
          4.993423,
          -0.593769,
          0.46875215,
          -0.40266943,
          8.748203,
          -0.30533767,
          4.4897175,
          0.93816143,
          2.2175026,
          -4.270943,
          0.9886818,
          0.57149327,
          2.2176645,
          -0.4962255,
          2.1100376,
          9.904726,
          5.901785,
          -1.3843094,
          -0.8629236,
          0.7218979,
          -0.84817594,
          4.4604573,
          2.1471403,
          -0.78863215,
          0.9928514,
          2.4050148,
          -4.2709637,
          1.0053293,
          -4.170415,
          1.1801953,
          2.5695977,
          -0.72371316,
          0.83850014,
          3.3240426,
          2.5946732,
          -0.25879806,
          -0.34036237,
          2.4721231,
          4.6797724,
          1.013177,
          -0.44872212,
          1.8964976,
          0.6085723,
          2.1953208,
          -0.7161129,
          0.09681134,
          10.055173,
          0.94948757,
          7.5790286,
          -0.74552786,
          0.67363566,
          0.6194835,
          0.96614534,
          -4.224666,
          1.8043485,
          -0.7683903,
          2.1493654,
          -3.967276,
          2.517717,
          9.229844,
          -0.15002194,
          9.8155,
          4.600701,
          3.7905319,
          2.5983858,
          -3.824398,
          0.59597844,
          0.32424983,
          2.0779083,
          0.7966783,
          1.3438516,
          -14.695354,
          2.346699,
          -4.2066994,
          0.949067,
          2.379658,
          -0.27914318,
          1.5901583,
          7.508858,
          4.175355,
          2.6949997,
          -4.2972407,
          0.30891874,
          0.029391345,
          1.1865919,
          0.74960995,
          1.3114761,
          -0.16819938,
          1.6779155,
          7.6331363,
          -2.358025,
          0.32100368,
          0.9924944,
          -0.47124565,
          4.266427,
          0.42237625,
          10.273071,
          4.750946,
          4.3021774,
          1.2398853,
          -0.45805964,
          0.92461514,
          2.4981794,
          -0.10027141
         ],
         "yaxis": "y"
        },
        {
         "customdata": [
          [
           "mineTenCobblestone()"
          ]
         ],
         "hovertemplate": "source=User query<br>symbol=star<br>x=%{x}<br>y=%{y}<br>size_col=%{marker.size}<br>extract=%{customdata[0]}<extra></extra>",
         "legendgroup": "User query, star",
         "marker": {
          "color": "black",
          "line": {
           "color": "DarkSlateGrey",
           "width": 0
          },
          "opacity": 1,
          "size": [
           100
          ],
          "sizemode": "area",
          "sizeref": 0.25,
          "symbol": "diamond"
         },
         "mode": "markers",
         "name": "User query, star",
         "orientation": "v",
         "showlegend": true,
         "type": "scatter",
         "x": [
          12.901831
         ],
         "xaxis": "x",
         "y": [
          -0.88206357
         ],
         "yaxis": "y"
        }
       ],
       "layout": {
        "height": 700,
        "legend": {
         "itemsizing": "constant",
         "title": {
          "text": "<b>Chunk source</b>"
         },
         "tracegroupgap": 0
        },
        "margin": {
         "t": 60
        },
        "template": {
         "data": {
          "bar": [
           {
            "error_x": {
             "color": "#2a3f5f"
            },
            "error_y": {
             "color": "#2a3f5f"
            },
            "marker": {
             "line": {
              "color": "#E5ECF6",
              "width": 0.5
             },
             "pattern": {
              "fillmode": "overlay",
              "size": 10,
              "solidity": 0.2
             }
            },
            "type": "bar"
           }
          ],
          "barpolar": [
           {
            "marker": {
             "line": {
              "color": "#E5ECF6",
              "width": 0.5
             },
             "pattern": {
              "fillmode": "overlay",
              "size": 10,
              "solidity": 0.2
             }
            },
            "type": "barpolar"
           }
          ],
          "carpet": [
           {
            "aaxis": {
             "endlinecolor": "#2a3f5f",
             "gridcolor": "white",
             "linecolor": "white",
             "minorgridcolor": "white",
             "startlinecolor": "#2a3f5f"
            },
            "baxis": {
             "endlinecolor": "#2a3f5f",
             "gridcolor": "white",
             "linecolor": "white",
             "minorgridcolor": "white",
             "startlinecolor": "#2a3f5f"
            },
            "type": "carpet"
           }
          ],
          "choropleth": [
           {
            "colorbar": {
             "outlinewidth": 0,
             "ticks": ""
            },
            "type": "choropleth"
           }
          ],
          "contour": [
           {
            "colorbar": {
             "outlinewidth": 0,
             "ticks": ""
            },
            "colorscale": [
             [
              0,
              "#0d0887"
             ],
             [
              0.1111111111111111,
              "#46039f"
             ],
             [
              0.2222222222222222,
              "#7201a8"
             ],
             [
              0.3333333333333333,
              "#9c179e"
             ],
             [
              0.4444444444444444,
              "#bd3786"
             ],
             [
              0.5555555555555556,
              "#d8576b"
             ],
             [
              0.6666666666666666,
              "#ed7953"
             ],
             [
              0.7777777777777778,
              "#fb9f3a"
             ],
             [
              0.8888888888888888,
              "#fdca26"
             ],
             [
              1,
              "#f0f921"
             ]
            ],
            "type": "contour"
           }
          ],
          "contourcarpet": [
           {
            "colorbar": {
             "outlinewidth": 0,
             "ticks": ""
            },
            "type": "contourcarpet"
           }
          ],
          "heatmap": [
           {
            "colorbar": {
             "outlinewidth": 0,
             "ticks": ""
            },
            "colorscale": [
             [
              0,
              "#0d0887"
             ],
             [
              0.1111111111111111,
              "#46039f"
             ],
             [
              0.2222222222222222,
              "#7201a8"
             ],
             [
              0.3333333333333333,
              "#9c179e"
             ],
             [
              0.4444444444444444,
              "#bd3786"
             ],
             [
              0.5555555555555556,
              "#d8576b"
             ],
             [
              0.6666666666666666,
              "#ed7953"
             ],
             [
              0.7777777777777778,
              "#fb9f3a"
             ],
             [
              0.8888888888888888,
              "#fdca26"
             ],
             [
              1,
              "#f0f921"
             ]
            ],
            "type": "heatmap"
           }
          ],
          "heatmapgl": [
           {
            "colorbar": {
             "outlinewidth": 0,
             "ticks": ""
            },
            "colorscale": [
             [
              0,
              "#0d0887"
             ],
             [
              0.1111111111111111,
              "#46039f"
             ],
             [
              0.2222222222222222,
              "#7201a8"
             ],
             [
              0.3333333333333333,
              "#9c179e"
             ],
             [
              0.4444444444444444,
              "#bd3786"
             ],
             [
              0.5555555555555556,
              "#d8576b"
             ],
             [
              0.6666666666666666,
              "#ed7953"
             ],
             [
              0.7777777777777778,
              "#fb9f3a"
             ],
             [
              0.8888888888888888,
              "#fdca26"
             ],
             [
              1,
              "#f0f921"
             ]
            ],
            "type": "heatmapgl"
           }
          ],
          "histogram": [
           {
            "marker": {
             "pattern": {
              "fillmode": "overlay",
              "size": 10,
              "solidity": 0.2
             }
            },
            "type": "histogram"
           }
          ],
          "histogram2d": [
           {
            "colorbar": {
             "outlinewidth": 0,
             "ticks": ""
            },
            "colorscale": [
             [
              0,
              "#0d0887"
             ],
             [
              0.1111111111111111,
              "#46039f"
             ],
             [
              0.2222222222222222,
              "#7201a8"
             ],
             [
              0.3333333333333333,
              "#9c179e"
             ],
             [
              0.4444444444444444,
              "#bd3786"
             ],
             [
              0.5555555555555556,
              "#d8576b"
             ],
             [
              0.6666666666666666,
              "#ed7953"
             ],
             [
              0.7777777777777778,
              "#fb9f3a"
             ],
             [
              0.8888888888888888,
              "#fdca26"
             ],
             [
              1,
              "#f0f921"
             ]
            ],
            "type": "histogram2d"
           }
          ],
          "histogram2dcontour": [
           {
            "colorbar": {
             "outlinewidth": 0,
             "ticks": ""
            },
            "colorscale": [
             [
              0,
              "#0d0887"
             ],
             [
              0.1111111111111111,
              "#46039f"
             ],
             [
              0.2222222222222222,
              "#7201a8"
             ],
             [
              0.3333333333333333,
              "#9c179e"
             ],
             [
              0.4444444444444444,
              "#bd3786"
             ],
             [
              0.5555555555555556,
              "#d8576b"
             ],
             [
              0.6666666666666666,
              "#ed7953"
             ],
             [
              0.7777777777777778,
              "#fb9f3a"
             ],
             [
              0.8888888888888888,
              "#fdca26"
             ],
             [
              1,
              "#f0f921"
             ]
            ],
            "type": "histogram2dcontour"
           }
          ],
          "mesh3d": [
           {
            "colorbar": {
             "outlinewidth": 0,
             "ticks": ""
            },
            "type": "mesh3d"
           }
          ],
          "parcoords": [
           {
            "line": {
             "colorbar": {
              "outlinewidth": 0,
              "ticks": ""
             }
            },
            "type": "parcoords"
           }
          ],
          "pie": [
           {
            "automargin": true,
            "type": "pie"
           }
          ],
          "scatter": [
           {
            "fillpattern": {
             "fillmode": "overlay",
             "size": 10,
             "solidity": 0.2
            },
            "type": "scatter"
           }
          ],
          "scatter3d": [
           {
            "line": {
             "colorbar": {
              "outlinewidth": 0,
              "ticks": ""
             }
            },
            "marker": {
             "colorbar": {
              "outlinewidth": 0,
              "ticks": ""
             }
            },
            "type": "scatter3d"
           }
          ],
          "scattercarpet": [
           {
            "marker": {
             "colorbar": {
              "outlinewidth": 0,
              "ticks": ""
             }
            },
            "type": "scattercarpet"
           }
          ],
          "scattergeo": [
           {
            "marker": {
             "colorbar": {
              "outlinewidth": 0,
              "ticks": ""
             }
            },
            "type": "scattergeo"
           }
          ],
          "scattergl": [
           {
            "marker": {
             "colorbar": {
              "outlinewidth": 0,
              "ticks": ""
             }
            },
            "type": "scattergl"
           }
          ],
          "scattermapbox": [
           {
            "marker": {
             "colorbar": {
              "outlinewidth": 0,
              "ticks": ""
             }
            },
            "type": "scattermapbox"
           }
          ],
          "scatterpolar": [
           {
            "marker": {
             "colorbar": {
              "outlinewidth": 0,
              "ticks": ""
             }
            },
            "type": "scatterpolar"
           }
          ],
          "scatterpolargl": [
           {
            "marker": {
             "colorbar": {
              "outlinewidth": 0,
              "ticks": ""
             }
            },
            "type": "scatterpolargl"
           }
          ],
          "scatterternary": [
           {
            "marker": {
             "colorbar": {
              "outlinewidth": 0,
              "ticks": ""
             }
            },
            "type": "scatterternary"
           }
          ],
          "surface": [
           {
            "colorbar": {
             "outlinewidth": 0,
             "ticks": ""
            },
            "colorscale": [
             [
              0,
              "#0d0887"
             ],
             [
              0.1111111111111111,
              "#46039f"
             ],
             [
              0.2222222222222222,
              "#7201a8"
             ],
             [
              0.3333333333333333,
              "#9c179e"
             ],
             [
              0.4444444444444444,
              "#bd3786"
             ],
             [
              0.5555555555555556,
              "#d8576b"
             ],
             [
              0.6666666666666666,
              "#ed7953"
             ],
             [
              0.7777777777777778,
              "#fb9f3a"
             ],
             [
              0.8888888888888888,
              "#fdca26"
             ],
             [
              1,
              "#f0f921"
             ]
            ],
            "type": "surface"
           }
          ],
          "table": [
           {
            "cells": {
             "fill": {
              "color": "#EBF0F8"
             },
             "line": {
              "color": "white"
             }
            },
            "header": {
             "fill": {
              "color": "#C8D4E3"
             },
             "line": {
              "color": "white"
             }
            },
            "type": "table"
           }
          ]
         },
         "layout": {
          "annotationdefaults": {
           "arrowcolor": "#2a3f5f",
           "arrowhead": 0,
           "arrowwidth": 1
          },
          "autotypenumbers": "strict",
          "coloraxis": {
           "colorbar": {
            "outlinewidth": 0,
            "ticks": ""
           }
          },
          "colorscale": {
           "diverging": [
            [
             0,
             "#8e0152"
            ],
            [
             0.1,
             "#c51b7d"
            ],
            [
             0.2,
             "#de77ae"
            ],
            [
             0.3,
             "#f1b6da"
            ],
            [
             0.4,
             "#fde0ef"
            ],
            [
             0.5,
             "#f7f7f7"
            ],
            [
             0.6,
             "#e6f5d0"
            ],
            [
             0.7,
             "#b8e186"
            ],
            [
             0.8,
             "#7fbc41"
            ],
            [
             0.9,
             "#4d9221"
            ],
            [
             1,
             "#276419"
            ]
           ],
           "sequential": [
            [
             0,
             "#0d0887"
            ],
            [
             0.1111111111111111,
             "#46039f"
            ],
            [
             0.2222222222222222,
             "#7201a8"
            ],
            [
             0.3333333333333333,
             "#9c179e"
            ],
            [
             0.4444444444444444,
             "#bd3786"
            ],
            [
             0.5555555555555556,
             "#d8576b"
            ],
            [
             0.6666666666666666,
             "#ed7953"
            ],
            [
             0.7777777777777778,
             "#fb9f3a"
            ],
            [
             0.8888888888888888,
             "#fdca26"
            ],
            [
             1,
             "#f0f921"
            ]
           ],
           "sequentialminus": [
            [
             0,
             "#0d0887"
            ],
            [
             0.1111111111111111,
             "#46039f"
            ],
            [
             0.2222222222222222,
             "#7201a8"
            ],
            [
             0.3333333333333333,
             "#9c179e"
            ],
            [
             0.4444444444444444,
             "#bd3786"
            ],
            [
             0.5555555555555556,
             "#d8576b"
            ],
            [
             0.6666666666666666,
             "#ed7953"
            ],
            [
             0.7777777777777778,
             "#fb9f3a"
            ],
            [
             0.8888888888888888,
             "#fdca26"
            ],
            [
             1,
             "#f0f921"
            ]
           ]
          },
          "colorway": [
           "#636efa",
           "#EF553B",
           "#00cc96",
           "#ab63fa",
           "#FFA15A",
           "#19d3f3",
           "#FF6692",
           "#B6E880",
           "#FF97FF",
           "#FECB52"
          ],
          "font": {
           "color": "#2a3f5f"
          },
          "geo": {
           "bgcolor": "white",
           "lakecolor": "white",
           "landcolor": "#E5ECF6",
           "showlakes": true,
           "showland": true,
           "subunitcolor": "white"
          },
          "hoverlabel": {
           "align": "left"
          },
          "hovermode": "closest",
          "mapbox": {
           "style": "light"
          },
          "paper_bgcolor": "white",
          "plot_bgcolor": "#E5ECF6",
          "polar": {
           "angularaxis": {
            "gridcolor": "white",
            "linecolor": "white",
            "ticks": ""
           },
           "bgcolor": "#E5ECF6",
           "radialaxis": {
            "gridcolor": "white",
            "linecolor": "white",
            "ticks": ""
           }
          },
          "scene": {
           "xaxis": {
            "backgroundcolor": "#E5ECF6",
            "gridcolor": "white",
            "gridwidth": 2,
            "linecolor": "white",
            "showbackground": true,
            "ticks": "",
            "zerolinecolor": "white"
           },
           "yaxis": {
            "backgroundcolor": "#E5ECF6",
            "gridcolor": "white",
            "gridwidth": 2,
            "linecolor": "white",
            "showbackground": true,
            "ticks": "",
            "zerolinecolor": "white"
           },
           "zaxis": {
            "backgroundcolor": "#E5ECF6",
            "gridcolor": "white",
            "gridwidth": 2,
            "linecolor": "white",
            "showbackground": true,
            "ticks": "",
            "zerolinecolor": "white"
           }
          },
          "shapedefaults": {
           "line": {
            "color": "#2a3f5f"
           }
          },
          "ternary": {
           "aaxis": {
            "gridcolor": "white",
            "linecolor": "white",
            "ticks": ""
           },
           "baxis": {
            "gridcolor": "white",
            "linecolor": "white",
            "ticks": ""
           },
           "bgcolor": "#E5ECF6",
           "caxis": {
            "gridcolor": "white",
            "linecolor": "white",
            "ticks": ""
           }
          },
          "title": {
           "x": 0.05
          },
          "xaxis": {
           "automargin": true,
           "gridcolor": "white",
           "linecolor": "white",
           "ticks": "",
           "title": {
            "standoff": 15
           },
           "zerolinecolor": "white",
           "zerolinewidth": 2
          },
          "yaxis": {
           "automargin": true,
           "gridcolor": "white",
           "linecolor": "white",
           "ticks": "",
           "title": {
            "standoff": 15
           },
           "zerolinecolor": "white",
           "zerolinewidth": 2
          }
         }
        },
        "title": {
         "text": "<b>2D Projection of Chunk Embeddings via PaCMAP</b>"
        },
        "width": 1000,
        "xaxis": {
         "anchor": "y",
         "domain": [
          0,
          1
         ],
         "title": {
          "text": "x"
         }
        },
        "yaxis": {
         "anchor": "x",
         "domain": [
          0,
          1
         ],
         "title": {
          "text": "y"
         }
        }
       }
      }
     },
     "metadata": {},
     "output_type": "display_data"
    }
   ],
   "source": [
    "df = pd.DataFrame.from_dict(\n",
    "    [\n",
    "        {\n",
    "            \"x\": documents_projected[i, 0],\n",
    "            \"y\": documents_projected[i, 1],\n",
    "            \"source\": docs_processed[i].metadata[\"source\"].split(\"/\")[1],\n",
    "            \"extract\": docs_processed[i].page_content[:100] + \"...\",\n",
    "            \"symbol\": \"circle\",\n",
    "            \"size_col\": 4,\n",
    "        }\n",
    "        for i in range(len(docs_processed))\n",
    "    ]\n",
    "    + [\n",
    "        {\n",
    "            \"x\": documents_projected[-1, 0],\n",
    "            \"y\": documents_projected[-1, 1],\n",
    "            \"source\": \"User query\",\n",
    "            \"extract\": user_query,\n",
    "            \"size_col\": 100,\n",
    "            \"symbol\": \"star\",\n",
    "        }\n",
    "    ]\n",
    ")\n",
    "\n",
    "# visualize the embedding\n",
    "fig = px.scatter(\n",
    "    df,\n",
    "    x=\"x\",\n",
    "    y=\"y\",\n",
    "    color=\"source\",\n",
    "    hover_data=\"extract\",\n",
    "    size=\"size_col\",\n",
    "    symbol=\"symbol\",\n",
    "    color_discrete_map={\"User query\": \"black\"},\n",
    "    width=1000,\n",
    "    height=700,\n",
    ")\n",
    "fig.update_traces(\n",
    "    marker=dict(opacity=1, line=dict(width=0, color=\"DarkSlateGrey\")),\n",
    "    selector=dict(mode=\"markers\"),\n",
    ")\n",
    "fig.update_layout(\n",
    "    legend_title_text=\"<b>Chunk source</b>\",\n",
    "    title=\"<b>2D Projection of Chunk Embeddings via PaCMAP</b>\",\n",
    ")\n",
    "fig.show()"
   ]
  },
  {
   "cell_type": "code",
   "execution_count": 26,
   "metadata": {},
   "outputs": [
    {
     "name": "stdout",
     "output_type": "stream",
     "text": [
      "\n",
      "Starting retrieval for user_query='killOneCreeper'...\n",
      "\n",
      "==================================Top document==================================\n",
      "bot.chat(\"20 spruce planks crafted.\");\n",
      "}\n",
      "==================================Metadata==================================\n",
      "{'source': '/home/atomwalk12/repos/QuestLlama/questllama/skill_library/trial2/skill/code/craftTwentySprucePlanks.js', 'start_index': 491}\n"
     ]
    }
   ],
   "source": [
    "print(f\"\\nStarting retrieval for {user_query=}...\")\n",
    "retrieved_docs = KNOWLEDGE_VECTOR_DATABASE.similarity_search(query=user_query, k=5)\n",
    "print(\"\\n==================================Top document==================================\")\n",
    "print(retrieved_docs[0].page_content)\n",
    "print(\"==================================Metadata==================================\")\n",
    "print(retrieved_docs[0].metadata)"
   ]
  },
  {
   "cell_type": "code",
   "execution_count": null,
   "metadata": {},
   "outputs": [],
   "source": []
  }
 ],
 "metadata": {
  "kernelspec": {
   "display_name": "questllama",
   "language": "python",
   "name": "python3"
  },
  "language_info": {
   "codemirror_mode": {
    "name": "ipython",
    "version": 3
   },
   "file_extension": ".py",
   "mimetype": "text/x-python",
   "name": "python",
   "nbconvert_exporter": "python",
   "pygments_lexer": "ipython3",
   "version": "3.9.19"
  }
 },
 "nbformat": 4,
 "nbformat_minor": 2
}
